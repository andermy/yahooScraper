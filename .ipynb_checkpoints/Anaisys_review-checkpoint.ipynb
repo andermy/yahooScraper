{
 "cells": [
  {
   "cell_type": "code",
   "execution_count": 1,
   "id": "eda869db",
   "metadata": {},
   "outputs": [
    {
     "name": "stderr",
     "output_type": "stream",
     "text": [
      "C:\\Users\\ander\\Documents\\yahooScraper\\scrape\\lib\\site-packages\\cryptography\\x509\\base.py:531: CryptographyDeprecationWarning: Parsed a negative serial number, which is disallowed by RFC 5280.\n",
      "  return rust_x509.load_pem_x509_certificate(data)\n"
     ]
    }
   ],
   "source": [
    "import scraper_eod as s\n",
    "import pandas as pd\n",
    "from pandas.io.json import json_normalize\n",
    "import numpy as np\n",
    "import datetime\n",
    "from datetime import date, timedelta\n",
    "import matplotlib.pyplot as plt\n",
    "import seaborn as sns\n",
    "import mibian\n",
    "import time\n",
    "m = s.StockMongo()"
   ]
  },
  {
   "cell_type": "code",
   "execution_count": 2,
   "id": "654f0771",
   "metadata": {},
   "outputs": [],
   "source": [
    "formulas = pd.DataFrame.from_records(m.stock_data.options_analisys.find())"
   ]
  },
  {
   "cell_type": "code",
   "execution_count": 3,
   "id": "27a2a755",
   "metadata": {},
   "outputs": [],
   "source": [
    "tickers = list(set(formulas.ticker.tolist()))"
   ]
  },
  {
   "cell_type": "code",
   "execution_count": 4,
   "id": "8d906a29",
   "metadata": {},
   "outputs": [],
   "source": [
    "tickers2 = list(set(formulas[formulas.date>'2022-10-01'].ticker.tolist()))"
   ]
  },
  {
   "cell_type": "code",
   "execution_count": 5,
   "id": "c93d6c83",
   "metadata": {},
   "outputs": [
    {
     "data": {
      "text/plain": [
       "187"
      ]
     },
     "execution_count": 5,
     "metadata": {},
     "output_type": "execute_result"
    }
   ],
   "source": [
    "len(tickers2)"
   ]
  },
  {
   "cell_type": "code",
   "execution_count": 6,
   "id": "54ca6109",
   "metadata": {},
   "outputs": [
    {
     "data": {
      "text/plain": [
       "250"
      ]
     },
     "execution_count": 6,
     "metadata": {},
     "output_type": "execute_result"
    }
   ],
   "source": [
    "len(tickers)"
   ]
  },
  {
   "cell_type": "code",
   "execution_count": 9,
   "id": "8af08a13",
   "metadata": {},
   "outputs": [],
   "source": [
    "portfolio = m.get_portfolio(None)\n",
    "port = pd.DataFrame.from_records(portfolio)\n",
    "tickers = list(set(port.ticker.tolist()))"
   ]
  },
  {
   "cell_type": "code",
   "execution_count": 10,
   "id": "4df942f5",
   "metadata": {},
   "outputs": [
    {
     "data": {
      "text/plain": [
       "['BA',\n",
       " 'HD',\n",
       " 'SNOW',\n",
       " 'ENPH',\n",
       " 'FANG',\n",
       " 'ADBE',\n",
       " 'DOCU',\n",
       " 'BKNG',\n",
       " 'NFLX',\n",
       " 'SQ',\n",
       " 'MRNA',\n",
       " 'NVDA']"
      ]
     },
     "execution_count": 10,
     "metadata": {},
     "output_type": "execute_result"
    }
   ],
   "source": [
    "tickers"
   ]
  },
  {
   "cell_type": "code",
   "execution_count": 15,
   "id": "326f3af7",
   "metadata": {},
   "outputs": [],
   "source": [
    "formulas = pd.DataFrame.from_records(m.stock_data.options_analisys.find({'ticker': {'$in': tickers}}))"
   ]
  },
  {
   "cell_type": "code",
   "execution_count": 17,
   "id": "2e8e04fc",
   "metadata": {},
   "outputs": [],
   "source": [
    "formulas = pd.DataFrame.from_records(formulas)"
   ]
  },
  {
   "cell_type": "code",
   "execution_count": 44,
   "id": "9281d5ab",
   "metadata": {},
   "outputs": [],
   "source": [
    "tick = tickers[11]"
   ]
  },
  {
   "cell_type": "code",
   "execution_count": 45,
   "id": "17d4508f",
   "metadata": {},
   "outputs": [
    {
     "data": {
      "text/html": [
       "<div>\n",
       "<style scoped>\n",
       "    .dataframe tbody tr th:only-of-type {\n",
       "        vertical-align: middle;\n",
       "    }\n",
       "\n",
       "    .dataframe tbody tr th {\n",
       "        vertical-align: top;\n",
       "    }\n",
       "\n",
       "    .dataframe thead th {\n",
       "        text-align: right;\n",
       "    }\n",
       "</style>\n",
       "<table border=\"1\" class=\"dataframe\">\n",
       "  <thead>\n",
       "    <tr style=\"text-align: right;\">\n",
       "      <th></th>\n",
       "      <th>_id</th>\n",
       "      <th>y0</th>\n",
       "      <th>sqr_rel_risk</th>\n",
       "      <th>probability</th>\n",
       "      <th>iv</th>\n",
       "      <th>vix</th>\n",
       "      <th>days_to_strike</th>\n",
       "      <th>ticker</th>\n",
       "      <th>date</th>\n",
       "    </tr>\n",
       "  </thead>\n",
       "  <tbody>\n",
       "    <tr>\n",
       "      <th>19</th>\n",
       "      <td>6312f425ecb0bc3ee2d8fdb4</td>\n",
       "      <td>2.405046</td>\n",
       "      <td>-0.021918</td>\n",
       "      <td>-0.189538</td>\n",
       "      <td>-0.010535</td>\n",
       "      <td>-0.034355</td>\n",
       "      <td>-0.004825</td>\n",
       "      <td>NVDA</td>\n",
       "      <td>2022-09-03</td>\n",
       "    </tr>\n",
       "    <tr>\n",
       "      <th>31</th>\n",
       "      <td>633a8140a39cad0eecf43772</td>\n",
       "      <td>2.405046</td>\n",
       "      <td>-0.021918</td>\n",
       "      <td>-0.189538</td>\n",
       "      <td>-0.010535</td>\n",
       "      <td>-0.034355</td>\n",
       "      <td>-0.004825</td>\n",
       "      <td>NVDA</td>\n",
       "      <td>2022-10-03</td>\n",
       "    </tr>\n",
       "    <tr>\n",
       "      <th>39</th>\n",
       "      <td>638d8ea739e947b868333363</td>\n",
       "      <td>0.633355</td>\n",
       "      <td>-0.111685</td>\n",
       "      <td>-0.556386</td>\n",
       "      <td>-0.007880</td>\n",
       "      <td>0.000244</td>\n",
       "      <td>0.014055</td>\n",
       "      <td>NVDA</td>\n",
       "      <td>2022-12-05</td>\n",
       "    </tr>\n",
       "  </tbody>\n",
       "</table>\n",
       "</div>"
      ],
      "text/plain": [
       "                         _id        y0  sqr_rel_risk  probability        iv  \\\n",
       "19  6312f425ecb0bc3ee2d8fdb4  2.405046     -0.021918    -0.189538 -0.010535   \n",
       "31  633a8140a39cad0eecf43772  2.405046     -0.021918    -0.189538 -0.010535   \n",
       "39  638d8ea739e947b868333363  0.633355     -0.111685    -0.556386 -0.007880   \n",
       "\n",
       "         vix  days_to_strike ticker       date  \n",
       "19 -0.034355       -0.004825   NVDA 2022-09-03  \n",
       "31 -0.034355       -0.004825   NVDA 2022-10-03  \n",
       "39  0.000244        0.014055   NVDA 2022-12-05  "
      ]
     },
     "execution_count": 45,
     "metadata": {},
     "output_type": "execute_result"
    }
   ],
   "source": [
    "formulas[formulas['ticker']==tick]"
   ]
  },
  {
   "cell_type": "code",
   "execution_count": null,
   "id": "ef35e61e",
   "metadata": {},
   "outputs": [],
   "source": []
  }
 ],
 "metadata": {
  "kernelspec": {
   "display_name": "scrape",
   "language": "python",
   "name": "scrape"
  },
  "language_info": {
   "codemirror_mode": {
    "name": "ipython",
    "version": 3
   },
   "file_extension": ".py",
   "mimetype": "text/x-python",
   "name": "python",
   "nbconvert_exporter": "python",
   "pygments_lexer": "ipython3",
   "version": "3.9.6"
  }
 },
 "nbformat": 4,
 "nbformat_minor": 5
}
