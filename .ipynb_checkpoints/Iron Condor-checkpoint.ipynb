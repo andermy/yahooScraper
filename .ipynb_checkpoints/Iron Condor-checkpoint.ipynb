{
 "cells": [
  {
   "cell_type": "code",
   "execution_count": 1,
   "metadata": {},
   "outputs": [],
   "source": [
    "import scraper as s\n",
    "import pandas as pd\n",
    "import numpy as np\n",
    "import datetime\n",
    "import time\n",
    "from scipy.stats import norm\n",
    "m = s.stockMongo()"
   ]
  },
  {
   "cell_type": "code",
   "execution_count": 2,
   "metadata": {
    "scrolled": true
   },
   "outputs": [
    {
     "ename": "TypeError",
     "evalue": "strptime() argument 1 must be str, not Timestamp",
     "output_type": "error",
     "traceback": [
      "\u001b[1;31m---------------------------------------------------------------------------\u001b[0m",
      "\u001b[1;31mTypeError\u001b[0m                                 Traceback (most recent call last)",
      "\u001b[1;32m<ipython-input-2-02a3d4c31693>\u001b[0m in \u001b[0;36m<module>\u001b[1;34m\u001b[0m\n\u001b[1;32m----> 1\u001b[1;33m \u001b[0mm\u001b[0m\u001b[1;33m.\u001b[0m\u001b[0mupdate_stockprices\u001b[0m\u001b[1;33m(\u001b[0m\u001b[1;34m'AAPL'\u001b[0m\u001b[1;33m)\u001b[0m\u001b[1;33m\u001b[0m\u001b[1;33m\u001b[0m\u001b[0m\n\u001b[0m",
      "\u001b[1;32mC:\\UserData\\z003rvhr\\python\\yahoo_graber\\scraper\\scraper.py\u001b[0m in \u001b[0;36mupdate_stockprices\u001b[1;34m(self, symbol)\u001b[0m\n\u001b[0;32m    242\u001b[0m         \u001b[1;32mif\u001b[0m \u001b[0mlen\u001b[0m\u001b[1;33m(\u001b[0m\u001b[0mtickerTimeline\u001b[0m\u001b[1;33m)\u001b[0m \u001b[1;33m>\u001b[0m \u001b[1;36m0\u001b[0m\u001b[1;33m:\u001b[0m\u001b[1;33m\u001b[0m\u001b[1;33m\u001b[0m\u001b[0m\n\u001b[0;32m    243\u001b[0m             \u001b[0mnewestDate\u001b[0m \u001b[1;33m=\u001b[0m \u001b[0mmax\u001b[0m\u001b[1;33m(\u001b[0m\u001b[0mtickerTimeline\u001b[0m\u001b[1;33m[\u001b[0m\u001b[1;34m'date'\u001b[0m\u001b[1;33m]\u001b[0m\u001b[1;33m)\u001b[0m\u001b[1;33m\u001b[0m\u001b[1;33m\u001b[0m\u001b[0m\n\u001b[1;32m--> 244\u001b[1;33m             self.fetchInterval_stock_data(datetime.datetime.strptime(newestDate, \"%Y-%m-%d\"), \n\u001b[0m\u001b[0;32m    245\u001b[0m                                 \u001b[0mdatetime\u001b[0m\u001b[1;33m.\u001b[0m\u001b[0mdatetime\u001b[0m\u001b[1;33m.\u001b[0m\u001b[0mnow\u001b[0m\u001b[1;33m(\u001b[0m\u001b[1;33m)\u001b[0m\u001b[1;33m,\u001b[0m\u001b[1;33m\u001b[0m\u001b[1;33m\u001b[0m\u001b[0m\n\u001b[0;32m    246\u001b[0m                                 symbol=symbol)\n",
      "\u001b[1;31mTypeError\u001b[0m: strptime() argument 1 must be str, not Timestamp"
     ]
    }
   ],
   "source": [
    "m.update_stockprices('AAPL')"
   ]
  },
  {
   "cell_type": "code",
   "execution_count": 2,
   "metadata": {},
   "outputs": [],
   "source": [
    "apple = m.get_options(\"AAPL\")"
   ]
  },
  {
   "cell_type": "code",
   "execution_count": 3,
   "metadata": {},
   "outputs": [
    {
     "data": {
      "text/html": [
       "<div>\n",
       "<style scoped>\n",
       "    .dataframe tbody tr th:only-of-type {\n",
       "        vertical-align: middle;\n",
       "    }\n",
       "\n",
       "    .dataframe tbody tr th {\n",
       "        vertical-align: top;\n",
       "    }\n",
       "\n",
       "    .dataframe thead th {\n",
       "        text-align: right;\n",
       "    }\n",
       "</style>\n",
       "<table border=\"1\" class=\"dataframe\">\n",
       "  <thead>\n",
       "    <tr style=\"text-align: right;\">\n",
       "      <th></th>\n",
       "      <th>ask</th>\n",
       "      <th>bid</th>\n",
       "      <th>last</th>\n",
       "      <th>strike</th>\n",
       "      <th>volume</th>\n",
       "    </tr>\n",
       "  </thead>\n",
       "  <tbody>\n",
       "    <tr>\n",
       "      <th>count</th>\n",
       "      <td>178739.000000</td>\n",
       "      <td>178712.000000</td>\n",
       "      <td>177167.000000</td>\n",
       "      <td>178489.000000</td>\n",
       "      <td>160047.000000</td>\n",
       "    </tr>\n",
       "    <tr>\n",
       "      <th>mean</th>\n",
       "      <td>58.847093</td>\n",
       "      <td>57.847404</td>\n",
       "      <td>54.652596</td>\n",
       "      <td>283.967219</td>\n",
       "      <td>89.681544</td>\n",
       "    </tr>\n",
       "    <tr>\n",
       "      <th>std</th>\n",
       "      <td>87.013668</td>\n",
       "      <td>85.901368</td>\n",
       "      <td>82.011998</td>\n",
       "      <td>185.205138</td>\n",
       "      <td>170.146491</td>\n",
       "    </tr>\n",
       "    <tr>\n",
       "      <th>min</th>\n",
       "      <td>0.000000</td>\n",
       "      <td>0.000000</td>\n",
       "      <td>0.000000</td>\n",
       "      <td>18.750000</td>\n",
       "      <td>1.000000</td>\n",
       "    </tr>\n",
       "    <tr>\n",
       "      <th>25%</th>\n",
       "      <td>1.780000</td>\n",
       "      <td>1.600000</td>\n",
       "      <td>1.840000</td>\n",
       "      <td>120.000000</td>\n",
       "      <td>3.000000</td>\n",
       "    </tr>\n",
       "    <tr>\n",
       "      <th>50%</th>\n",
       "      <td>17.550000</td>\n",
       "      <td>17.000000</td>\n",
       "      <td>16.120000</td>\n",
       "      <td>250.000000</td>\n",
       "      <td>16.000000</td>\n",
       "    </tr>\n",
       "    <tr>\n",
       "      <th>75%</th>\n",
       "      <td>76.350000</td>\n",
       "      <td>75.000000</td>\n",
       "      <td>72.605000</td>\n",
       "      <td>420.000000</td>\n",
       "      <td>85.000000</td>\n",
       "    </tr>\n",
       "    <tr>\n",
       "      <th>max</th>\n",
       "      <td>523.000000</td>\n",
       "      <td>519.000000</td>\n",
       "      <td>963.000000</td>\n",
       "      <td>900.000000</td>\n",
       "      <td>999.000000</td>\n",
       "    </tr>\n",
       "  </tbody>\n",
       "</table>\n",
       "</div>"
      ],
      "text/plain": [
       "                 ask            bid           last         strike  \\\n",
       "count  178739.000000  178712.000000  177167.000000  178489.000000   \n",
       "mean       58.847093      57.847404      54.652596     283.967219   \n",
       "std        87.013668      85.901368      82.011998     185.205138   \n",
       "min         0.000000       0.000000       0.000000      18.750000   \n",
       "25%         1.780000       1.600000       1.840000     120.000000   \n",
       "50%        17.550000      17.000000      16.120000     250.000000   \n",
       "75%        76.350000      75.000000      72.605000     420.000000   \n",
       "max       523.000000     519.000000     963.000000     900.000000   \n",
       "\n",
       "              volume  \n",
       "count  160047.000000  \n",
       "mean       89.681544  \n",
       "std       170.146491  \n",
       "min         1.000000  \n",
       "25%         3.000000  \n",
       "50%        16.000000  \n",
       "75%        85.000000  \n",
       "max       999.000000  "
      ]
     },
     "execution_count": 3,
     "metadata": {},
     "output_type": "execute_result"
    }
   ],
   "source": [
    "apple.describe()"
   ]
  },
  {
   "cell_type": "code",
   "execution_count": 4,
   "metadata": {},
   "outputs": [],
   "source": [
    "new_apple = apple.where(apple['last_trade']==apple.index.date).dropna()\n",
    "#new_apple = new_apple[new_apple['volume'] > 50]"
   ]
  },
  {
   "cell_type": "code",
   "execution_count": 39,
   "metadata": {},
   "outputs": [],
   "source": [
    "apl = m.get_stock_data('AAPL').drop_duplicates(subset =\"date\")"
   ]
  },
  {
   "cell_type": "code",
   "execution_count": 40,
   "metadata": {},
   "outputs": [],
   "source": [
    "def split(apple):\n",
    "    if apple['date'] < datetime.datetime.fromisoformat('2020-08-31'):\n",
    "        return apple['c'] * 4\n",
    "    else:\n",
    "        return apple['c']"
   ]
  },
  {
   "cell_type": "code",
   "execution_count": 41,
   "metadata": {},
   "outputs": [
    {
     "data": {
      "text/html": [
       "<div>\n",
       "<style scoped>\n",
       "    .dataframe tbody tr th:only-of-type {\n",
       "        vertical-align: middle;\n",
       "    }\n",
       "\n",
       "    .dataframe tbody tr th {\n",
       "        vertical-align: top;\n",
       "    }\n",
       "\n",
       "    .dataframe thead th {\n",
       "        text-align: right;\n",
       "    }\n",
       "</style>\n",
       "<table border=\"1\" class=\"dataframe\">\n",
       "  <thead>\n",
       "    <tr style=\"text-align: right;\">\n",
       "      <th></th>\n",
       "      <th>ask</th>\n",
       "      <th>bid</th>\n",
       "      <th>iv</th>\n",
       "      <th>last</th>\n",
       "      <th>strike</th>\n",
       "      <th>volume</th>\n",
       "      <th>time</th>\n",
       "    </tr>\n",
       "  </thead>\n",
       "  <tbody>\n",
       "    <tr>\n",
       "      <th>count</th>\n",
       "      <td>178413.000000</td>\n",
       "      <td>178386.00000</td>\n",
       "      <td>176149.000000</td>\n",
       "      <td>176841.000000</td>\n",
       "      <td>178163.000000</td>\n",
       "      <td>159747.000000</td>\n",
       "      <td>178430</td>\n",
       "    </tr>\n",
       "    <tr>\n",
       "      <th>mean</th>\n",
       "      <td>58.954619</td>\n",
       "      <td>57.95312</td>\n",
       "      <td>76.453495</td>\n",
       "      <td>54.726049</td>\n",
       "      <td>284.273446</td>\n",
       "      <td>89.627411</td>\n",
       "      <td>175 days 21:38:41.637811</td>\n",
       "    </tr>\n",
       "    <tr>\n",
       "      <th>std</th>\n",
       "      <td>87.056728</td>\n",
       "      <td>85.94419</td>\n",
       "      <td>122.668041</td>\n",
       "      <td>82.064947</td>\n",
       "      <td>185.230039</td>\n",
       "      <td>170.112204</td>\n",
       "      <td>225 days 00:43:16.301023</td>\n",
       "    </tr>\n",
       "    <tr>\n",
       "      <th>min</th>\n",
       "      <td>0.000000</td>\n",
       "      <td>0.00000</td>\n",
       "      <td>0.000000</td>\n",
       "      <td>0.000000</td>\n",
       "      <td>18.750000</td>\n",
       "      <td>1.000000</td>\n",
       "      <td>-1 days +03:51:51.773000</td>\n",
       "    </tr>\n",
       "    <tr>\n",
       "      <th>25%</th>\n",
       "      <td>1.810000</td>\n",
       "      <td>1.63000</td>\n",
       "      <td>36.000000</td>\n",
       "      <td>1.840000</td>\n",
       "      <td>120.000000</td>\n",
       "      <td>3.000000</td>\n",
       "      <td>19 days 03:53:08.866000</td>\n",
       "    </tr>\n",
       "    <tr>\n",
       "      <th>50%</th>\n",
       "      <td>17.650000</td>\n",
       "      <td>17.15000</td>\n",
       "      <td>48.290000</td>\n",
       "      <td>16.150000</td>\n",
       "      <td>250.000000</td>\n",
       "      <td>16.000000</td>\n",
       "      <td>66 days 03:57:58.033000</td>\n",
       "    </tr>\n",
       "    <tr>\n",
       "      <th>75%</th>\n",
       "      <td>76.500000</td>\n",
       "      <td>75.10000</td>\n",
       "      <td>69.730000</td>\n",
       "      <td>72.800000</td>\n",
       "      <td>420.000000</td>\n",
       "      <td>85.000000</td>\n",
       "      <td>285 days 03:52:45.266000</td>\n",
       "    </tr>\n",
       "    <tr>\n",
       "      <th>max</th>\n",
       "      <td>523.000000</td>\n",
       "      <td>519.00000</td>\n",
       "      <td>999.880000</td>\n",
       "      <td>963.000000</td>\n",
       "      <td>900.000000</td>\n",
       "      <td>999.000000</td>\n",
       "      <td>800 days 03:37:08.107000</td>\n",
       "    </tr>\n",
       "  </tbody>\n",
       "</table>\n",
       "</div>"
      ],
      "text/plain": [
       "                 ask           bid             iv           last  \\\n",
       "count  178413.000000  178386.00000  176149.000000  176841.000000   \n",
       "mean       58.954619      57.95312      76.453495      54.726049   \n",
       "std        87.056728      85.94419     122.668041      82.064947   \n",
       "min         0.000000       0.00000       0.000000       0.000000   \n",
       "25%         1.810000       1.63000      36.000000       1.840000   \n",
       "50%        17.650000      17.15000      48.290000      16.150000   \n",
       "75%        76.500000      75.10000      69.730000      72.800000   \n",
       "max       523.000000     519.00000     999.880000     963.000000   \n",
       "\n",
       "              strike         volume                      time  \n",
       "count  178163.000000  159747.000000                    178430  \n",
       "mean      284.273446      89.627411  175 days 21:38:41.637811  \n",
       "std       185.230039     170.112204  225 days 00:43:16.301023  \n",
       "min        18.750000       1.000000  -1 days +03:51:51.773000  \n",
       "25%       120.000000       3.000000   19 days 03:53:08.866000  \n",
       "50%       250.000000      16.000000   66 days 03:57:58.033000  \n",
       "75%       420.000000      85.000000  285 days 03:52:45.266000  \n",
       "max       900.000000     999.000000  800 days 03:37:08.107000  "
      ]
     },
     "execution_count": 41,
     "metadata": {},
     "output_type": "execute_result"
    }
   ],
   "source": [
    "new_apple = apple.reset_index()\n",
    "new_apple['time'] = new_apple['strike-date'] - new_apple['date']\n",
    "new_apple['iv'] = pd.Series(new_apple['iv']).str.replace('%', '0', regex=False)\n",
    "new_apple['iv'] = pd.to_numeric(new_apple['iv'],errors='coerce')\n",
    "new_apple.describe()"
   ]
  },
  {
   "cell_type": "code",
   "execution_count": 42,
   "metadata": {},
   "outputs": [
    {
     "data": {
      "text/html": [
       "<div>\n",
       "<style scoped>\n",
       "    .dataframe tbody tr th:only-of-type {\n",
       "        vertical-align: middle;\n",
       "    }\n",
       "\n",
       "    .dataframe tbody tr th {\n",
       "        vertical-align: top;\n",
       "    }\n",
       "\n",
       "    .dataframe thead th {\n",
       "        text-align: right;\n",
       "    }\n",
       "</style>\n",
       "<table border=\"1\" class=\"dataframe\">\n",
       "  <thead>\n",
       "    <tr style=\"text-align: right;\">\n",
       "      <th></th>\n",
       "      <th>date</th>\n",
       "      <th>iv</th>\n",
       "      <th>last</th>\n",
       "      <th>strike</th>\n",
       "      <th>strike-date</th>\n",
       "      <th>type</th>\n",
       "      <th>time</th>\n",
       "    </tr>\n",
       "  </thead>\n",
       "  <tbody>\n",
       "    <tr>\n",
       "      <th>0</th>\n",
       "      <td>2020-08-02</td>\n",
       "      <td>148.44</td>\n",
       "      <td>284.24</td>\n",
       "      <td>95.0</td>\n",
       "      <td>2020-09-18</td>\n",
       "      <td>Call</td>\n",
       "      <td>46 days 00:20:22.974000</td>\n",
       "    </tr>\n",
       "    <tr>\n",
       "      <th>1</th>\n",
       "      <td>2020-08-02</td>\n",
       "      <td>0.00</td>\n",
       "      <td>254.30</td>\n",
       "      <td>100.0</td>\n",
       "      <td>2020-09-18</td>\n",
       "      <td>Call</td>\n",
       "      <td>46 days 00:20:22.974000</td>\n",
       "    </tr>\n",
       "    <tr>\n",
       "      <th>2</th>\n",
       "      <td>2020-08-02</td>\n",
       "      <td>152.54</td>\n",
       "      <td>264.25</td>\n",
       "      <td>105.0</td>\n",
       "      <td>2020-09-18</td>\n",
       "      <td>Call</td>\n",
       "      <td>46 days 00:20:22.974000</td>\n",
       "    </tr>\n",
       "    <tr>\n",
       "      <th>3</th>\n",
       "      <td>2020-08-02</td>\n",
       "      <td>129.69</td>\n",
       "      <td>266.25</td>\n",
       "      <td>110.0</td>\n",
       "      <td>2020-09-18</td>\n",
       "      <td>Call</td>\n",
       "      <td>46 days 00:20:22.974000</td>\n",
       "    </tr>\n",
       "    <tr>\n",
       "      <th>4</th>\n",
       "      <td>2020-08-02</td>\n",
       "      <td>0.00</td>\n",
       "      <td>255.30</td>\n",
       "      <td>115.0</td>\n",
       "      <td>2020-09-18</td>\n",
       "      <td>Call</td>\n",
       "      <td>46 days 00:20:22.974000</td>\n",
       "    </tr>\n",
       "  </tbody>\n",
       "</table>\n",
       "</div>"
      ],
      "text/plain": [
       "        date      iv    last  strike strike-date  type                    time\n",
       "0 2020-08-02  148.44  284.24    95.0  2020-09-18  Call 46 days 00:20:22.974000\n",
       "1 2020-08-02    0.00  254.30   100.0  2020-09-18  Call 46 days 00:20:22.974000\n",
       "2 2020-08-02  152.54  264.25   105.0  2020-09-18  Call 46 days 00:20:22.974000\n",
       "3 2020-08-02  129.69  266.25   110.0  2020-09-18  Call 46 days 00:20:22.974000\n",
       "4 2020-08-02    0.00  255.30   115.0  2020-09-18  Call 46 days 00:20:22.974000"
      ]
     },
     "execution_count": 42,
     "metadata": {},
     "output_type": "execute_result"
    }
   ],
   "source": [
    "new_apple = new_apple.reset_index()\n",
    "new_apple = new_apple.drop(['volume', 'in-money', 'bid', 'ask','last_trade', 'contract', 'index'], axis=1)\n",
    "#new_apple = new_apple.set_index(['strike-date', 'type'])\n",
    "new_apple['date'] = pd.to_datetime(new_apple['date']).dt.strftime('%m-%d-%Y')\n",
    "new_apple['date'] = pd.to_datetime(new_apple['date'])\n",
    "new_apple.head()"
   ]
  },
  {
   "cell_type": "code",
   "execution_count": 43,
   "metadata": {},
   "outputs": [
    {
     "data": {
      "text/html": [
       "<div>\n",
       "<style scoped>\n",
       "    .dataframe tbody tr th:only-of-type {\n",
       "        vertical-align: middle;\n",
       "    }\n",
       "\n",
       "    .dataframe tbody tr th {\n",
       "        vertical-align: top;\n",
       "    }\n",
       "\n",
       "    .dataframe thead th {\n",
       "        text-align: right;\n",
       "    }\n",
       "</style>\n",
       "<table border=\"1\" class=\"dataframe\">\n",
       "  <thead>\n",
       "    <tr style=\"text-align: right;\">\n",
       "      <th></th>\n",
       "      <th>date</th>\n",
       "      <th>iv</th>\n",
       "      <th>last</th>\n",
       "      <th>strike</th>\n",
       "      <th>strike-date</th>\n",
       "      <th>type</th>\n",
       "      <th>time</th>\n",
       "      <th>c</th>\n",
       "    </tr>\n",
       "  </thead>\n",
       "  <tbody>\n",
       "    <tr>\n",
       "      <th>0</th>\n",
       "      <td>2020-08-03</td>\n",
       "      <td>219.48</td>\n",
       "      <td>272.27</td>\n",
       "      <td>170.0</td>\n",
       "      <td>2020-08-21</td>\n",
       "      <td>Call</td>\n",
       "      <td>17 days 03:57:58.005000</td>\n",
       "      <td>435.75</td>\n",
       "    </tr>\n",
       "    <tr>\n",
       "      <th>1</th>\n",
       "      <td>2020-08-03</td>\n",
       "      <td>210.65</td>\n",
       "      <td>206.99</td>\n",
       "      <td>180.0</td>\n",
       "      <td>2020-08-21</td>\n",
       "      <td>Call</td>\n",
       "      <td>17 days 03:57:58.005000</td>\n",
       "      <td>435.75</td>\n",
       "    </tr>\n",
       "    <tr>\n",
       "      <th>2</th>\n",
       "      <td>2020-08-03</td>\n",
       "      <td>0.00</td>\n",
       "      <td>175.69</td>\n",
       "      <td>190.0</td>\n",
       "      <td>2020-08-21</td>\n",
       "      <td>Call</td>\n",
       "      <td>17 days 03:57:58.005000</td>\n",
       "      <td>435.75</td>\n",
       "    </tr>\n",
       "    <tr>\n",
       "      <th>3</th>\n",
       "      <td>2020-08-03</td>\n",
       "      <td>193.31</td>\n",
       "      <td>194.12</td>\n",
       "      <td>195.0</td>\n",
       "      <td>2020-08-21</td>\n",
       "      <td>Call</td>\n",
       "      <td>17 days 03:57:58.005000</td>\n",
       "      <td>435.75</td>\n",
       "    </tr>\n",
       "    <tr>\n",
       "      <th>4</th>\n",
       "      <td>2020-08-03</td>\n",
       "      <td>189.79</td>\n",
       "      <td>167.15</td>\n",
       "      <td>200.0</td>\n",
       "      <td>2020-08-21</td>\n",
       "      <td>Call</td>\n",
       "      <td>17 days 03:57:58.005000</td>\n",
       "      <td>435.75</td>\n",
       "    </tr>\n",
       "  </tbody>\n",
       "</table>\n",
       "</div>"
      ],
      "text/plain": [
       "        date      iv    last  strike strike-date  type  \\\n",
       "0 2020-08-03  219.48  272.27   170.0  2020-08-21  Call   \n",
       "1 2020-08-03  210.65  206.99   180.0  2020-08-21  Call   \n",
       "2 2020-08-03    0.00  175.69   190.0  2020-08-21  Call   \n",
       "3 2020-08-03  193.31  194.12   195.0  2020-08-21  Call   \n",
       "4 2020-08-03  189.79  167.15   200.0  2020-08-21  Call   \n",
       "\n",
       "                     time       c  \n",
       "0 17 days 03:57:58.005000  435.75  \n",
       "1 17 days 03:57:58.005000  435.75  \n",
       "2 17 days 03:57:58.005000  435.75  \n",
       "3 17 days 03:57:58.005000  435.75  \n",
       "4 17 days 03:57:58.005000  435.75  "
      ]
     },
     "execution_count": 43,
     "metadata": {},
     "output_type": "execute_result"
    }
   ],
   "source": [
    "#new_apple = new_apple.reset_index()\n",
    "\n",
    "new_apple['date'] = new_apple['date'].dt.normalize()\n",
    "new_apple = pd.merge(new_apple, apl[['c', 'date']], on='date')\n",
    "#apple2 = apple2.set_index('date')\n",
    "new_apple['c'] = new_apple.apply(split, axis=1)\n",
    "strike_pivot = new_apple.pivot_table(columns=\"strike-date\", values=\"date\", aggfunc=np.count_nonzero)\n",
    "strike_cols = strike_pivot.columns\n",
    "new_apple.head()"
   ]
  },
  {
   "cell_type": "code",
   "execution_count": 44,
   "metadata": {},
   "outputs": [
    {
     "name": "stdout",
     "output_type": "stream",
     "text": [
      "2020-08-07 00:00:00\n"
     ]
    },
    {
     "name": "stderr",
     "output_type": "stream",
     "text": [
      "c:\\userdata\\z003rvhr\\python\\yahoo_graber\\grab\\lib\\site-packages\\ipykernel_launcher.py:26: PerformanceWarning: indexing past lexsort depth may impact performance.\n",
      "c:\\userdata\\z003rvhr\\python\\yahoo_graber\\grab\\lib\\site-packages\\ipykernel_launcher.py:29: PerformanceWarning: indexing past lexsort depth may impact performance.\n",
      "c:\\userdata\\z003rvhr\\python\\yahoo_graber\\grab\\lib\\site-packages\\ipykernel_launcher.py:46: PerformanceWarning: indexing past lexsort depth may impact performance.\n",
      "c:\\userdata\\z003rvhr\\python\\yahoo_graber\\grab\\lib\\site-packages\\ipykernel_launcher.py:56: PerformanceWarning: indexing past lexsort depth may impact performance.\n",
      "c:\\userdata\\z003rvhr\\python\\yahoo_graber\\grab\\lib\\site-packages\\pandas\\core\\indexing.py:1762: PerformanceWarning: indexing past lexsort depth may impact performance.\n",
      "  return self._getitem_tuple(key)\n",
      "c:\\userdata\\z003rvhr\\python\\yahoo_graber\\grab\\lib\\site-packages\\ipykernel_launcher.py:76: PerformanceWarning: indexing past lexsort depth may impact performance.\n"
     ]
    },
    {
     "name": "stdout",
     "output_type": "stream",
     "text": [
      "2020-08-14 00:00:00\n"
     ]
    },
    {
     "name": "stderr",
     "output_type": "stream",
     "text": [
      "c:\\userdata\\z003rvhr\\python\\yahoo_graber\\grab\\lib\\site-packages\\ipykernel_launcher.py:26: PerformanceWarning: indexing past lexsort depth may impact performance.\n",
      "c:\\userdata\\z003rvhr\\python\\yahoo_graber\\grab\\lib\\site-packages\\ipykernel_launcher.py:29: PerformanceWarning: indexing past lexsort depth may impact performance.\n",
      "c:\\userdata\\z003rvhr\\python\\yahoo_graber\\grab\\lib\\site-packages\\ipykernel_launcher.py:46: PerformanceWarning: indexing past lexsort depth may impact performance.\n",
      "c:\\userdata\\z003rvhr\\python\\yahoo_graber\\grab\\lib\\site-packages\\ipykernel_launcher.py:56: PerformanceWarning: indexing past lexsort depth may impact performance.\n",
      "c:\\userdata\\z003rvhr\\python\\yahoo_graber\\grab\\lib\\site-packages\\pandas\\core\\indexing.py:1762: PerformanceWarning: indexing past lexsort depth may impact performance.\n",
      "  return self._getitem_tuple(key)\n",
      "c:\\userdata\\z003rvhr\\python\\yahoo_graber\\grab\\lib\\site-packages\\ipykernel_launcher.py:76: PerformanceWarning: indexing past lexsort depth may impact performance.\n"
     ]
    },
    {
     "name": "stdout",
     "output_type": "stream",
     "text": [
      "2020-08-21 00:00:00\n"
     ]
    },
    {
     "name": "stderr",
     "output_type": "stream",
     "text": [
      "c:\\userdata\\z003rvhr\\python\\yahoo_graber\\grab\\lib\\site-packages\\ipykernel_launcher.py:26: PerformanceWarning: indexing past lexsort depth may impact performance.\n",
      "c:\\userdata\\z003rvhr\\python\\yahoo_graber\\grab\\lib\\site-packages\\ipykernel_launcher.py:29: PerformanceWarning: indexing past lexsort depth may impact performance.\n",
      "c:\\userdata\\z003rvhr\\python\\yahoo_graber\\grab\\lib\\site-packages\\ipykernel_launcher.py:46: PerformanceWarning: indexing past lexsort depth may impact performance.\n",
      "c:\\userdata\\z003rvhr\\python\\yahoo_graber\\grab\\lib\\site-packages\\ipykernel_launcher.py:56: PerformanceWarning: indexing past lexsort depth may impact performance.\n",
      "c:\\userdata\\z003rvhr\\python\\yahoo_graber\\grab\\lib\\site-packages\\pandas\\core\\indexing.py:1762: PerformanceWarning: indexing past lexsort depth may impact performance.\n",
      "  return self._getitem_tuple(key)\n",
      "c:\\userdata\\z003rvhr\\python\\yahoo_graber\\grab\\lib\\site-packages\\ipykernel_launcher.py:76: PerformanceWarning: indexing past lexsort depth may impact performance.\n"
     ]
    },
    {
     "name": "stdout",
     "output_type": "stream",
     "text": [
      "2020-08-28 00:00:00\n"
     ]
    },
    {
     "name": "stderr",
     "output_type": "stream",
     "text": [
      "c:\\userdata\\z003rvhr\\python\\yahoo_graber\\grab\\lib\\site-packages\\ipykernel_launcher.py:26: PerformanceWarning: indexing past lexsort depth may impact performance.\n",
      "c:\\userdata\\z003rvhr\\python\\yahoo_graber\\grab\\lib\\site-packages\\ipykernel_launcher.py:29: PerformanceWarning: indexing past lexsort depth may impact performance.\n",
      "c:\\userdata\\z003rvhr\\python\\yahoo_graber\\grab\\lib\\site-packages\\ipykernel_launcher.py:46: PerformanceWarning: indexing past lexsort depth may impact performance.\n",
      "c:\\userdata\\z003rvhr\\python\\yahoo_graber\\grab\\lib\\site-packages\\ipykernel_launcher.py:56: PerformanceWarning: indexing past lexsort depth may impact performance.\n",
      "c:\\userdata\\z003rvhr\\python\\yahoo_graber\\grab\\lib\\site-packages\\pandas\\core\\indexing.py:1762: PerformanceWarning: indexing past lexsort depth may impact performance.\n",
      "  return self._getitem_tuple(key)\n",
      "c:\\userdata\\z003rvhr\\python\\yahoo_graber\\grab\\lib\\site-packages\\ipykernel_launcher.py:76: PerformanceWarning: indexing past lexsort depth may impact performance.\n"
     ]
    },
    {
     "name": "stdout",
     "output_type": "stream",
     "text": [
      "2020-09-04 00:00:00\n"
     ]
    },
    {
     "name": "stderr",
     "output_type": "stream",
     "text": [
      "c:\\userdata\\z003rvhr\\python\\yahoo_graber\\grab\\lib\\site-packages\\ipykernel_launcher.py:26: PerformanceWarning: indexing past lexsort depth may impact performance.\n",
      "c:\\userdata\\z003rvhr\\python\\yahoo_graber\\grab\\lib\\site-packages\\ipykernel_launcher.py:29: PerformanceWarning: indexing past lexsort depth may impact performance.\n",
      "c:\\userdata\\z003rvhr\\python\\yahoo_graber\\grab\\lib\\site-packages\\ipykernel_launcher.py:46: PerformanceWarning: indexing past lexsort depth may impact performance.\n",
      "c:\\userdata\\z003rvhr\\python\\yahoo_graber\\grab\\lib\\site-packages\\ipykernel_launcher.py:56: PerformanceWarning: indexing past lexsort depth may impact performance.\n",
      "c:\\userdata\\z003rvhr\\python\\yahoo_graber\\grab\\lib\\site-packages\\pandas\\core\\indexing.py:1762: PerformanceWarning: indexing past lexsort depth may impact performance.\n",
      "  return self._getitem_tuple(key)\n",
      "c:\\userdata\\z003rvhr\\python\\yahoo_graber\\grab\\lib\\site-packages\\ipykernel_launcher.py:76: PerformanceWarning: indexing past lexsort depth may impact performance.\n"
     ]
    },
    {
     "name": "stdout",
     "output_type": "stream",
     "text": [
      "2020-09-11 00:00:00\n"
     ]
    },
    {
     "name": "stderr",
     "output_type": "stream",
     "text": [
      "c:\\userdata\\z003rvhr\\python\\yahoo_graber\\grab\\lib\\site-packages\\ipykernel_launcher.py:26: PerformanceWarning: indexing past lexsort depth may impact performance.\n",
      "c:\\userdata\\z003rvhr\\python\\yahoo_graber\\grab\\lib\\site-packages\\ipykernel_launcher.py:29: PerformanceWarning: indexing past lexsort depth may impact performance.\n",
      "c:\\userdata\\z003rvhr\\python\\yahoo_graber\\grab\\lib\\site-packages\\ipykernel_launcher.py:46: PerformanceWarning: indexing past lexsort depth may impact performance.\n",
      "c:\\userdata\\z003rvhr\\python\\yahoo_graber\\grab\\lib\\site-packages\\ipykernel_launcher.py:56: PerformanceWarning: indexing past lexsort depth may impact performance.\n",
      "c:\\userdata\\z003rvhr\\python\\yahoo_graber\\grab\\lib\\site-packages\\pandas\\core\\indexing.py:1762: PerformanceWarning: indexing past lexsort depth may impact performance.\n",
      "  return self._getitem_tuple(key)\n",
      "c:\\userdata\\z003rvhr\\python\\yahoo_graber\\grab\\lib\\site-packages\\ipykernel_launcher.py:76: PerformanceWarning: indexing past lexsort depth may impact performance.\n"
     ]
    },
    {
     "name": "stdout",
     "output_type": "stream",
     "text": [
      "2020-09-18 00:00:00\n"
     ]
    },
    {
     "name": "stderr",
     "output_type": "stream",
     "text": [
      "c:\\userdata\\z003rvhr\\python\\yahoo_graber\\grab\\lib\\site-packages\\ipykernel_launcher.py:26: PerformanceWarning: indexing past lexsort depth may impact performance.\n",
      "c:\\userdata\\z003rvhr\\python\\yahoo_graber\\grab\\lib\\site-packages\\ipykernel_launcher.py:29: PerformanceWarning: indexing past lexsort depth may impact performance.\n",
      "c:\\userdata\\z003rvhr\\python\\yahoo_graber\\grab\\lib\\site-packages\\ipykernel_launcher.py:46: PerformanceWarning: indexing past lexsort depth may impact performance.\n",
      "c:\\userdata\\z003rvhr\\python\\yahoo_graber\\grab\\lib\\site-packages\\ipykernel_launcher.py:56: PerformanceWarning: indexing past lexsort depth may impact performance.\n",
      "c:\\userdata\\z003rvhr\\python\\yahoo_graber\\grab\\lib\\site-packages\\pandas\\core\\indexing.py:1762: PerformanceWarning: indexing past lexsort depth may impact performance.\n",
      "  return self._getitem_tuple(key)\n",
      "c:\\userdata\\z003rvhr\\python\\yahoo_graber\\grab\\lib\\site-packages\\ipykernel_launcher.py:76: PerformanceWarning: indexing past lexsort depth may impact performance.\n"
     ]
    },
    {
     "name": "stdout",
     "output_type": "stream",
     "text": [
      "2020-09-25 00:00:00\n"
     ]
    },
    {
     "name": "stderr",
     "output_type": "stream",
     "text": [
      "c:\\userdata\\z003rvhr\\python\\yahoo_graber\\grab\\lib\\site-packages\\ipykernel_launcher.py:26: PerformanceWarning: indexing past lexsort depth may impact performance.\n",
      "c:\\userdata\\z003rvhr\\python\\yahoo_graber\\grab\\lib\\site-packages\\ipykernel_launcher.py:29: PerformanceWarning: indexing past lexsort depth may impact performance.\n",
      "c:\\userdata\\z003rvhr\\python\\yahoo_graber\\grab\\lib\\site-packages\\ipykernel_launcher.py:46: PerformanceWarning: indexing past lexsort depth may impact performance.\n",
      "c:\\userdata\\z003rvhr\\python\\yahoo_graber\\grab\\lib\\site-packages\\ipykernel_launcher.py:56: PerformanceWarning: indexing past lexsort depth may impact performance.\n",
      "c:\\userdata\\z003rvhr\\python\\yahoo_graber\\grab\\lib\\site-packages\\pandas\\core\\indexing.py:1762: PerformanceWarning: indexing past lexsort depth may impact performance.\n",
      "  return self._getitem_tuple(key)\n",
      "c:\\userdata\\z003rvhr\\python\\yahoo_graber\\grab\\lib\\site-packages\\ipykernel_launcher.py:76: PerformanceWarning: indexing past lexsort depth may impact performance.\n"
     ]
    },
    {
     "name": "stdout",
     "output_type": "stream",
     "text": [
      "2020-10-02 00:00:00\n"
     ]
    },
    {
     "name": "stderr",
     "output_type": "stream",
     "text": [
      "c:\\userdata\\z003rvhr\\python\\yahoo_graber\\grab\\lib\\site-packages\\ipykernel_launcher.py:26: PerformanceWarning: indexing past lexsort depth may impact performance.\n",
      "c:\\userdata\\z003rvhr\\python\\yahoo_graber\\grab\\lib\\site-packages\\ipykernel_launcher.py:29: PerformanceWarning: indexing past lexsort depth may impact performance.\n",
      "c:\\userdata\\z003rvhr\\python\\yahoo_graber\\grab\\lib\\site-packages\\ipykernel_launcher.py:46: PerformanceWarning: indexing past lexsort depth may impact performance.\n",
      "c:\\userdata\\z003rvhr\\python\\yahoo_graber\\grab\\lib\\site-packages\\ipykernel_launcher.py:56: PerformanceWarning: indexing past lexsort depth may impact performance.\n",
      "c:\\userdata\\z003rvhr\\python\\yahoo_graber\\grab\\lib\\site-packages\\pandas\\core\\indexing.py:1762: PerformanceWarning: indexing past lexsort depth may impact performance.\n",
      "  return self._getitem_tuple(key)\n",
      "c:\\userdata\\z003rvhr\\python\\yahoo_graber\\grab\\lib\\site-packages\\ipykernel_launcher.py:76: PerformanceWarning: indexing past lexsort depth may impact performance.\n"
     ]
    },
    {
     "name": "stdout",
     "output_type": "stream",
     "text": [
      "2020-10-09 00:00:00\n"
     ]
    },
    {
     "name": "stderr",
     "output_type": "stream",
     "text": [
      "c:\\userdata\\z003rvhr\\python\\yahoo_graber\\grab\\lib\\site-packages\\ipykernel_launcher.py:26: PerformanceWarning: indexing past lexsort depth may impact performance.\n",
      "c:\\userdata\\z003rvhr\\python\\yahoo_graber\\grab\\lib\\site-packages\\ipykernel_launcher.py:29: PerformanceWarning: indexing past lexsort depth may impact performance.\n",
      "c:\\userdata\\z003rvhr\\python\\yahoo_graber\\grab\\lib\\site-packages\\ipykernel_launcher.py:46: PerformanceWarning: indexing past lexsort depth may impact performance.\n",
      "c:\\userdata\\z003rvhr\\python\\yahoo_graber\\grab\\lib\\site-packages\\ipykernel_launcher.py:56: PerformanceWarning: indexing past lexsort depth may impact performance.\n",
      "c:\\userdata\\z003rvhr\\python\\yahoo_graber\\grab\\lib\\site-packages\\pandas\\core\\indexing.py:1762: PerformanceWarning: indexing past lexsort depth may impact performance.\n",
      "  return self._getitem_tuple(key)\n",
      "c:\\userdata\\z003rvhr\\python\\yahoo_graber\\grab\\lib\\site-packages\\ipykernel_launcher.py:76: PerformanceWarning: indexing past lexsort depth may impact performance.\n"
     ]
    },
    {
     "name": "stdout",
     "output_type": "stream",
     "text": [
      "2020-10-16 00:00:00\n"
     ]
    },
    {
     "name": "stderr",
     "output_type": "stream",
     "text": [
      "c:\\userdata\\z003rvhr\\python\\yahoo_graber\\grab\\lib\\site-packages\\ipykernel_launcher.py:26: PerformanceWarning: indexing past lexsort depth may impact performance.\n",
      "c:\\userdata\\z003rvhr\\python\\yahoo_graber\\grab\\lib\\site-packages\\ipykernel_launcher.py:29: PerformanceWarning: indexing past lexsort depth may impact performance.\n",
      "c:\\userdata\\z003rvhr\\python\\yahoo_graber\\grab\\lib\\site-packages\\ipykernel_launcher.py:46: PerformanceWarning: indexing past lexsort depth may impact performance.\n",
      "c:\\userdata\\z003rvhr\\python\\yahoo_graber\\grab\\lib\\site-packages\\ipykernel_launcher.py:56: PerformanceWarning: indexing past lexsort depth may impact performance.\n",
      "c:\\userdata\\z003rvhr\\python\\yahoo_graber\\grab\\lib\\site-packages\\pandas\\core\\indexing.py:1762: PerformanceWarning: indexing past lexsort depth may impact performance.\n",
      "  return self._getitem_tuple(key)\n",
      "c:\\userdata\\z003rvhr\\python\\yahoo_graber\\grab\\lib\\site-packages\\ipykernel_launcher.py:76: PerformanceWarning: indexing past lexsort depth may impact performance.\n"
     ]
    },
    {
     "name": "stdout",
     "output_type": "stream",
     "text": [
      "2020-10-23 00:00:00\n"
     ]
    },
    {
     "name": "stderr",
     "output_type": "stream",
     "text": [
      "c:\\userdata\\z003rvhr\\python\\yahoo_graber\\grab\\lib\\site-packages\\ipykernel_launcher.py:26: PerformanceWarning: indexing past lexsort depth may impact performance.\n",
      "c:\\userdata\\z003rvhr\\python\\yahoo_graber\\grab\\lib\\site-packages\\ipykernel_launcher.py:29: PerformanceWarning: indexing past lexsort depth may impact performance.\n",
      "c:\\userdata\\z003rvhr\\python\\yahoo_graber\\grab\\lib\\site-packages\\ipykernel_launcher.py:46: PerformanceWarning: indexing past lexsort depth may impact performance.\n",
      "c:\\userdata\\z003rvhr\\python\\yahoo_graber\\grab\\lib\\site-packages\\ipykernel_launcher.py:56: PerformanceWarning: indexing past lexsort depth may impact performance.\n",
      "c:\\userdata\\z003rvhr\\python\\yahoo_graber\\grab\\lib\\site-packages\\pandas\\core\\indexing.py:1762: PerformanceWarning: indexing past lexsort depth may impact performance.\n",
      "  return self._getitem_tuple(key)\n",
      "c:\\userdata\\z003rvhr\\python\\yahoo_graber\\grab\\lib\\site-packages\\ipykernel_launcher.py:76: PerformanceWarning: indexing past lexsort depth may impact performance.\n"
     ]
    },
    {
     "name": "stdout",
     "output_type": "stream",
     "text": [
      "2020-10-30 00:00:00\n"
     ]
    },
    {
     "name": "stderr",
     "output_type": "stream",
     "text": [
      "c:\\userdata\\z003rvhr\\python\\yahoo_graber\\grab\\lib\\site-packages\\ipykernel_launcher.py:26: PerformanceWarning: indexing past lexsort depth may impact performance.\n",
      "c:\\userdata\\z003rvhr\\python\\yahoo_graber\\grab\\lib\\site-packages\\ipykernel_launcher.py:29: PerformanceWarning: indexing past lexsort depth may impact performance.\n",
      "c:\\userdata\\z003rvhr\\python\\yahoo_graber\\grab\\lib\\site-packages\\ipykernel_launcher.py:46: PerformanceWarning: indexing past lexsort depth may impact performance.\n",
      "c:\\userdata\\z003rvhr\\python\\yahoo_graber\\grab\\lib\\site-packages\\ipykernel_launcher.py:56: PerformanceWarning: indexing past lexsort depth may impact performance.\n",
      "c:\\userdata\\z003rvhr\\python\\yahoo_graber\\grab\\lib\\site-packages\\pandas\\core\\indexing.py:1762: PerformanceWarning: indexing past lexsort depth may impact performance.\n",
      "  return self._getitem_tuple(key)\n",
      "c:\\userdata\\z003rvhr\\python\\yahoo_graber\\grab\\lib\\site-packages\\ipykernel_launcher.py:76: PerformanceWarning: indexing past lexsort depth may impact performance.\n"
     ]
    },
    {
     "name": "stdout",
     "output_type": "stream",
     "text": [
      "2020-11-06 00:00:00\n"
     ]
    },
    {
     "name": "stderr",
     "output_type": "stream",
     "text": [
      "c:\\userdata\\z003rvhr\\python\\yahoo_graber\\grab\\lib\\site-packages\\ipykernel_launcher.py:26: PerformanceWarning: indexing past lexsort depth may impact performance.\n",
      "c:\\userdata\\z003rvhr\\python\\yahoo_graber\\grab\\lib\\site-packages\\ipykernel_launcher.py:29: PerformanceWarning: indexing past lexsort depth may impact performance.\n",
      "c:\\userdata\\z003rvhr\\python\\yahoo_graber\\grab\\lib\\site-packages\\ipykernel_launcher.py:46: PerformanceWarning: indexing past lexsort depth may impact performance.\n",
      "c:\\userdata\\z003rvhr\\python\\yahoo_graber\\grab\\lib\\site-packages\\ipykernel_launcher.py:56: PerformanceWarning: indexing past lexsort depth may impact performance.\n",
      "c:\\userdata\\z003rvhr\\python\\yahoo_graber\\grab\\lib\\site-packages\\pandas\\core\\indexing.py:1762: PerformanceWarning: indexing past lexsort depth may impact performance.\n",
      "  return self._getitem_tuple(key)\n",
      "c:\\userdata\\z003rvhr\\python\\yahoo_graber\\grab\\lib\\site-packages\\ipykernel_launcher.py:76: PerformanceWarning: indexing past lexsort depth may impact performance.\n"
     ]
    },
    {
     "name": "stdout",
     "output_type": "stream",
     "text": [
      "2020-11-13 00:00:00\n"
     ]
    },
    {
     "name": "stderr",
     "output_type": "stream",
     "text": [
      "c:\\userdata\\z003rvhr\\python\\yahoo_graber\\grab\\lib\\site-packages\\ipykernel_launcher.py:26: PerformanceWarning: indexing past lexsort depth may impact performance.\n",
      "c:\\userdata\\z003rvhr\\python\\yahoo_graber\\grab\\lib\\site-packages\\ipykernel_launcher.py:29: PerformanceWarning: indexing past lexsort depth may impact performance.\n",
      "c:\\userdata\\z003rvhr\\python\\yahoo_graber\\grab\\lib\\site-packages\\ipykernel_launcher.py:46: PerformanceWarning: indexing past lexsort depth may impact performance.\n",
      "c:\\userdata\\z003rvhr\\python\\yahoo_graber\\grab\\lib\\site-packages\\ipykernel_launcher.py:56: PerformanceWarning: indexing past lexsort depth may impact performance.\n",
      "c:\\userdata\\z003rvhr\\python\\yahoo_graber\\grab\\lib\\site-packages\\pandas\\core\\indexing.py:1762: PerformanceWarning: indexing past lexsort depth may impact performance.\n",
      "  return self._getitem_tuple(key)\n",
      "c:\\userdata\\z003rvhr\\python\\yahoo_graber\\grab\\lib\\site-packages\\ipykernel_launcher.py:76: PerformanceWarning: indexing past lexsort depth may impact performance.\n"
     ]
    },
    {
     "name": "stdout",
     "output_type": "stream",
     "text": [
      "2020-11-20 00:00:00\n"
     ]
    },
    {
     "name": "stderr",
     "output_type": "stream",
     "text": [
      "c:\\userdata\\z003rvhr\\python\\yahoo_graber\\grab\\lib\\site-packages\\ipykernel_launcher.py:26: PerformanceWarning: indexing past lexsort depth may impact performance.\n",
      "c:\\userdata\\z003rvhr\\python\\yahoo_graber\\grab\\lib\\site-packages\\ipykernel_launcher.py:29: PerformanceWarning: indexing past lexsort depth may impact performance.\n",
      "c:\\userdata\\z003rvhr\\python\\yahoo_graber\\grab\\lib\\site-packages\\ipykernel_launcher.py:46: PerformanceWarning: indexing past lexsort depth may impact performance.\n",
      "c:\\userdata\\z003rvhr\\python\\yahoo_graber\\grab\\lib\\site-packages\\ipykernel_launcher.py:56: PerformanceWarning: indexing past lexsort depth may impact performance.\n",
      "c:\\userdata\\z003rvhr\\python\\yahoo_graber\\grab\\lib\\site-packages\\pandas\\core\\indexing.py:1762: PerformanceWarning: indexing past lexsort depth may impact performance.\n",
      "  return self._getitem_tuple(key)\n",
      "c:\\userdata\\z003rvhr\\python\\yahoo_graber\\grab\\lib\\site-packages\\ipykernel_launcher.py:76: PerformanceWarning: indexing past lexsort depth may impact performance.\n"
     ]
    },
    {
     "name": "stdout",
     "output_type": "stream",
     "text": [
      "2020-11-27 00:00:00\n",
      "2020-12-18 00:00:00\n"
     ]
    },
    {
     "name": "stderr",
     "output_type": "stream",
     "text": [
      "c:\\userdata\\z003rvhr\\python\\yahoo_graber\\grab\\lib\\site-packages\\ipykernel_launcher.py:26: PerformanceWarning: indexing past lexsort depth may impact performance.\n",
      "c:\\userdata\\z003rvhr\\python\\yahoo_graber\\grab\\lib\\site-packages\\ipykernel_launcher.py:29: PerformanceWarning: indexing past lexsort depth may impact performance.\n",
      "c:\\userdata\\z003rvhr\\python\\yahoo_graber\\grab\\lib\\site-packages\\ipykernel_launcher.py:46: PerformanceWarning: indexing past lexsort depth may impact performance.\n",
      "c:\\userdata\\z003rvhr\\python\\yahoo_graber\\grab\\lib\\site-packages\\ipykernel_launcher.py:56: PerformanceWarning: indexing past lexsort depth may impact performance.\n",
      "c:\\userdata\\z003rvhr\\python\\yahoo_graber\\grab\\lib\\site-packages\\pandas\\core\\indexing.py:1762: PerformanceWarning: indexing past lexsort depth may impact performance.\n",
      "  return self._getitem_tuple(key)\n",
      "c:\\userdata\\z003rvhr\\python\\yahoo_graber\\grab\\lib\\site-packages\\ipykernel_launcher.py:76: PerformanceWarning: indexing past lexsort depth may impact performance.\n"
     ]
    },
    {
     "name": "stdout",
     "output_type": "stream",
     "text": [
      "2021-01-15 00:00:00\n"
     ]
    },
    {
     "name": "stderr",
     "output_type": "stream",
     "text": [
      "c:\\userdata\\z003rvhr\\python\\yahoo_graber\\grab\\lib\\site-packages\\ipykernel_launcher.py:26: PerformanceWarning: indexing past lexsort depth may impact performance.\n",
      "c:\\userdata\\z003rvhr\\python\\yahoo_graber\\grab\\lib\\site-packages\\ipykernel_launcher.py:29: PerformanceWarning: indexing past lexsort depth may impact performance.\n",
      "c:\\userdata\\z003rvhr\\python\\yahoo_graber\\grab\\lib\\site-packages\\ipykernel_launcher.py:46: PerformanceWarning: indexing past lexsort depth may impact performance.\n",
      "c:\\userdata\\z003rvhr\\python\\yahoo_graber\\grab\\lib\\site-packages\\ipykernel_launcher.py:56: PerformanceWarning: indexing past lexsort depth may impact performance.\n",
      "c:\\userdata\\z003rvhr\\python\\yahoo_graber\\grab\\lib\\site-packages\\pandas\\core\\indexing.py:1762: PerformanceWarning: indexing past lexsort depth may impact performance.\n",
      "  return self._getitem_tuple(key)\n",
      "c:\\userdata\\z003rvhr\\python\\yahoo_graber\\grab\\lib\\site-packages\\ipykernel_launcher.py:76: PerformanceWarning: indexing past lexsort depth may impact performance.\n"
     ]
    },
    {
     "name": "stdout",
     "output_type": "stream",
     "text": [
      "2021-06-18 00:00:00\n"
     ]
    },
    {
     "name": "stderr",
     "output_type": "stream",
     "text": [
      "c:\\userdata\\z003rvhr\\python\\yahoo_graber\\grab\\lib\\site-packages\\ipykernel_launcher.py:26: PerformanceWarning: indexing past lexsort depth may impact performance.\n",
      "c:\\userdata\\z003rvhr\\python\\yahoo_graber\\grab\\lib\\site-packages\\ipykernel_launcher.py:29: PerformanceWarning: indexing past lexsort depth may impact performance.\n",
      "c:\\userdata\\z003rvhr\\python\\yahoo_graber\\grab\\lib\\site-packages\\ipykernel_launcher.py:46: PerformanceWarning: indexing past lexsort depth may impact performance.\n",
      "c:\\userdata\\z003rvhr\\python\\yahoo_graber\\grab\\lib\\site-packages\\ipykernel_launcher.py:56: PerformanceWarning: indexing past lexsort depth may impact performance.\n",
      "c:\\userdata\\z003rvhr\\python\\yahoo_graber\\grab\\lib\\site-packages\\pandas\\core\\indexing.py:1762: PerformanceWarning: indexing past lexsort depth may impact performance.\n",
      "  return self._getitem_tuple(key)\n",
      "c:\\userdata\\z003rvhr\\python\\yahoo_graber\\grab\\lib\\site-packages\\ipykernel_launcher.py:76: PerformanceWarning: indexing past lexsort depth may impact performance.\n"
     ]
    },
    {
     "name": "stdout",
     "output_type": "stream",
     "text": [
      "2021-09-17 00:00:00\n"
     ]
    },
    {
     "name": "stderr",
     "output_type": "stream",
     "text": [
      "c:\\userdata\\z003rvhr\\python\\yahoo_graber\\grab\\lib\\site-packages\\ipykernel_launcher.py:26: PerformanceWarning: indexing past lexsort depth may impact performance.\n",
      "c:\\userdata\\z003rvhr\\python\\yahoo_graber\\grab\\lib\\site-packages\\ipykernel_launcher.py:29: PerformanceWarning: indexing past lexsort depth may impact performance.\n",
      "c:\\userdata\\z003rvhr\\python\\yahoo_graber\\grab\\lib\\site-packages\\ipykernel_launcher.py:46: PerformanceWarning: indexing past lexsort depth may impact performance.\n",
      "c:\\userdata\\z003rvhr\\python\\yahoo_graber\\grab\\lib\\site-packages\\ipykernel_launcher.py:56: PerformanceWarning: indexing past lexsort depth may impact performance.\n",
      "c:\\userdata\\z003rvhr\\python\\yahoo_graber\\grab\\lib\\site-packages\\pandas\\core\\indexing.py:1762: PerformanceWarning: indexing past lexsort depth may impact performance.\n",
      "  return self._getitem_tuple(key)\n",
      "c:\\userdata\\z003rvhr\\python\\yahoo_graber\\grab\\lib\\site-packages\\ipykernel_launcher.py:76: PerformanceWarning: indexing past lexsort depth may impact performance.\n"
     ]
    },
    {
     "name": "stdout",
     "output_type": "stream",
     "text": [
      "2022-01-21 00:00:00\n"
     ]
    },
    {
     "name": "stderr",
     "output_type": "stream",
     "text": [
      "c:\\userdata\\z003rvhr\\python\\yahoo_graber\\grab\\lib\\site-packages\\ipykernel_launcher.py:26: PerformanceWarning: indexing past lexsort depth may impact performance.\n",
      "c:\\userdata\\z003rvhr\\python\\yahoo_graber\\grab\\lib\\site-packages\\ipykernel_launcher.py:29: PerformanceWarning: indexing past lexsort depth may impact performance.\n",
      "c:\\userdata\\z003rvhr\\python\\yahoo_graber\\grab\\lib\\site-packages\\ipykernel_launcher.py:46: PerformanceWarning: indexing past lexsort depth may impact performance.\n",
      "c:\\userdata\\z003rvhr\\python\\yahoo_graber\\grab\\lib\\site-packages\\ipykernel_launcher.py:56: PerformanceWarning: indexing past lexsort depth may impact performance.\n",
      "c:\\userdata\\z003rvhr\\python\\yahoo_graber\\grab\\lib\\site-packages\\pandas\\core\\indexing.py:1762: PerformanceWarning: indexing past lexsort depth may impact performance.\n",
      "  return self._getitem_tuple(key)\n",
      "c:\\userdata\\z003rvhr\\python\\yahoo_graber\\grab\\lib\\site-packages\\ipykernel_launcher.py:76: PerformanceWarning: indexing past lexsort depth may impact performance.\n"
     ]
    },
    {
     "name": "stdout",
     "output_type": "stream",
     "text": [
      "2022-06-17 00:00:00\n"
     ]
    },
    {
     "name": "stderr",
     "output_type": "stream",
     "text": [
      "c:\\userdata\\z003rvhr\\python\\yahoo_graber\\grab\\lib\\site-packages\\ipykernel_launcher.py:26: PerformanceWarning: indexing past lexsort depth may impact performance.\n",
      "c:\\userdata\\z003rvhr\\python\\yahoo_graber\\grab\\lib\\site-packages\\ipykernel_launcher.py:29: PerformanceWarning: indexing past lexsort depth may impact performance.\n",
      "c:\\userdata\\z003rvhr\\python\\yahoo_graber\\grab\\lib\\site-packages\\ipykernel_launcher.py:46: PerformanceWarning: indexing past lexsort depth may impact performance.\n",
      "c:\\userdata\\z003rvhr\\python\\yahoo_graber\\grab\\lib\\site-packages\\ipykernel_launcher.py:56: PerformanceWarning: indexing past lexsort depth may impact performance.\n",
      "c:\\userdata\\z003rvhr\\python\\yahoo_graber\\grab\\lib\\site-packages\\pandas\\core\\indexing.py:1762: PerformanceWarning: indexing past lexsort depth may impact performance.\n",
      "  return self._getitem_tuple(key)\n",
      "c:\\userdata\\z003rvhr\\python\\yahoo_graber\\grab\\lib\\site-packages\\ipykernel_launcher.py:76: PerformanceWarning: indexing past lexsort depth may impact performance.\n"
     ]
    },
    {
     "name": "stdout",
     "output_type": "stream",
     "text": [
      "2022-09-16 00:00:00\n"
     ]
    },
    {
     "name": "stderr",
     "output_type": "stream",
     "text": [
      "c:\\userdata\\z003rvhr\\python\\yahoo_graber\\grab\\lib\\site-packages\\ipykernel_launcher.py:26: PerformanceWarning: indexing past lexsort depth may impact performance.\n",
      "c:\\userdata\\z003rvhr\\python\\yahoo_graber\\grab\\lib\\site-packages\\ipykernel_launcher.py:29: PerformanceWarning: indexing past lexsort depth may impact performance.\n",
      "c:\\userdata\\z003rvhr\\python\\yahoo_graber\\grab\\lib\\site-packages\\ipykernel_launcher.py:46: PerformanceWarning: indexing past lexsort depth may impact performance.\n",
      "c:\\userdata\\z003rvhr\\python\\yahoo_graber\\grab\\lib\\site-packages\\ipykernel_launcher.py:56: PerformanceWarning: indexing past lexsort depth may impact performance.\n",
      "c:\\userdata\\z003rvhr\\python\\yahoo_graber\\grab\\lib\\site-packages\\pandas\\core\\indexing.py:1762: PerformanceWarning: indexing past lexsort depth may impact performance.\n",
      "  return self._getitem_tuple(key)\n",
      "c:\\userdata\\z003rvhr\\python\\yahoo_graber\\grab\\lib\\site-packages\\ipykernel_launcher.py:76: PerformanceWarning: indexing past lexsort depth may impact performance.\n"
     ]
    },
    {
     "name": "stdout",
     "output_type": "stream",
     "text": [
      "2023-01-20 00:00:00\n",
      "3761.262153148651\n"
     ]
    }
   ],
   "source": [
    "start = time.time()\n",
    "new_apple5 = []\n",
    "ivol = []\n",
    "\n",
    "for k in range(len(strike_cols)):\n",
    "    new_apple2 = new_apple.reset_index()\n",
    "    new_apple2 = new_apple2.set_index(['strike-date'])\n",
    "    print(strike_cols[k])\n",
    "    new_apple3 = new_apple2.loc[strike_cols[k]]\n",
    "    \n",
    "    for day in range(max(new_apple3['time']).days):\n",
    "    \n",
    "        new_apple4 = new_apple3[new_apple3['time'].dt.days == day]\n",
    "\n",
    "        if len(new_apple4) > 0:\n",
    "            new_apple4 = new_apple4.reset_index()\n",
    "            iv2 = abs(new_apple4['strike'] - new_apple4['c'])\n",
    "            iv = new_apple4.loc[iv2.idxmin()]['iv']\n",
    "            c = new_apple4.loc[iv2.idxmin()]['c']\n",
    "            date = new_apple4.loc[iv2.idxmin()]['date']\n",
    "            strike_date = new_apple4.loc[iv2.idxmin()]['strike-date']\n",
    "            ivol.append([date, iv])\n",
    "\n",
    "            new_apple2 = new_apple2.reset_index()\n",
    "            new_apple2 = new_apple2.set_index(['type','strike-date'])\n",
    "            apple_pivot_call = new_apple2.loc[('Call', strike_cols[k])]\n",
    "            strike_pivot = apple_pivot_call.pivot_table(columns=\"strike\", values=\"date\", aggfunc=np.count_nonzero)\n",
    "            strike_value_cols = strike_pivot.columns\n",
    "            apple_pivot_put = new_apple2.loc[('Put', strike_cols[k])]\n",
    "            strike_pivot = apple_pivot_put.pivot_table(columns=\"strike\", values=\"date\", aggfunc=np.count_nonzero)\n",
    "            strike_value_puts = strike_pivot.columns\n",
    "\n",
    "            cols = strike_value_cols[strike_value_cols > c]\n",
    "\n",
    "            new_apple2 = new_apple2.reset_index()\n",
    "            new_apple2 = new_apple2.set_index(['type', 'strike', 'strike-date'])\n",
    "\n",
    "            for i in range(len(cols)-1):\n",
    "                minput = abs(strike_value_puts - 2*c + cols[i])\n",
    "                put = strike_value_puts[minput==min(minput)][0]\n",
    "                #Calculation for second put (insurance)\n",
    "                puts = strike_value_puts ==put\n",
    "                puts2 = np.arange(0,len(puts), 1)\n",
    "                put2 = strike_value_puts[puts2[puts]-1]\n",
    "\n",
    "                aCLo = new_apple2.loc[('Call', cols[i], strike_cols[k])].drop_duplicates(subset =\"date\")[['last', 'date', 'c']]\n",
    "                aCLo = aCLo.reset_index()\n",
    "                idx = pd.date_range(min(aCLo['date']), max(aCLo['date']), freq = \"D\")\n",
    "                aCLo.index = pd.DatetimeIndex(aCLo.date)\n",
    "                aCLo = aCLo.reindex(idx,fill_value=None)\n",
    "                aCLo = aCLo.interpolate(method ='linear', limit_direction ='forward')\n",
    "                aCLo = aCLo.drop(['type', 'strike-date', 'date'], axis=1)\n",
    "                aCLo = aCLo.reset_index()\n",
    "                aCLo.rename(columns = {'last':'priceCLo', 'strike':'strikeCLo', 'index': 'date'}, inplace = True)\n",
    "\n",
    "                aCHi = new_apple2.loc[('Call', cols[i+1], strike_cols[k])].drop_duplicates(subset =\"date\")[['last', 'date', 'c']]\n",
    "                aCHi = aCHi.reset_index()\n",
    "                idx = pd.date_range(min(aCHi['date']), max(aCHi['date']), freq = \"D\")\n",
    "                aCHi.index = pd.DatetimeIndex(aCHi.date)\n",
    "                aCHi = aCHi.reindex(idx,fill_value=None)\n",
    "                aCHi = aCHi.interpolate(method ='linear', limit_direction ='forward')\n",
    "                aCHi = aCHi.drop(['type', 'strike-date', 'date'], axis=1)\n",
    "                aCHi = aCHi.reset_index()\n",
    "                aCHi.rename(columns = {'last':'priceCHi', 'strike':'strikeCHi', 'index': 'date'}, inplace = True)\n",
    "\n",
    "                aPLo = new_apple2.loc[('Put', put2, strike_cols[k])].drop_duplicates(subset =\"date\")[['last', 'date', 'c']]\n",
    "                aPLo = aPLo.reset_index()\n",
    "                idx = pd.date_range(min(aPLo['date']), max(aPLo['date']), freq = \"D\")\n",
    "                aPLo.index = pd.DatetimeIndex(aPLo.date)\n",
    "                aPLo = aPLo.reindex(idx,fill_value=None)\n",
    "                aPLo = aPLo.interpolate(method ='linear', limit_direction ='forward')\n",
    "                aPLo = aPLo.drop(['type', 'strike-date', 'date'], axis=1)\n",
    "                aPLo = aPLo.reset_index()\n",
    "                aPLo.rename(columns = {'last':'pricePLo', 'strike':'strikePLo', 'index': 'date'}, inplace = True)\n",
    "\n",
    "                aPHi = new_apple2.loc[('Put', put, strike_cols[k])].drop_duplicates(subset =\"date\")[['last', 'date', 'c']]\n",
    "                aPHi = aPHi.reset_index()\n",
    "                idx = pd.date_range(min(aPHi['date']), max(aPHi['date']), freq = \"D\")\n",
    "                aPHi.index = pd.DatetimeIndex(aPHi.date)\n",
    "                aPHi = aPHi.reindex(idx,fill_value=None)\n",
    "                aPHi = aPHi.interpolate(method ='linear', limit_direction ='forward')\n",
    "                aPHi = aPHi.drop(['type', 'strike-date', 'date'], axis=1)\n",
    "                aPHi = aPHi.reset_index()\n",
    "                aPHi.rename(columns = {'last':'pricePHi', 'strike':'strikePHi', 'index': 'date'}, inplace = True)\n",
    "\n",
    "                a = pd.merge(aCLo, aCHi, on=['date', 'c'])\n",
    "                a = pd.merge(a, aPLo, on=['date', 'c'])\n",
    "                a = pd.merge(a, aPHi, on=['date', 'c'])\n",
    "                #a = a.set_index('date')\n",
    "                a['condor'] = a['priceCLo'] - a['priceCHi'] + a['pricePHi'] - a['pricePLo']\n",
    "                a['prob'] = (cols[i] - c) / c\n",
    "                a['strike-date'] = strike_date\n",
    "                a['condor-change'] = a['condor'].pct_change()\n",
    "                a = a[a['date'] > date]\n",
    "                a['start'] = day\n",
    "                if len(a) >= 5:\n",
    "                    new_apple5.append(a)\n",
    "\n",
    "new_apple5 = pd.concat(new_apple5)\n",
    "ivol = pd.DataFrame(data=ivol, columns=[\"date\", \"iv\"])\n",
    "end = time.time()\n",
    "print(end - start)\n",
    "    \n",
    "    "
   ]
  },
  {
   "cell_type": "code",
   "execution_count": 56,
   "metadata": {},
   "outputs": [
    {
     "data": {
      "text/plain": [
       "nan"
      ]
     },
     "execution_count": 56,
     "metadata": {},
     "output_type": "execute_result"
    }
   ],
   "source": [
    "new_apple5[new_apple5['start'] <= 60]['condor-change'].dropna().mean()"
   ]
  },
  {
   "cell_type": "code",
   "execution_count": 29,
   "metadata": {},
   "outputs": [
    {
     "data": {
      "text/plain": [
       "Timestamp('2020-11-27 00:00:00')"
      ]
     },
     "execution_count": 29,
     "metadata": {},
     "output_type": "execute_result"
    }
   ],
   "source": [
    "strike_cols[16]"
   ]
  },
  {
   "cell_type": "code",
   "execution_count": 35,
   "metadata": {},
   "outputs": [
    {
     "data": {
      "text/html": [
       "<div>\n",
       "<style scoped>\n",
       "    .dataframe tbody tr th:only-of-type {\n",
       "        vertical-align: middle;\n",
       "    }\n",
       "\n",
       "    .dataframe tbody tr th {\n",
       "        vertical-align: top;\n",
       "    }\n",
       "\n",
       "    .dataframe thead th {\n",
       "        text-align: right;\n",
       "    }\n",
       "</style>\n",
       "<table border=\"1\" class=\"dataframe\">\n",
       "  <thead>\n",
       "    <tr style=\"text-align: right;\">\n",
       "      <th></th>\n",
       "      <th>index</th>\n",
       "      <th>date</th>\n",
       "      <th>iv</th>\n",
       "      <th>last</th>\n",
       "      <th>strike</th>\n",
       "      <th>type</th>\n",
       "      <th>time</th>\n",
       "      <th>c</th>\n",
       "    </tr>\n",
       "    <tr>\n",
       "      <th>strike-date</th>\n",
       "      <th></th>\n",
       "      <th></th>\n",
       "      <th></th>\n",
       "      <th></th>\n",
       "      <th></th>\n",
       "      <th></th>\n",
       "      <th></th>\n",
       "      <th></th>\n",
       "    </tr>\n",
       "  </thead>\n",
       "  <tbody>\n",
       "    <tr>\n",
       "      <th>2020-12-18</th>\n",
       "      <td>1969</td>\n",
       "      <td>2020-08-03</td>\n",
       "      <td>117.55</td>\n",
       "      <td>291.90</td>\n",
       "      <td>115.0</td>\n",
       "      <td>Call</td>\n",
       "      <td>136 days 03:57:22.648000</td>\n",
       "      <td>435.750000</td>\n",
       "    </tr>\n",
       "    <tr>\n",
       "      <th>2020-12-18</th>\n",
       "      <td>1970</td>\n",
       "      <td>2020-08-03</td>\n",
       "      <td>0.00</td>\n",
       "      <td>197.70</td>\n",
       "      <td>120.0</td>\n",
       "      <td>Call</td>\n",
       "      <td>136 days 03:57:22.648000</td>\n",
       "      <td>435.750000</td>\n",
       "    </tr>\n",
       "    <tr>\n",
       "      <th>2020-12-18</th>\n",
       "      <td>1971</td>\n",
       "      <td>2020-08-03</td>\n",
       "      <td>106.25</td>\n",
       "      <td>251.35</td>\n",
       "      <td>125.0</td>\n",
       "      <td>Call</td>\n",
       "      <td>136 days 03:57:22.648000</td>\n",
       "      <td>435.750000</td>\n",
       "    </tr>\n",
       "    <tr>\n",
       "      <th>2020-12-18</th>\n",
       "      <td>1972</td>\n",
       "      <td>2020-08-03</td>\n",
       "      <td>0.00</td>\n",
       "      <td>167.00</td>\n",
       "      <td>130.0</td>\n",
       "      <td>Call</td>\n",
       "      <td>136 days 03:57:22.648000</td>\n",
       "      <td>435.750000</td>\n",
       "    </tr>\n",
       "    <tr>\n",
       "      <th>2020-12-18</th>\n",
       "      <td>1973</td>\n",
       "      <td>2020-08-03</td>\n",
       "      <td>0.00</td>\n",
       "      <td>114.00</td>\n",
       "      <td>140.0</td>\n",
       "      <td>Call</td>\n",
       "      <td>136 days 03:57:22.648000</td>\n",
       "      <td>435.750000</td>\n",
       "    </tr>\n",
       "    <tr>\n",
       "      <th>...</th>\n",
       "      <td>...</td>\n",
       "      <td>...</td>\n",
       "      <td>...</td>\n",
       "      <td>...</td>\n",
       "      <td>...</td>\n",
       "      <td>...</td>\n",
       "      <td>...</td>\n",
       "      <td>...</td>\n",
       "    </tr>\n",
       "    <tr>\n",
       "      <th>2020-12-18</th>\n",
       "      <td>120614</td>\n",
       "      <td>2020-10-26</td>\n",
       "      <td>0.00</td>\n",
       "      <td>1.00</td>\n",
       "      <td>560.0</td>\n",
       "      <td>Put</td>\n",
       "      <td>52 days 03:51:24.560000</td>\n",
       "      <td>115.050003</td>\n",
       "    </tr>\n",
       "    <tr>\n",
       "      <th>2020-12-18</th>\n",
       "      <td>120615</td>\n",
       "      <td>2020-10-26</td>\n",
       "      <td>0.00</td>\n",
       "      <td>1.84</td>\n",
       "      <td>580.0</td>\n",
       "      <td>Put</td>\n",
       "      <td>52 days 03:51:24.560000</td>\n",
       "      <td>115.050003</td>\n",
       "    </tr>\n",
       "    <tr>\n",
       "      <th>2020-12-18</th>\n",
       "      <td>120616</td>\n",
       "      <td>2020-10-26</td>\n",
       "      <td>0.00</td>\n",
       "      <td>0.47</td>\n",
       "      <td>600.0</td>\n",
       "      <td>Put</td>\n",
       "      <td>52 days 03:51:24.560000</td>\n",
       "      <td>115.050003</td>\n",
       "    </tr>\n",
       "    <tr>\n",
       "      <th>2020-12-18</th>\n",
       "      <td>120617</td>\n",
       "      <td>2020-10-26</td>\n",
       "      <td>0.00</td>\n",
       "      <td>1.88</td>\n",
       "      <td>660.0</td>\n",
       "      <td>Put</td>\n",
       "      <td>52 days 03:51:24.560000</td>\n",
       "      <td>115.050003</td>\n",
       "    </tr>\n",
       "    <tr>\n",
       "      <th>2020-12-18</th>\n",
       "      <td>120618</td>\n",
       "      <td>2020-10-26</td>\n",
       "      <td>0.00</td>\n",
       "      <td>1.96</td>\n",
       "      <td>700.0</td>\n",
       "      <td>Put</td>\n",
       "      <td>52 days 03:51:24.560000</td>\n",
       "      <td>115.050003</td>\n",
       "    </tr>\n",
       "  </tbody>\n",
       "</table>\n",
       "<p>12359 rows × 8 columns</p>\n",
       "</div>"
      ],
      "text/plain": [
       "              index       date      iv    last  strike  type  \\\n",
       "strike-date                                                    \n",
       "2020-12-18     1969 2020-08-03  117.55  291.90   115.0  Call   \n",
       "2020-12-18     1970 2020-08-03    0.00  197.70   120.0  Call   \n",
       "2020-12-18     1971 2020-08-03  106.25  251.35   125.0  Call   \n",
       "2020-12-18     1972 2020-08-03    0.00  167.00   130.0  Call   \n",
       "2020-12-18     1973 2020-08-03    0.00  114.00   140.0  Call   \n",
       "...             ...        ...     ...     ...     ...   ...   \n",
       "2020-12-18   120614 2020-10-26    0.00    1.00   560.0   Put   \n",
       "2020-12-18   120615 2020-10-26    0.00    1.84   580.0   Put   \n",
       "2020-12-18   120616 2020-10-26    0.00    0.47   600.0   Put   \n",
       "2020-12-18   120617 2020-10-26    0.00    1.88   660.0   Put   \n",
       "2020-12-18   120618 2020-10-26    0.00    1.96   700.0   Put   \n",
       "\n",
       "                                time           c  \n",
       "strike-date                                       \n",
       "2020-12-18  136 days 03:57:22.648000  435.750000  \n",
       "2020-12-18  136 days 03:57:22.648000  435.750000  \n",
       "2020-12-18  136 days 03:57:22.648000  435.750000  \n",
       "2020-12-18  136 days 03:57:22.648000  435.750000  \n",
       "2020-12-18  136 days 03:57:22.648000  435.750000  \n",
       "...                              ...         ...  \n",
       "2020-12-18   52 days 03:51:24.560000  115.050003  \n",
       "2020-12-18   52 days 03:51:24.560000  115.050003  \n",
       "2020-12-18   52 days 03:51:24.560000  115.050003  \n",
       "2020-12-18   52 days 03:51:24.560000  115.050003  \n",
       "2020-12-18   52 days 03:51:24.560000  115.050003  \n",
       "\n",
       "[12359 rows x 8 columns]"
      ]
     },
     "execution_count": 35,
     "metadata": {},
     "output_type": "execute_result"
    }
   ],
   "source": [
    "new_apple2.loc[strike_cols[19]]"
   ]
  },
  {
   "cell_type": "code",
   "execution_count": null,
   "metadata": {},
   "outputs": [],
   "source": []
  }
 ],
 "metadata": {
  "kernelspec": {
   "display_name": "Python 3",
   "language": "python",
   "name": "python3"
  },
  "language_info": {
   "codemirror_mode": {
    "name": "ipython",
    "version": 3
   },
   "file_extension": ".py",
   "mimetype": "text/x-python",
   "name": "python",
   "nbconvert_exporter": "python",
   "pygments_lexer": "ipython3",
   "version": "3.7.1"
  }
 },
 "nbformat": 4,
 "nbformat_minor": 4
}
