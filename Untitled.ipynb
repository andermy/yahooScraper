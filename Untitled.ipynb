{
 "cells": [
  {
   "cell_type": "code",
   "execution_count": null,
   "id": "161368ec",
   "metadata": {},
   "outputs": [],
   "source": [
    "import scraper2 as s\n",
    "import pandas as pd\n",
    "import numpy as np\n",
    "import datetime\n",
    "from datetime import date, timedelta\n",
    "import matplotlib.pyplot as plt\n",
    "import time\n",
    "from scipy.stats import norm\n",
    "import seaborn as sns\n",
    "from yahoo_fin import options\n",
    "from yahoo_fin.stock_info import *\n",
    "from yahoo_fin.stock_info import get_data, get_splits\n",
    "import mibian\n",
    "m = s.stockMongo()"
   ]
  },
  {
   "cell_type": "code",
   "execution_count": null,
   "id": "c818e4af",
   "metadata": {},
   "outputs": [],
   "source": []
  }
 ],
 "metadata": {
  "kernelspec": {
   "display_name": "scrape",
   "language": "python",
   "name": "scrape"
  },
  "language_info": {
   "codemirror_mode": {
    "name": "ipython",
    "version": 3
   },
   "file_extension": ".py",
   "mimetype": "text/x-python",
   "name": "python",
   "nbconvert_exporter": "python",
   "pygments_lexer": "ipython3",
   "version": "3.9.6"
  }
 },
 "nbformat": 4,
 "nbformat_minor": 5
}
