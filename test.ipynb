{
 "cells": [
  {
   "cell_type": "code",
   "execution_count": 1,
   "metadata": {},
   "outputs": [
    {
     "name": "stderr",
     "output_type": "stream",
     "text": [
      "C:\\Users\\ander\\Documents\\yahooScraper\\scrape\\lib\\site-packages\\cryptography\\x509\\base.py:531: CryptographyDeprecationWarning: Parsed a negative serial number, which is disallowed by RFC 5280.\n",
      "  return rust_x509.load_pem_x509_certificate(data)\n"
     ]
    }
   ],
   "source": [
    "import scraper_eod as s\n",
    "import pandas as pd\n",
    "from pandas.io.json import json_normalize\n",
    "import numpy as np\n",
    "import datetime\n",
    "from datetime import date, timedelta\n",
    "import matplotlib.pyplot as plt\n",
    "import time\n",
    "from scipy.stats import norm\n",
    "import seaborn as sns\n",
    "from yahoo_fin import options\n",
    "from yahoo_fin.stock_info import *\n",
    "from yahoo_fin.stock_info import get_data, get_splits\n",
    "import mibian\n",
    "import time\n",
    "m = s.StockMongo()\n",
    "import indicator_daily as i"
   ]
  },
  {
   "cell_type": "code",
   "execution_count": 4,
   "metadata": {},
   "outputs": [
    {
     "name": "stderr",
     "output_type": "stream",
     "text": [
      "C:\\Users\\ander\\Documents\\yahooScraper\\scrape\\lib\\site-packages\\cryptography\\x509\\base.py:531: CryptographyDeprecationWarning: Parsed a negative serial number, which is disallowed by RFC 5280.\n",
      "  return rust_x509.load_pem_x509_certificate(data)\n"
     ]
    },
    {
     "data": {
      "text/html": [
       "<div>\n",
       "<style scoped>\n",
       "    .dataframe tbody tr th:only-of-type {\n",
       "        vertical-align: middle;\n",
       "    }\n",
       "\n",
       "    .dataframe tbody tr th {\n",
       "        vertical-align: top;\n",
       "    }\n",
       "\n",
       "    .dataframe thead th {\n",
       "        text-align: right;\n",
       "    }\n",
       "</style>\n",
       "<table border=\"1\" class=\"dataframe\">\n",
       "  <thead>\n",
       "    <tr style=\"text-align: right;\">\n",
       "      <th></th>\n",
       "      <th>contractName</th>\n",
       "      <th>contractSize</th>\n",
       "      <th>contractPeriod</th>\n",
       "      <th>currency</th>\n",
       "      <th>type</th>\n",
       "      <th>inTheMoney</th>\n",
       "      <th>lastTradeDateTime</th>\n",
       "      <th>expirationDate</th>\n",
       "      <th>strike</th>\n",
       "      <th>lastPrice</th>\n",
       "      <th>...</th>\n",
       "      <th>theoretical</th>\n",
       "      <th>intrinsicValue</th>\n",
       "      <th>timeValue</th>\n",
       "      <th>updatedAt</th>\n",
       "      <th>daysBeforeExpiration</th>\n",
       "      <th>iv</th>\n",
       "      <th>close</th>\n",
       "      <th>volatility</th>\n",
       "      <th>vix</th>\n",
       "      <th>date</th>\n",
       "    </tr>\n",
       "  </thead>\n",
       "  <tbody>\n",
       "  </tbody>\n",
       "</table>\n",
       "<p>0 rows × 32 columns</p>\n",
       "</div>"
      ],
      "text/plain": [
       "Empty DataFrame\n",
       "Columns: [contractName, contractSize, contractPeriod, currency, type, inTheMoney, lastTradeDateTime, expirationDate, strike, lastPrice, bid, ask, change, changePercent, volume, openInterest, impliedVolatility, delta, gamma, theta, vega, rho, theoretical, intrinsicValue, timeValue, updatedAt, daysBeforeExpiration, iv, close, volatility, vix, date]\n",
       "Index: []\n",
       "\n",
       "[0 rows x 32 columns]"
      ]
     },
     "execution_count": 4,
     "metadata": {},
     "output_type": "execute_result"
    }
   ],
   "source": [
    "o = i.Options('TSLA')\n",
    "o.options"
   ]
  },
  {
   "cell_type": "code",
   "execution_count": 3,
   "metadata": {},
   "outputs": [
    {
     "data": {
      "text/plain": [
       "<AxesSubplot:xlabel='rel_risk', ylabel='r'>"
      ]
     },
     "execution_count": 3,
     "metadata": {},
     "output_type": "execute_result"
    },
    {
     "data": {
      "image/png": "[encoded data removed]",
      "text/plain": [
       "<Figure size 432x288 with 1 Axes>"
      ]
     },
     "metadata": {
      "needs_background": "light"
     },
     "output_type": "display_data"
    }
   ],
   "source": [
    "s = o.returns\n",
    "#s[s.is_won].plot.scatter(x='probability', y='return')\n",
    "#s.plot.scatter(x='rel_risk', y='return')\n",
    "s[(s['rel_risk']>0)&(s['rel_risk']<3)&(s['r']>0)&(s['r']<2)].plot.scatter(x='rel_risk', y='r')\n",
    "#o.strikeDates[0].volRange"
   ]
  },
  {
   "cell_type": "code",
   "execution_count": 4,
   "metadata": {},
   "outputs": [
    {
     "data": {
      "text/html": [
       "<div>\n",
       "<style scoped>\n",
       "    .dataframe tbody tr th:only-of-type {\n",
       "        vertical-align: middle;\n",
       "    }\n",
       "\n",
       "    .dataframe tbody tr th {\n",
       "        vertical-align: top;\n",
       "    }\n",
       "\n",
       "    .dataframe thead th {\n",
       "        text-align: right;\n",
       "    }\n",
       "</style>\n",
       "<table border=\"1\" class=\"dataframe\">\n",
       "  <thead>\n",
       "    <tr style=\"text-align: right;\">\n",
       "      <th></th>\n",
       "      <th>strike_date</th>\n",
       "      <th>rel_risk</th>\n",
       "      <th>high_put</th>\n",
       "      <th>low_call</th>\n",
       "      <th>highStrike</th>\n",
       "      <th>lowStrike</th>\n",
       "      <th>p</th>\n",
       "      <th>r</th>\n",
       "      <th>ticker</th>\n",
       "    </tr>\n",
       "  </thead>\n",
       "  <tbody>\n",
       "    <tr>\n",
       "      <th>0</th>\n",
       "      <td>2022-08-19</td>\n",
       "      <td>0.010000</td>\n",
       "      <td>0.23</td>\n",
       "      <td>0.48</td>\n",
       "      <td>9.0</td>\n",
       "      <td>20.0</td>\n",
       "      <td>0.408</td>\n",
       "      <td>1.769941</td>\n",
       "      <td>BE</td>\n",
       "    </tr>\n",
       "    <tr>\n",
       "      <th>16</th>\n",
       "      <td>2022-11-18</td>\n",
       "      <td>0.275000</td>\n",
       "      <td>0.85</td>\n",
       "      <td>2.75</td>\n",
       "      <td>12.0</td>\n",
       "      <td>22.0</td>\n",
       "      <td>0.408</td>\n",
       "      <td>1.160603</td>\n",
       "      <td>BE</td>\n",
       "    </tr>\n",
       "    <tr>\n",
       "      <th>17</th>\n",
       "      <td>2022-11-18</td>\n",
       "      <td>0.275000</td>\n",
       "      <td>0.45</td>\n",
       "      <td>2.75</td>\n",
       "      <td>10.0</td>\n",
       "      <td>22.0</td>\n",
       "      <td>0.544</td>\n",
       "      <td>1.043766</td>\n",
       "      <td>BE</td>\n",
       "    </tr>\n",
       "    <tr>\n",
       "      <th>18</th>\n",
       "      <td>2022-11-18</td>\n",
       "      <td>0.066667</td>\n",
       "      <td>0.30</td>\n",
       "      <td>0.55</td>\n",
       "      <td>9.0</td>\n",
       "      <td>30.0</td>\n",
       "      <td>0.680</td>\n",
       "      <td>1.562024</td>\n",
       "      <td>BE</td>\n",
       "    </tr>\n",
       "  </tbody>\n",
       "</table>\n",
       "</div>"
      ],
      "text/plain": [
       "   strike_date  rel_risk  high_put  low_call  highStrike  lowStrike      p  \\\n",
       "0   2022-08-19  0.010000      0.23      0.48         9.0       20.0  0.408   \n",
       "16  2022-11-18  0.275000      0.85      2.75        12.0       22.0  0.408   \n",
       "17  2022-11-18  0.275000      0.45      2.75        10.0       22.0  0.544   \n",
       "18  2022-11-18  0.066667      0.30      0.55         9.0       30.0  0.680   \n",
       "\n",
       "           r ticker  \n",
       "0   1.769941     BE  \n",
       "16  1.160603     BE  \n",
       "17  1.043766     BE  \n",
       "18  1.562024     BE  "
      ]
     },
     "execution_count": 4,
     "metadata": {},
     "output_type": "execute_result"
    }
   ],
   "source": [
    "s[(s['rel_risk']>0)&(s['rel_risk']<3)&(s['r']>0)&(s['r']<2)]"
   ]
  },
  {
   "cell_type": "code",
   "execution_count": 2,
   "metadata": {},
   "outputs": [],
   "source": [
    "#m = s.StockMongo()\n",
    "analisys = m.stock_data.options_analisys.find()\n",
    "tickers = []\n",
    "for a in analisys:\n",
    "    tickers.append(a['ticker'])"
   ]
  },
  {
   "cell_type": "code",
   "execution_count": 6,
   "metadata": {},
   "outputs": [
    {
     "data": {
      "text/plain": [
       "'DVN'"
      ]
     },
     "execution_count": 6,
     "metadata": {},
     "output_type": "execute_result"
    }
   ],
   "source": [
    "tickers[744]"
   ]
  },
  {
   "cell_type": "code",
   "execution_count": null,
   "metadata": {},
   "outputs": [
    {
     "name": "stdout",
     "output_type": "stream",
     "text": [
      "running data aggregation\n"
     ]
    },
    {
     "name": "stderr",
     "output_type": "stream",
     "text": [
      "C:\\Users\\ander\\Documents\\yahooScraper\\scrape\\lib\\site-packages\\cryptography\\x509\\base.py:531: CryptographyDeprecationWarning: Parsed a negative serial number, which is disallowed by RFC 5280.\n",
      "  return rust_x509.load_pem_x509_certificate(data)\n",
      "C:\\Users\\ander\\Documents\\yahooScraper\\indicator_daily.py:289: RuntimeWarning: invalid value encountered in log\n",
      "  r = f['y0'] + f['probability']*0.68 * self.vol_factor/0.5 + f['iv']*self.iv + f['vix']*self.vix + f['days_to_strike']*self.days_to_strike + f['sqr_rel_risk']*np.log(self.risk_rel)\n",
      "C:\\Users\\ander\\Documents\\yahooScraper\\indicator_daily.py:289: RuntimeWarning: invalid value encountered in log\n",
      "  r = f['y0'] + f['probability']*0.68 * self.vol_factor/0.5 + f['iv']*self.iv + f['vix']*self.vix + f['days_to_strike']*self.days_to_strike + f['sqr_rel_risk']*np.log(self.risk_rel)\n",
      "C:\\Users\\ander\\Documents\\yahooScraper\\scrape\\lib\\site-packages\\cryptography\\x509\\base.py:531: CryptographyDeprecationWarning: Parsed a negative serial number, which is disallowed by RFC 5280.\n",
      "  return rust_x509.load_pem_x509_certificate(data)\n",
      "C:\\Users\\ander\\Documents\\yahooScraper\\scrape\\lib\\site-packages\\cryptography\\x509\\base.py:531: CryptographyDeprecationWarning: Parsed a negative serial number, which is disallowed by RFC 5280.\n",
      "  return rust_x509.load_pem_x509_certificate(data)\n",
      "C:\\Users\\ander\\Documents\\yahooScraper\\scrape\\lib\\site-packages\\cryptography\\x509\\base.py:531: CryptographyDeprecationWarning: Parsed a negative serial number, which is disallowed by RFC 5280.\n",
      "  return rust_x509.load_pem_x509_certificate(data)\n",
      "C:\\Users\\ander\\Documents\\yahooScraper\\scrape\\lib\\site-packages\\cryptography\\x509\\base.py:531: CryptographyDeprecationWarning: Parsed a negative serial number, which is disallowed by RFC 5280.\n",
      "  return rust_x509.load_pem_x509_certificate(data)\n"
     ]
    },
    {
     "name": "stdout",
     "output_type": "stream",
     "text": [
      "MVIS\n"
     ]
    },
    {
     "name": "stderr",
     "output_type": "stream",
     "text": [
      "C:\\Users\\ander\\Documents\\yahooScraper\\scrape\\lib\\site-packages\\cryptography\\x509\\base.py:531: CryptographyDeprecationWarning: Parsed a negative serial number, which is disallowed by RFC 5280.\n",
      "  return rust_x509.load_pem_x509_certificate(data)\n",
      "C:\\Users\\ander\\Documents\\yahooScraper\\scrape\\lib\\site-packages\\cryptography\\x509\\base.py:531: CryptographyDeprecationWarning: Parsed a negative serial number, which is disallowed by RFC 5280.\n",
      "  return rust_x509.load_pem_x509_certificate(data)\n"
     ]
    },
    {
     "name": "stdout",
     "output_type": "stream",
     "text": [
      "MGI\n"
     ]
    },
    {
     "name": "stderr",
     "output_type": "stream",
     "text": [
      "C:\\Users\\ander\\Documents\\yahooScraper\\scrape\\lib\\site-packages\\cryptography\\x509\\base.py:531: CryptographyDeprecationWarning: Parsed a negative serial number, which is disallowed by RFC 5280.\n",
      "  return rust_x509.load_pem_x509_certificate(data)\n",
      "C:\\Users\\ander\\Documents\\yahooScraper\\indicator_daily.py:289: RuntimeWarning: invalid value encountered in log\n",
      "  r = f['y0'] + f['probability']*0.68 * self.vol_factor/0.5 + f['iv']*self.iv + f['vix']*self.vix + f['days_to_strike']*self.days_to_strike + f['sqr_rel_risk']*np.log(self.risk_rel)\n",
      "C:\\Users\\ander\\Documents\\yahooScraper\\indicator_daily.py:289: RuntimeWarning: invalid value encountered in log\n",
      "  r = f['y0'] + f['probability']*0.68 * self.vol_factor/0.5 + f['iv']*self.iv + f['vix']*self.vix + f['days_to_strike']*self.days_to_strike + f['sqr_rel_risk']*np.log(self.risk_rel)\n",
      "C:\\Users\\ander\\Documents\\yahooScraper\\scrape\\lib\\site-packages\\cryptography\\x509\\base.py:531: CryptographyDeprecationWarning: Parsed a negative serial number, which is disallowed by RFC 5280.\n",
      "  return rust_x509.load_pem_x509_certificate(data)\n",
      "C:\\Users\\ander\\Documents\\yahooScraper\\scrape\\lib\\site-packages\\cryptography\\x509\\base.py:531: CryptographyDeprecationWarning: Parsed a negative serial number, which is disallowed by RFC 5280.\n",
      "  return rust_x509.load_pem_x509_certificate(data)\n",
      "C:\\Users\\ander\\Documents\\yahooScraper\\scrape\\lib\\site-packages\\cryptography\\x509\\base.py:531: CryptographyDeprecationWarning: Parsed a negative serial number, which is disallowed by RFC 5280.\n",
      "  return rust_x509.load_pem_x509_certificate(data)\n",
      "C:\\Users\\ander\\Documents\\yahooScraper\\scrape\\lib\\site-packages\\cryptography\\x509\\base.py:531: CryptographyDeprecationWarning: Parsed a negative serial number, which is disallowed by RFC 5280.\n",
      "  return rust_x509.load_pem_x509_certificate(data)\n",
      "C:\\Users\\ander\\Documents\\yahooScraper\\scrape\\lib\\site-packages\\cryptography\\x509\\base.py:531: CryptographyDeprecationWarning: Parsed a negative serial number, which is disallowed by RFC 5280.\n",
      "  return rust_x509.load_pem_x509_certificate(data)\n"
     ]
    },
    {
     "name": "stdout",
     "output_type": "stream",
     "text": [
      "BAND\n"
     ]
    },
    {
     "name": "stderr",
     "output_type": "stream",
     "text": [
      "C:\\Users\\ander\\Documents\\yahooScraper\\scrape\\lib\\site-packages\\cryptography\\x509\\base.py:531: CryptographyDeprecationWarning: Parsed a negative serial number, which is disallowed by RFC 5280.\n",
      "  return rust_x509.load_pem_x509_certificate(data)\n",
      "C:\\Users\\ander\\Documents\\yahooScraper\\scrape\\lib\\site-packages\\cryptography\\x509\\base.py:531: CryptographyDeprecationWarning: Parsed a negative serial number, which is disallowed by RFC 5280.\n",
      "  return rust_x509.load_pem_x509_certificate(data)\n"
     ]
    },
    {
     "name": "stdout",
     "output_type": "stream",
     "text": [
      "MVIS\n"
     ]
    },
    {
     "name": "stderr",
     "output_type": "stream",
     "text": [
      "C:\\Users\\ander\\Documents\\yahooScraper\\scrape\\lib\\site-packages\\cryptography\\x509\\base.py:531: CryptographyDeprecationWarning: Parsed a negative serial number, which is disallowed by RFC 5280.\n",
      "  return rust_x509.load_pem_x509_certificate(data)\n",
      "C:\\Users\\ander\\Documents\\yahooScraper\\scrape\\lib\\site-packages\\cryptography\\x509\\base.py:531: CryptographyDeprecationWarning: Parsed a negative serial number, which is disallowed by RFC 5280.\n",
      "  return rust_x509.load_pem_x509_certificate(data)\n"
     ]
    },
    {
     "name": "stdout",
     "output_type": "stream",
     "text": [
      "MGI\n"
     ]
    },
    {
     "name": "stderr",
     "output_type": "stream",
     "text": [
      "C:\\Users\\ander\\Documents\\yahooScraper\\scrape\\lib\\site-packages\\cryptography\\x509\\base.py:531: CryptographyDeprecationWarning: Parsed a negative serial number, which is disallowed by RFC 5280.\n",
      "  return rust_x509.load_pem_x509_certificate(data)\n",
      "C:\\Users\\ander\\Documents\\yahooScraper\\scrape\\lib\\site-packages\\cryptography\\x509\\base.py:531: CryptographyDeprecationWarning: Parsed a negative serial number, which is disallowed by RFC 5280.\n",
      "  return rust_x509.load_pem_x509_certificate(data)\n",
      "C:\\Users\\ander\\Documents\\yahooScraper\\scrape\\lib\\site-packages\\cryptography\\x509\\base.py:531: CryptographyDeprecationWarning: Parsed a negative serial number, which is disallowed by RFC 5280.\n",
      "  return rust_x509.load_pem_x509_certificate(data)\n"
     ]
    },
    {
     "name": "stdout",
     "output_type": "stream",
     "text": [
      "BAND\n"
     ]
    },
    {
     "name": "stderr",
     "output_type": "stream",
     "text": [
      "C:\\Users\\ander\\Documents\\yahooScraper\\scrape\\lib\\site-packages\\cryptography\\x509\\base.py:531: CryptographyDeprecationWarning: Parsed a negative serial number, which is disallowed by RFC 5280.\n",
      "  return rust_x509.load_pem_x509_certificate(data)\n",
      "C:\\Users\\ander\\Documents\\yahooScraper\\scrape\\lib\\site-packages\\cryptography\\x509\\base.py:531: CryptographyDeprecationWarning: Parsed a negative serial number, which is disallowed by RFC 5280.\n",
      "  return rust_x509.load_pem_x509_certificate(data)\n"
     ]
    },
    {
     "name": "stdout",
     "output_type": "stream",
     "text": [
      "BE\n"
     ]
    },
    {
     "name": "stderr",
     "output_type": "stream",
     "text": [
      "C:\\Users\\ander\\Documents\\yahooScraper\\scrape\\lib\\site-packages\\cryptography\\x509\\base.py:531: CryptographyDeprecationWarning: Parsed a negative serial number, which is disallowed by RFC 5280.\n",
      "  return rust_x509.load_pem_x509_certificate(data)\n",
      "C:\\Users\\ander\\Documents\\yahooScraper\\scrape\\lib\\site-packages\\cryptography\\x509\\base.py:531: CryptographyDeprecationWarning: Parsed a negative serial number, which is disallowed by RFC 5280.\n",
      "  return rust_x509.load_pem_x509_certificate(data)\n",
      "C:\\Users\\ander\\Documents\\yahooScraper\\scrape\\lib\\site-packages\\cryptography\\x509\\base.py:531: CryptographyDeprecationWarning: Parsed a negative serial number, which is disallowed by RFC 5280.\n",
      "  return rust_x509.load_pem_x509_certificate(data)\n",
      "C:\\Users\\ander\\Documents\\yahooScraper\\scrape\\lib\\site-packages\\cryptography\\x509\\base.py:531: CryptographyDeprecationWarning: Parsed a negative serial number, which is disallowed by RFC 5280.\n",
      "  return rust_x509.load_pem_x509_certificate(data)\n",
      "C:\\Users\\ander\\Documents\\yahooScraper\\scrape\\lib\\site-packages\\cryptography\\x509\\base.py:531: CryptographyDeprecationWarning: Parsed a negative serial number, which is disallowed by RFC 5280.\n",
      "  return rust_x509.load_pem_x509_certificate(data)\n",
      "C:\\Users\\ander\\Documents\\yahooScraper\\scrape\\lib\\site-packages\\cryptography\\x509\\base.py:531: CryptographyDeprecationWarning: Parsed a negative serial number, which is disallowed by RFC 5280.\n",
      "  return rust_x509.load_pem_x509_certificate(data)\n",
      "C:\\Users\\ander\\Documents\\yahooScraper\\scrape\\lib\\site-packages\\cryptography\\x509\\base.py:531: CryptographyDeprecationWarning: Parsed a negative serial number, which is disallowed by RFC 5280.\n",
      "  return rust_x509.load_pem_x509_certificate(data)\n",
      "C:\\Users\\ander\\Documents\\yahooScraper\\scrape\\lib\\site-packages\\cryptography\\x509\\base.py:531: CryptographyDeprecationWarning: Parsed a negative serial number, which is disallowed by RFC 5280.\n",
      "  return rust_x509.load_pem_x509_certificate(data)\n",
      "C:\\Users\\ander\\Documents\\yahooScraper\\scrape\\lib\\site-packages\\cryptography\\x509\\base.py:531: CryptographyDeprecationWarning: Parsed a negative serial number, which is disallowed by RFC 5280.\n",
      "  return rust_x509.load_pem_x509_certificate(data)\n",
      "C:\\Users\\ander\\Documents\\yahooScraper\\scrape\\lib\\site-packages\\cryptography\\x509\\base.py:531: CryptographyDeprecationWarning: Parsed a negative serial number, which is disallowed by RFC 5280.\n",
      "  return rust_x509.load_pem_x509_certificate(data)\n",
      "C:\\Users\\ander\\Documents\\yahooScraper\\scrape\\lib\\site-packages\\cryptography\\x509\\base.py:531: CryptographyDeprecationWarning: Parsed a negative serial number, which is disallowed by RFC 5280.\n",
      "  return rust_x509.load_pem_x509_certificate(data)\n",
      "C:\\Users\\ander\\Documents\\yahooScraper\\scrape\\lib\\site-packages\\cryptography\\x509\\base.py:531: CryptographyDeprecationWarning: Parsed a negative serial number, which is disallowed by RFC 5280.\n",
      "  return rust_x509.load_pem_x509_certificate(data)\n",
      "C:\\Users\\ander\\Documents\\yahooScraper\\scrape\\lib\\site-packages\\cryptography\\x509\\base.py:531: CryptographyDeprecationWarning: Parsed a negative serial number, which is disallowed by RFC 5280.\n",
      "  return rust_x509.load_pem_x509_certificate(data)\n",
      "C:\\Users\\ander\\Documents\\yahooScraper\\scrape\\lib\\site-packages\\cryptography\\x509\\base.py:531: CryptographyDeprecationWarning: Parsed a negative serial number, which is disallowed by RFC 5280.\n",
      "  return rust_x509.load_pem_x509_certificate(data)\n",
      "C:\\Users\\ander\\Documents\\yahooScraper\\scrape\\lib\\site-packages\\cryptography\\x509\\base.py:531: CryptographyDeprecationWarning: Parsed a negative serial number, which is disallowed by RFC 5280.\n",
      "  return rust_x509.load_pem_x509_certificate(data)\n"
     ]
    },
    {
     "name": "stdout",
     "output_type": "stream",
     "text": [
      "CC\n"
     ]
    },
    {
     "name": "stderr",
     "output_type": "stream",
     "text": [
      "C:\\Users\\ander\\Documents\\yahooScraper\\scrape\\lib\\site-packages\\cryptography\\x509\\base.py:531: CryptographyDeprecationWarning: Parsed a negative serial number, which is disallowed by RFC 5280.\n",
      "  return rust_x509.load_pem_x509_certificate(data)\n",
      "C:\\Users\\ander\\Documents\\yahooScraper\\scrape\\lib\\site-packages\\cryptography\\x509\\base.py:531: CryptographyDeprecationWarning: Parsed a negative serial number, which is disallowed by RFC 5280.\n",
      "  return rust_x509.load_pem_x509_certificate(data)\n",
      "C:\\Users\\ander\\Documents\\yahooScraper\\indicator_daily.py:289: RuntimeWarning: invalid value encountered in log\n",
      "  r = f['y0'] + f['probability']*0.68 * self.vol_factor/0.5 + f['iv']*self.iv + f['vix']*self.vix + f['days_to_strike']*self.days_to_strike + f['sqr_rel_risk']*np.log(self.risk_rel)\n",
      "C:\\Users\\ander\\Documents\\yahooScraper\\scrape\\lib\\site-packages\\cryptography\\x509\\base.py:531: CryptographyDeprecationWarning: Parsed a negative serial number, which is disallowed by RFC 5280.\n",
      "  return rust_x509.load_pem_x509_certificate(data)\n",
      "C:\\Users\\ander\\Documents\\yahooScraper\\scrape\\lib\\site-packages\\cryptography\\x509\\base.py:531: CryptographyDeprecationWarning: Parsed a negative serial number, which is disallowed by RFC 5280.\n",
      "  return rust_x509.load_pem_x509_certificate(data)\n"
     ]
    },
    {
     "name": "stdout",
     "output_type": "stream",
     "text": [
      "CHGG\n"
     ]
    },
    {
     "name": "stderr",
     "output_type": "stream",
     "text": [
      "C:\\Users\\ander\\Documents\\yahooScraper\\scrape\\lib\\site-packages\\cryptography\\x509\\base.py:531: CryptographyDeprecationWarning: Parsed a negative serial number, which is disallowed by RFC 5280.\n",
      "  return rust_x509.load_pem_x509_certificate(data)\n",
      "C:\\Users\\ander\\Documents\\yahooScraper\\scrape\\lib\\site-packages\\cryptography\\x509\\base.py:531: CryptographyDeprecationWarning: Parsed a negative serial number, which is disallowed by RFC 5280.\n",
      "  return rust_x509.load_pem_x509_certificate(data)\n",
      "C:\\Users\\ander\\Documents\\yahooScraper\\scrape\\lib\\site-packages\\cryptography\\x509\\base.py:531: CryptographyDeprecationWarning: Parsed a negative serial number, which is disallowed by RFC 5280.\n",
      "  return rust_x509.load_pem_x509_certificate(data)\n",
      "C:\\Users\\ander\\Documents\\yahooScraper\\scrape\\lib\\site-packages\\cryptography\\x509\\base.py:531: CryptographyDeprecationWarning: Parsed a negative serial number, which is disallowed by RFC 5280.\n",
      "  return rust_x509.load_pem_x509_certificate(data)\n",
      "C:\\Users\\ander\\Documents\\yahooScraper\\scrape\\lib\\site-packages\\cryptography\\x509\\base.py:531: CryptographyDeprecationWarning: Parsed a negative serial number, which is disallowed by RFC 5280.\n",
      "  return rust_x509.load_pem_x509_certificate(data)\n",
      "C:\\Users\\ander\\Documents\\yahooScraper\\scrape\\lib\\site-packages\\cryptography\\x509\\base.py:531: CryptographyDeprecationWarning: Parsed a negative serial number, which is disallowed by RFC 5280.\n",
      "  return rust_x509.load_pem_x509_certificate(data)\n",
      "C:\\Users\\ander\\Documents\\yahooScraper\\scrape\\lib\\site-packages\\cryptography\\x509\\base.py:531: CryptographyDeprecationWarning: Parsed a negative serial number, which is disallowed by RFC 5280.\n",
      "  return rust_x509.load_pem_x509_certificate(data)\n",
      "C:\\Users\\ander\\Documents\\yahooScraper\\scrape\\lib\\site-packages\\cryptography\\x509\\base.py:531: CryptographyDeprecationWarning: Parsed a negative serial number, which is disallowed by RFC 5280.\n",
      "  return rust_x509.load_pem_x509_certificate(data)\n",
      "C:\\Users\\ander\\Documents\\yahooScraper\\scrape\\lib\\site-packages\\cryptography\\x509\\base.py:531: CryptographyDeprecationWarning: Parsed a negative serial number, which is disallowed by RFC 5280.\n",
      "  return rust_x509.load_pem_x509_certificate(data)\n",
      "C:\\Users\\ander\\Documents\\yahooScraper\\scrape\\lib\\site-packages\\cryptography\\x509\\base.py:531: CryptographyDeprecationWarning: Parsed a negative serial number, which is disallowed by RFC 5280.\n",
      "  return rust_x509.load_pem_x509_certificate(data)\n",
      "C:\\Users\\ander\\Documents\\yahooScraper\\scrape\\lib\\site-packages\\cryptography\\x509\\base.py:531: CryptographyDeprecationWarning: Parsed a negative serial number, which is disallowed by RFC 5280.\n",
      "  return rust_x509.load_pem_x509_certificate(data)\n",
      "C:\\Users\\ander\\Documents\\yahooScraper\\scrape\\lib\\site-packages\\cryptography\\x509\\base.py:531: CryptographyDeprecationWarning: Parsed a negative serial number, which is disallowed by RFC 5280.\n",
      "  return rust_x509.load_pem_x509_certificate(data)\n",
      "C:\\Users\\ander\\Documents\\yahooScraper\\scrape\\lib\\site-packages\\cryptography\\x509\\base.py:531: CryptographyDeprecationWarning: Parsed a negative serial number, which is disallowed by RFC 5280.\n",
      "  return rust_x509.load_pem_x509_certificate(data)\n"
     ]
    },
    {
     "name": "stdout",
     "output_type": "stream",
     "text": [
      "CRSP\n"
     ]
    },
    {
     "name": "stderr",
     "output_type": "stream",
     "text": [
      "C:\\Users\\ander\\Documents\\yahooScraper\\scrape\\lib\\site-packages\\cryptography\\x509\\base.py:531: CryptographyDeprecationWarning: Parsed a negative serial number, which is disallowed by RFC 5280.\n",
      "  return rust_x509.load_pem_x509_certificate(data)\n",
      "C:\\Users\\ander\\Documents\\yahooScraper\\scrape\\lib\\site-packages\\cryptography\\x509\\base.py:531: CryptographyDeprecationWarning: Parsed a negative serial number, which is disallowed by RFC 5280.\n",
      "  return rust_x509.load_pem_x509_certificate(data)\n",
      "C:\\Users\\ander\\Documents\\yahooScraper\\scrape\\lib\\site-packages\\cryptography\\x509\\base.py:531: CryptographyDeprecationWarning: Parsed a negative serial number, which is disallowed by RFC 5280.\n",
      "  return rust_x509.load_pem_x509_certificate(data)\n",
      "C:\\Users\\ander\\Documents\\yahooScraper\\scrape\\lib\\site-packages\\cryptography\\x509\\base.py:531: CryptographyDeprecationWarning: Parsed a negative serial number, which is disallowed by RFC 5280.\n",
      "  return rust_x509.load_pem_x509_certificate(data)\n",
      "C:\\Users\\ander\\Documents\\yahooScraper\\scrape\\lib\\site-packages\\cryptography\\x509\\base.py:531: CryptographyDeprecationWarning: Parsed a negative serial number, which is disallowed by RFC 5280.\n",
      "  return rust_x509.load_pem_x509_certificate(data)\n",
      "C:\\Users\\ander\\Documents\\yahooScraper\\scrape\\lib\\site-packages\\cryptography\\x509\\base.py:531: CryptographyDeprecationWarning: Parsed a negative serial number, which is disallowed by RFC 5280.\n",
      "  return rust_x509.load_pem_x509_certificate(data)\n",
      "C:\\Users\\ander\\Documents\\yahooScraper\\scrape\\lib\\site-packages\\cryptography\\x509\\base.py:531: CryptographyDeprecationWarning: Parsed a negative serial number, which is disallowed by RFC 5280.\n",
      "  return rust_x509.load_pem_x509_certificate(data)\n",
      "C:\\Users\\ander\\Documents\\yahooScraper\\scrape\\lib\\site-packages\\cryptography\\x509\\base.py:531: CryptographyDeprecationWarning: Parsed a negative serial number, which is disallowed by RFC 5280.\n",
      "  return rust_x509.load_pem_x509_certificate(data)\n",
      "C:\\Users\\ander\\Documents\\yahooScraper\\scrape\\lib\\site-packages\\cryptography\\x509\\base.py:531: CryptographyDeprecationWarning: Parsed a negative serial number, which is disallowed by RFC 5280.\n",
      "  return rust_x509.load_pem_x509_certificate(data)\n",
      "C:\\Users\\ander\\Documents\\yahooScraper\\scrape\\lib\\site-packages\\cryptography\\x509\\base.py:531: CryptographyDeprecationWarning: Parsed a negative serial number, which is disallowed by RFC 5280.\n",
      "  return rust_x509.load_pem_x509_certificate(data)\n",
      "C:\\Users\\ander\\Documents\\yahooScraper\\scrape\\lib\\site-packages\\cryptography\\x509\\base.py:531: CryptographyDeprecationWarning: Parsed a negative serial number, which is disallowed by RFC 5280.\n",
      "  return rust_x509.load_pem_x509_certificate(data)\n",
      "C:\\Users\\ander\\Documents\\yahooScraper\\scrape\\lib\\site-packages\\cryptography\\x509\\base.py:531: CryptographyDeprecationWarning: Parsed a negative serial number, which is disallowed by RFC 5280.\n",
      "  return rust_x509.load_pem_x509_certificate(data)\n",
      "C:\\Users\\ander\\Documents\\yahooScraper\\indicator_daily.py:289: RuntimeWarning: invalid value encountered in log\n",
      "  r = f['y0'] + f['probability']*0.68 * self.vol_factor/0.5 + f['iv']*self.iv + f['vix']*self.vix + f['days_to_strike']*self.days_to_strike + f['sqr_rel_risk']*np.log(self.risk_rel)\n",
      "C:\\Users\\ander\\Documents\\yahooScraper\\scrape\\lib\\site-packages\\cryptography\\x509\\base.py:531: CryptographyDeprecationWarning: Parsed a negative serial number, which is disallowed by RFC 5280.\n",
      "  return rust_x509.load_pem_x509_certificate(data)\n",
      "C:\\Users\\ander\\Documents\\yahooScraper\\scrape\\lib\\site-packages\\cryptography\\x509\\base.py:531: CryptographyDeprecationWarning: Parsed a negative serial number, which is disallowed by RFC 5280.\n",
      "  return rust_x509.load_pem_x509_certificate(data)\n",
      "C:\\Users\\ander\\Documents\\yahooScraper\\scrape\\lib\\site-packages\\cryptography\\x509\\base.py:531: CryptographyDeprecationWarning: Parsed a negative serial number, which is disallowed by RFC 5280.\n",
      "  return rust_x509.load_pem_x509_certificate(data)\n",
      "C:\\Users\\ander\\Documents\\yahooScraper\\scrape\\lib\\site-packages\\cryptography\\x509\\base.py:531: CryptographyDeprecationWarning: Parsed a negative serial number, which is disallowed by RFC 5280.\n",
      "  return rust_x509.load_pem_x509_certificate(data)\n",
      "C:\\Users\\ander\\Documents\\yahooScraper\\scrape\\lib\\site-packages\\cryptography\\x509\\base.py:531: CryptographyDeprecationWarning: Parsed a negative serial number, which is disallowed by RFC 5280.\n",
      "  return rust_x509.load_pem_x509_certificate(data)\n",
      "C:\\Users\\ander\\Documents\\yahooScraper\\scrape\\lib\\site-packages\\cryptography\\x509\\base.py:531: CryptographyDeprecationWarning: Parsed a negative serial number, which is disallowed by RFC 5280.\n",
      "  return rust_x509.load_pem_x509_certificate(data)\n",
      "C:\\Users\\ander\\Documents\\yahooScraper\\scrape\\lib\\site-packages\\cryptography\\x509\\base.py:531: CryptographyDeprecationWarning: Parsed a negative serial number, which is disallowed by RFC 5280.\n",
      "  return rust_x509.load_pem_x509_certificate(data)\n",
      "C:\\Users\\ander\\Documents\\yahooScraper\\indicator_daily.py:289: RuntimeWarning: invalid value encountered in log\n",
      "  r = f['y0'] + f['probability']*0.68 * self.vol_factor/0.5 + f['iv']*self.iv + f['vix']*self.vix + f['days_to_strike']*self.days_to_strike + f['sqr_rel_risk']*np.log(self.risk_rel)\n",
      "C:\\Users\\ander\\Documents\\yahooScraper\\scrape\\lib\\site-packages\\cryptography\\x509\\base.py:531: CryptographyDeprecationWarning: Parsed a negative serial number, which is disallowed by RFC 5280.\n",
      "  return rust_x509.load_pem_x509_certificate(data)\n",
      "C:\\Users\\ander\\Documents\\yahooScraper\\scrape\\lib\\site-packages\\cryptography\\x509\\base.py:531: CryptographyDeprecationWarning: Parsed a negative serial number, which is disallowed by RFC 5280.\n",
      "  return rust_x509.load_pem_x509_certificate(data)\n",
      "C:\\Users\\ander\\Documents\\yahooScraper\\scrape\\lib\\site-packages\\cryptography\\x509\\base.py:531: CryptographyDeprecationWarning: Parsed a negative serial number, which is disallowed by RFC 5280.\n",
      "  return rust_x509.load_pem_x509_certificate(data)\n",
      "C:\\Users\\ander\\Documents\\yahooScraper\\scrape\\lib\\site-packages\\cryptography\\x509\\base.py:531: CryptographyDeprecationWarning: Parsed a negative serial number, which is disallowed by RFC 5280.\n",
      "  return rust_x509.load_pem_x509_certificate(data)\n",
      "C:\\Users\\ander\\Documents\\yahooScraper\\scrape\\lib\\site-packages\\cryptography\\x509\\base.py:531: CryptographyDeprecationWarning: Parsed a negative serial number, which is disallowed by RFC 5280.\n",
      "  return rust_x509.load_pem_x509_certificate(data)\n",
      "C:\\Users\\ander\\Documents\\yahooScraper\\scrape\\lib\\site-packages\\cryptography\\x509\\base.py:531: CryptographyDeprecationWarning: Parsed a negative serial number, which is disallowed by RFC 5280.\n",
      "  return rust_x509.load_pem_x509_certificate(data)\n",
      "C:\\Users\\ander\\Documents\\yahooScraper\\scrape\\lib\\site-packages\\cryptography\\x509\\base.py:531: CryptographyDeprecationWarning: Parsed a negative serial number, which is disallowed by RFC 5280.\n",
      "  return rust_x509.load_pem_x509_certificate(data)\n",
      "C:\\Users\\ander\\Documents\\yahooScraper\\scrape\\lib\\site-packages\\cryptography\\x509\\base.py:531: CryptographyDeprecationWarning: Parsed a negative serial number, which is disallowed by RFC 5280.\n",
      "  return rust_x509.load_pem_x509_certificate(data)\n",
      "C:\\Users\\ander\\Documents\\yahooScraper\\scrape\\lib\\site-packages\\cryptography\\x509\\base.py:531: CryptographyDeprecationWarning: Parsed a negative serial number, which is disallowed by RFC 5280.\n",
      "  return rust_x509.load_pem_x509_certificate(data)\n",
      "C:\\Users\\ander\\Documents\\yahooScraper\\scrape\\lib\\site-packages\\cryptography\\x509\\base.py:531: CryptographyDeprecationWarning: Parsed a negative serial number, which is disallowed by RFC 5280.\n",
      "  return rust_x509.load_pem_x509_certificate(data)\n",
      "C:\\Users\\ander\\Documents\\yahooScraper\\scrape\\lib\\site-packages\\cryptography\\x509\\base.py:531: CryptographyDeprecationWarning: Parsed a negative serial number, which is disallowed by RFC 5280.\n",
      "  return rust_x509.load_pem_x509_certificate(data)\n",
      "C:\\Users\\ander\\Documents\\yahooScraper\\scrape\\lib\\site-packages\\cryptography\\x509\\base.py:531: CryptographyDeprecationWarning: Parsed a negative serial number, which is disallowed by RFC 5280.\n",
      "  return rust_x509.load_pem_x509_certificate(data)\n",
      "C:\\Users\\ander\\Documents\\yahooScraper\\scrape\\lib\\site-packages\\cryptography\\x509\\base.py:531: CryptographyDeprecationWarning: Parsed a negative serial number, which is disallowed by RFC 5280.\n",
      "  return rust_x509.load_pem_x509_certificate(data)\n"
     ]
    },
    {
     "name": "stderr",
     "output_type": "stream",
     "text": [
      "C:\\Users\\ander\\Documents\\yahooScraper\\scrape\\lib\\site-packages\\cryptography\\x509\\base.py:531: CryptographyDeprecationWarning: Parsed a negative serial number, which is disallowed by RFC 5280.\n",
      "  return rust_x509.load_pem_x509_certificate(data)\n",
      "C:\\Users\\ander\\Documents\\yahooScraper\\scrape\\lib\\site-packages\\cryptography\\x509\\base.py:531: CryptographyDeprecationWarning: Parsed a negative serial number, which is disallowed by RFC 5280.\n",
      "  return rust_x509.load_pem_x509_certificate(data)\n"
     ]
    },
    {
     "name": "stdout",
     "output_type": "stream",
     "text": [
      "LAC\n"
     ]
    },
    {
     "name": "stderr",
     "output_type": "stream",
     "text": [
      "C:\\Users\\ander\\Documents\\yahooScraper\\scrape\\lib\\site-packages\\cryptography\\x509\\base.py:531: CryptographyDeprecationWarning: Parsed a negative serial number, which is disallowed by RFC 5280.\n",
      "  return rust_x509.load_pem_x509_certificate(data)\n",
      "C:\\Users\\ander\\Documents\\yahooScraper\\scrape\\lib\\site-packages\\cryptography\\x509\\base.py:531: CryptographyDeprecationWarning: Parsed a negative serial number, which is disallowed by RFC 5280.\n",
      "  return rust_x509.load_pem_x509_certificate(data)\n",
      "C:\\Users\\ander\\Documents\\yahooScraper\\scrape\\lib\\site-packages\\cryptography\\x509\\base.py:531: CryptographyDeprecationWarning: Parsed a negative serial number, which is disallowed by RFC 5280.\n",
      "  return rust_x509.load_pem_x509_certificate(data)\n",
      "C:\\Users\\ander\\Documents\\yahooScraper\\scrape\\lib\\site-packages\\cryptography\\x509\\base.py:531: CryptographyDeprecationWarning: Parsed a negative serial number, which is disallowed by RFC 5280.\n",
      "  return rust_x509.load_pem_x509_certificate(data)\n",
      "C:\\Users\\ander\\Documents\\yahooScraper\\scrape\\lib\\site-packages\\cryptography\\x509\\base.py:531: CryptographyDeprecationWarning: Parsed a negative serial number, which is disallowed by RFC 5280.\n",
      "  return rust_x509.load_pem_x509_certificate(data)\n",
      "C:\\Users\\ander\\Documents\\yahooScraper\\scrape\\lib\\site-packages\\cryptography\\x509\\base.py:531: CryptographyDeprecationWarning: Parsed a negative serial number, which is disallowed by RFC 5280.\n",
      "  return rust_x509.load_pem_x509_certificate(data)\n",
      "C:\\Users\\ander\\Documents\\yahooScraper\\scrape\\lib\\site-packages\\cryptography\\x509\\base.py:531: CryptographyDeprecationWarning: Parsed a negative serial number, which is disallowed by RFC 5280.\n",
      "  return rust_x509.load_pem_x509_certificate(data)\n",
      "C:\\Users\\ander\\Documents\\yahooScraper\\scrape\\lib\\site-packages\\cryptography\\x509\\base.py:531: CryptographyDeprecationWarning: Parsed a negative serial number, which is disallowed by RFC 5280.\n",
      "  return rust_x509.load_pem_x509_certificate(data)\n",
      "C:\\Users\\ander\\Documents\\yahooScraper\\scrape\\lib\\site-packages\\cryptography\\x509\\base.py:531: CryptographyDeprecationWarning: Parsed a negative serial number, which is disallowed by RFC 5280.\n",
      "  return rust_x509.load_pem_x509_certificate(data)\n",
      "C:\\Users\\ander\\Documents\\yahooScraper\\scrape\\lib\\site-packages\\cryptography\\x509\\base.py:531: CryptographyDeprecationWarning: Parsed a negative serial number, which is disallowed by RFC 5280.\n",
      "  return rust_x509.load_pem_x509_certificate(data)\n",
      "C:\\Users\\ander\\Documents\\yahooScraper\\scrape\\lib\\site-packages\\cryptography\\x509\\base.py:531: CryptographyDeprecationWarning: Parsed a negative serial number, which is disallowed by RFC 5280.\n",
      "  return rust_x509.load_pem_x509_certificate(data)\n",
      "C:\\Users\\ander\\Documents\\yahooScraper\\scrape\\lib\\site-packages\\cryptography\\x509\\base.py:531: CryptographyDeprecationWarning: Parsed a negative serial number, which is disallowed by RFC 5280.\n",
      "  return rust_x509.load_pem_x509_certificate(data)\n",
      "C:\\Users\\ander\\Documents\\yahooScraper\\scrape\\lib\\site-packages\\cryptography\\x509\\base.py:531: CryptographyDeprecationWarning: Parsed a negative serial number, which is disallowed by RFC 5280.\n",
      "  return rust_x509.load_pem_x509_certificate(data)\n",
      "C:\\Users\\ander\\Documents\\yahooScraper\\scrape\\lib\\site-packages\\cryptography\\x509\\base.py:531: CryptographyDeprecationWarning: Parsed a negative serial number, which is disallowed by RFC 5280.\n",
      "  return rust_x509.load_pem_x509_certificate(data)\n",
      "C:\\Users\\ander\\Documents\\yahooScraper\\scrape\\lib\\site-packages\\cryptography\\x509\\base.py:531: CryptographyDeprecationWarning: Parsed a negative serial number, which is disallowed by RFC 5280.\n",
      "  return rust_x509.load_pem_x509_certificate(data)\n",
      "C:\\Users\\ander\\Documents\\yahooScraper\\scrape\\lib\\site-packages\\cryptography\\x509\\base.py:531: CryptographyDeprecationWarning: Parsed a negative serial number, which is disallowed by RFC 5280.\n",
      "  return rust_x509.load_pem_x509_certificate(data)\n",
      "C:\\Users\\ander\\Documents\\yahooScraper\\scrape\\lib\\site-packages\\cryptography\\x509\\base.py:531: CryptographyDeprecationWarning: Parsed a negative serial number, which is disallowed by RFC 5280.\n",
      "  return rust_x509.load_pem_x509_certificate(data)\n",
      "C:\\Users\\ander\\Documents\\yahooScraper\\scrape\\lib\\site-packages\\cryptography\\x509\\base.py:531: CryptographyDeprecationWarning: Parsed a negative serial number, which is disallowed by RFC 5280.\n",
      "  return rust_x509.load_pem_x509_certificate(data)\n",
      "C:\\Users\\ander\\Documents\\yahooScraper\\scrape\\lib\\site-packages\\cryptography\\x509\\base.py:531: CryptographyDeprecationWarning: Parsed a negative serial number, which is disallowed by RFC 5280.\n",
      "  return rust_x509.load_pem_x509_certificate(data)\n",
      "C:\\Users\\ander\\Documents\\yahooScraper\\scrape\\lib\\site-packages\\cryptography\\x509\\base.py:531: CryptographyDeprecationWarning: Parsed a negative serial number, which is disallowed by RFC 5280.\n",
      "  return rust_x509.load_pem_x509_certificate(data)\n",
      "C:\\Users\\ander\\Documents\\yahooScraper\\scrape\\lib\\site-packages\\cryptography\\x509\\base.py:531: CryptographyDeprecationWarning: Parsed a negative serial number, which is disallowed by RFC 5280.\n",
      "  return rust_x509.load_pem_x509_certificate(data)\n",
      "C:\\Users\\ander\\Documents\\yahooScraper\\scrape\\lib\\site-packages\\cryptography\\x509\\base.py:531: CryptographyDeprecationWarning: Parsed a negative serial number, which is disallowed by RFC 5280.\n",
      "  return rust_x509.load_pem_x509_certificate(data)\n",
      "C:\\Users\\ander\\Documents\\yahooScraper\\scrape\\lib\\site-packages\\cryptography\\x509\\base.py:531: CryptographyDeprecationWarning: Parsed a negative serial number, which is disallowed by RFC 5280.\n",
      "  return rust_x509.load_pem_x509_certificate(data)\n",
      "C:\\Users\\ander\\Documents\\yahooScraper\\scrape\\lib\\site-packages\\cryptography\\x509\\base.py:531: CryptographyDeprecationWarning: Parsed a negative serial number, which is disallowed by RFC 5280.\n",
      "  return rust_x509.load_pem_x509_certificate(data)\n",
      "C:\\Users\\ander\\Documents\\yahooScraper\\scrape\\lib\\site-packages\\cryptography\\x509\\base.py:531: CryptographyDeprecationWarning: Parsed a negative serial number, which is disallowed by RFC 5280.\n",
      "  return rust_x509.load_pem_x509_certificate(data)\n",
      "C:\\Users\\ander\\Documents\\yahooScraper\\scrape\\lib\\site-packages\\cryptography\\x509\\base.py:531: CryptographyDeprecationWarning: Parsed a negative serial number, which is disallowed by RFC 5280.\n",
      "  return rust_x509.load_pem_x509_certificate(data)\n",
      "C:\\Users\\ander\\Documents\\yahooScraper\\scrape\\lib\\site-packages\\cryptography\\x509\\base.py:531: CryptographyDeprecationWarning: Parsed a negative serial number, which is disallowed by RFC 5280.\n",
      "  return rust_x509.load_pem_x509_certificate(data)\n",
      "C:\\Users\\ander\\Documents\\yahooScraper\\scrape\\lib\\site-packages\\cryptography\\x509\\base.py:531: CryptographyDeprecationWarning: Parsed a negative serial number, which is disallowed by RFC 5280.\n",
      "  return rust_x509.load_pem_x509_certificate(data)\n",
      "C:\\Users\\ander\\Documents\\yahooScraper\\scrape\\lib\\site-packages\\cryptography\\x509\\base.py:531: CryptographyDeprecationWarning: Parsed a negative serial number, which is disallowed by RFC 5280.\n",
      "  return rust_x509.load_pem_x509_certificate(data)\n",
      "C:\\Users\\ander\\Documents\\yahooScraper\\scrape\\lib\\site-packages\\cryptography\\x509\\base.py:531: CryptographyDeprecationWarning: Parsed a negative serial number, which is disallowed by RFC 5280.\n",
      "  return rust_x509.load_pem_x509_certificate(data)\n",
      "C:\\Users\\ander\\Documents\\yahooScraper\\scrape\\lib\\site-packages\\cryptography\\x509\\base.py:531: CryptographyDeprecationWarning: Parsed a negative serial number, which is disallowed by RFC 5280.\n",
      "  return rust_x509.load_pem_x509_certificate(data)\n",
      "C:\\Users\\ander\\Documents\\yahooScraper\\scrape\\lib\\site-packages\\cryptography\\x509\\base.py:531: CryptographyDeprecationWarning: Parsed a negative serial number, which is disallowed by RFC 5280.\n",
      "  return rust_x509.load_pem_x509_certificate(data)\n",
      "C:\\Users\\ander\\Documents\\yahooScraper\\scrape\\lib\\site-packages\\cryptography\\x509\\base.py:531: CryptographyDeprecationWarning: Parsed a negative serial number, which is disallowed by RFC 5280.\n",
      "  return rust_x509.load_pem_x509_certificate(data)\n",
      "C:\\Users\\ander\\Documents\\yahooScraper\\scrape\\lib\\site-packages\\cryptography\\x509\\base.py:531: CryptographyDeprecationWarning: Parsed a negative serial number, which is disallowed by RFC 5280.\n",
      "  return rust_x509.load_pem_x509_certificate(data)\n"
     ]
    },
    {
     "name": "stdout",
     "output_type": "stream",
     "text": [
      "RIO\n"
     ]
    },
    {
     "name": "stderr",
     "output_type": "stream",
     "text": [
      "C:\\Users\\ander\\Documents\\yahooScraper\\scrape\\lib\\site-packages\\cryptography\\x509\\base.py:531: CryptographyDeprecationWarning: Parsed a negative serial number, which is disallowed by RFC 5280.\n",
      "  return rust_x509.load_pem_x509_certificate(data)\n"
     ]
    },
    {
     "name": "stdout",
     "output_type": "stream",
     "text": [
      "SPG\n"
     ]
    },
    {
     "name": "stderr",
     "output_type": "stream",
     "text": [
      "C:\\Users\\ander\\Documents\\yahooScraper\\scrape\\lib\\site-packages\\cryptography\\x509\\base.py:531: CryptographyDeprecationWarning: Parsed a negative serial number, which is disallowed by RFC 5280.\n",
      "  return rust_x509.load_pem_x509_certificate(data)\n",
      "C:\\Users\\ander\\Documents\\yahooScraper\\scrape\\lib\\site-packages\\cryptography\\x509\\base.py:531: CryptographyDeprecationWarning: Parsed a negative serial number, which is disallowed by RFC 5280.\n",
      "  return rust_x509.load_pem_x509_certificate(data)\n",
      "C:\\Users\\ander\\Documents\\yahooScraper\\scrape\\lib\\site-packages\\cryptography\\x509\\base.py:531: CryptographyDeprecationWarning: Parsed a negative serial number, which is disallowed by RFC 5280.\n",
      "  return rust_x509.load_pem_x509_certificate(data)\n",
      "C:\\Users\\ander\\Documents\\yahooScraper\\scrape\\lib\\site-packages\\cryptography\\x509\\base.py:531: CryptographyDeprecationWarning: Parsed a negative serial number, which is disallowed by RFC 5280.\n",
      "  return rust_x509.load_pem_x509_certificate(data)\n",
      "C:\\Users\\ander\\Documents\\yahooScraper\\scrape\\lib\\site-packages\\cryptography\\x509\\base.py:531: CryptographyDeprecationWarning: Parsed a negative serial number, which is disallowed by RFC 5280.\n",
      "  return rust_x509.load_pem_x509_certificate(data)\n",
      "C:\\Users\\ander\\Documents\\yahooScraper\\scrape\\lib\\site-packages\\cryptography\\x509\\base.py:531: CryptographyDeprecationWarning: Parsed a negative serial number, which is disallowed by RFC 5280.\n",
      "  return rust_x509.load_pem_x509_certificate(data)\n",
      "C:\\Users\\ander\\Documents\\yahooScraper\\scrape\\lib\\site-packages\\cryptography\\x509\\base.py:531: CryptographyDeprecationWarning: Parsed a negative serial number, which is disallowed by RFC 5280.\n",
      "  return rust_x509.load_pem_x509_certificate(data)\n",
      "C:\\Users\\ander\\Documents\\yahooScraper\\scrape\\lib\\site-packages\\cryptography\\x509\\base.py:531: CryptographyDeprecationWarning: Parsed a negative serial number, which is disallowed by RFC 5280.\n",
      "  return rust_x509.load_pem_x509_certificate(data)\n",
      "C:\\Users\\ander\\Documents\\yahooScraper\\scrape\\lib\\site-packages\\cryptography\\x509\\base.py:531: CryptographyDeprecationWarning: Parsed a negative serial number, which is disallowed by RFC 5280.\n",
      "  return rust_x509.load_pem_x509_certificate(data)\n",
      "C:\\Users\\ander\\Documents\\yahooScraper\\scrape\\lib\\site-packages\\cryptography\\x509\\base.py:531: CryptographyDeprecationWarning: Parsed a negative serial number, which is disallowed by RFC 5280.\n",
      "  return rust_x509.load_pem_x509_certificate(data)\n",
      "C:\\Users\\ander\\Documents\\yahooScraper\\scrape\\lib\\site-packages\\cryptography\\x509\\base.py:531: CryptographyDeprecationWarning: Parsed a negative serial number, which is disallowed by RFC 5280.\n",
      "  return rust_x509.load_pem_x509_certificate(data)\n",
      "C:\\Users\\ander\\Documents\\yahooScraper\\scrape\\lib\\site-packages\\cryptography\\x509\\base.py:531: CryptographyDeprecationWarning: Parsed a negative serial number, which is disallowed by RFC 5280.\n",
      "  return rust_x509.load_pem_x509_certificate(data)\n",
      "C:\\Users\\ander\\Documents\\yahooScraper\\scrape\\lib\\site-packages\\cryptography\\x509\\base.py:531: CryptographyDeprecationWarning: Parsed a negative serial number, which is disallowed by RFC 5280.\n",
      "  return rust_x509.load_pem_x509_certificate(data)\n",
      "C:\\Users\\ander\\Documents\\yahooScraper\\scrape\\lib\\site-packages\\cryptography\\x509\\base.py:531: CryptographyDeprecationWarning: Parsed a negative serial number, which is disallowed by RFC 5280.\n",
      "  return rust_x509.load_pem_x509_certificate(data)\n",
      "C:\\Users\\ander\\Documents\\yahooScraper\\scrape\\lib\\site-packages\\cryptography\\x509\\base.py:531: CryptographyDeprecationWarning: Parsed a negative serial number, which is disallowed by RFC 5280.\n",
      "  return rust_x509.load_pem_x509_certificate(data)\n",
      "C:\\Users\\ander\\Documents\\yahooScraper\\scrape\\lib\\site-packages\\cryptography\\x509\\base.py:531: CryptographyDeprecationWarning: Parsed a negative serial number, which is disallowed by RFC 5280.\n",
      "  return rust_x509.load_pem_x509_certificate(data)\n",
      "C:\\Users\\ander\\Documents\\yahooScraper\\indicator_daily.py:289: RuntimeWarning: invalid value encountered in log\n",
      "  r = f['y0'] + f['probability']*0.68 * self.vol_factor/0.5 + f['iv']*self.iv + f['vix']*self.vix + f['days_to_strike']*self.days_to_strike + f['sqr_rel_risk']*np.log(self.risk_rel)\n",
      "C:\\Users\\ander\\Documents\\yahooScraper\\scrape\\lib\\site-packages\\cryptography\\x509\\base.py:531: CryptographyDeprecationWarning: Parsed a negative serial number, which is disallowed by RFC 5280.\n",
      "  return rust_x509.load_pem_x509_certificate(data)\n",
      "C:\\Users\\ander\\Documents\\yahooScraper\\scrape\\lib\\site-packages\\cryptography\\x509\\base.py:531: CryptographyDeprecationWarning: Parsed a negative serial number, which is disallowed by RFC 5280.\n",
      "  return rust_x509.load_pem_x509_certificate(data)\n",
      "C:\\Users\\ander\\Documents\\yahooScraper\\scrape\\lib\\site-packages\\cryptography\\x509\\base.py:531: CryptographyDeprecationWarning: Parsed a negative serial number, which is disallowed by RFC 5280.\n",
      "  return rust_x509.load_pem_x509_certificate(data)\n",
      "C:\\Users\\ander\\Documents\\yahooScraper\\scrape\\lib\\site-packages\\cryptography\\x509\\base.py:531: CryptographyDeprecationWarning: Parsed a negative serial number, which is disallowed by RFC 5280.\n",
      "  return rust_x509.load_pem_x509_certificate(data)\n",
      "C:\\Users\\ander\\Documents\\yahooScraper\\scrape\\lib\\site-packages\\cryptography\\x509\\base.py:531: CryptographyDeprecationWarning: Parsed a negative serial number, which is disallowed by RFC 5280.\n",
      "  return rust_x509.load_pem_x509_certificate(data)\n",
      "C:\\Users\\ander\\Documents\\yahooScraper\\scrape\\lib\\site-packages\\cryptography\\x509\\base.py:531: CryptographyDeprecationWarning: Parsed a negative serial number, which is disallowed by RFC 5280.\n",
      "  return rust_x509.load_pem_x509_certificate(data)\n",
      "C:\\Users\\ander\\Documents\\yahooScraper\\scrape\\lib\\site-packages\\cryptography\\x509\\base.py:531: CryptographyDeprecationWarning: Parsed a negative serial number, which is disallowed by RFC 5280.\n",
      "  return rust_x509.load_pem_x509_certificate(data)\n",
      "C:\\Users\\ander\\Documents\\yahooScraper\\scrape\\lib\\site-packages\\cryptography\\x509\\base.py:531: CryptographyDeprecationWarning: Parsed a negative serial number, which is disallowed by RFC 5280.\n",
      "  return rust_x509.load_pem_x509_certificate(data)\n",
      "C:\\Users\\ander\\Documents\\yahooScraper\\scrape\\lib\\site-packages\\cryptography\\x509\\base.py:531: CryptographyDeprecationWarning: Parsed a negative serial number, which is disallowed by RFC 5280.\n",
      "  return rust_x509.load_pem_x509_certificate(data)\n",
      "C:\\Users\\ander\\Documents\\yahooScraper\\scrape\\lib\\site-packages\\cryptography\\x509\\base.py:531: CryptographyDeprecationWarning: Parsed a negative serial number, which is disallowed by RFC 5280.\n",
      "  return rust_x509.load_pem_x509_certificate(data)\n"
     ]
    },
    {
     "name": "stdout",
     "output_type": "stream",
     "text": [
      "MGI\n"
     ]
    },
    {
     "name": "stderr",
     "output_type": "stream",
     "text": [
      "C:\\Users\\ander\\Documents\\yahooScraper\\scrape\\lib\\site-packages\\cryptography\\x509\\base.py:531: CryptographyDeprecationWarning: Parsed a negative serial number, which is disallowed by RFC 5280.\n",
      "  return rust_x509.load_pem_x509_certificate(data)\n",
      "C:\\Users\\ander\\Documents\\yahooScraper\\scrape\\lib\\site-packages\\cryptography\\x509\\base.py:531: CryptographyDeprecationWarning: Parsed a negative serial number, which is disallowed by RFC 5280.\n",
      "  return rust_x509.load_pem_x509_certificate(data)\n",
      "C:\\Users\\ander\\Documents\\yahooScraper\\scrape\\lib\\site-packages\\cryptography\\x509\\base.py:531: CryptographyDeprecationWarning: Parsed a negative serial number, which is disallowed by RFC 5280.\n",
      "  return rust_x509.load_pem_x509_certificate(data)\n"
     ]
    },
    {
     "name": "stdout",
     "output_type": "stream",
     "text": [
      "BAND\n"
     ]
    },
    {
     "name": "stderr",
     "output_type": "stream",
     "text": [
      "C:\\Users\\ander\\Documents\\yahooScraper\\scrape\\lib\\site-packages\\cryptography\\x509\\base.py:531: CryptographyDeprecationWarning: Parsed a negative serial number, which is disallowed by RFC 5280.\n",
      "  return rust_x509.load_pem_x509_certificate(data)\n"
     ]
    },
    {
     "name": "stdout",
     "output_type": "stream",
     "text": [
      "A\n"
     ]
    },
    {
     "name": "stderr",
     "output_type": "stream",
     "text": [
      "C:\\Users\\ander\\Documents\\yahooScraper\\scrape\\lib\\site-packages\\cryptography\\x509\\base.py:531: CryptographyDeprecationWarning: Parsed a negative serial number, which is disallowed by RFC 5280.\n",
      "  return rust_x509.load_pem_x509_certificate(data)\n",
      "C:\\Users\\ander\\Documents\\yahooScraper\\scrape\\lib\\site-packages\\cryptography\\x509\\base.py:531: CryptographyDeprecationWarning: Parsed a negative serial number, which is disallowed by RFC 5280.\n",
      "  return rust_x509.load_pem_x509_certificate(data)\n",
      "C:\\Users\\ander\\Documents\\yahooScraper\\scrape\\lib\\site-packages\\cryptography\\x509\\base.py:531: CryptographyDeprecationWarning: Parsed a negative serial number, which is disallowed by RFC 5280.\n",
      "  return rust_x509.load_pem_x509_certificate(data)\n"
     ]
    },
    {
     "name": "stdout",
     "output_type": "stream",
     "text": [
      "ABC\n"
     ]
    },
    {
     "name": "stderr",
     "output_type": "stream",
     "text": [
      "C:\\Users\\ander\\Documents\\yahooScraper\\scrape\\lib\\site-packages\\cryptography\\x509\\base.py:531: CryptographyDeprecationWarning: Parsed a negative serial number, which is disallowed by RFC 5280.\n",
      "  return rust_x509.load_pem_x509_certificate(data)\n",
      "C:\\Users\\ander\\Documents\\yahooScraper\\scrape\\lib\\site-packages\\cryptography\\x509\\base.py:531: CryptographyDeprecationWarning: Parsed a negative serial number, which is disallowed by RFC 5280.\n",
      "  return rust_x509.load_pem_x509_certificate(data)\n",
      "C:\\Users\\ander\\Documents\\yahooScraper\\scrape\\lib\\site-packages\\cryptography\\x509\\base.py:531: CryptographyDeprecationWarning: Parsed a negative serial number, which is disallowed by RFC 5280.\n",
      "  return rust_x509.load_pem_x509_certificate(data)\n",
      "C:\\Users\\ander\\Documents\\yahooScraper\\scrape\\lib\\site-packages\\cryptography\\x509\\base.py:531: CryptographyDeprecationWarning: Parsed a negative serial number, which is disallowed by RFC 5280.\n",
      "  return rust_x509.load_pem_x509_certificate(data)\n",
      "C:\\Users\\ander\\Documents\\yahooScraper\\scrape\\lib\\site-packages\\cryptography\\x509\\base.py:531: CryptographyDeprecationWarning: Parsed a negative serial number, which is disallowed by RFC 5280.\n",
      "  return rust_x509.load_pem_x509_certificate(data)\n",
      "C:\\Users\\ander\\Documents\\yahooScraper\\scrape\\lib\\site-packages\\cryptography\\x509\\base.py:531: CryptographyDeprecationWarning: Parsed a negative serial number, which is disallowed by RFC 5280.\n",
      "  return rust_x509.load_pem_x509_certificate(data)\n",
      "C:\\Users\\ander\\Documents\\yahooScraper\\scrape\\lib\\site-packages\\cryptography\\x509\\base.py:531: CryptographyDeprecationWarning: Parsed a negative serial number, which is disallowed by RFC 5280.\n",
      "  return rust_x509.load_pem_x509_certificate(data)\n",
      "C:\\Users\\ander\\Documents\\yahooScraper\\scrape\\lib\\site-packages\\cryptography\\x509\\base.py:531: CryptographyDeprecationWarning: Parsed a negative serial number, which is disallowed by RFC 5280.\n",
      "  return rust_x509.load_pem_x509_certificate(data)\n",
      "C:\\Users\\ander\\Documents\\yahooScraper\\scrape\\lib\\site-packages\\cryptography\\x509\\base.py:531: CryptographyDeprecationWarning: Parsed a negative serial number, which is disallowed by RFC 5280.\n",
      "  return rust_x509.load_pem_x509_certificate(data)\n",
      "C:\\Users\\ander\\Documents\\yahooScraper\\scrape\\lib\\site-packages\\cryptography\\x509\\base.py:531: CryptographyDeprecationWarning: Parsed a negative serial number, which is disallowed by RFC 5280.\n",
      "  return rust_x509.load_pem_x509_certificate(data)\n"
     ]
    },
    {
     "name": "stdout",
     "output_type": "stream",
     "text": [
      "NKE\n"
     ]
    },
    {
     "name": "stderr",
     "output_type": "stream",
     "text": [
      "C:\\Users\\ander\\Documents\\yahooScraper\\scrape\\lib\\site-packages\\cryptography\\x509\\base.py:531: CryptographyDeprecationWarning: Parsed a negative serial number, which is disallowed by RFC 5280.\n",
      "  return rust_x509.load_pem_x509_certificate(data)\n",
      "C:\\Users\\ander\\Documents\\yahooScraper\\scrape\\lib\\site-packages\\cryptography\\x509\\base.py:531: CryptographyDeprecationWarning: Parsed a negative serial number, which is disallowed by RFC 5280.\n",
      "  return rust_x509.load_pem_x509_certificate(data)\n",
      "C:\\Users\\ander\\Documents\\yahooScraper\\scrape\\lib\\site-packages\\cryptography\\x509\\base.py:531: CryptographyDeprecationWarning: Parsed a negative serial number, which is disallowed by RFC 5280.\n",
      "  return rust_x509.load_pem_x509_certificate(data)\n",
      "C:\\Users\\ander\\Documents\\yahooScraper\\scrape\\lib\\site-packages\\cryptography\\x509\\base.py:531: CryptographyDeprecationWarning: Parsed a negative serial number, which is disallowed by RFC 5280.\n",
      "  return rust_x509.load_pem_x509_certificate(data)\n",
      "C:\\Users\\ander\\Documents\\yahooScraper\\scrape\\lib\\site-packages\\cryptography\\x509\\base.py:531: CryptographyDeprecationWarning: Parsed a negative serial number, which is disallowed by RFC 5280.\n",
      "  return rust_x509.load_pem_x509_certificate(data)\n",
      "C:\\Users\\ander\\Documents\\yahooScraper\\scrape\\lib\\site-packages\\cryptography\\x509\\base.py:531: CryptographyDeprecationWarning: Parsed a negative serial number, which is disallowed by RFC 5280.\n",
      "  return rust_x509.load_pem_x509_certificate(data)\n",
      "C:\\Users\\ander\\Documents\\yahooScraper\\scrape\\lib\\site-packages\\cryptography\\x509\\base.py:531: CryptographyDeprecationWarning: Parsed a negative serial number, which is disallowed by RFC 5280.\n",
      "  return rust_x509.load_pem_x509_certificate(data)\n",
      "C:\\Users\\ander\\Documents\\yahooScraper\\scrape\\lib\\site-packages\\cryptography\\x509\\base.py:531: CryptographyDeprecationWarning: Parsed a negative serial number, which is disallowed by RFC 5280.\n",
      "  return rust_x509.load_pem_x509_certificate(data)\n",
      "C:\\Users\\ander\\Documents\\yahooScraper\\scrape\\lib\\site-packages\\cryptography\\x509\\base.py:531: CryptographyDeprecationWarning: Parsed a negative serial number, which is disallowed by RFC 5280.\n",
      "  return rust_x509.load_pem_x509_certificate(data)\n",
      "C:\\Users\\ander\\Documents\\yahooScraper\\scrape\\lib\\site-packages\\cryptography\\x509\\base.py:531: CryptographyDeprecationWarning: Parsed a negative serial number, which is disallowed by RFC 5280.\n",
      "  return rust_x509.load_pem_x509_certificate(data)\n",
      "C:\\Users\\ander\\Documents\\yahooScraper\\scrape\\lib\\site-packages\\cryptography\\x509\\base.py:531: CryptographyDeprecationWarning: Parsed a negative serial number, which is disallowed by RFC 5280.\n",
      "  return rust_x509.load_pem_x509_certificate(data)\n",
      "C:\\Users\\ander\\Documents\\yahooScraper\\scrape\\lib\\site-packages\\cryptography\\x509\\base.py:531: CryptographyDeprecationWarning: Parsed a negative serial number, which is disallowed by RFC 5280.\n",
      "  return rust_x509.load_pem_x509_certificate(data)\n",
      "C:\\Users\\ander\\Documents\\yahooScraper\\scrape\\lib\\site-packages\\cryptography\\x509\\base.py:531: CryptographyDeprecationWarning: Parsed a negative serial number, which is disallowed by RFC 5280.\n",
      "  return rust_x509.load_pem_x509_certificate(data)\n",
      "C:\\Users\\ander\\Documents\\yahooScraper\\scrape\\lib\\site-packages\\cryptography\\x509\\base.py:531: CryptographyDeprecationWarning: Parsed a negative serial number, which is disallowed by RFC 5280.\n",
      "  return rust_x509.load_pem_x509_certificate(data)\n",
      "C:\\Users\\ander\\Documents\\yahooScraper\\scrape\\lib\\site-packages\\cryptography\\x509\\base.py:531: CryptographyDeprecationWarning: Parsed a negative serial number, which is disallowed by RFC 5280.\n",
      "  return rust_x509.load_pem_x509_certificate(data)\n"
     ]
    },
    {
     "name": "stdout",
     "output_type": "stream",
     "text": [
      "AI\n"
     ]
    },
    {
     "name": "stderr",
     "output_type": "stream",
     "text": [
      "C:\\Users\\ander\\Documents\\yahooScraper\\scrape\\lib\\site-packages\\cryptography\\x509\\base.py:531: CryptographyDeprecationWarning: Parsed a negative serial number, which is disallowed by RFC 5280.\n",
      "  return rust_x509.load_pem_x509_certificate(data)\n"
     ]
    },
    {
     "name": "stdout",
     "output_type": "stream",
     "text": [
      "NOW\n"
     ]
    },
    {
     "name": "stderr",
     "output_type": "stream",
     "text": [
      "C:\\Users\\ander\\Documents\\yahooScraper\\scrape\\lib\\site-packages\\cryptography\\x509\\base.py:531: CryptographyDeprecationWarning: Parsed a negative serial number, which is disallowed by RFC 5280.\n",
      "  return rust_x509.load_pem_x509_certificate(data)\n"
     ]
    },
    {
     "name": "stdout",
     "output_type": "stream",
     "text": [
      "ISRG\n"
     ]
    },
    {
     "name": "stderr",
     "output_type": "stream",
     "text": [
      "C:\\Users\\ander\\Documents\\yahooScraper\\scrape\\lib\\site-packages\\cryptography\\x509\\base.py:531: CryptographyDeprecationWarning: Parsed a negative serial number, which is disallowed by RFC 5280.\n",
      "  return rust_x509.load_pem_x509_certificate(data)\n",
      "C:\\Users\\ander\\Documents\\yahooScraper\\scrape\\lib\\site-packages\\cryptography\\x509\\base.py:531: CryptographyDeprecationWarning: Parsed a negative serial number, which is disallowed by RFC 5280.\n",
      "  return rust_x509.load_pem_x509_certificate(data)\n",
      "C:\\Users\\ander\\Documents\\yahooScraper\\scrape\\lib\\site-packages\\cryptography\\x509\\base.py:531: CryptographyDeprecationWarning: Parsed a negative serial number, which is disallowed by RFC 5280.\n",
      "  return rust_x509.load_pem_x509_certificate(data)\n",
      "C:\\Users\\ander\\Documents\\yahooScraper\\scrape\\lib\\site-packages\\cryptography\\x509\\base.py:531: CryptographyDeprecationWarning: Parsed a negative serial number, which is disallowed by RFC 5280.\n",
      "  return rust_x509.load_pem_x509_certificate(data)\n"
     ]
    },
    {
     "name": "stdout",
     "output_type": "stream",
     "text": [
      "ATER\n"
     ]
    },
    {
     "name": "stderr",
     "output_type": "stream",
     "text": [
      "C:\\Users\\ander\\Documents\\yahooScraper\\scrape\\lib\\site-packages\\cryptography\\x509\\base.py:531: CryptographyDeprecationWarning: Parsed a negative serial number, which is disallowed by RFC 5280.\n",
      "  return rust_x509.load_pem_x509_certificate(data)\n",
      "C:\\Users\\ander\\Documents\\yahooScraper\\scrape\\lib\\site-packages\\cryptography\\x509\\base.py:531: CryptographyDeprecationWarning: Parsed a negative serial number, which is disallowed by RFC 5280.\n",
      "  return rust_x509.load_pem_x509_certificate(data)\n",
      "C:\\Users\\ander\\Documents\\yahooScraper\\scrape\\lib\\site-packages\\cryptography\\x509\\base.py:531: CryptographyDeprecationWarning: Parsed a negative serial number, which is disallowed by RFC 5280.\n",
      "  return rust_x509.load_pem_x509_certificate(data)\n"
     ]
    },
    {
     "name": "stdout",
     "output_type": "stream",
     "text": [
      "AMC\n"
     ]
    },
    {
     "name": "stderr",
     "output_type": "stream",
     "text": [
      "C:\\Users\\ander\\Documents\\yahooScraper\\scrape\\lib\\site-packages\\cryptography\\x509\\base.py:531: CryptographyDeprecationWarning: Parsed a negative serial number, which is disallowed by RFC 5280.\n",
      "  return rust_x509.load_pem_x509_certificate(data)\n",
      "C:\\Users\\ander\\Documents\\yahooScraper\\scrape\\lib\\site-packages\\cryptography\\x509\\base.py:531: CryptographyDeprecationWarning: Parsed a negative serial number, which is disallowed by RFC 5280.\n",
      "  return rust_x509.load_pem_x509_certificate(data)\n",
      "C:\\Users\\ander\\Documents\\yahooScraper\\scrape\\lib\\site-packages\\cryptography\\x509\\base.py:531: CryptographyDeprecationWarning: Parsed a negative serial number, which is disallowed by RFC 5280.\n",
      "  return rust_x509.load_pem_x509_certificate(data)\n",
      "C:\\Users\\ander\\Documents\\yahooScraper\\scrape\\lib\\site-packages\\cryptography\\x509\\base.py:531: CryptographyDeprecationWarning: Parsed a negative serial number, which is disallowed by RFC 5280.\n",
      "  return rust_x509.load_pem_x509_certificate(data)\n",
      "C:\\Users\\ander\\Documents\\yahooScraper\\scrape\\lib\\site-packages\\cryptography\\x509\\base.py:531: CryptographyDeprecationWarning: Parsed a negative serial number, which is disallowed by RFC 5280.\n",
      "  return rust_x509.load_pem_x509_certificate(data)\n",
      "C:\\Users\\ander\\Documents\\yahooScraper\\scrape\\lib\\site-packages\\cryptography\\x509\\base.py:531: CryptographyDeprecationWarning: Parsed a negative serial number, which is disallowed by RFC 5280.\n",
      "  return rust_x509.load_pem_x509_certificate(data)\n",
      "C:\\Users\\ander\\Documents\\yahooScraper\\indicator_daily.py:289: RuntimeWarning: invalid value encountered in log\n",
      "  r = f['y0'] + f['probability']*0.68 * self.vol_factor/0.5 + f['iv']*self.iv + f['vix']*self.vix + f['days_to_strike']*self.days_to_strike + f['sqr_rel_risk']*np.log(self.risk_rel)\n",
      "C:\\Users\\ander\\Documents\\yahooScraper\\scrape\\lib\\site-packages\\cryptography\\x509\\base.py:531: CryptographyDeprecationWarning: Parsed a negative serial number, which is disallowed by RFC 5280.\n",
      "  return rust_x509.load_pem_x509_certificate(data)\n"
     ]
    },
    {
     "name": "stdout",
     "output_type": "stream",
     "text": [
      "CHGG\n"
     ]
    },
    {
     "name": "stderr",
     "output_type": "stream",
     "text": [
      "C:\\Users\\ander\\Documents\\yahooScraper\\scrape\\lib\\site-packages\\cryptography\\x509\\base.py:531: CryptographyDeprecationWarning: Parsed a negative serial number, which is disallowed by RFC 5280.\n",
      "  return rust_x509.load_pem_x509_certificate(data)\n",
      "C:\\Users\\ander\\Documents\\yahooScraper\\scrape\\lib\\site-packages\\cryptography\\x509\\base.py:531: CryptographyDeprecationWarning: Parsed a negative serial number, which is disallowed by RFC 5280.\n",
      "  return rust_x509.load_pem_x509_certificate(data)\n",
      "C:\\Users\\ander\\Documents\\yahooScraper\\scrape\\lib\\site-packages\\cryptography\\x509\\base.py:531: CryptographyDeprecationWarning: Parsed a negative serial number, which is disallowed by RFC 5280.\n",
      "  return rust_x509.load_pem_x509_certificate(data)\n",
      "C:\\Users\\ander\\Documents\\yahooScraper\\scrape\\lib\\site-packages\\cryptography\\x509\\base.py:531: CryptographyDeprecationWarning: Parsed a negative serial number, which is disallowed by RFC 5280.\n",
      "  return rust_x509.load_pem_x509_certificate(data)\n",
      "C:\\Users\\ander\\Documents\\yahooScraper\\scrape\\lib\\site-packages\\cryptography\\x509\\base.py:531: CryptographyDeprecationWarning: Parsed a negative serial number, which is disallowed by RFC 5280.\n",
      "  return rust_x509.load_pem_x509_certificate(data)\n",
      "C:\\Users\\ander\\Documents\\yahooScraper\\scrape\\lib\\site-packages\\cryptography\\x509\\base.py:531: CryptographyDeprecationWarning: Parsed a negative serial number, which is disallowed by RFC 5280.\n",
      "  return rust_x509.load_pem_x509_certificate(data)\n",
      "C:\\Users\\ander\\Documents\\yahooScraper\\scrape\\lib\\site-packages\\cryptography\\x509\\base.py:531: CryptographyDeprecationWarning: Parsed a negative serial number, which is disallowed by RFC 5280.\n",
      "  return rust_x509.load_pem_x509_certificate(data)\n",
      "C:\\Users\\ander\\Documents\\yahooScraper\\scrape\\lib\\site-packages\\cryptography\\x509\\base.py:531: CryptographyDeprecationWarning: Parsed a negative serial number, which is disallowed by RFC 5280.\n",
      "  return rust_x509.load_pem_x509_certificate(data)\n"
     ]
    },
    {
     "name": "stdout",
     "output_type": "stream",
     "text": [
      "CRSP\n"
     ]
    },
    {
     "name": "stderr",
     "output_type": "stream",
     "text": [
      "C:\\Users\\ander\\Documents\\yahooScraper\\scrape\\lib\\site-packages\\cryptography\\x509\\base.py:531: CryptographyDeprecationWarning: Parsed a negative serial number, which is disallowed by RFC 5280.\n",
      "  return rust_x509.load_pem_x509_certificate(data)\n",
      "C:\\Users\\ander\\Documents\\yahooScraper\\scrape\\lib\\site-packages\\cryptography\\x509\\base.py:531: CryptographyDeprecationWarning: Parsed a negative serial number, which is disallowed by RFC 5280.\n",
      "  return rust_x509.load_pem_x509_certificate(data)\n",
      "C:\\Users\\ander\\Documents\\yahooScraper\\scrape\\lib\\site-packages\\cryptography\\x509\\base.py:531: CryptographyDeprecationWarning: Parsed a negative serial number, which is disallowed by RFC 5280.\n",
      "  return rust_x509.load_pem_x509_certificate(data)\n",
      "C:\\Users\\ander\\Documents\\yahooScraper\\scrape\\lib\\site-packages\\cryptography\\x509\\base.py:531: CryptographyDeprecationWarning: Parsed a negative serial number, which is disallowed by RFC 5280.\n",
      "  return rust_x509.load_pem_x509_certificate(data)\n",
      "C:\\Users\\ander\\Documents\\yahooScraper\\scrape\\lib\\site-packages\\cryptography\\x509\\base.py:531: CryptographyDeprecationWarning: Parsed a negative serial number, which is disallowed by RFC 5280.\n",
      "  return rust_x509.load_pem_x509_certificate(data)\n",
      "C:\\Users\\ander\\Documents\\yahooScraper\\scrape\\lib\\site-packages\\cryptography\\x509\\base.py:531: CryptographyDeprecationWarning: Parsed a negative serial number, which is disallowed by RFC 5280.\n",
      "  return rust_x509.load_pem_x509_certificate(data)\n",
      "C:\\Users\\ander\\Documents\\yahooScraper\\scrape\\lib\\site-packages\\cryptography\\x509\\base.py:531: CryptographyDeprecationWarning: Parsed a negative serial number, which is disallowed by RFC 5280.\n",
      "  return rust_x509.load_pem_x509_certificate(data)\n",
      "C:\\Users\\ander\\Documents\\yahooScraper\\scrape\\lib\\site-packages\\cryptography\\x509\\base.py:531: CryptographyDeprecationWarning: Parsed a negative serial number, which is disallowed by RFC 5280.\n",
      "  return rust_x509.load_pem_x509_certificate(data)\n",
      "C:\\Users\\ander\\Documents\\yahooScraper\\scrape\\lib\\site-packages\\cryptography\\x509\\base.py:531: CryptographyDeprecationWarning: Parsed a negative serial number, which is disallowed by RFC 5280.\n",
      "  return rust_x509.load_pem_x509_certificate(data)\n",
      "C:\\Users\\ander\\Documents\\yahooScraper\\scrape\\lib\\site-packages\\cryptography\\x509\\base.py:531: CryptographyDeprecationWarning: Parsed a negative serial number, which is disallowed by RFC 5280.\n",
      "  return rust_x509.load_pem_x509_certificate(data)\n",
      "C:\\Users\\ander\\Documents\\yahooScraper\\scrape\\lib\\site-packages\\cryptography\\x509\\base.py:531: CryptographyDeprecationWarning: Parsed a negative serial number, which is disallowed by RFC 5280.\n",
      "  return rust_x509.load_pem_x509_certificate(data)\n",
      "C:\\Users\\ander\\Documents\\yahooScraper\\scrape\\lib\\site-packages\\cryptography\\x509\\base.py:531: CryptographyDeprecationWarning: Parsed a negative serial number, which is disallowed by RFC 5280.\n",
      "  return rust_x509.load_pem_x509_certificate(data)\n"
     ]
    },
    {
     "name": "stdout",
     "output_type": "stream",
     "text": [
      "LAC\n"
     ]
    },
    {
     "name": "stderr",
     "output_type": "stream",
     "text": [
      "C:\\Users\\ander\\Documents\\yahooScraper\\scrape\\lib\\site-packages\\cryptography\\x509\\base.py:531: CryptographyDeprecationWarning: Parsed a negative serial number, which is disallowed by RFC 5280.\n",
      "  return rust_x509.load_pem_x509_certificate(data)\n",
      "C:\\Users\\ander\\Documents\\yahooScraper\\scrape\\lib\\site-packages\\cryptography\\x509\\base.py:531: CryptographyDeprecationWarning: Parsed a negative serial number, which is disallowed by RFC 5280.\n",
      "  return rust_x509.load_pem_x509_certificate(data)\n",
      "C:\\Users\\ander\\Documents\\yahooScraper\\scrape\\lib\\site-packages\\cryptography\\x509\\base.py:531: CryptographyDeprecationWarning: Parsed a negative serial number, which is disallowed by RFC 5280.\n",
      "  return rust_x509.load_pem_x509_certificate(data)\n",
      "C:\\Users\\ander\\Documents\\yahooScraper\\scrape\\lib\\site-packages\\cryptography\\x509\\base.py:531: CryptographyDeprecationWarning: Parsed a negative serial number, which is disallowed by RFC 5280.\n",
      "  return rust_x509.load_pem_x509_certificate(data)\n",
      "C:\\Users\\ander\\Documents\\yahooScraper\\scrape\\lib\\site-packages\\cryptography\\x509\\base.py:531: CryptographyDeprecationWarning: Parsed a negative serial number, which is disallowed by RFC 5280.\n",
      "  return rust_x509.load_pem_x509_certificate(data)\n",
      "C:\\Users\\ander\\Documents\\yahooScraper\\scrape\\lib\\site-packages\\cryptography\\x509\\base.py:531: CryptographyDeprecationWarning: Parsed a negative serial number, which is disallowed by RFC 5280.\n",
      "  return rust_x509.load_pem_x509_certificate(data)\n",
      "C:\\Users\\ander\\Documents\\yahooScraper\\scrape\\lib\\site-packages\\cryptography\\x509\\base.py:531: CryptographyDeprecationWarning: Parsed a negative serial number, which is disallowed by RFC 5280.\n",
      "  return rust_x509.load_pem_x509_certificate(data)\n",
      "C:\\Users\\ander\\Documents\\yahooScraper\\scrape\\lib\\site-packages\\cryptography\\x509\\base.py:531: CryptographyDeprecationWarning: Parsed a negative serial number, which is disallowed by RFC 5280.\n",
      "  return rust_x509.load_pem_x509_certificate(data)\n",
      "C:\\Users\\ander\\Documents\\yahooScraper\\scrape\\lib\\site-packages\\cryptography\\x509\\base.py:531: CryptographyDeprecationWarning: Parsed a negative serial number, which is disallowed by RFC 5280.\n",
      "  return rust_x509.load_pem_x509_certificate(data)\n",
      "C:\\Users\\ander\\Documents\\yahooScraper\\scrape\\lib\\site-packages\\cryptography\\x509\\base.py:531: CryptographyDeprecationWarning: Parsed a negative serial number, which is disallowed by RFC 5280.\n",
      "  return rust_x509.load_pem_x509_certificate(data)\n",
      "C:\\Users\\ander\\Documents\\yahooScraper\\scrape\\lib\\site-packages\\cryptography\\x509\\base.py:531: CryptographyDeprecationWarning: Parsed a negative serial number, which is disallowed by RFC 5280.\n",
      "  return rust_x509.load_pem_x509_certificate(data)\n"
     ]
    },
    {
     "name": "stdout",
     "output_type": "stream",
     "text": [
      "ALK\n"
     ]
    },
    {
     "name": "stderr",
     "output_type": "stream",
     "text": [
      "C:\\Users\\ander\\Documents\\yahooScraper\\scrape\\lib\\site-packages\\cryptography\\x509\\base.py:531: CryptographyDeprecationWarning: Parsed a negative serial number, which is disallowed by RFC 5280.\n",
      "  return rust_x509.load_pem_x509_certificate(data)\n",
      "C:\\Users\\ander\\Documents\\yahooScraper\\scrape\\lib\\site-packages\\cryptography\\x509\\base.py:531: CryptographyDeprecationWarning: Parsed a negative serial number, which is disallowed by RFC 5280.\n",
      "  return rust_x509.load_pem_x509_certificate(data)\n",
      "C:\\Users\\ander\\Documents\\yahooScraper\\scrape\\lib\\site-packages\\cryptography\\x509\\base.py:531: CryptographyDeprecationWarning: Parsed a negative serial number, which is disallowed by RFC 5280.\n",
      "  return rust_x509.load_pem_x509_certificate(data)\n",
      "C:\\Users\\ander\\Documents\\yahooScraper\\scrape\\lib\\site-packages\\cryptography\\x509\\base.py:531: CryptographyDeprecationWarning: Parsed a negative serial number, which is disallowed by RFC 5280.\n",
      "  return rust_x509.load_pem_x509_certificate(data)\n",
      "C:\\Users\\ander\\Documents\\yahooScraper\\scrape\\lib\\site-packages\\cryptography\\x509\\base.py:531: CryptographyDeprecationWarning: Parsed a negative serial number, which is disallowed by RFC 5280.\n",
      "  return rust_x509.load_pem_x509_certificate(data)\n"
     ]
    },
    {
     "name": "stdout",
     "output_type": "stream",
     "text": [
      "AMC\n"
     ]
    },
    {
     "name": "stderr",
     "output_type": "stream",
     "text": [
      "C:\\Users\\ander\\Documents\\yahooScraper\\scrape\\lib\\site-packages\\cryptography\\x509\\base.py:531: CryptographyDeprecationWarning: Parsed a negative serial number, which is disallowed by RFC 5280.\n",
      "  return rust_x509.load_pem_x509_certificate(data)\n"
     ]
    },
    {
     "name": "stdout",
     "output_type": "stream",
     "text": [
      "AMR\n"
     ]
    },
    {
     "name": "stderr",
     "output_type": "stream",
     "text": [
      "C:\\Users\\ander\\Documents\\yahooScraper\\scrape\\lib\\site-packages\\cryptography\\x509\\base.py:531: CryptographyDeprecationWarning: Parsed a negative serial number, which is disallowed by RFC 5280.\n",
      "  return rust_x509.load_pem_x509_certificate(data)\n",
      "C:\\Users\\ander\\Documents\\yahooScraper\\scrape\\lib\\site-packages\\cryptography\\x509\\base.py:531: CryptographyDeprecationWarning: Parsed a negative serial number, which is disallowed by RFC 5280.\n",
      "  return rust_x509.load_pem_x509_certificate(data)\n",
      "C:\\Users\\ander\\Documents\\yahooScraper\\scrape\\lib\\site-packages\\cryptography\\x509\\base.py:531: CryptographyDeprecationWarning: Parsed a negative serial number, which is disallowed by RFC 5280.\n",
      "  return rust_x509.load_pem_x509_certificate(data)\n",
      "C:\\Users\\ander\\Documents\\yahooScraper\\scrape\\lib\\site-packages\\cryptography\\x509\\base.py:531: CryptographyDeprecationWarning: Parsed a negative serial number, which is disallowed by RFC 5280.\n",
      "  return rust_x509.load_pem_x509_certificate(data)\n",
      "C:\\Users\\ander\\Documents\\yahooScraper\\scrape\\lib\\site-packages\\cryptography\\x509\\base.py:531: CryptographyDeprecationWarning: Parsed a negative serial number, which is disallowed by RFC 5280.\n",
      "  return rust_x509.load_pem_x509_certificate(data)\n"
     ]
    },
    {
     "name": "stdout",
     "output_type": "stream",
     "text": [
      "ATER\n"
     ]
    },
    {
     "name": "stderr",
     "output_type": "stream",
     "text": [
      "C:\\Users\\ander\\Documents\\yahooScraper\\scrape\\lib\\site-packages\\cryptography\\x509\\base.py:531: CryptographyDeprecationWarning: Parsed a negative serial number, which is disallowed by RFC 5280.\n",
      "  return rust_x509.load_pem_x509_certificate(data)\n"
     ]
    },
    {
     "name": "stdout",
     "output_type": "stream",
     "text": [
      "BBIG\n"
     ]
    },
    {
     "name": "stderr",
     "output_type": "stream",
     "text": [
      "C:\\Users\\ander\\Documents\\yahooScraper\\scrape\\lib\\site-packages\\cryptography\\x509\\base.py:531: CryptographyDeprecationWarning: Parsed a negative serial number, which is disallowed by RFC 5280.\n",
      "  return rust_x509.load_pem_x509_certificate(data)\n"
     ]
    },
    {
     "name": "stdout",
     "output_type": "stream",
     "text": [
      "AUPH\n"
     ]
    },
    {
     "name": "stderr",
     "output_type": "stream",
     "text": [
      "C:\\Users\\ander\\Documents\\yahooScraper\\scrape\\lib\\site-packages\\cryptography\\x509\\base.py:531: CryptographyDeprecationWarning: Parsed a negative serial number, which is disallowed by RFC 5280.\n",
      "  return rust_x509.load_pem_x509_certificate(data)\n",
      "C:\\Users\\ander\\Documents\\yahooScraper\\scrape\\lib\\site-packages\\cryptography\\x509\\base.py:531: CryptographyDeprecationWarning: Parsed a negative serial number, which is disallowed by RFC 5280.\n",
      "  return rust_x509.load_pem_x509_certificate(data)\n",
      "C:\\Users\\ander\\Documents\\yahooScraper\\scrape\\lib\\site-packages\\cryptography\\x509\\base.py:531: CryptographyDeprecationWarning: Parsed a negative serial number, which is disallowed by RFC 5280.\n",
      "  return rust_x509.load_pem_x509_certificate(data)\n"
     ]
    },
    {
     "name": "stdout",
     "output_type": "stream",
     "text": [
      "BE\n"
     ]
    },
    {
     "name": "stderr",
     "output_type": "stream",
     "text": [
      "C:\\Users\\ander\\Documents\\yahooScraper\\scrape\\lib\\site-packages\\cryptography\\x509\\base.py:531: CryptographyDeprecationWarning: Parsed a negative serial number, which is disallowed by RFC 5280.\n",
      "  return rust_x509.load_pem_x509_certificate(data)\n",
      "C:\\Users\\ander\\Documents\\yahooScraper\\scrape\\lib\\site-packages\\cryptography\\x509\\base.py:531: CryptographyDeprecationWarning: Parsed a negative serial number, which is disallowed by RFC 5280.\n",
      "  return rust_x509.load_pem_x509_certificate(data)\n",
      "C:\\Users\\ander\\Documents\\yahooScraper\\scrape\\lib\\site-packages\\cryptography\\x509\\base.py:531: CryptographyDeprecationWarning: Parsed a negative serial number, which is disallowed by RFC 5280.\n",
      "  return rust_x509.load_pem_x509_certificate(data)\n",
      "C:\\Users\\ander\\Documents\\yahooScraper\\scrape\\lib\\site-packages\\cryptography\\x509\\base.py:531: CryptographyDeprecationWarning: Parsed a negative serial number, which is disallowed by RFC 5280.\n",
      "  return rust_x509.load_pem_x509_certificate(data)\n",
      "C:\\Users\\ander\\Documents\\yahooScraper\\scrape\\lib\\site-packages\\cryptography\\x509\\base.py:531: CryptographyDeprecationWarning: Parsed a negative serial number, which is disallowed by RFC 5280.\n",
      "  return rust_x509.load_pem_x509_certificate(data)\n",
      "C:\\Users\\ander\\Documents\\yahooScraper\\scrape\\lib\\site-packages\\cryptography\\x509\\base.py:531: CryptographyDeprecationWarning: Parsed a negative serial number, which is disallowed by RFC 5280.\n",
      "  return rust_x509.load_pem_x509_certificate(data)\n",
      "C:\\Users\\ander\\Documents\\yahooScraper\\scrape\\lib\\site-packages\\cryptography\\x509\\base.py:531: CryptographyDeprecationWarning: Parsed a negative serial number, which is disallowed by RFC 5280.\n",
      "  return rust_x509.load_pem_x509_certificate(data)\n",
      "C:\\Users\\ander\\Documents\\yahooScraper\\scrape\\lib\\site-packages\\cryptography\\x509\\base.py:531: CryptographyDeprecationWarning: Parsed a negative serial number, which is disallowed by RFC 5280.\n",
      "  return rust_x509.load_pem_x509_certificate(data)\n",
      "C:\\Users\\ander\\Documents\\yahooScraper\\scrape\\lib\\site-packages\\cryptography\\x509\\base.py:531: CryptographyDeprecationWarning: Parsed a negative serial number, which is disallowed by RFC 5280.\n",
      "  return rust_x509.load_pem_x509_certificate(data)\n",
      "C:\\Users\\ander\\Documents\\yahooScraper\\scrape\\lib\\site-packages\\cryptography\\x509\\base.py:531: CryptographyDeprecationWarning: Parsed a negative serial number, which is disallowed by RFC 5280.\n",
      "  return rust_x509.load_pem_x509_certificate(data)\n",
      "C:\\Users\\ander\\Documents\\yahooScraper\\scrape\\lib\\site-packages\\cryptography\\x509\\base.py:531: CryptographyDeprecationWarning: Parsed a negative serial number, which is disallowed by RFC 5280.\n",
      "  return rust_x509.load_pem_x509_certificate(data)\n",
      "C:\\Users\\ander\\Documents\\yahooScraper\\scrape\\lib\\site-packages\\cryptography\\x509\\base.py:531: CryptographyDeprecationWarning: Parsed a negative serial number, which is disallowed by RFC 5280.\n",
      "  return rust_x509.load_pem_x509_certificate(data)\n",
      "C:\\Users\\ander\\Documents\\yahooScraper\\indicator_daily.py:289: RuntimeWarning: invalid value encountered in log\n",
      "  r = f['y0'] + f['probability']*0.68 * self.vol_factor/0.5 + f['iv']*self.iv + f['vix']*self.vix + f['days_to_strike']*self.days_to_strike + f['sqr_rel_risk']*np.log(self.risk_rel)\n",
      "C:\\Users\\ander\\Documents\\yahooScraper\\scrape\\lib\\site-packages\\cryptography\\x509\\base.py:531: CryptographyDeprecationWarning: Parsed a negative serial number, which is disallowed by RFC 5280.\n",
      "  return rust_x509.load_pem_x509_certificate(data)\n",
      "C:\\Users\\ander\\Documents\\yahooScraper\\scrape\\lib\\site-packages\\cryptography\\x509\\base.py:531: CryptographyDeprecationWarning: Parsed a negative serial number, which is disallowed by RFC 5280.\n",
      "  return rust_x509.load_pem_x509_certificate(data)\n",
      "C:\\Users\\ander\\Documents\\yahooScraper\\scrape\\lib\\site-packages\\cryptography\\x509\\base.py:531: CryptographyDeprecationWarning: Parsed a negative serial number, which is disallowed by RFC 5280.\n",
      "  return rust_x509.load_pem_x509_certificate(data)\n"
     ]
    },
    {
     "name": "stdout",
     "output_type": "stream",
     "text": [
      "CHGG\n"
     ]
    },
    {
     "name": "stderr",
     "output_type": "stream",
     "text": [
      "C:\\Users\\ander\\Documents\\yahooScraper\\scrape\\lib\\site-packages\\cryptography\\x509\\base.py:531: CryptographyDeprecationWarning: Parsed a negative serial number, which is disallowed by RFC 5280.\n",
      "  return rust_x509.load_pem_x509_certificate(data)\n",
      "C:\\Users\\ander\\Documents\\yahooScraper\\scrape\\lib\\site-packages\\cryptography\\x509\\base.py:531: CryptographyDeprecationWarning: Parsed a negative serial number, which is disallowed by RFC 5280.\n",
      "  return rust_x509.load_pem_x509_certificate(data)\n",
      "C:\\Users\\ander\\Documents\\yahooScraper\\scrape\\lib\\site-packages\\cryptography\\x509\\base.py:531: CryptographyDeprecationWarning: Parsed a negative serial number, which is disallowed by RFC 5280.\n",
      "  return rust_x509.load_pem_x509_certificate(data)\n",
      "C:\\Users\\ander\\Documents\\yahooScraper\\scrape\\lib\\site-packages\\cryptography\\x509\\base.py:531: CryptographyDeprecationWarning: Parsed a negative serial number, which is disallowed by RFC 5280.\n",
      "  return rust_x509.load_pem_x509_certificate(data)\n",
      "C:\\Users\\ander\\Documents\\yahooScraper\\scrape\\lib\\site-packages\\cryptography\\x509\\base.py:531: CryptographyDeprecationWarning: Parsed a negative serial number, which is disallowed by RFC 5280.\n",
      "  return rust_x509.load_pem_x509_certificate(data)\n",
      "C:\\Users\\ander\\Documents\\yahooScraper\\scrape\\lib\\site-packages\\cryptography\\x509\\base.py:531: CryptographyDeprecationWarning: Parsed a negative serial number, which is disallowed by RFC 5280.\n",
      "  return rust_x509.load_pem_x509_certificate(data)\n",
      "C:\\Users\\ander\\Documents\\yahooScraper\\scrape\\lib\\site-packages\\cryptography\\x509\\base.py:531: CryptographyDeprecationWarning: Parsed a negative serial number, which is disallowed by RFC 5280.\n",
      "  return rust_x509.load_pem_x509_certificate(data)\n",
      "C:\\Users\\ander\\Documents\\yahooScraper\\scrape\\lib\\site-packages\\cryptography\\x509\\base.py:531: CryptographyDeprecationWarning: Parsed a negative serial number, which is disallowed by RFC 5280.\n",
      "  return rust_x509.load_pem_x509_certificate(data)\n",
      "C:\\Users\\ander\\Documents\\yahooScraper\\scrape\\lib\\site-packages\\cryptography\\x509\\base.py:531: CryptographyDeprecationWarning: Parsed a negative serial number, which is disallowed by RFC 5280.\n",
      "  return rust_x509.load_pem_x509_certificate(data)\n",
      "C:\\Users\\ander\\Documents\\yahooScraper\\scrape\\lib\\site-packages\\cryptography\\x509\\base.py:531: CryptographyDeprecationWarning: Parsed a negative serial number, which is disallowed by RFC 5280.\n",
      "  return rust_x509.load_pem_x509_certificate(data)\n",
      "C:\\Users\\ander\\Documents\\yahooScraper\\scrape\\lib\\site-packages\\cryptography\\x509\\base.py:531: CryptographyDeprecationWarning: Parsed a negative serial number, which is disallowed by RFC 5280.\n",
      "  return rust_x509.load_pem_x509_certificate(data)\n",
      "C:\\Users\\ander\\Documents\\yahooScraper\\scrape\\lib\\site-packages\\cryptography\\x509\\base.py:531: CryptographyDeprecationWarning: Parsed a negative serial number, which is disallowed by RFC 5280.\n",
      "  return rust_x509.load_pem_x509_certificate(data)\n",
      "C:\\Users\\ander\\Documents\\yahooScraper\\scrape\\lib\\site-packages\\cryptography\\x509\\base.py:531: CryptographyDeprecationWarning: Parsed a negative serial number, which is disallowed by RFC 5280.\n",
      "  return rust_x509.load_pem_x509_certificate(data)\n",
      "C:\\Users\\ander\\Documents\\yahooScraper\\scrape\\lib\\site-packages\\cryptography\\x509\\base.py:531: CryptographyDeprecationWarning: Parsed a negative serial number, which is disallowed by RFC 5280.\n",
      "  return rust_x509.load_pem_x509_certificate(data)\n",
      "C:\\Users\\ander\\Documents\\yahooScraper\\scrape\\lib\\site-packages\\cryptography\\x509\\base.py:531: CryptographyDeprecationWarning: Parsed a negative serial number, which is disallowed by RFC 5280.\n",
      "  return rust_x509.load_pem_x509_certificate(data)\n",
      "C:\\Users\\ander\\Documents\\yahooScraper\\scrape\\lib\\site-packages\\cryptography\\x509\\base.py:531: CryptographyDeprecationWarning: Parsed a negative serial number, which is disallowed by RFC 5280.\n",
      "  return rust_x509.load_pem_x509_certificate(data)\n",
      "C:\\Users\\ander\\Documents\\yahooScraper\\scrape\\lib\\site-packages\\cryptography\\x509\\base.py:531: CryptographyDeprecationWarning: Parsed a negative serial number, which is disallowed by RFC 5280.\n",
      "  return rust_x509.load_pem_x509_certificate(data)\n"
     ]
    },
    {
     "name": "stdout",
     "output_type": "stream",
     "text": [
      "CRSP\n"
     ]
    },
    {
     "name": "stderr",
     "output_type": "stream",
     "text": [
      "C:\\Users\\ander\\Documents\\yahooScraper\\scrape\\lib\\site-packages\\cryptography\\x509\\base.py:531: CryptographyDeprecationWarning: Parsed a negative serial number, which is disallowed by RFC 5280.\n",
      "  return rust_x509.load_pem_x509_certificate(data)\n",
      "C:\\Users\\ander\\Documents\\yahooScraper\\scrape\\lib\\site-packages\\cryptography\\x509\\base.py:531: CryptographyDeprecationWarning: Parsed a negative serial number, which is disallowed by RFC 5280.\n",
      "  return rust_x509.load_pem_x509_certificate(data)\n",
      "C:\\Users\\ander\\Documents\\yahooScraper\\scrape\\lib\\site-packages\\cryptography\\x509\\base.py:531: CryptographyDeprecationWarning: Parsed a negative serial number, which is disallowed by RFC 5280.\n",
      "  return rust_x509.load_pem_x509_certificate(data)\n",
      "C:\\Users\\ander\\Documents\\yahooScraper\\scrape\\lib\\site-packages\\cryptography\\x509\\base.py:531: CryptographyDeprecationWarning: Parsed a negative serial number, which is disallowed by RFC 5280.\n",
      "  return rust_x509.load_pem_x509_certificate(data)\n",
      "C:\\Users\\ander\\Documents\\yahooScraper\\scrape\\lib\\site-packages\\cryptography\\x509\\base.py:531: CryptographyDeprecationWarning: Parsed a negative serial number, which is disallowed by RFC 5280.\n",
      "  return rust_x509.load_pem_x509_certificate(data)\n",
      "C:\\Users\\ander\\Documents\\yahooScraper\\scrape\\lib\\site-packages\\cryptography\\x509\\base.py:531: CryptographyDeprecationWarning: Parsed a negative serial number, which is disallowed by RFC 5280.\n",
      "  return rust_x509.load_pem_x509_certificate(data)\n",
      "C:\\Users\\ander\\Documents\\yahooScraper\\scrape\\lib\\site-packages\\cryptography\\x509\\base.py:531: CryptographyDeprecationWarning: Parsed a negative serial number, which is disallowed by RFC 5280.\n",
      "  return rust_x509.load_pem_x509_certificate(data)\n",
      "C:\\Users\\ander\\Documents\\yahooScraper\\scrape\\lib\\site-packages\\cryptography\\x509\\base.py:531: CryptographyDeprecationWarning: Parsed a negative serial number, which is disallowed by RFC 5280.\n",
      "  return rust_x509.load_pem_x509_certificate(data)\n",
      "C:\\Users\\ander\\Documents\\yahooScraper\\scrape\\lib\\site-packages\\cryptography\\x509\\base.py:531: CryptographyDeprecationWarning: Parsed a negative serial number, which is disallowed by RFC 5280.\n",
      "  return rust_x509.load_pem_x509_certificate(data)\n",
      "C:\\Users\\ander\\Documents\\yahooScraper\\scrape\\lib\\site-packages\\cryptography\\x509\\base.py:531: CryptographyDeprecationWarning: Parsed a negative serial number, which is disallowed by RFC 5280.\n",
      "  return rust_x509.load_pem_x509_certificate(data)\n",
      "C:\\Users\\ander\\Documents\\yahooScraper\\scrape\\lib\\site-packages\\cryptography\\x509\\base.py:531: CryptographyDeprecationWarning: Parsed a negative serial number, which is disallowed by RFC 5280.\n",
      "  return rust_x509.load_pem_x509_certificate(data)\n",
      "C:\\Users\\ander\\Documents\\yahooScraper\\scrape\\lib\\site-packages\\cryptography\\x509\\base.py:531: CryptographyDeprecationWarning: Parsed a negative serial number, which is disallowed by RFC 5280.\n",
      "  return rust_x509.load_pem_x509_certificate(data)\n",
      "C:\\Users\\ander\\Documents\\yahooScraper\\scrape\\lib\\site-packages\\cryptography\\x509\\base.py:531: CryptographyDeprecationWarning: Parsed a negative serial number, which is disallowed by RFC 5280.\n",
      "  return rust_x509.load_pem_x509_certificate(data)\n",
      "C:\\Users\\ander\\Documents\\yahooScraper\\scrape\\lib\\site-packages\\cryptography\\x509\\base.py:531: CryptographyDeprecationWarning: Parsed a negative serial number, which is disallowed by RFC 5280.\n",
      "  return rust_x509.load_pem_x509_certificate(data)\n",
      "C:\\Users\\ander\\Documents\\yahooScraper\\scrape\\lib\\site-packages\\cryptography\\x509\\base.py:531: CryptographyDeprecationWarning: Parsed a negative serial number, which is disallowed by RFC 5280.\n",
      "  return rust_x509.load_pem_x509_certificate(data)\n",
      "C:\\Users\\ander\\Documents\\yahooScraper\\scrape\\lib\\site-packages\\cryptography\\x509\\base.py:531: CryptographyDeprecationWarning: Parsed a negative serial number, which is disallowed by RFC 5280.\n",
      "  return rust_x509.load_pem_x509_certificate(data)\n"
     ]
    },
    {
     "name": "stdout",
     "output_type": "stream",
     "text": [
      "ALK\n"
     ]
    },
    {
     "name": "stderr",
     "output_type": "stream",
     "text": [
      "C:\\Users\\ander\\Documents\\yahooScraper\\scrape\\lib\\site-packages\\cryptography\\x509\\base.py:531: CryptographyDeprecationWarning: Parsed a negative serial number, which is disallowed by RFC 5280.\n",
      "  return rust_x509.load_pem_x509_certificate(data)\n",
      "C:\\Users\\ander\\Documents\\yahooScraper\\scrape\\lib\\site-packages\\cryptography\\x509\\base.py:531: CryptographyDeprecationWarning: Parsed a negative serial number, which is disallowed by RFC 5280.\n",
      "  return rust_x509.load_pem_x509_certificate(data)\n"
     ]
    },
    {
     "name": "stdout",
     "output_type": "stream",
     "text": [
      "AUPH\n"
     ]
    },
    {
     "name": "stderr",
     "output_type": "stream",
     "text": [
      "C:\\Users\\ander\\Documents\\yahooScraper\\scrape\\lib\\site-packages\\cryptography\\x509\\base.py:531: CryptographyDeprecationWarning: Parsed a negative serial number, which is disallowed by RFC 5280.\n",
      "  return rust_x509.load_pem_x509_certificate(data)\n",
      "C:\\Users\\ander\\Documents\\yahooScraper\\scrape\\lib\\site-packages\\cryptography\\x509\\base.py:531: CryptographyDeprecationWarning: Parsed a negative serial number, which is disallowed by RFC 5280.\n",
      "  return rust_x509.load_pem_x509_certificate(data)\n",
      "C:\\Users\\ander\\Documents\\yahooScraper\\scrape\\lib\\site-packages\\cryptography\\x509\\base.py:531: CryptographyDeprecationWarning: Parsed a negative serial number, which is disallowed by RFC 5280.\n",
      "  return rust_x509.load_pem_x509_certificate(data)\n"
     ]
    },
    {
     "name": "stdout",
     "output_type": "stream",
     "text": [
      "AMR\n"
     ]
    },
    {
     "name": "stderr",
     "output_type": "stream",
     "text": [
      "C:\\Users\\ander\\Documents\\yahooScraper\\scrape\\lib\\site-packages\\cryptography\\x509\\base.py:531: CryptographyDeprecationWarning: Parsed a negative serial number, which is disallowed by RFC 5280.\n",
      "  return rust_x509.load_pem_x509_certificate(data)\n",
      "C:\\Users\\ander\\Documents\\yahooScraper\\scrape\\lib\\site-packages\\cryptography\\x509\\base.py:531: CryptographyDeprecationWarning: Parsed a negative serial number, which is disallowed by RFC 5280.\n",
      "  return rust_x509.load_pem_x509_certificate(data)\n",
      "C:\\Users\\ander\\Documents\\yahooScraper\\scrape\\lib\\site-packages\\cryptography\\x509\\base.py:531: CryptographyDeprecationWarning: Parsed a negative serial number, which is disallowed by RFC 5280.\n",
      "  return rust_x509.load_pem_x509_certificate(data)\n",
      "C:\\Users\\ander\\Documents\\yahooScraper\\scrape\\lib\\site-packages\\cryptography\\x509\\base.py:531: CryptographyDeprecationWarning: Parsed a negative serial number, which is disallowed by RFC 5280.\n",
      "  return rust_x509.load_pem_x509_certificate(data)\n"
     ]
    },
    {
     "name": "stdout",
     "output_type": "stream",
     "text": [
      "BBIG\n"
     ]
    },
    {
     "name": "stderr",
     "output_type": "stream",
     "text": [
      "C:\\Users\\ander\\Documents\\yahooScraper\\scrape\\lib\\site-packages\\cryptography\\x509\\base.py:531: CryptographyDeprecationWarning: Parsed a negative serial number, which is disallowed by RFC 5280.\n",
      "  return rust_x509.load_pem_x509_certificate(data)\n",
      "C:\\Users\\ander\\Documents\\yahooScraper\\scrape\\lib\\site-packages\\cryptography\\x509\\base.py:531: CryptographyDeprecationWarning: Parsed a negative serial number, which is disallowed by RFC 5280.\n",
      "  return rust_x509.load_pem_x509_certificate(data)\n"
     ]
    },
    {
     "name": "stdout",
     "output_type": "stream",
     "text": [
      "BE\n"
     ]
    },
    {
     "name": "stderr",
     "output_type": "stream",
     "text": [
      "C:\\Users\\ander\\Documents\\yahooScraper\\scrape\\lib\\site-packages\\cryptography\\x509\\base.py:531: CryptographyDeprecationWarning: Parsed a negative serial number, which is disallowed by RFC 5280.\n",
      "  return rust_x509.load_pem_x509_certificate(data)\n",
      "C:\\Users\\ander\\Documents\\yahooScraper\\scrape\\lib\\site-packages\\cryptography\\x509\\base.py:531: CryptographyDeprecationWarning: Parsed a negative serial number, which is disallowed by RFC 5280.\n",
      "  return rust_x509.load_pem_x509_certificate(data)\n",
      "C:\\Users\\ander\\Documents\\yahooScraper\\scrape\\lib\\site-packages\\cryptography\\x509\\base.py:531: CryptographyDeprecationWarning: Parsed a negative serial number, which is disallowed by RFC 5280.\n",
      "  return rust_x509.load_pem_x509_certificate(data)\n",
      "C:\\Users\\ander\\Documents\\yahooScraper\\scrape\\lib\\site-packages\\cryptography\\x509\\base.py:531: CryptographyDeprecationWarning: Parsed a negative serial number, which is disallowed by RFC 5280.\n",
      "  return rust_x509.load_pem_x509_certificate(data)\n",
      "C:\\Users\\ander\\Documents\\yahooScraper\\scrape\\lib\\site-packages\\cryptography\\x509\\base.py:531: CryptographyDeprecationWarning: Parsed a negative serial number, which is disallowed by RFC 5280.\n",
      "  return rust_x509.load_pem_x509_certificate(data)\n",
      "C:\\Users\\ander\\Documents\\yahooScraper\\scrape\\lib\\site-packages\\cryptography\\x509\\base.py:531: CryptographyDeprecationWarning: Parsed a negative serial number, which is disallowed by RFC 5280.\n",
      "  return rust_x509.load_pem_x509_certificate(data)\n",
      "C:\\Users\\ander\\Documents\\yahooScraper\\scrape\\lib\\site-packages\\cryptography\\x509\\base.py:531: CryptographyDeprecationWarning: Parsed a negative serial number, which is disallowed by RFC 5280.\n",
      "  return rust_x509.load_pem_x509_certificate(data)\n",
      "C:\\Users\\ander\\Documents\\yahooScraper\\scrape\\lib\\site-packages\\cryptography\\x509\\base.py:531: CryptographyDeprecationWarning: Parsed a negative serial number, which is disallowed by RFC 5280.\n",
      "  return rust_x509.load_pem_x509_certificate(data)\n",
      "C:\\Users\\ander\\Documents\\yahooScraper\\scrape\\lib\\site-packages\\cryptography\\x509\\base.py:531: CryptographyDeprecationWarning: Parsed a negative serial number, which is disallowed by RFC 5280.\n",
      "  return rust_x509.load_pem_x509_certificate(data)\n",
      "C:\\Users\\ander\\Documents\\yahooScraper\\scrape\\lib\\site-packages\\cryptography\\x509\\base.py:531: CryptographyDeprecationWarning: Parsed a negative serial number, which is disallowed by RFC 5280.\n",
      "  return rust_x509.load_pem_x509_certificate(data)\n",
      "C:\\Users\\ander\\Documents\\yahooScraper\\scrape\\lib\\site-packages\\cryptography\\x509\\base.py:531: CryptographyDeprecationWarning: Parsed a negative serial number, which is disallowed by RFC 5280.\n",
      "  return rust_x509.load_pem_x509_certificate(data)\n",
      "C:\\Users\\ander\\Documents\\yahooScraper\\scrape\\lib\\site-packages\\cryptography\\x509\\base.py:531: CryptographyDeprecationWarning: Parsed a negative serial number, which is disallowed by RFC 5280.\n",
      "  return rust_x509.load_pem_x509_certificate(data)\n",
      "C:\\Users\\ander\\Documents\\yahooScraper\\scrape\\lib\\site-packages\\cryptography\\x509\\base.py:531: CryptographyDeprecationWarning: Parsed a negative serial number, which is disallowed by RFC 5280.\n",
      "  return rust_x509.load_pem_x509_certificate(data)\n",
      "C:\\Users\\ander\\Documents\\yahooScraper\\scrape\\lib\\site-packages\\cryptography\\x509\\base.py:531: CryptographyDeprecationWarning: Parsed a negative serial number, which is disallowed by RFC 5280.\n",
      "  return rust_x509.load_pem_x509_certificate(data)\n",
      "C:\\Users\\ander\\Documents\\yahooScraper\\scrape\\lib\\site-packages\\cryptography\\x509\\base.py:531: CryptographyDeprecationWarning: Parsed a negative serial number, which is disallowed by RFC 5280.\n",
      "  return rust_x509.load_pem_x509_certificate(data)\n",
      "C:\\Users\\ander\\Documents\\yahooScraper\\scrape\\lib\\site-packages\\cryptography\\x509\\base.py:531: CryptographyDeprecationWarning: Parsed a negative serial number, which is disallowed by RFC 5280.\n",
      "  return rust_x509.load_pem_x509_certificate(data)\n",
      "C:\\Users\\ander\\Documents\\yahooScraper\\scrape\\lib\\site-packages\\cryptography\\x509\\base.py:531: CryptographyDeprecationWarning: Parsed a negative serial number, which is disallowed by RFC 5280.\n",
      "  return rust_x509.load_pem_x509_certificate(data)\n",
      "C:\\Users\\ander\\Documents\\yahooScraper\\scrape\\lib\\site-packages\\cryptography\\x509\\base.py:531: CryptographyDeprecationWarning: Parsed a negative serial number, which is disallowed by RFC 5280.\n",
      "  return rust_x509.load_pem_x509_certificate(data)\n",
      "C:\\Users\\ander\\Documents\\yahooScraper\\scrape\\lib\\site-packages\\cryptography\\x509\\base.py:531: CryptographyDeprecationWarning: Parsed a negative serial number, which is disallowed by RFC 5280.\n",
      "  return rust_x509.load_pem_x509_certificate(data)\n",
      "C:\\Users\\ander\\Documents\\yahooScraper\\scrape\\lib\\site-packages\\cryptography\\x509\\base.py:531: CryptographyDeprecationWarning: Parsed a negative serial number, which is disallowed by RFC 5280.\n",
      "  return rust_x509.load_pem_x509_certificate(data)\n",
      "C:\\Users\\ander\\Documents\\yahooScraper\\scrape\\lib\\site-packages\\cryptography\\x509\\base.py:531: CryptographyDeprecationWarning: Parsed a negative serial number, which is disallowed by RFC 5280.\n",
      "  return rust_x509.load_pem_x509_certificate(data)\n",
      "C:\\Users\\ander\\Documents\\yahooScraper\\scrape\\lib\\site-packages\\cryptography\\x509\\base.py:531: CryptographyDeprecationWarning: Parsed a negative serial number, which is disallowed by RFC 5280.\n",
      "  return rust_x509.load_pem_x509_certificate(data)\n",
      "C:\\Users\\ander\\Documents\\yahooScraper\\indicator_daily.py:289: RuntimeWarning: invalid value encountered in log\n",
      "  r = f['y0'] + f['probability']*0.68 * self.vol_factor/0.5 + f['iv']*self.iv + f['vix']*self.vix + f['days_to_strike']*self.days_to_strike + f['sqr_rel_risk']*np.log(self.risk_rel)\n",
      "C:\\Users\\ander\\Documents\\yahooScraper\\scrape\\lib\\site-packages\\cryptography\\x509\\base.py:531: CryptographyDeprecationWarning: Parsed a negative serial number, which is disallowed by RFC 5280.\n",
      "  return rust_x509.load_pem_x509_certificate(data)\n",
      "C:\\Users\\ander\\Documents\\yahooScraper\\scrape\\lib\\site-packages\\cryptography\\x509\\base.py:531: CryptographyDeprecationWarning: Parsed a negative serial number, which is disallowed by RFC 5280.\n",
      "  return rust_x509.load_pem_x509_certificate(data)\n",
      "C:\\Users\\ander\\Documents\\yahooScraper\\scrape\\lib\\site-packages\\cryptography\\x509\\base.py:531: CryptographyDeprecationWarning: Parsed a negative serial number, which is disallowed by RFC 5280.\n",
      "  return rust_x509.load_pem_x509_certificate(data)\n",
      "C:\\Users\\ander\\Documents\\yahooScraper\\scrape\\lib\\site-packages\\cryptography\\x509\\base.py:531: CryptographyDeprecationWarning: Parsed a negative serial number, which is disallowed by RFC 5280.\n",
      "  return rust_x509.load_pem_x509_certificate(data)\n",
      "C:\\Users\\ander\\Documents\\yahooScraper\\scrape\\lib\\site-packages\\cryptography\\x509\\base.py:531: CryptographyDeprecationWarning: Parsed a negative serial number, which is disallowed by RFC 5280.\n",
      "  return rust_x509.load_pem_x509_certificate(data)\n",
      "C:\\Users\\ander\\Documents\\yahooScraper\\scrape\\lib\\site-packages\\cryptography\\x509\\base.py:531: CryptographyDeprecationWarning: Parsed a negative serial number, which is disallowed by RFC 5280.\n",
      "  return rust_x509.load_pem_x509_certificate(data)\n",
      "C:\\Users\\ander\\Documents\\yahooScraper\\scrape\\lib\\site-packages\\cryptography\\x509\\base.py:531: CryptographyDeprecationWarning: Parsed a negative serial number, which is disallowed by RFC 5280.\n",
      "  return rust_x509.load_pem_x509_certificate(data)\n",
      "C:\\Users\\ander\\Documents\\yahooScraper\\scrape\\lib\\site-packages\\cryptography\\x509\\base.py:531: CryptographyDeprecationWarning: Parsed a negative serial number, which is disallowed by RFC 5280.\n",
      "  return rust_x509.load_pem_x509_certificate(data)\n",
      "C:\\Users\\ander\\Documents\\yahooScraper\\scrape\\lib\\site-packages\\cryptography\\x509\\base.py:531: CryptographyDeprecationWarning: Parsed a negative serial number, which is disallowed by RFC 5280.\n",
      "  return rust_x509.load_pem_x509_certificate(data)\n",
      "C:\\Users\\ander\\Documents\\yahooScraper\\scrape\\lib\\site-packages\\cryptography\\x509\\base.py:531: CryptographyDeprecationWarning: Parsed a negative serial number, which is disallowed by RFC 5280.\n",
      "  return rust_x509.load_pem_x509_certificate(data)\n",
      "C:\\Users\\ander\\Documents\\yahooScraper\\scrape\\lib\\site-packages\\cryptography\\x509\\base.py:531: CryptographyDeprecationWarning: Parsed a negative serial number, which is disallowed by RFC 5280.\n",
      "  return rust_x509.load_pem_x509_certificate(data)\n"
     ]
    },
    {
     "name": "stderr",
     "output_type": "stream",
     "text": [
      "C:\\Users\\ander\\Documents\\yahooScraper\\scrape\\lib\\site-packages\\cryptography\\x509\\base.py:531: CryptographyDeprecationWarning: Parsed a negative serial number, which is disallowed by RFC 5280.\n",
      "  return rust_x509.load_pem_x509_certificate(data)\n",
      "C:\\Users\\ander\\Documents\\yahooScraper\\scrape\\lib\\site-packages\\cryptography\\x509\\base.py:531: CryptographyDeprecationWarning: Parsed a negative serial number, which is disallowed by RFC 5280.\n",
      "  return rust_x509.load_pem_x509_certificate(data)\n",
      "C:\\Users\\ander\\Documents\\yahooScraper\\scrape\\lib\\site-packages\\cryptography\\x509\\base.py:531: CryptographyDeprecationWarning: Parsed a negative serial number, which is disallowed by RFC 5280.\n",
      "  return rust_x509.load_pem_x509_certificate(data)\n",
      "C:\\Users\\ander\\Documents\\yahooScraper\\scrape\\lib\\site-packages\\cryptography\\x509\\base.py:531: CryptographyDeprecationWarning: Parsed a negative serial number, which is disallowed by RFC 5280.\n",
      "  return rust_x509.load_pem_x509_certificate(data)\n",
      "C:\\Users\\ander\\Documents\\yahooScraper\\scrape\\lib\\site-packages\\cryptography\\x509\\base.py:531: CryptographyDeprecationWarning: Parsed a negative serial number, which is disallowed by RFC 5280.\n",
      "  return rust_x509.load_pem_x509_certificate(data)\n",
      "C:\\Users\\ander\\Documents\\yahooScraper\\scrape\\lib\\site-packages\\cryptography\\x509\\base.py:531: CryptographyDeprecationWarning: Parsed a negative serial number, which is disallowed by RFC 5280.\n",
      "  return rust_x509.load_pem_x509_certificate(data)\n",
      "C:\\Users\\ander\\Documents\\yahooScraper\\scrape\\lib\\site-packages\\cryptography\\x509\\base.py:531: CryptographyDeprecationWarning: Parsed a negative serial number, which is disallowed by RFC 5280.\n",
      "  return rust_x509.load_pem_x509_certificate(data)\n"
     ]
    },
    {
     "name": "stdout",
     "output_type": "stream",
     "text": [
      "SPG\n"
     ]
    },
    {
     "name": "stderr",
     "output_type": "stream",
     "text": [
      "C:\\Users\\ander\\Documents\\yahooScraper\\scrape\\lib\\site-packages\\cryptography\\x509\\base.py:531: CryptographyDeprecationWarning: Parsed a negative serial number, which is disallowed by RFC 5280.\n",
      "  return rust_x509.load_pem_x509_certificate(data)\n",
      "C:\\Users\\ander\\Documents\\yahooScraper\\scrape\\lib\\site-packages\\cryptography\\x509\\base.py:531: CryptographyDeprecationWarning: Parsed a negative serial number, which is disallowed by RFC 5280.\n",
      "  return rust_x509.load_pem_x509_certificate(data)\n",
      "C:\\Users\\ander\\Documents\\yahooScraper\\scrape\\lib\\site-packages\\cryptography\\x509\\base.py:531: CryptographyDeprecationWarning: Parsed a negative serial number, which is disallowed by RFC 5280.\n",
      "  return rust_x509.load_pem_x509_certificate(data)\n",
      "C:\\Users\\ander\\Documents\\yahooScraper\\scrape\\lib\\site-packages\\cryptography\\x509\\base.py:531: CryptographyDeprecationWarning: Parsed a negative serial number, which is disallowed by RFC 5280.\n",
      "  return rust_x509.load_pem_x509_certificate(data)\n",
      "C:\\Users\\ander\\Documents\\yahooScraper\\scrape\\lib\\site-packages\\cryptography\\x509\\base.py:531: CryptographyDeprecationWarning: Parsed a negative serial number, which is disallowed by RFC 5280.\n",
      "  return rust_x509.load_pem_x509_certificate(data)\n",
      "C:\\Users\\ander\\Documents\\yahooScraper\\scrape\\lib\\site-packages\\cryptography\\x509\\base.py:531: CryptographyDeprecationWarning: Parsed a negative serial number, which is disallowed by RFC 5280.\n",
      "  return rust_x509.load_pem_x509_certificate(data)\n",
      "C:\\Users\\ander\\Documents\\yahooScraper\\scrape\\lib\\site-packages\\cryptography\\x509\\base.py:531: CryptographyDeprecationWarning: Parsed a negative serial number, which is disallowed by RFC 5280.\n",
      "  return rust_x509.load_pem_x509_certificate(data)\n",
      "C:\\Users\\ander\\Documents\\yahooScraper\\scrape\\lib\\site-packages\\cryptography\\x509\\base.py:531: CryptographyDeprecationWarning: Parsed a negative serial number, which is disallowed by RFC 5280.\n",
      "  return rust_x509.load_pem_x509_certificate(data)\n",
      "C:\\Users\\ander\\Documents\\yahooScraper\\scrape\\lib\\site-packages\\cryptography\\x509\\base.py:531: CryptographyDeprecationWarning: Parsed a negative serial number, which is disallowed by RFC 5280.\n",
      "  return rust_x509.load_pem_x509_certificate(data)\n",
      "C:\\Users\\ander\\Documents\\yahooScraper\\scrape\\lib\\site-packages\\cryptography\\x509\\base.py:531: CryptographyDeprecationWarning: Parsed a negative serial number, which is disallowed by RFC 5280.\n",
      "  return rust_x509.load_pem_x509_certificate(data)\n",
      "C:\\Users\\ander\\Documents\\yahooScraper\\scrape\\lib\\site-packages\\cryptography\\x509\\base.py:531: CryptographyDeprecationWarning: Parsed a negative serial number, which is disallowed by RFC 5280.\n",
      "  return rust_x509.load_pem_x509_certificate(data)\n",
      "C:\\Users\\ander\\Documents\\yahooScraper\\scrape\\lib\\site-packages\\cryptography\\x509\\base.py:531: CryptographyDeprecationWarning: Parsed a negative serial number, which is disallowed by RFC 5280.\n",
      "  return rust_x509.load_pem_x509_certificate(data)\n",
      "C:\\Users\\ander\\Documents\\yahooScraper\\scrape\\lib\\site-packages\\cryptography\\x509\\base.py:531: CryptographyDeprecationWarning: Parsed a negative serial number, which is disallowed by RFC 5280.\n",
      "  return rust_x509.load_pem_x509_certificate(data)\n",
      "C:\\Users\\ander\\Documents\\yahooScraper\\scrape\\lib\\site-packages\\cryptography\\x509\\base.py:531: CryptographyDeprecationWarning: Parsed a negative serial number, which is disallowed by RFC 5280.\n",
      "  return rust_x509.load_pem_x509_certificate(data)\n",
      "C:\\Users\\ander\\Documents\\yahooScraper\\scrape\\lib\\site-packages\\cryptography\\x509\\base.py:531: CryptographyDeprecationWarning: Parsed a negative serial number, which is disallowed by RFC 5280.\n",
      "  return rust_x509.load_pem_x509_certificate(data)\n",
      "C:\\Users\\ander\\Documents\\yahooScraper\\scrape\\lib\\site-packages\\cryptography\\x509\\base.py:531: CryptographyDeprecationWarning: Parsed a negative serial number, which is disallowed by RFC 5280.\n",
      "  return rust_x509.load_pem_x509_certificate(data)\n",
      "C:\\Users\\ander\\Documents\\yahooScraper\\scrape\\lib\\site-packages\\cryptography\\x509\\base.py:531: CryptographyDeprecationWarning: Parsed a negative serial number, which is disallowed by RFC 5280.\n",
      "  return rust_x509.load_pem_x509_certificate(data)\n"
     ]
    },
    {
     "name": "stdout",
     "output_type": "stream",
     "text": [
      "MGI\n"
     ]
    },
    {
     "name": "stderr",
     "output_type": "stream",
     "text": [
      "C:\\Users\\ander\\Documents\\yahooScraper\\scrape\\lib\\site-packages\\cryptography\\x509\\base.py:531: CryptographyDeprecationWarning: Parsed a negative serial number, which is disallowed by RFC 5280.\n",
      "  return rust_x509.load_pem_x509_certificate(data)\n",
      "C:\\Users\\ander\\Documents\\yahooScraper\\scrape\\lib\\site-packages\\cryptography\\x509\\base.py:531: CryptographyDeprecationWarning: Parsed a negative serial number, which is disallowed by RFC 5280.\n",
      "  return rust_x509.load_pem_x509_certificate(data)\n",
      "C:\\Users\\ander\\Documents\\yahooScraper\\scrape\\lib\\site-packages\\cryptography\\x509\\base.py:531: CryptographyDeprecationWarning: Parsed a negative serial number, which is disallowed by RFC 5280.\n",
      "  return rust_x509.load_pem_x509_certificate(data)\n"
     ]
    },
    {
     "name": "stdout",
     "output_type": "stream",
     "text": [
      "BAND\n"
     ]
    },
    {
     "name": "stderr",
     "output_type": "stream",
     "text": [
      "C:\\Users\\ander\\Documents\\yahooScraper\\scrape\\lib\\site-packages\\cryptography\\x509\\base.py:531: CryptographyDeprecationWarning: Parsed a negative serial number, which is disallowed by RFC 5280.\n",
      "  return rust_x509.load_pem_x509_certificate(data)\n"
     ]
    },
    {
     "name": "stdout",
     "output_type": "stream",
     "text": [
      "A\n"
     ]
    },
    {
     "name": "stderr",
     "output_type": "stream",
     "text": [
      "C:\\Users\\ander\\Documents\\yahooScraper\\scrape\\lib\\site-packages\\cryptography\\x509\\base.py:531: CryptographyDeprecationWarning: Parsed a negative serial number, which is disallowed by RFC 5280.\n",
      "  return rust_x509.load_pem_x509_certificate(data)\n",
      "C:\\Users\\ander\\Documents\\yahooScraper\\scrape\\lib\\site-packages\\cryptography\\x509\\base.py:531: CryptographyDeprecationWarning: Parsed a negative serial number, which is disallowed by RFC 5280.\n",
      "  return rust_x509.load_pem_x509_certificate(data)\n",
      "C:\\Users\\ander\\Documents\\yahooScraper\\scrape\\lib\\site-packages\\cryptography\\x509\\base.py:531: CryptographyDeprecationWarning: Parsed a negative serial number, which is disallowed by RFC 5280.\n",
      "  return rust_x509.load_pem_x509_certificate(data)\n"
     ]
    },
    {
     "name": "stdout",
     "output_type": "stream",
     "text": [
      "ABC\n"
     ]
    },
    {
     "name": "stderr",
     "output_type": "stream",
     "text": [
      "C:\\Users\\ander\\Documents\\yahooScraper\\scrape\\lib\\site-packages\\cryptography\\x509\\base.py:531: CryptographyDeprecationWarning: Parsed a negative serial number, which is disallowed by RFC 5280.\n",
      "  return rust_x509.load_pem_x509_certificate(data)\n",
      "C:\\Users\\ander\\Documents\\yahooScraper\\scrape\\lib\\site-packages\\cryptography\\x509\\base.py:531: CryptographyDeprecationWarning: Parsed a negative serial number, which is disallowed by RFC 5280.\n",
      "  return rust_x509.load_pem_x509_certificate(data)\n",
      "C:\\Users\\ander\\Documents\\yahooScraper\\scrape\\lib\\site-packages\\cryptography\\x509\\base.py:531: CryptographyDeprecationWarning: Parsed a negative serial number, which is disallowed by RFC 5280.\n",
      "  return rust_x509.load_pem_x509_certificate(data)\n",
      "C:\\Users\\ander\\Documents\\yahooScraper\\scrape\\lib\\site-packages\\cryptography\\x509\\base.py:531: CryptographyDeprecationWarning: Parsed a negative serial number, which is disallowed by RFC 5280.\n",
      "  return rust_x509.load_pem_x509_certificate(data)\n",
      "C:\\Users\\ander\\Documents\\yahooScraper\\scrape\\lib\\site-packages\\cryptography\\x509\\base.py:531: CryptographyDeprecationWarning: Parsed a negative serial number, which is disallowed by RFC 5280.\n",
      "  return rust_x509.load_pem_x509_certificate(data)\n",
      "C:\\Users\\ander\\Documents\\yahooScraper\\scrape\\lib\\site-packages\\cryptography\\x509\\base.py:531: CryptographyDeprecationWarning: Parsed a negative serial number, which is disallowed by RFC 5280.\n",
      "  return rust_x509.load_pem_x509_certificate(data)\n",
      "C:\\Users\\ander\\Documents\\yahooScraper\\scrape\\lib\\site-packages\\cryptography\\x509\\base.py:531: CryptographyDeprecationWarning: Parsed a negative serial number, which is disallowed by RFC 5280.\n",
      "  return rust_x509.load_pem_x509_certificate(data)\n",
      "C:\\Users\\ander\\Documents\\yahooScraper\\scrape\\lib\\site-packages\\cryptography\\x509\\base.py:531: CryptographyDeprecationWarning: Parsed a negative serial number, which is disallowed by RFC 5280.\n",
      "  return rust_x509.load_pem_x509_certificate(data)\n",
      "C:\\Users\\ander\\Documents\\yahooScraper\\scrape\\lib\\site-packages\\cryptography\\x509\\base.py:531: CryptographyDeprecationWarning: Parsed a negative serial number, which is disallowed by RFC 5280.\n",
      "  return rust_x509.load_pem_x509_certificate(data)\n",
      "C:\\Users\\ander\\Documents\\yahooScraper\\scrape\\lib\\site-packages\\cryptography\\x509\\base.py:531: CryptographyDeprecationWarning: Parsed a negative serial number, which is disallowed by RFC 5280.\n",
      "  return rust_x509.load_pem_x509_certificate(data)\n",
      "C:\\Users\\ander\\Documents\\yahooScraper\\indicator_daily.py:289: RuntimeWarning: invalid value encountered in log\n",
      "  r = f['y0'] + f['probability']*0.68 * self.vol_factor/0.5 + f['iv']*self.iv + f['vix']*self.vix + f['days_to_strike']*self.days_to_strike + f['sqr_rel_risk']*np.log(self.risk_rel)\n",
      "C:\\Users\\ander\\Documents\\yahooScraper\\scrape\\lib\\site-packages\\cryptography\\x509\\base.py:531: CryptographyDeprecationWarning: Parsed a negative serial number, which is disallowed by RFC 5280.\n",
      "  return rust_x509.load_pem_x509_certificate(data)\n",
      "C:\\Users\\ander\\Documents\\yahooScraper\\scrape\\lib\\site-packages\\cryptography\\x509\\base.py:531: CryptographyDeprecationWarning: Parsed a negative serial number, which is disallowed by RFC 5280.\n",
      "  return rust_x509.load_pem_x509_certificate(data)\n",
      "C:\\Users\\ander\\Documents\\yahooScraper\\scrape\\lib\\site-packages\\cryptography\\x509\\base.py:531: CryptographyDeprecationWarning: Parsed a negative serial number, which is disallowed by RFC 5280.\n",
      "  return rust_x509.load_pem_x509_certificate(data)\n",
      "C:\\Users\\ander\\Documents\\yahooScraper\\scrape\\lib\\site-packages\\cryptography\\x509\\base.py:531: CryptographyDeprecationWarning: Parsed a negative serial number, which is disallowed by RFC 5280.\n",
      "  return rust_x509.load_pem_x509_certificate(data)\n",
      "C:\\Users\\ander\\Documents\\yahooScraper\\scrape\\lib\\site-packages\\cryptography\\x509\\base.py:531: CryptographyDeprecationWarning: Parsed a negative serial number, which is disallowed by RFC 5280.\n",
      "  return rust_x509.load_pem_x509_certificate(data)\n",
      "C:\\Users\\ander\\Documents\\yahooScraper\\scrape\\lib\\site-packages\\cryptography\\x509\\base.py:531: CryptographyDeprecationWarning: Parsed a negative serial number, which is disallowed by RFC 5280.\n",
      "  return rust_x509.load_pem_x509_certificate(data)\n",
      "C:\\Users\\ander\\Documents\\yahooScraper\\scrape\\lib\\site-packages\\cryptography\\x509\\base.py:531: CryptographyDeprecationWarning: Parsed a negative serial number, which is disallowed by RFC 5280.\n",
      "  return rust_x509.load_pem_x509_certificate(data)\n",
      "C:\\Users\\ander\\Documents\\yahooScraper\\scrape\\lib\\site-packages\\cryptography\\x509\\base.py:531: CryptographyDeprecationWarning: Parsed a negative serial number, which is disallowed by RFC 5280.\n",
      "  return rust_x509.load_pem_x509_certificate(data)\n",
      "C:\\Users\\ander\\Documents\\yahooScraper\\scrape\\lib\\site-packages\\cryptography\\x509\\base.py:531: CryptographyDeprecationWarning: Parsed a negative serial number, which is disallowed by RFC 5280.\n",
      "  return rust_x509.load_pem_x509_certificate(data)\n",
      "C:\\Users\\ander\\Documents\\yahooScraper\\scrape\\lib\\site-packages\\cryptography\\x509\\base.py:531: CryptographyDeprecationWarning: Parsed a negative serial number, which is disallowed by RFC 5280.\n",
      "  return rust_x509.load_pem_x509_certificate(data)\n",
      "C:\\Users\\ander\\Documents\\yahooScraper\\scrape\\lib\\site-packages\\cryptography\\x509\\base.py:531: CryptographyDeprecationWarning: Parsed a negative serial number, which is disallowed by RFC 5280.\n",
      "  return rust_x509.load_pem_x509_certificate(data)\n",
      "C:\\Users\\ander\\Documents\\yahooScraper\\scrape\\lib\\site-packages\\cryptography\\x509\\base.py:531: CryptographyDeprecationWarning: Parsed a negative serial number, which is disallowed by RFC 5280.\n",
      "  return rust_x509.load_pem_x509_certificate(data)\n",
      "C:\\Users\\ander\\Documents\\yahooScraper\\scrape\\lib\\site-packages\\cryptography\\x509\\base.py:531: CryptographyDeprecationWarning: Parsed a negative serial number, which is disallowed by RFC 5280.\n",
      "  return rust_x509.load_pem_x509_certificate(data)\n",
      "C:\\Users\\ander\\Documents\\yahooScraper\\scrape\\lib\\site-packages\\cryptography\\x509\\base.py:531: CryptographyDeprecationWarning: Parsed a negative serial number, which is disallowed by RFC 5280.\n",
      "  return rust_x509.load_pem_x509_certificate(data)\n"
     ]
    },
    {
     "name": "stdout",
     "output_type": "stream",
     "text": [
      "NKE\n"
     ]
    },
    {
     "name": "stderr",
     "output_type": "stream",
     "text": [
      "C:\\Users\\ander\\Documents\\yahooScraper\\scrape\\lib\\site-packages\\cryptography\\x509\\base.py:531: CryptographyDeprecationWarning: Parsed a negative serial number, which is disallowed by RFC 5280.\n",
      "  return rust_x509.load_pem_x509_certificate(data)\n",
      "C:\\Users\\ander\\Documents\\yahooScraper\\scrape\\lib\\site-packages\\cryptography\\x509\\base.py:531: CryptographyDeprecationWarning: Parsed a negative serial number, which is disallowed by RFC 5280.\n",
      "  return rust_x509.load_pem_x509_certificate(data)\n",
      "C:\\Users\\ander\\Documents\\yahooScraper\\scrape\\lib\\site-packages\\cryptography\\x509\\base.py:531: CryptographyDeprecationWarning: Parsed a negative serial number, which is disallowed by RFC 5280.\n",
      "  return rust_x509.load_pem_x509_certificate(data)\n",
      "C:\\Users\\ander\\Documents\\yahooScraper\\scrape\\lib\\site-packages\\cryptography\\x509\\base.py:531: CryptographyDeprecationWarning: Parsed a negative serial number, which is disallowed by RFC 5280.\n",
      "  return rust_x509.load_pem_x509_certificate(data)\n",
      "C:\\Users\\ander\\Documents\\yahooScraper\\scrape\\lib\\site-packages\\cryptography\\x509\\base.py:531: CryptographyDeprecationWarning: Parsed a negative serial number, which is disallowed by RFC 5280.\n",
      "  return rust_x509.load_pem_x509_certificate(data)\n",
      "C:\\Users\\ander\\Documents\\yahooScraper\\scrape\\lib\\site-packages\\cryptography\\x509\\base.py:531: CryptographyDeprecationWarning: Parsed a negative serial number, which is disallowed by RFC 5280.\n",
      "  return rust_x509.load_pem_x509_certificate(data)\n",
      "C:\\Users\\ander\\Documents\\yahooScraper\\scrape\\lib\\site-packages\\cryptography\\x509\\base.py:531: CryptographyDeprecationWarning: Parsed a negative serial number, which is disallowed by RFC 5280.\n",
      "  return rust_x509.load_pem_x509_certificate(data)\n",
      "C:\\Users\\ander\\Documents\\yahooScraper\\scrape\\lib\\site-packages\\cryptography\\x509\\base.py:531: CryptographyDeprecationWarning: Parsed a negative serial number, which is disallowed by RFC 5280.\n",
      "  return rust_x509.load_pem_x509_certificate(data)\n",
      "C:\\Users\\ander\\Documents\\yahooScraper\\scrape\\lib\\site-packages\\cryptography\\x509\\base.py:531: CryptographyDeprecationWarning: Parsed a negative serial number, which is disallowed by RFC 5280.\n",
      "  return rust_x509.load_pem_x509_certificate(data)\n",
      "C:\\Users\\ander\\Documents\\yahooScraper\\scrape\\lib\\site-packages\\cryptography\\x509\\base.py:531: CryptographyDeprecationWarning: Parsed a negative serial number, which is disallowed by RFC 5280.\n",
      "  return rust_x509.load_pem_x509_certificate(data)\n"
     ]
    },
    {
     "name": "stdout",
     "output_type": "stream",
     "text": [
      "T\n"
     ]
    },
    {
     "name": "stderr",
     "output_type": "stream",
     "text": [
      "C:\\Users\\ander\\Documents\\yahooScraper\\scrape\\lib\\site-packages\\cryptography\\x509\\base.py:531: CryptographyDeprecationWarning: Parsed a negative serial number, which is disallowed by RFC 5280.\n",
      "  return rust_x509.load_pem_x509_certificate(data)\n",
      "C:\\Users\\ander\\Documents\\yahooScraper\\scrape\\lib\\site-packages\\cryptography\\x509\\base.py:531: CryptographyDeprecationWarning: Parsed a negative serial number, which is disallowed by RFC 5280.\n",
      "  return rust_x509.load_pem_x509_certificate(data)\n",
      "C:\\Users\\ander\\Documents\\yahooScraper\\scrape\\lib\\site-packages\\cryptography\\x509\\base.py:531: CryptographyDeprecationWarning: Parsed a negative serial number, which is disallowed by RFC 5280.\n",
      "  return rust_x509.load_pem_x509_certificate(data)\n",
      "C:\\Users\\ander\\Documents\\yahooScraper\\scrape\\lib\\site-packages\\cryptography\\x509\\base.py:531: CryptographyDeprecationWarning: Parsed a negative serial number, which is disallowed by RFC 5280.\n",
      "  return rust_x509.load_pem_x509_certificate(data)\n",
      "C:\\Users\\ander\\Documents\\yahooScraper\\scrape\\lib\\site-packages\\cryptography\\x509\\base.py:531: CryptographyDeprecationWarning: Parsed a negative serial number, which is disallowed by RFC 5280.\n",
      "  return rust_x509.load_pem_x509_certificate(data)\n",
      "C:\\Users\\ander\\Documents\\yahooScraper\\scrape\\lib\\site-packages\\cryptography\\x509\\base.py:531: CryptographyDeprecationWarning: Parsed a negative serial number, which is disallowed by RFC 5280.\n",
      "  return rust_x509.load_pem_x509_certificate(data)\n",
      "C:\\Users\\ander\\Documents\\yahooScraper\\indicator_daily.py:289: RuntimeWarning: invalid value encountered in log\n",
      "  r = f['y0'] + f['probability']*0.68 * self.vol_factor/0.5 + f['iv']*self.iv + f['vix']*self.vix + f['days_to_strike']*self.days_to_strike + f['sqr_rel_risk']*np.log(self.risk_rel)\n",
      "C:\\Users\\ander\\Documents\\yahooScraper\\scrape\\lib\\site-packages\\cryptography\\x509\\base.py:531: CryptographyDeprecationWarning: Parsed a negative serial number, which is disallowed by RFC 5280.\n",
      "  return rust_x509.load_pem_x509_certificate(data)\n"
     ]
    },
    {
     "name": "stdout",
     "output_type": "stream",
     "text": [
      "CHGG\n"
     ]
    },
    {
     "name": "stderr",
     "output_type": "stream",
     "text": [
      "C:\\Users\\ander\\Documents\\yahooScraper\\scrape\\lib\\site-packages\\cryptography\\x509\\base.py:531: CryptographyDeprecationWarning: Parsed a negative serial number, which is disallowed by RFC 5280.\n",
      "  return rust_x509.load_pem_x509_certificate(data)\n",
      "C:\\Users\\ander\\Documents\\yahooScraper\\scrape\\lib\\site-packages\\cryptography\\x509\\base.py:531: CryptographyDeprecationWarning: Parsed a negative serial number, which is disallowed by RFC 5280.\n",
      "  return rust_x509.load_pem_x509_certificate(data)\n",
      "C:\\Users\\ander\\Documents\\yahooScraper\\scrape\\lib\\site-packages\\cryptography\\x509\\base.py:531: CryptographyDeprecationWarning: Parsed a negative serial number, which is disallowed by RFC 5280.\n",
      "  return rust_x509.load_pem_x509_certificate(data)\n",
      "C:\\Users\\ander\\Documents\\yahooScraper\\scrape\\lib\\site-packages\\cryptography\\x509\\base.py:531: CryptographyDeprecationWarning: Parsed a negative serial number, which is disallowed by RFC 5280.\n",
      "  return rust_x509.load_pem_x509_certificate(data)\n",
      "C:\\Users\\ander\\Documents\\yahooScraper\\scrape\\lib\\site-packages\\cryptography\\x509\\base.py:531: CryptographyDeprecationWarning: Parsed a negative serial number, which is disallowed by RFC 5280.\n",
      "  return rust_x509.load_pem_x509_certificate(data)\n",
      "C:\\Users\\ander\\Documents\\yahooScraper\\scrape\\lib\\site-packages\\cryptography\\x509\\base.py:531: CryptographyDeprecationWarning: Parsed a negative serial number, which is disallowed by RFC 5280.\n",
      "  return rust_x509.load_pem_x509_certificate(data)\n",
      "C:\\Users\\ander\\Documents\\yahooScraper\\scrape\\lib\\site-packages\\cryptography\\x509\\base.py:531: CryptographyDeprecationWarning: Parsed a negative serial number, which is disallowed by RFC 5280.\n",
      "  return rust_x509.load_pem_x509_certificate(data)\n",
      "C:\\Users\\ander\\Documents\\yahooScraper\\scrape\\lib\\site-packages\\cryptography\\x509\\base.py:531: CryptographyDeprecationWarning: Parsed a negative serial number, which is disallowed by RFC 5280.\n",
      "  return rust_x509.load_pem_x509_certificate(data)\n"
     ]
    },
    {
     "name": "stdout",
     "output_type": "stream",
     "text": [
      "CRSP\n"
     ]
    },
    {
     "name": "stderr",
     "output_type": "stream",
     "text": [
      "C:\\Users\\ander\\Documents\\yahooScraper\\scrape\\lib\\site-packages\\cryptography\\x509\\base.py:531: CryptographyDeprecationWarning: Parsed a negative serial number, which is disallowed by RFC 5280.\n",
      "  return rust_x509.load_pem_x509_certificate(data)\n",
      "C:\\Users\\ander\\Documents\\yahooScraper\\scrape\\lib\\site-packages\\cryptography\\x509\\base.py:531: CryptographyDeprecationWarning: Parsed a negative serial number, which is disallowed by RFC 5280.\n",
      "  return rust_x509.load_pem_x509_certificate(data)\n",
      "C:\\Users\\ander\\Documents\\yahooScraper\\scrape\\lib\\site-packages\\cryptography\\x509\\base.py:531: CryptographyDeprecationWarning: Parsed a negative serial number, which is disallowed by RFC 5280.\n",
      "  return rust_x509.load_pem_x509_certificate(data)\n",
      "C:\\Users\\ander\\Documents\\yahooScraper\\scrape\\lib\\site-packages\\cryptography\\x509\\base.py:531: CryptographyDeprecationWarning: Parsed a negative serial number, which is disallowed by RFC 5280.\n",
      "  return rust_x509.load_pem_x509_certificate(data)\n",
      "C:\\Users\\ander\\Documents\\yahooScraper\\scrape\\lib\\site-packages\\cryptography\\x509\\base.py:531: CryptographyDeprecationWarning: Parsed a negative serial number, which is disallowed by RFC 5280.\n",
      "  return rust_x509.load_pem_x509_certificate(data)\n",
      "C:\\Users\\ander\\Documents\\yahooScraper\\scrape\\lib\\site-packages\\cryptography\\x509\\base.py:531: CryptographyDeprecationWarning: Parsed a negative serial number, which is disallowed by RFC 5280.\n",
      "  return rust_x509.load_pem_x509_certificate(data)\n",
      "C:\\Users\\ander\\Documents\\yahooScraper\\scrape\\lib\\site-packages\\cryptography\\x509\\base.py:531: CryptographyDeprecationWarning: Parsed a negative serial number, which is disallowed by RFC 5280.\n",
      "  return rust_x509.load_pem_x509_certificate(data)\n",
      "C:\\Users\\ander\\Documents\\yahooScraper\\scrape\\lib\\site-packages\\cryptography\\x509\\base.py:531: CryptographyDeprecationWarning: Parsed a negative serial number, which is disallowed by RFC 5280.\n",
      "  return rust_x509.load_pem_x509_certificate(data)\n",
      "C:\\Users\\ander\\Documents\\yahooScraper\\scrape\\lib\\site-packages\\cryptography\\x509\\base.py:531: CryptographyDeprecationWarning: Parsed a negative serial number, which is disallowed by RFC 5280.\n",
      "  return rust_x509.load_pem_x509_certificate(data)\n",
      "C:\\Users\\ander\\Documents\\yahooScraper\\scrape\\lib\\site-packages\\cryptography\\x509\\base.py:531: CryptographyDeprecationWarning: Parsed a negative serial number, which is disallowed by RFC 5280.\n",
      "  return rust_x509.load_pem_x509_certificate(data)\n",
      "C:\\Users\\ander\\Documents\\yahooScraper\\scrape\\lib\\site-packages\\cryptography\\x509\\base.py:531: CryptographyDeprecationWarning: Parsed a negative serial number, which is disallowed by RFC 5280.\n",
      "  return rust_x509.load_pem_x509_certificate(data)\n",
      "C:\\Users\\ander\\Documents\\yahooScraper\\scrape\\lib\\site-packages\\cryptography\\x509\\base.py:531: CryptographyDeprecationWarning: Parsed a negative serial number, which is disallowed by RFC 5280.\n",
      "  return rust_x509.load_pem_x509_certificate(data)\n",
      "C:\\Users\\ander\\Documents\\yahooScraper\\scrape\\lib\\site-packages\\cryptography\\x509\\base.py:531: CryptographyDeprecationWarning: Parsed a negative serial number, which is disallowed by RFC 5280.\n",
      "  return rust_x509.load_pem_x509_certificate(data)\n",
      "C:\\Users\\ander\\Documents\\yahooScraper\\scrape\\lib\\site-packages\\cryptography\\x509\\base.py:531: CryptographyDeprecationWarning: Parsed a negative serial number, which is disallowed by RFC 5280.\n",
      "  return rust_x509.load_pem_x509_certificate(data)\n",
      "C:\\Users\\ander\\Documents\\yahooScraper\\scrape\\lib\\site-packages\\cryptography\\x509\\base.py:531: CryptographyDeprecationWarning: Parsed a negative serial number, which is disallowed by RFC 5280.\n",
      "  return rust_x509.load_pem_x509_certificate(data)\n",
      "C:\\Users\\ander\\Documents\\yahooScraper\\scrape\\lib\\site-packages\\cryptography\\x509\\base.py:531: CryptographyDeprecationWarning: Parsed a negative serial number, which is disallowed by RFC 5280.\n",
      "  return rust_x509.load_pem_x509_certificate(data)\n",
      "C:\\Users\\ander\\Documents\\yahooScraper\\scrape\\lib\\site-packages\\cryptography\\x509\\base.py:531: CryptographyDeprecationWarning: Parsed a negative serial number, which is disallowed by RFC 5280.\n",
      "  return rust_x509.load_pem_x509_certificate(data)\n",
      "C:\\Users\\ander\\Documents\\yahooScraper\\scrape\\lib\\site-packages\\cryptography\\x509\\base.py:531: CryptographyDeprecationWarning: Parsed a negative serial number, which is disallowed by RFC 5280.\n",
      "  return rust_x509.load_pem_x509_certificate(data)\n",
      "C:\\Users\\ander\\Documents\\yahooScraper\\scrape\\lib\\site-packages\\cryptography\\x509\\base.py:531: CryptographyDeprecationWarning: Parsed a negative serial number, which is disallowed by RFC 5280.\n",
      "  return rust_x509.load_pem_x509_certificate(data)\n",
      "C:\\Users\\ander\\Documents\\yahooScraper\\scrape\\lib\\site-packages\\cryptography\\x509\\base.py:531: CryptographyDeprecationWarning: Parsed a negative serial number, which is disallowed by RFC 5280.\n",
      "  return rust_x509.load_pem_x509_certificate(data)\n"
     ]
    },
    {
     "name": "stdout",
     "output_type": "stream",
     "text": [
      "AI\n"
     ]
    },
    {
     "name": "stderr",
     "output_type": "stream",
     "text": [
      "C:\\Users\\ander\\Documents\\yahooScraper\\scrape\\lib\\site-packages\\cryptography\\x509\\base.py:531: CryptographyDeprecationWarning: Parsed a negative serial number, which is disallowed by RFC 5280.\n",
      "  return rust_x509.load_pem_x509_certificate(data)\n",
      "C:\\Users\\ander\\Documents\\yahooScraper\\scrape\\lib\\site-packages\\cryptography\\x509\\base.py:531: CryptographyDeprecationWarning: Parsed a negative serial number, which is disallowed by RFC 5280.\n",
      "  return rust_x509.load_pem_x509_certificate(data)\n",
      "C:\\Users\\ander\\Documents\\yahooScraper\\scrape\\lib\\site-packages\\cryptography\\x509\\base.py:531: CryptographyDeprecationWarning: Parsed a negative serial number, which is disallowed by RFC 5280.\n",
      "  return rust_x509.load_pem_x509_certificate(data)\n",
      "C:\\Users\\ander\\Documents\\yahooScraper\\scrape\\lib\\site-packages\\cryptography\\x509\\base.py:531: CryptographyDeprecationWarning: Parsed a negative serial number, which is disallowed by RFC 5280.\n",
      "  return rust_x509.load_pem_x509_certificate(data)\n",
      "C:\\Users\\ander\\Documents\\yahooScraper\\scrape\\lib\\site-packages\\cryptography\\x509\\base.py:531: CryptographyDeprecationWarning: Parsed a negative serial number, which is disallowed by RFC 5280.\n",
      "  return rust_x509.load_pem_x509_certificate(data)\n",
      "C:\\Users\\ander\\Documents\\yahooScraper\\scrape\\lib\\site-packages\\cryptography\\x509\\base.py:531: CryptographyDeprecationWarning: Parsed a negative serial number, which is disallowed by RFC 5280.\n",
      "  return rust_x509.load_pem_x509_certificate(data)\n",
      "C:\\Users\\ander\\Documents\\yahooScraper\\scrape\\lib\\site-packages\\cryptography\\x509\\base.py:531: CryptographyDeprecationWarning: Parsed a negative serial number, which is disallowed by RFC 5280.\n",
      "  return rust_x509.load_pem_x509_certificate(data)\n",
      "C:\\Users\\ander\\Documents\\yahooScraper\\scrape\\lib\\site-packages\\cryptography\\x509\\base.py:531: CryptographyDeprecationWarning: Parsed a negative serial number, which is disallowed by RFC 5280.\n",
      "  return rust_x509.load_pem_x509_certificate(data)\n"
     ]
    },
    {
     "name": "stdout",
     "output_type": "stream",
     "text": [
      "ALK\n"
     ]
    },
    {
     "name": "stderr",
     "output_type": "stream",
     "text": [
      "C:\\Users\\ander\\Documents\\yahooScraper\\scrape\\lib\\site-packages\\cryptography\\x509\\base.py:531: CryptographyDeprecationWarning: Parsed a negative serial number, which is disallowed by RFC 5280.\n",
      "  return rust_x509.load_pem_x509_certificate(data)\n",
      "C:\\Users\\ander\\Documents\\yahooScraper\\scrape\\lib\\site-packages\\cryptography\\x509\\base.py:531: CryptographyDeprecationWarning: Parsed a negative serial number, which is disallowed by RFC 5280.\n",
      "  return rust_x509.load_pem_x509_certificate(data)\n",
      "C:\\Users\\ander\\Documents\\yahooScraper\\scrape\\lib\\site-packages\\cryptography\\x509\\base.py:531: CryptographyDeprecationWarning: Parsed a negative serial number, which is disallowed by RFC 5280.\n",
      "  return rust_x509.load_pem_x509_certificate(data)\n",
      "C:\\Users\\ander\\Documents\\yahooScraper\\scrape\\lib\\site-packages\\cryptography\\x509\\base.py:531: CryptographyDeprecationWarning: Parsed a negative serial number, which is disallowed by RFC 5280.\n",
      "  return rust_x509.load_pem_x509_certificate(data)\n"
     ]
    },
    {
     "name": "stdout",
     "output_type": "stream",
     "text": [
      "AMC\n"
     ]
    },
    {
     "name": "stderr",
     "output_type": "stream",
     "text": [
      "C:\\Users\\ander\\Documents\\yahooScraper\\scrape\\lib\\site-packages\\cryptography\\x509\\base.py:531: CryptographyDeprecationWarning: Parsed a negative serial number, which is disallowed by RFC 5280.\n",
      "  return rust_x509.load_pem_x509_certificate(data)\n"
     ]
    },
    {
     "name": "stdout",
     "output_type": "stream",
     "text": [
      "AMR\n"
     ]
    },
    {
     "name": "stderr",
     "output_type": "stream",
     "text": [
      "C:\\Users\\ander\\Documents\\yahooScraper\\scrape\\lib\\site-packages\\cryptography\\x509\\base.py:531: CryptographyDeprecationWarning: Parsed a negative serial number, which is disallowed by RFC 5280.\n",
      "  return rust_x509.load_pem_x509_certificate(data)\n",
      "C:\\Users\\ander\\Documents\\yahooScraper\\scrape\\lib\\site-packages\\cryptography\\x509\\base.py:531: CryptographyDeprecationWarning: Parsed a negative serial number, which is disallowed by RFC 5280.\n",
      "  return rust_x509.load_pem_x509_certificate(data)\n",
      "C:\\Users\\ander\\Documents\\yahooScraper\\scrape\\lib\\site-packages\\cryptography\\x509\\base.py:531: CryptographyDeprecationWarning: Parsed a negative serial number, which is disallowed by RFC 5280.\n",
      "  return rust_x509.load_pem_x509_certificate(data)\n",
      "C:\\Users\\ander\\Documents\\yahooScraper\\scrape\\lib\\site-packages\\cryptography\\x509\\base.py:531: CryptographyDeprecationWarning: Parsed a negative serial number, which is disallowed by RFC 5280.\n",
      "  return rust_x509.load_pem_x509_certificate(data)\n",
      "C:\\Users\\ander\\Documents\\yahooScraper\\scrape\\lib\\site-packages\\cryptography\\x509\\base.py:531: CryptographyDeprecationWarning: Parsed a negative serial number, which is disallowed by RFC 5280.\n",
      "  return rust_x509.load_pem_x509_certificate(data)\n"
     ]
    },
    {
     "name": "stdout",
     "output_type": "stream",
     "text": [
      "ATER\n"
     ]
    },
    {
     "name": "stderr",
     "output_type": "stream",
     "text": [
      "C:\\Users\\ander\\Documents\\yahooScraper\\scrape\\lib\\site-packages\\cryptography\\x509\\base.py:531: CryptographyDeprecationWarning: Parsed a negative serial number, which is disallowed by RFC 5280.\n",
      "  return rust_x509.load_pem_x509_certificate(data)\n"
     ]
    },
    {
     "name": "stdout",
     "output_type": "stream",
     "text": [
      "BBIG\n"
     ]
    },
    {
     "name": "stderr",
     "output_type": "stream",
     "text": [
      "C:\\Users\\ander\\Documents\\yahooScraper\\scrape\\lib\\site-packages\\cryptography\\x509\\base.py:531: CryptographyDeprecationWarning: Parsed a negative serial number, which is disallowed by RFC 5280.\n",
      "  return rust_x509.load_pem_x509_certificate(data)\n"
     ]
    },
    {
     "name": "stdout",
     "output_type": "stream",
     "text": [
      "AUPH\n"
     ]
    },
    {
     "name": "stderr",
     "output_type": "stream",
     "text": [
      "C:\\Users\\ander\\Documents\\yahooScraper\\scrape\\lib\\site-packages\\cryptography\\x509\\base.py:531: CryptographyDeprecationWarning: Parsed a negative serial number, which is disallowed by RFC 5280.\n",
      "  return rust_x509.load_pem_x509_certificate(data)\n",
      "C:\\Users\\ander\\Documents\\yahooScraper\\scrape\\lib\\site-packages\\cryptography\\x509\\base.py:531: CryptographyDeprecationWarning: Parsed a negative serial number, which is disallowed by RFC 5280.\n",
      "  return rust_x509.load_pem_x509_certificate(data)\n",
      "C:\\Users\\ander\\Documents\\yahooScraper\\scrape\\lib\\site-packages\\cryptography\\x509\\base.py:531: CryptographyDeprecationWarning: Parsed a negative serial number, which is disallowed by RFC 5280.\n",
      "  return rust_x509.load_pem_x509_certificate(data)\n"
     ]
    },
    {
     "name": "stdout",
     "output_type": "stream",
     "text": [
      "BE\n"
     ]
    },
    {
     "name": "stderr",
     "output_type": "stream",
     "text": [
      "C:\\Users\\ander\\Documents\\yahooScraper\\scrape\\lib\\site-packages\\cryptography\\x509\\base.py:531: CryptographyDeprecationWarning: Parsed a negative serial number, which is disallowed by RFC 5280.\n",
      "  return rust_x509.load_pem_x509_certificate(data)\n",
      "C:\\Users\\ander\\Documents\\yahooScraper\\scrape\\lib\\site-packages\\cryptography\\x509\\base.py:531: CryptographyDeprecationWarning: Parsed a negative serial number, which is disallowed by RFC 5280.\n",
      "  return rust_x509.load_pem_x509_certificate(data)\n",
      "C:\\Users\\ander\\Documents\\yahooScraper\\scrape\\lib\\site-packages\\cryptography\\x509\\base.py:531: CryptographyDeprecationWarning: Parsed a negative serial number, which is disallowed by RFC 5280.\n",
      "  return rust_x509.load_pem_x509_certificate(data)\n",
      "C:\\Users\\ander\\Documents\\yahooScraper\\scrape\\lib\\site-packages\\cryptography\\x509\\base.py:531: CryptographyDeprecationWarning: Parsed a negative serial number, which is disallowed by RFC 5280.\n",
      "  return rust_x509.load_pem_x509_certificate(data)\n",
      "C:\\Users\\ander\\Documents\\yahooScraper\\scrape\\lib\\site-packages\\cryptography\\x509\\base.py:531: CryptographyDeprecationWarning: Parsed a negative serial number, which is disallowed by RFC 5280.\n",
      "  return rust_x509.load_pem_x509_certificate(data)\n",
      "C:\\Users\\ander\\Documents\\yahooScraper\\scrape\\lib\\site-packages\\cryptography\\x509\\base.py:531: CryptographyDeprecationWarning: Parsed a negative serial number, which is disallowed by RFC 5280.\n",
      "  return rust_x509.load_pem_x509_certificate(data)\n",
      "C:\\Users\\ander\\Documents\\yahooScraper\\scrape\\lib\\site-packages\\cryptography\\x509\\base.py:531: CryptographyDeprecationWarning: Parsed a negative serial number, which is disallowed by RFC 5280.\n",
      "  return rust_x509.load_pem_x509_certificate(data)\n",
      "C:\\Users\\ander\\Documents\\yahooScraper\\scrape\\lib\\site-packages\\cryptography\\x509\\base.py:531: CryptographyDeprecationWarning: Parsed a negative serial number, which is disallowed by RFC 5280.\n",
      "  return rust_x509.load_pem_x509_certificate(data)\n",
      "C:\\Users\\ander\\Documents\\yahooScraper\\scrape\\lib\\site-packages\\cryptography\\x509\\base.py:531: CryptographyDeprecationWarning: Parsed a negative serial number, which is disallowed by RFC 5280.\n",
      "  return rust_x509.load_pem_x509_certificate(data)\n",
      "C:\\Users\\ander\\Documents\\yahooScraper\\scrape\\lib\\site-packages\\cryptography\\x509\\base.py:531: CryptographyDeprecationWarning: Parsed a negative serial number, which is disallowed by RFC 5280.\n",
      "  return rust_x509.load_pem_x509_certificate(data)\n",
      "C:\\Users\\ander\\Documents\\yahooScraper\\scrape\\lib\\site-packages\\cryptography\\x509\\base.py:531: CryptographyDeprecationWarning: Parsed a negative serial number, which is disallowed by RFC 5280.\n",
      "  return rust_x509.load_pem_x509_certificate(data)\n",
      "C:\\Users\\ander\\Documents\\yahooScraper\\scrape\\lib\\site-packages\\cryptography\\x509\\base.py:531: CryptographyDeprecationWarning: Parsed a negative serial number, which is disallowed by RFC 5280.\n",
      "  return rust_x509.load_pem_x509_certificate(data)\n",
      "C:\\Users\\ander\\Documents\\yahooScraper\\indicator_daily.py:289: RuntimeWarning: invalid value encountered in log\n",
      "  r = f['y0'] + f['probability']*0.68 * self.vol_factor/0.5 + f['iv']*self.iv + f['vix']*self.vix + f['days_to_strike']*self.days_to_strike + f['sqr_rel_risk']*np.log(self.risk_rel)\n",
      "C:\\Users\\ander\\Documents\\yahooScraper\\scrape\\lib\\site-packages\\cryptography\\x509\\base.py:531: CryptographyDeprecationWarning: Parsed a negative serial number, which is disallowed by RFC 5280.\n",
      "  return rust_x509.load_pem_x509_certificate(data)\n",
      "C:\\Users\\ander\\Documents\\yahooScraper\\scrape\\lib\\site-packages\\cryptography\\x509\\base.py:531: CryptographyDeprecationWarning: Parsed a negative serial number, which is disallowed by RFC 5280.\n",
      "  return rust_x509.load_pem_x509_certificate(data)\n",
      "C:\\Users\\ander\\Documents\\yahooScraper\\scrape\\lib\\site-packages\\cryptography\\x509\\base.py:531: CryptographyDeprecationWarning: Parsed a negative serial number, which is disallowed by RFC 5280.\n",
      "  return rust_x509.load_pem_x509_certificate(data)\n"
     ]
    },
    {
     "name": "stdout",
     "output_type": "stream",
     "text": [
      "CHGG\n"
     ]
    },
    {
     "name": "stderr",
     "output_type": "stream",
     "text": [
      "C:\\Users\\ander\\Documents\\yahooScraper\\scrape\\lib\\site-packages\\cryptography\\x509\\base.py:531: CryptographyDeprecationWarning: Parsed a negative serial number, which is disallowed by RFC 5280.\n",
      "  return rust_x509.load_pem_x509_certificate(data)\n",
      "C:\\Users\\ander\\Documents\\yahooScraper\\scrape\\lib\\site-packages\\cryptography\\x509\\base.py:531: CryptographyDeprecationWarning: Parsed a negative serial number, which is disallowed by RFC 5280.\n",
      "  return rust_x509.load_pem_x509_certificate(data)\n",
      "C:\\Users\\ander\\Documents\\yahooScraper\\scrape\\lib\\site-packages\\cryptography\\x509\\base.py:531: CryptographyDeprecationWarning: Parsed a negative serial number, which is disallowed by RFC 5280.\n",
      "  return rust_x509.load_pem_x509_certificate(data)\n",
      "C:\\Users\\ander\\Documents\\yahooScraper\\scrape\\lib\\site-packages\\cryptography\\x509\\base.py:531: CryptographyDeprecationWarning: Parsed a negative serial number, which is disallowed by RFC 5280.\n",
      "  return rust_x509.load_pem_x509_certificate(data)\n",
      "C:\\Users\\ander\\Documents\\yahooScraper\\scrape\\lib\\site-packages\\cryptography\\x509\\base.py:531: CryptographyDeprecationWarning: Parsed a negative serial number, which is disallowed by RFC 5280.\n",
      "  return rust_x509.load_pem_x509_certificate(data)\n",
      "C:\\Users\\ander\\Documents\\yahooScraper\\scrape\\lib\\site-packages\\cryptography\\x509\\base.py:531: CryptographyDeprecationWarning: Parsed a negative serial number, which is disallowed by RFC 5280.\n",
      "  return rust_x509.load_pem_x509_certificate(data)\n",
      "C:\\Users\\ander\\Documents\\yahooScraper\\scrape\\lib\\site-packages\\cryptography\\x509\\base.py:531: CryptographyDeprecationWarning: Parsed a negative serial number, which is disallowed by RFC 5280.\n",
      "  return rust_x509.load_pem_x509_certificate(data)\n",
      "C:\\Users\\ander\\Documents\\yahooScraper\\scrape\\lib\\site-packages\\cryptography\\x509\\base.py:531: CryptographyDeprecationWarning: Parsed a negative serial number, which is disallowed by RFC 5280.\n",
      "  return rust_x509.load_pem_x509_certificate(data)\n",
      "C:\\Users\\ander\\Documents\\yahooScraper\\scrape\\lib\\site-packages\\cryptography\\x509\\base.py:531: CryptographyDeprecationWarning: Parsed a negative serial number, which is disallowed by RFC 5280.\n",
      "  return rust_x509.load_pem_x509_certificate(data)\n",
      "C:\\Users\\ander\\Documents\\yahooScraper\\scrape\\lib\\site-packages\\cryptography\\x509\\base.py:531: CryptographyDeprecationWarning: Parsed a negative serial number, which is disallowed by RFC 5280.\n",
      "  return rust_x509.load_pem_x509_certificate(data)\n",
      "C:\\Users\\ander\\Documents\\yahooScraper\\scrape\\lib\\site-packages\\cryptography\\x509\\base.py:531: CryptographyDeprecationWarning: Parsed a negative serial number, which is disallowed by RFC 5280.\n",
      "  return rust_x509.load_pem_x509_certificate(data)\n",
      "C:\\Users\\ander\\Documents\\yahooScraper\\scrape\\lib\\site-packages\\cryptography\\x509\\base.py:531: CryptographyDeprecationWarning: Parsed a negative serial number, which is disallowed by RFC 5280.\n",
      "  return rust_x509.load_pem_x509_certificate(data)\n",
      "C:\\Users\\ander\\Documents\\yahooScraper\\scrape\\lib\\site-packages\\cryptography\\x509\\base.py:531: CryptographyDeprecationWarning: Parsed a negative serial number, which is disallowed by RFC 5280.\n",
      "  return rust_x509.load_pem_x509_certificate(data)\n",
      "C:\\Users\\ander\\Documents\\yahooScraper\\scrape\\lib\\site-packages\\cryptography\\x509\\base.py:531: CryptographyDeprecationWarning: Parsed a negative serial number, which is disallowed by RFC 5280.\n",
      "  return rust_x509.load_pem_x509_certificate(data)\n",
      "C:\\Users\\ander\\Documents\\yahooScraper\\scrape\\lib\\site-packages\\cryptography\\x509\\base.py:531: CryptographyDeprecationWarning: Parsed a negative serial number, which is disallowed by RFC 5280.\n",
      "  return rust_x509.load_pem_x509_certificate(data)\n",
      "C:\\Users\\ander\\Documents\\yahooScraper\\scrape\\lib\\site-packages\\cryptography\\x509\\base.py:531: CryptographyDeprecationWarning: Parsed a negative serial number, which is disallowed by RFC 5280.\n",
      "  return rust_x509.load_pem_x509_certificate(data)\n",
      "C:\\Users\\ander\\Documents\\yahooScraper\\scrape\\lib\\site-packages\\cryptography\\x509\\base.py:531: CryptographyDeprecationWarning: Parsed a negative serial number, which is disallowed by RFC 5280.\n",
      "  return rust_x509.load_pem_x509_certificate(data)\n"
     ]
    },
    {
     "name": "stdout",
     "output_type": "stream",
     "text": [
      "CRSP\n"
     ]
    },
    {
     "name": "stderr",
     "output_type": "stream",
     "text": [
      "C:\\Users\\ander\\Documents\\yahooScraper\\scrape\\lib\\site-packages\\cryptography\\x509\\base.py:531: CryptographyDeprecationWarning: Parsed a negative serial number, which is disallowed by RFC 5280.\n",
      "  return rust_x509.load_pem_x509_certificate(data)\n",
      "C:\\Users\\ander\\Documents\\yahooScraper\\scrape\\lib\\site-packages\\cryptography\\x509\\base.py:531: CryptographyDeprecationWarning: Parsed a negative serial number, which is disallowed by RFC 5280.\n",
      "  return rust_x509.load_pem_x509_certificate(data)\n",
      "C:\\Users\\ander\\Documents\\yahooScraper\\scrape\\lib\\site-packages\\cryptography\\x509\\base.py:531: CryptographyDeprecationWarning: Parsed a negative serial number, which is disallowed by RFC 5280.\n",
      "  return rust_x509.load_pem_x509_certificate(data)\n",
      "C:\\Users\\ander\\Documents\\yahooScraper\\scrape\\lib\\site-packages\\cryptography\\x509\\base.py:531: CryptographyDeprecationWarning: Parsed a negative serial number, which is disallowed by RFC 5280.\n",
      "  return rust_x509.load_pem_x509_certificate(data)\n",
      "C:\\Users\\ander\\Documents\\yahooScraper\\scrape\\lib\\site-packages\\cryptography\\x509\\base.py:531: CryptographyDeprecationWarning: Parsed a negative serial number, which is disallowed by RFC 5280.\n",
      "  return rust_x509.load_pem_x509_certificate(data)\n",
      "C:\\Users\\ander\\Documents\\yahooScraper\\scrape\\lib\\site-packages\\cryptography\\x509\\base.py:531: CryptographyDeprecationWarning: Parsed a negative serial number, which is disallowed by RFC 5280.\n",
      "  return rust_x509.load_pem_x509_certificate(data)\n",
      "C:\\Users\\ander\\Documents\\yahooScraper\\scrape\\lib\\site-packages\\cryptography\\x509\\base.py:531: CryptographyDeprecationWarning: Parsed a negative serial number, which is disallowed by RFC 5280.\n",
      "  return rust_x509.load_pem_x509_certificate(data)\n",
      "C:\\Users\\ander\\Documents\\yahooScraper\\scrape\\lib\\site-packages\\cryptography\\x509\\base.py:531: CryptographyDeprecationWarning: Parsed a negative serial number, which is disallowed by RFC 5280.\n",
      "  return rust_x509.load_pem_x509_certificate(data)\n",
      "C:\\Users\\ander\\Documents\\yahooScraper\\scrape\\lib\\site-packages\\cryptography\\x509\\base.py:531: CryptographyDeprecationWarning: Parsed a negative serial number, which is disallowed by RFC 5280.\n",
      "  return rust_x509.load_pem_x509_certificate(data)\n",
      "C:\\Users\\ander\\Documents\\yahooScraper\\scrape\\lib\\site-packages\\cryptography\\x509\\base.py:531: CryptographyDeprecationWarning: Parsed a negative serial number, which is disallowed by RFC 5280.\n",
      "  return rust_x509.load_pem_x509_certificate(data)\n",
      "C:\\Users\\ander\\Documents\\yahooScraper\\scrape\\lib\\site-packages\\cryptography\\x509\\base.py:531: CryptographyDeprecationWarning: Parsed a negative serial number, which is disallowed by RFC 5280.\n",
      "  return rust_x509.load_pem_x509_certificate(data)\n",
      "C:\\Users\\ander\\Documents\\yahooScraper\\scrape\\lib\\site-packages\\cryptography\\x509\\base.py:531: CryptographyDeprecationWarning: Parsed a negative serial number, which is disallowed by RFC 5280.\n",
      "  return rust_x509.load_pem_x509_certificate(data)\n",
      "C:\\Users\\ander\\Documents\\yahooScraper\\scrape\\lib\\site-packages\\cryptography\\x509\\base.py:531: CryptographyDeprecationWarning: Parsed a negative serial number, which is disallowed by RFC 5280.\n",
      "  return rust_x509.load_pem_x509_certificate(data)\n",
      "C:\\Users\\ander\\Documents\\yahooScraper\\scrape\\lib\\site-packages\\cryptography\\x509\\base.py:531: CryptographyDeprecationWarning: Parsed a negative serial number, which is disallowed by RFC 5280.\n",
      "  return rust_x509.load_pem_x509_certificate(data)\n",
      "C:\\Users\\ander\\Documents\\yahooScraper\\scrape\\lib\\site-packages\\cryptography\\x509\\base.py:531: CryptographyDeprecationWarning: Parsed a negative serial number, which is disallowed by RFC 5280.\n",
      "  return rust_x509.load_pem_x509_certificate(data)\n",
      "C:\\Users\\ander\\Documents\\yahooScraper\\scrape\\lib\\site-packages\\cryptography\\x509\\base.py:531: CryptographyDeprecationWarning: Parsed a negative serial number, which is disallowed by RFC 5280.\n",
      "  return rust_x509.load_pem_x509_certificate(data)\n",
      "C:\\Users\\ander\\Documents\\yahooScraper\\indicator_daily.py:289: RuntimeWarning: invalid value encountered in log\n",
      "  r = f['y0'] + f['probability']*0.68 * self.vol_factor/0.5 + f['iv']*self.iv + f['vix']*self.vix + f['days_to_strike']*self.days_to_strike + f['sqr_rel_risk']*np.log(self.risk_rel)\n",
      "C:\\Users\\ander\\Documents\\yahooScraper\\scrape\\lib\\site-packages\\cryptography\\x509\\base.py:531: CryptographyDeprecationWarning: Parsed a negative serial number, which is disallowed by RFC 5280.\n",
      "  return rust_x509.load_pem_x509_certificate(data)\n",
      "C:\\Users\\ander\\Documents\\yahooScraper\\scrape\\lib\\site-packages\\cryptography\\x509\\base.py:531: CryptographyDeprecationWarning: Parsed a negative serial number, which is disallowed by RFC 5280.\n",
      "  return rust_x509.load_pem_x509_certificate(data)\n",
      "C:\\Users\\ander\\Documents\\yahooScraper\\scrape\\lib\\site-packages\\cryptography\\x509\\base.py:531: CryptographyDeprecationWarning: Parsed a negative serial number, which is disallowed by RFC 5280.\n",
      "  return rust_x509.load_pem_x509_certificate(data)\n",
      "C:\\Users\\ander\\Documents\\yahooScraper\\scrape\\lib\\site-packages\\cryptography\\x509\\base.py:531: CryptographyDeprecationWarning: Parsed a negative serial number, which is disallowed by RFC 5280.\n",
      "  return rust_x509.load_pem_x509_certificate(data)\n",
      "C:\\Users\\ander\\Documents\\yahooScraper\\scrape\\lib\\site-packages\\cryptography\\x509\\base.py:531: CryptographyDeprecationWarning: Parsed a negative serial number, which is disallowed by RFC 5280.\n",
      "  return rust_x509.load_pem_x509_certificate(data)\n",
      "C:\\Users\\ander\\Documents\\yahooScraper\\scrape\\lib\\site-packages\\cryptography\\x509\\base.py:531: CryptographyDeprecationWarning: Parsed a negative serial number, which is disallowed by RFC 5280.\n",
      "  return rust_x509.load_pem_x509_certificate(data)\n",
      "C:\\Users\\ander\\Documents\\yahooScraper\\scrape\\lib\\site-packages\\cryptography\\x509\\base.py:531: CryptographyDeprecationWarning: Parsed a negative serial number, which is disallowed by RFC 5280.\n",
      "  return rust_x509.load_pem_x509_certificate(data)\n"
     ]
    },
    {
     "name": "stdout",
     "output_type": "stream",
     "text": [
      "LAC\n"
     ]
    },
    {
     "name": "stderr",
     "output_type": "stream",
     "text": [
      "C:\\Users\\ander\\Documents\\yahooScraper\\scrape\\lib\\site-packages\\cryptography\\x509\\base.py:531: CryptographyDeprecationWarning: Parsed a negative serial number, which is disallowed by RFC 5280.\n",
      "  return rust_x509.load_pem_x509_certificate(data)\n",
      "C:\\Users\\ander\\Documents\\yahooScraper\\scrape\\lib\\site-packages\\cryptography\\x509\\base.py:531: CryptographyDeprecationWarning: Parsed a negative serial number, which is disallowed by RFC 5280.\n",
      "  return rust_x509.load_pem_x509_certificate(data)\n",
      "C:\\Users\\ander\\Documents\\yahooScraper\\scrape\\lib\\site-packages\\cryptography\\x509\\base.py:531: CryptographyDeprecationWarning: Parsed a negative serial number, which is disallowed by RFC 5280.\n",
      "  return rust_x509.load_pem_x509_certificate(data)\n",
      "C:\\Users\\ander\\Documents\\yahooScraper\\scrape\\lib\\site-packages\\cryptography\\x509\\base.py:531: CryptographyDeprecationWarning: Parsed a negative serial number, which is disallowed by RFC 5280.\n",
      "  return rust_x509.load_pem_x509_certificate(data)\n",
      "C:\\Users\\ander\\Documents\\yahooScraper\\scrape\\lib\\site-packages\\cryptography\\x509\\base.py:531: CryptographyDeprecationWarning: Parsed a negative serial number, which is disallowed by RFC 5280.\n",
      "  return rust_x509.load_pem_x509_certificate(data)\n",
      "C:\\Users\\ander\\Documents\\yahooScraper\\scrape\\lib\\site-packages\\cryptography\\x509\\base.py:531: CryptographyDeprecationWarning: Parsed a negative serial number, which is disallowed by RFC 5280.\n",
      "  return rust_x509.load_pem_x509_certificate(data)\n",
      "C:\\Users\\ander\\Documents\\yahooScraper\\scrape\\lib\\site-packages\\cryptography\\x509\\base.py:531: CryptographyDeprecationWarning: Parsed a negative serial number, which is disallowed by RFC 5280.\n",
      "  return rust_x509.load_pem_x509_certificate(data)\n",
      "C:\\Users\\ander\\Documents\\yahooScraper\\scrape\\lib\\site-packages\\cryptography\\x509\\base.py:531: CryptographyDeprecationWarning: Parsed a negative serial number, which is disallowed by RFC 5280.\n",
      "  return rust_x509.load_pem_x509_certificate(data)\n",
      "C:\\Users\\ander\\Documents\\yahooScraper\\scrape\\lib\\site-packages\\cryptography\\x509\\base.py:531: CryptographyDeprecationWarning: Parsed a negative serial number, which is disallowed by RFC 5280.\n",
      "  return rust_x509.load_pem_x509_certificate(data)\n",
      "C:\\Users\\ander\\Documents\\yahooScraper\\scrape\\lib\\site-packages\\cryptography\\x509\\base.py:531: CryptographyDeprecationWarning: Parsed a negative serial number, which is disallowed by RFC 5280.\n",
      "  return rust_x509.load_pem_x509_certificate(data)\n",
      "C:\\Users\\ander\\Documents\\yahooScraper\\scrape\\lib\\site-packages\\cryptography\\x509\\base.py:531: CryptographyDeprecationWarning: Parsed a negative serial number, which is disallowed by RFC 5280.\n",
      "  return rust_x509.load_pem_x509_certificate(data)\n",
      "C:\\Users\\ander\\Documents\\yahooScraper\\scrape\\lib\\site-packages\\cryptography\\x509\\base.py:531: CryptographyDeprecationWarning: Parsed a negative serial number, which is disallowed by RFC 5280.\n",
      "  return rust_x509.load_pem_x509_certificate(data)\n",
      "C:\\Users\\ander\\Documents\\yahooScraper\\scrape\\lib\\site-packages\\cryptography\\x509\\base.py:531: CryptographyDeprecationWarning: Parsed a negative serial number, which is disallowed by RFC 5280.\n",
      "  return rust_x509.load_pem_x509_certificate(data)\n",
      "C:\\Users\\ander\\Documents\\yahooScraper\\scrape\\lib\\site-packages\\cryptography\\x509\\base.py:531: CryptographyDeprecationWarning: Parsed a negative serial number, which is disallowed by RFC 5280.\n",
      "  return rust_x509.load_pem_x509_certificate(data)\n",
      "C:\\Users\\ander\\Documents\\yahooScraper\\scrape\\lib\\site-packages\\cryptography\\x509\\base.py:531: CryptographyDeprecationWarning: Parsed a negative serial number, which is disallowed by RFC 5280.\n",
      "  return rust_x509.load_pem_x509_certificate(data)\n",
      "C:\\Users\\ander\\Documents\\yahooScraper\\scrape\\lib\\site-packages\\cryptography\\x509\\base.py:531: CryptographyDeprecationWarning: Parsed a negative serial number, which is disallowed by RFC 5280.\n",
      "  return rust_x509.load_pem_x509_certificate(data)\n",
      "C:\\Users\\ander\\Documents\\yahooScraper\\scrape\\lib\\site-packages\\cryptography\\x509\\base.py:531: CryptographyDeprecationWarning: Parsed a negative serial number, which is disallowed by RFC 5280.\n",
      "  return rust_x509.load_pem_x509_certificate(data)\n",
      "C:\\Users\\ander\\Documents\\yahooScraper\\scrape\\lib\\site-packages\\cryptography\\x509\\base.py:531: CryptographyDeprecationWarning: Parsed a negative serial number, which is disallowed by RFC 5280.\n",
      "  return rust_x509.load_pem_x509_certificate(data)\n",
      "C:\\Users\\ander\\Documents\\yahooScraper\\scrape\\lib\\site-packages\\cryptography\\x509\\base.py:531: CryptographyDeprecationWarning: Parsed a negative serial number, which is disallowed by RFC 5280.\n",
      "  return rust_x509.load_pem_x509_certificate(data)\n",
      "C:\\Users\\ander\\Documents\\yahooScraper\\scrape\\lib\\site-packages\\cryptography\\x509\\base.py:531: CryptographyDeprecationWarning: Parsed a negative serial number, which is disallowed by RFC 5280.\n",
      "  return rust_x509.load_pem_x509_certificate(data)\n",
      "C:\\Users\\ander\\Documents\\yahooScraper\\scrape\\lib\\site-packages\\cryptography\\x509\\base.py:531: CryptographyDeprecationWarning: Parsed a negative serial number, which is disallowed by RFC 5280.\n",
      "  return rust_x509.load_pem_x509_certificate(data)\n",
      "C:\\Users\\ander\\Documents\\yahooScraper\\scrape\\lib\\site-packages\\cryptography\\x509\\base.py:531: CryptographyDeprecationWarning: Parsed a negative serial number, which is disallowed by RFC 5280.\n",
      "  return rust_x509.load_pem_x509_certificate(data)\n",
      "C:\\Users\\ander\\Documents\\yahooScraper\\scrape\\lib\\site-packages\\cryptography\\x509\\base.py:531: CryptographyDeprecationWarning: Parsed a negative serial number, which is disallowed by RFC 5280.\n",
      "  return rust_x509.load_pem_x509_certificate(data)\n",
      "C:\\Users\\ander\\Documents\\yahooScraper\\scrape\\lib\\site-packages\\cryptography\\x509\\base.py:531: CryptographyDeprecationWarning: Parsed a negative serial number, which is disallowed by RFC 5280.\n",
      "  return rust_x509.load_pem_x509_certificate(data)\n",
      "C:\\Users\\ander\\Documents\\yahooScraper\\scrape\\lib\\site-packages\\cryptography\\x509\\base.py:531: CryptographyDeprecationWarning: Parsed a negative serial number, which is disallowed by RFC 5280.\n",
      "  return rust_x509.load_pem_x509_certificate(data)\n",
      "C:\\Users\\ander\\Documents\\yahooScraper\\scrape\\lib\\site-packages\\cryptography\\x509\\base.py:531: CryptographyDeprecationWarning: Parsed a negative serial number, which is disallowed by RFC 5280.\n",
      "  return rust_x509.load_pem_x509_certificate(data)\n",
      "C:\\Users\\ander\\Documents\\yahooScraper\\scrape\\lib\\site-packages\\cryptography\\x509\\base.py:531: CryptographyDeprecationWarning: Parsed a negative serial number, which is disallowed by RFC 5280.\n",
      "  return rust_x509.load_pem_x509_certificate(data)\n",
      "C:\\Users\\ander\\Documents\\yahooScraper\\scrape\\lib\\site-packages\\cryptography\\x509\\base.py:531: CryptographyDeprecationWarning: Parsed a negative serial number, which is disallowed by RFC 5280.\n",
      "  return rust_x509.load_pem_x509_certificate(data)\n",
      "C:\\Users\\ander\\Documents\\yahooScraper\\scrape\\lib\\site-packages\\cryptography\\x509\\base.py:531: CryptographyDeprecationWarning: Parsed a negative serial number, which is disallowed by RFC 5280.\n",
      "  return rust_x509.load_pem_x509_certificate(data)\n",
      "C:\\Users\\ander\\Documents\\yahooScraper\\scrape\\lib\\site-packages\\cryptography\\x509\\base.py:531: CryptographyDeprecationWarning: Parsed a negative serial number, which is disallowed by RFC 5280.\n",
      "  return rust_x509.load_pem_x509_certificate(data)\n",
      "C:\\Users\\ander\\Documents\\yahooScraper\\scrape\\lib\\site-packages\\cryptography\\x509\\base.py:531: CryptographyDeprecationWarning: Parsed a negative serial number, which is disallowed by RFC 5280.\n",
      "  return rust_x509.load_pem_x509_certificate(data)\n",
      "C:\\Users\\ander\\Documents\\yahooScraper\\scrape\\lib\\site-packages\\cryptography\\x509\\base.py:531: CryptographyDeprecationWarning: Parsed a negative serial number, which is disallowed by RFC 5280.\n",
      "  return rust_x509.load_pem_x509_certificate(data)\n",
      "C:\\Users\\ander\\Documents\\yahooScraper\\scrape\\lib\\site-packages\\cryptography\\x509\\base.py:531: CryptographyDeprecationWarning: Parsed a negative serial number, which is disallowed by RFC 5280.\n",
      "  return rust_x509.load_pem_x509_certificate(data)\n",
      "C:\\Users\\ander\\Documents\\yahooScraper\\scrape\\lib\\site-packages\\cryptography\\x509\\base.py:531: CryptographyDeprecationWarning: Parsed a negative serial number, which is disallowed by RFC 5280.\n",
      "  return rust_x509.load_pem_x509_certificate(data)\n"
     ]
    },
    {
     "name": "stderr",
     "output_type": "stream",
     "text": [
      "C:\\Users\\ander\\Documents\\yahooScraper\\scrape\\lib\\site-packages\\cryptography\\x509\\base.py:531: CryptographyDeprecationWarning: Parsed a negative serial number, which is disallowed by RFC 5280.\n",
      "  return rust_x509.load_pem_x509_certificate(data)\n",
      "C:\\Users\\ander\\Documents\\yahooScraper\\scrape\\lib\\site-packages\\cryptography\\x509\\base.py:531: CryptographyDeprecationWarning: Parsed a negative serial number, which is disallowed by RFC 5280.\n",
      "  return rust_x509.load_pem_x509_certificate(data)\n",
      "C:\\Users\\ander\\Documents\\yahooScraper\\scrape\\lib\\site-packages\\cryptography\\x509\\base.py:531: CryptographyDeprecationWarning: Parsed a negative serial number, which is disallowed by RFC 5280.\n",
      "  return rust_x509.load_pem_x509_certificate(data)\n",
      "C:\\Users\\ander\\Documents\\yahooScraper\\scrape\\lib\\site-packages\\cryptography\\x509\\base.py:531: CryptographyDeprecationWarning: Parsed a negative serial number, which is disallowed by RFC 5280.\n",
      "  return rust_x509.load_pem_x509_certificate(data)\n",
      "C:\\Users\\ander\\Documents\\yahooScraper\\scrape\\lib\\site-packages\\cryptography\\x509\\base.py:531: CryptographyDeprecationWarning: Parsed a negative serial number, which is disallowed by RFC 5280.\n",
      "  return rust_x509.load_pem_x509_certificate(data)\n"
     ]
    },
    {
     "name": "stdout",
     "output_type": "stream",
     "text": [
      "RIO\n"
     ]
    },
    {
     "name": "stderr",
     "output_type": "stream",
     "text": [
      "C:\\Users\\ander\\Documents\\yahooScraper\\scrape\\lib\\site-packages\\cryptography\\x509\\base.py:531: CryptographyDeprecationWarning: Parsed a negative serial number, which is disallowed by RFC 5280.\n",
      "  return rust_x509.load_pem_x509_certificate(data)\n",
      "C:\\Users\\ander\\Documents\\yahooScraper\\scrape\\lib\\site-packages\\cryptography\\x509\\base.py:531: CryptographyDeprecationWarning: Parsed a negative serial number, which is disallowed by RFC 5280.\n",
      "  return rust_x509.load_pem_x509_certificate(data)\n"
     ]
    },
    {
     "name": "stdout",
     "output_type": "stream",
     "text": [
      "SPG\n"
     ]
    },
    {
     "name": "stderr",
     "output_type": "stream",
     "text": [
      "C:\\Users\\ander\\Documents\\yahooScraper\\scrape\\lib\\site-packages\\cryptography\\x509\\base.py:531: CryptographyDeprecationWarning: Parsed a negative serial number, which is disallowed by RFC 5280.\n",
      "  return rust_x509.load_pem_x509_certificate(data)\n",
      "C:\\Users\\ander\\Documents\\yahooScraper\\scrape\\lib\\site-packages\\cryptography\\x509\\base.py:531: CryptographyDeprecationWarning: Parsed a negative serial number, which is disallowed by RFC 5280.\n",
      "  return rust_x509.load_pem_x509_certificate(data)\n",
      "C:\\Users\\ander\\Documents\\yahooScraper\\scrape\\lib\\site-packages\\cryptography\\x509\\base.py:531: CryptographyDeprecationWarning: Parsed a negative serial number, which is disallowed by RFC 5280.\n",
      "  return rust_x509.load_pem_x509_certificate(data)\n",
      "C:\\Users\\ander\\Documents\\yahooScraper\\scrape\\lib\\site-packages\\cryptography\\x509\\base.py:531: CryptographyDeprecationWarning: Parsed a negative serial number, which is disallowed by RFC 5280.\n",
      "  return rust_x509.load_pem_x509_certificate(data)\n",
      "C:\\Users\\ander\\Documents\\yahooScraper\\scrape\\lib\\site-packages\\cryptography\\x509\\base.py:531: CryptographyDeprecationWarning: Parsed a negative serial number, which is disallowed by RFC 5280.\n",
      "  return rust_x509.load_pem_x509_certificate(data)\n",
      "C:\\Users\\ander\\Documents\\yahooScraper\\scrape\\lib\\site-packages\\cryptography\\x509\\base.py:531: CryptographyDeprecationWarning: Parsed a negative serial number, which is disallowed by RFC 5280.\n",
      "  return rust_x509.load_pem_x509_certificate(data)\n",
      "C:\\Users\\ander\\Documents\\yahooScraper\\scrape\\lib\\site-packages\\cryptography\\x509\\base.py:531: CryptographyDeprecationWarning: Parsed a negative serial number, which is disallowed by RFC 5280.\n",
      "  return rust_x509.load_pem_x509_certificate(data)\n",
      "C:\\Users\\ander\\Documents\\yahooScraper\\scrape\\lib\\site-packages\\cryptography\\x509\\base.py:531: CryptographyDeprecationWarning: Parsed a negative serial number, which is disallowed by RFC 5280.\n",
      "  return rust_x509.load_pem_x509_certificate(data)\n",
      "C:\\Users\\ander\\Documents\\yahooScraper\\scrape\\lib\\site-packages\\cryptography\\x509\\base.py:531: CryptographyDeprecationWarning: Parsed a negative serial number, which is disallowed by RFC 5280.\n",
      "  return rust_x509.load_pem_x509_certificate(data)\n",
      "C:\\Users\\ander\\Documents\\yahooScraper\\scrape\\lib\\site-packages\\cryptography\\x509\\base.py:531: CryptographyDeprecationWarning: Parsed a negative serial number, which is disallowed by RFC 5280.\n",
      "  return rust_x509.load_pem_x509_certificate(data)\n",
      "C:\\Users\\ander\\Documents\\yahooScraper\\scrape\\lib\\site-packages\\cryptography\\x509\\base.py:531: CryptographyDeprecationWarning: Parsed a negative serial number, which is disallowed by RFC 5280.\n",
      "  return rust_x509.load_pem_x509_certificate(data)\n",
      "C:\\Users\\ander\\Documents\\yahooScraper\\scrape\\lib\\site-packages\\cryptography\\x509\\base.py:531: CryptographyDeprecationWarning: Parsed a negative serial number, which is disallowed by RFC 5280.\n",
      "  return rust_x509.load_pem_x509_certificate(data)\n",
      "C:\\Users\\ander\\Documents\\yahooScraper\\scrape\\lib\\site-packages\\cryptography\\x509\\base.py:531: CryptographyDeprecationWarning: Parsed a negative serial number, which is disallowed by RFC 5280.\n",
      "  return rust_x509.load_pem_x509_certificate(data)\n",
      "C:\\Users\\ander\\Documents\\yahooScraper\\scrape\\lib\\site-packages\\cryptography\\x509\\base.py:531: CryptographyDeprecationWarning: Parsed a negative serial number, which is disallowed by RFC 5280.\n",
      "  return rust_x509.load_pem_x509_certificate(data)\n",
      "C:\\Users\\ander\\Documents\\yahooScraper\\scrape\\lib\\site-packages\\cryptography\\x509\\base.py:531: CryptographyDeprecationWarning: Parsed a negative serial number, which is disallowed by RFC 5280.\n",
      "  return rust_x509.load_pem_x509_certificate(data)\n",
      "C:\\Users\\ander\\Documents\\yahooScraper\\scrape\\lib\\site-packages\\cryptography\\x509\\base.py:531: CryptographyDeprecationWarning: Parsed a negative serial number, which is disallowed by RFC 5280.\n",
      "  return rust_x509.load_pem_x509_certificate(data)\n",
      "C:\\Users\\ander\\Documents\\yahooScraper\\indicator_daily.py:289: RuntimeWarning: invalid value encountered in log\n",
      "  r = f['y0'] + f['probability']*0.68 * self.vol_factor/0.5 + f['iv']*self.iv + f['vix']*self.vix + f['days_to_strike']*self.days_to_strike + f['sqr_rel_risk']*np.log(self.risk_rel)\n",
      "C:\\Users\\ander\\Documents\\yahooScraper\\scrape\\lib\\site-packages\\cryptography\\x509\\base.py:531: CryptographyDeprecationWarning: Parsed a negative serial number, which is disallowed by RFC 5280.\n",
      "  return rust_x509.load_pem_x509_certificate(data)\n"
     ]
    }
   ],
   "source": [
    "print(\"running data aggregation\")\n",
    "returns = []\n",
    "for tick in tickers:\n",
    "    try:\n",
    "        o = i.Options(tick)\n",
    "        s = o.returns\n",
    "        s = s[(s['rel_risk']>0)&(s['rel_risk']<3)&(s['r']>0)&(s['r']<2)].copy()\n",
    "        returns.append(s)\n",
    "    except:\n",
    "        print(tick)"
   ]
  },
  {
   "cell_type": "code",
   "execution_count": 4,
   "metadata": {},
   "outputs": [],
   "source": [
    "b = pd.concat(returns)"
   ]
  },
  {
   "cell_type": "code",
   "execution_count": 5,
   "metadata": {},
   "outputs": [
    {
     "data": {
      "text/html": [
       "<div>\n",
       "<style scoped>\n",
       "    .dataframe tbody tr th:only-of-type {\n",
       "        vertical-align: middle;\n",
       "    }\n",
       "\n",
       "    .dataframe tbody tr th {\n",
       "        vertical-align: top;\n",
       "    }\n",
       "\n",
       "    .dataframe thead th {\n",
       "        text-align: right;\n",
       "    }\n",
       "</style>\n",
       "<table border=\"1\" class=\"dataframe\">\n",
       "  <thead>\n",
       "    <tr style=\"text-align: right;\">\n",
       "      <th></th>\n",
       "      <th>strike_date</th>\n",
       "      <th>rel_risk</th>\n",
       "      <th>high_put</th>\n",
       "      <th>low_call</th>\n",
       "      <th>highStrikePut</th>\n",
       "      <th>lowStrikeCall</th>\n",
       "      <th>lowStrikePut</th>\n",
       "      <th>highStrikeCall</th>\n",
       "      <th>p</th>\n",
       "      <th>r</th>\n",
       "      <th>ticker</th>\n",
       "    </tr>\n",
       "  </thead>\n",
       "  <tbody>\n",
       "    <tr>\n",
       "      <th>15</th>\n",
       "      <td>2022-09-16</td>\n",
       "      <td>0.044000</td>\n",
       "      <td>0.05</td>\n",
       "      <td>0.22</td>\n",
       "      <td>50.0</td>\n",
       "      <td>170.0</td>\n",
       "      <td>55.0</td>\n",
       "      <td>175.0</td>\n",
       "      <td>1.360</td>\n",
       "      <td>0.047855</td>\n",
       "      <td>VLO</td>\n",
       "    </tr>\n",
       "    <tr>\n",
       "      <th>13</th>\n",
       "      <td>2022-09-16</td>\n",
       "      <td>0.012000</td>\n",
       "      <td>0.02</td>\n",
       "      <td>0.07</td>\n",
       "      <td>3.0</td>\n",
       "      <td>35.0</td>\n",
       "      <td>8.0</td>\n",
       "      <td>40.0</td>\n",
       "      <td>1.088</td>\n",
       "      <td>0.052669</td>\n",
       "      <td>MRO</td>\n",
       "    </tr>\n",
       "    <tr>\n",
       "      <th>8</th>\n",
       "      <td>2022-09-16</td>\n",
       "      <td>0.002333</td>\n",
       "      <td>2.15</td>\n",
       "      <td>0.13</td>\n",
       "      <td>180.0</td>\n",
       "      <td>260.0</td>\n",
       "      <td>180.0</td>\n",
       "      <td>290.0</td>\n",
       "      <td>0.408</td>\n",
       "      <td>0.104923</td>\n",
       "      <td>HON</td>\n",
       "    </tr>\n",
       "    <tr>\n",
       "      <th>10</th>\n",
       "      <td>2022-09-16</td>\n",
       "      <td>0.035000</td>\n",
       "      <td>0.49</td>\n",
       "      <td>1.10</td>\n",
       "      <td>115.0</td>\n",
       "      <td>260.0</td>\n",
       "      <td>115.0</td>\n",
       "      <td>270.0</td>\n",
       "      <td>0.680</td>\n",
       "      <td>0.107414</td>\n",
       "      <td>MRNA</td>\n",
       "    </tr>\n",
       "    <tr>\n",
       "      <th>8</th>\n",
       "      <td>2022-09-16</td>\n",
       "      <td>0.090000</td>\n",
       "      <td>1.15</td>\n",
       "      <td>2.00</td>\n",
       "      <td>35.0</td>\n",
       "      <td>90.0</td>\n",
       "      <td>35.0</td>\n",
       "      <td>100.0</td>\n",
       "      <td>0.408</td>\n",
       "      <td>0.118419</td>\n",
       "      <td>NVAX</td>\n",
       "    </tr>\n",
       "    <tr>\n",
       "      <th>...</th>\n",
       "      <td>...</td>\n",
       "      <td>...</td>\n",
       "      <td>...</td>\n",
       "      <td>...</td>\n",
       "      <td>...</td>\n",
       "      <td>...</td>\n",
       "      <td>...</td>\n",
       "      <td>...</td>\n",
       "      <td>...</td>\n",
       "      <td>...</td>\n",
       "      <td>...</td>\n",
       "    </tr>\n",
       "    <tr>\n",
       "      <th>9</th>\n",
       "      <td>2022-09-16</td>\n",
       "      <td>0.006286</td>\n",
       "      <td>0.30</td>\n",
       "      <td>0.14</td>\n",
       "      <td>37.5</td>\n",
       "      <td>50.0</td>\n",
       "      <td>37.5</td>\n",
       "      <td>67.5</td>\n",
       "      <td>0.544</td>\n",
       "      <td>1.711274</td>\n",
       "      <td>WFC</td>\n",
       "    </tr>\n",
       "    <tr>\n",
       "      <th>13</th>\n",
       "      <td>2022-09-16</td>\n",
       "      <td>0.005000</td>\n",
       "      <td>0.08</td>\n",
       "      <td>0.04</td>\n",
       "      <td>18.0</td>\n",
       "      <td>41.0</td>\n",
       "      <td>18.0</td>\n",
       "      <td>43.0</td>\n",
       "      <td>1.088</td>\n",
       "      <td>1.777953</td>\n",
       "      <td>BP</td>\n",
       "    </tr>\n",
       "    <tr>\n",
       "      <th>13</th>\n",
       "      <td>2022-09-16</td>\n",
       "      <td>0.002000</td>\n",
       "      <td>0.07</td>\n",
       "      <td>0.04</td>\n",
       "      <td>30.0</td>\n",
       "      <td>85.0</td>\n",
       "      <td>30.0</td>\n",
       "      <td>90.0</td>\n",
       "      <td>1.088</td>\n",
       "      <td>1.793918</td>\n",
       "      <td>MRVL</td>\n",
       "    </tr>\n",
       "    <tr>\n",
       "      <th>14</th>\n",
       "      <td>2022-09-16</td>\n",
       "      <td>0.000400</td>\n",
       "      <td>0.12</td>\n",
       "      <td>0.03</td>\n",
       "      <td>50.0</td>\n",
       "      <td>125.0</td>\n",
       "      <td>50.0</td>\n",
       "      <td>150.0</td>\n",
       "      <td>1.224</td>\n",
       "      <td>1.814779</td>\n",
       "      <td>TSM</td>\n",
       "    </tr>\n",
       "    <tr>\n",
       "      <th>8</th>\n",
       "      <td>2022-09-16</td>\n",
       "      <td>0.006286</td>\n",
       "      <td>0.30</td>\n",
       "      <td>0.14</td>\n",
       "      <td>37.5</td>\n",
       "      <td>50.0</td>\n",
       "      <td>37.5</td>\n",
       "      <td>67.5</td>\n",
       "      <td>0.408</td>\n",
       "      <td>1.825838</td>\n",
       "      <td>WFC</td>\n",
       "    </tr>\n",
       "  </tbody>\n",
       "</table>\n",
       "<p>427 rows × 11 columns</p>\n",
       "</div>"
      ],
      "text/plain": [
       "   strike_date  rel_risk  high_put  low_call  highStrikePut  lowStrikeCall  \\\n",
       "15  2022-09-16  0.044000      0.05      0.22           50.0          170.0   \n",
       "13  2022-09-16  0.012000      0.02      0.07            3.0           35.0   \n",
       "8   2022-09-16  0.002333      2.15      0.13          180.0          260.0   \n",
       "10  2022-09-16  0.035000      0.49      1.10          115.0          260.0   \n",
       "8   2022-09-16  0.090000      1.15      2.00           35.0           90.0   \n",
       "..         ...       ...       ...       ...            ...            ...   \n",
       "9   2022-09-16  0.006286      0.30      0.14           37.5           50.0   \n",
       "13  2022-09-16  0.005000      0.08      0.04           18.0           41.0   \n",
       "13  2022-09-16  0.002000      0.07      0.04           30.0           85.0   \n",
       "14  2022-09-16  0.000400      0.12      0.03           50.0          125.0   \n",
       "8   2022-09-16  0.006286      0.30      0.14           37.5           50.0   \n",
       "\n",
       "    lowStrikePut  highStrikeCall      p         r ticker  \n",
       "15          55.0           175.0  1.360  0.047855    VLO  \n",
       "13           8.0            40.0  1.088  0.052669    MRO  \n",
       "8          180.0           290.0  0.408  0.104923    HON  \n",
       "10         115.0           270.0  0.680  0.107414   MRNA  \n",
       "8           35.0           100.0  0.408  0.118419   NVAX  \n",
       "..           ...             ...    ...       ...    ...  \n",
       "9           37.5            67.5  0.544  1.711274    WFC  \n",
       "13          18.0            43.0  1.088  1.777953     BP  \n",
       "13          30.0            90.0  1.088  1.793918   MRVL  \n",
       "14          50.0           150.0  1.224  1.814779    TSM  \n",
       "8           37.5            67.5  0.408  1.825838    WFC  \n",
       "\n",
       "[427 rows x 11 columns]"
      ]
     },
     "execution_count": 5,
     "metadata": {},
     "output_type": "execute_result"
    }
   ],
   "source": [
    "b.sort_values(by=['r'])"
   ]
  },
  {
   "cell_type": "code",
   "execution_count": 6,
   "metadata": {},
   "outputs": [],
   "source": [
    "c = b[(b['rel_risk']>0.25)&(b['p']>0.5)].copy()"
   ]
  },
  {
   "cell_type": "code",
   "execution_count": 7,
   "metadata": {},
   "outputs": [
    {
     "data": {
      "text/html": [
       "<div>\n",
       "<style scoped>\n",
       "    .dataframe tbody tr th:only-of-type {\n",
       "        vertical-align: middle;\n",
       "    }\n",
       "\n",
       "    .dataframe tbody tr th {\n",
       "        vertical-align: top;\n",
       "    }\n",
       "\n",
       "    .dataframe thead th {\n",
       "        text-align: right;\n",
       "    }\n",
       "</style>\n",
       "<table border=\"1\" class=\"dataframe\">\n",
       "  <thead>\n",
       "    <tr style=\"text-align: right;\">\n",
       "      <th></th>\n",
       "      <th>strike_date</th>\n",
       "      <th>rel_risk</th>\n",
       "      <th>high_put</th>\n",
       "      <th>low_call</th>\n",
       "      <th>highStrikePut</th>\n",
       "      <th>lowStrikeCall</th>\n",
       "      <th>lowStrikePut</th>\n",
       "      <th>highStrikeCall</th>\n",
       "      <th>p</th>\n",
       "      <th>r</th>\n",
       "      <th>ticker</th>\n",
       "    </tr>\n",
       "  </thead>\n",
       "  <tbody>\n",
       "    <tr>\n",
       "      <th>9</th>\n",
       "      <td>2022-09-16</td>\n",
       "      <td>0.304</td>\n",
       "      <td>2.3</td>\n",
       "      <td>3.14</td>\n",
       "      <td>110.0</td>\n",
       "      <td>210.0</td>\n",
       "      <td>115.0</td>\n",
       "      <td>215.0</td>\n",
       "      <td>0.544</td>\n",
       "      <td>0.378827</td>\n",
       "      <td>SNOW</td>\n",
       "    </tr>\n",
       "  </tbody>\n",
       "</table>\n",
       "</div>"
      ],
      "text/plain": [
       "  strike_date  rel_risk  high_put  low_call  highStrikePut  lowStrikeCall  \\\n",
       "9  2022-09-16     0.304       2.3      3.14          110.0          210.0   \n",
       "\n",
       "   lowStrikePut  highStrikeCall      p         r ticker  \n",
       "9         115.0           215.0  0.544  0.378827   SNOW  "
      ]
     },
     "execution_count": 7,
     "metadata": {},
     "output_type": "execute_result"
    }
   ],
   "source": [
    "c.sort_values(by=['r'])"
   ]
  },
  {
   "cell_type": "code",
   "execution_count": 11,
   "metadata": {},
   "outputs": [
    {
     "data": {
      "text/plain": [
       "{'_id': ObjectId('62dcedf1a27e6984c7f9bb16'),\n",
       " 'y0': 0.16508356620980702,\n",
       " 'sqr_rel_risk': -0.23015109851981644,\n",
       " 'probability': -0.9087906733509796,\n",
       " 'iv': -0.015919224519096872,\n",
       " 'vix': 0.06563407867258961,\n",
       " 'days_to_strike': 0.0015224368128135986,\n",
       " 'ticker': 'SNOW',\n",
       " 'date': datetime.datetime(2022, 7, 24, 0, 0)}"
      ]
     },
     "execution_count": 11,
     "metadata": {},
     "output_type": "execute_result"
    }
   ],
   "source": [
    "m.get_analisys(\"SNOW\")[0]"
   ]
  },
  {
   "cell_type": "code",
   "execution_count": null,
   "metadata": {},
   "outputs": [],
   "source": []
  }
 ],
 "metadata": {
  "kernelspec": {
   "display_name": "scrape",
   "language": "python",
   "name": "scrape"
  },
  "language_info": {
   "codemirror_mode": {
    "name": "ipython",
    "version": 3
   },
   "file_extension": ".py",
   "mimetype": "text/x-python",
   "name": "python",
   "nbconvert_exporter": "python",
   "pygments_lexer": "ipython3",
   "version": "3.9.6"
  }
 },
 "nbformat": 4,
 "nbformat_minor": 4
}
