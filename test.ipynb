{
 "cells": [
  {
   "cell_type": "code",
   "execution_count": 1,
   "metadata": {},
   "outputs": [
    {
     "name": "stderr",
     "output_type": "stream",
     "text": [
      "C:\\Users\\ander\\Documents\\yahooScraper\\scrape\\lib\\site-packages\\cryptography\\x509\\base.py:531: CryptographyDeprecationWarning: Parsed a negative serial number, which is disallowed by RFC 5280.\n",
      "  return rust_x509.load_pem_x509_certificate(data)\n"
     ]
    }
   ],
   "source": [
    "import scraper2 as s\n",
    "import pandas as pd\n",
    "from pandas.io.json import json_normalize\n",
    "import numpy as np\n",
    "import datetime\n",
    "from datetime import date, timedelta\n",
    "import matplotlib.pyplot as plt\n",
    "import time\n",
    "from scipy.stats import norm\n",
    "import seaborn as sns\n",
    "from yahoo_fin import options\n",
    "from yahoo_fin.stock_info import *\n",
    "from yahoo_fin.stock_info import get_data, get_splits\n",
    "import mibian\n",
    "import time\n",
    "m = s.stockMongo()\n",
    "import indicator as i"
   ]
  },
  {
   "cell_type": "code",
   "execution_count": 3,
   "metadata": {},
   "outputs": [
    {
     "name": "stderr",
     "output_type": "stream",
     "text": [
      "C:\\Users\\ander\\AppData\\Local\\Temp/ipykernel_21720/3622889483.py:2: DeprecationWarning: count is deprecated. Use Collection.count_documents instead.\n",
      "  op.count()\n"
     ]
    },
    {
     "data": {
      "text/plain": [
       "455549"
      ]
     },
     "execution_count": 3,
     "metadata": {},
     "output_type": "execute_result"
    }
   ],
   "source": [
    "op = m.stock_data.options_data2.find()\n",
    "op.count()"
   ]
  },
  {
   "cell_type": "code",
   "execution_count": 19,
   "metadata": {},
   "outputs": [],
   "source": [
    "def dict_parse(df):\n",
    "    return pd.DataFrame.from_records(df['options'])"
   ]
  },
  {
   "cell_type": "code",
   "execution_count": 41,
   "metadata": {},
   "outputs": [
    {
     "name": "stdout",
     "output_type": "stream",
     "text": [
      "--- 1.9917817115783691 seconds ---\n"
     ]
    }
   ],
   "source": [
    "start_time = time.time()\n",
    "op = m.stock_data.options_data2.find({'sym':'JPM'})\n",
    "df = pd.DataFrame.from_records(op)\n",
    "df1 = df.apply(dict_parse, axis=1)\n",
    "df1 = pd.concat(df1.tolist())\n",
    "df1.head()\n",
    "print(\"--- %s seconds ---\" % (time.time() - start_time))"
   ]
  },
  {
   "cell_type": "code",
   "execution_count": 43,
   "metadata": {},
   "outputs": [
    {
     "data": {
      "text/html": [
       "<div>\n",
       "<style scoped>\n",
       "    .dataframe tbody tr th:only-of-type {\n",
       "        vertical-align: middle;\n",
       "    }\n",
       "\n",
       "    .dataframe tbody tr th {\n",
       "        vertical-align: top;\n",
       "    }\n",
       "\n",
       "    .dataframe thead th {\n",
       "        text-align: right;\n",
       "    }\n",
       "</style>\n",
       "<table border=\"1\" class=\"dataframe\">\n",
       "  <thead>\n",
       "    <tr style=\"text-align: right;\">\n",
       "      <th></th>\n",
       "      <th>Ask</th>\n",
       "      <th>Bid</th>\n",
       "      <th>Change</th>\n",
       "      <th>Last Price</th>\n",
       "      <th>Open Interest</th>\n",
       "      <th>Strike</th>\n",
       "    </tr>\n",
       "  </thead>\n",
       "  <tbody>\n",
       "    <tr>\n",
       "      <th>count</th>\n",
       "      <td>19910.000000</td>\n",
       "      <td>19910.000000</td>\n",
       "      <td>19910.000000</td>\n",
       "      <td>20060.000000</td>\n",
       "      <td>19910.000000</td>\n",
       "      <td>19910.000000</td>\n",
       "    </tr>\n",
       "    <tr>\n",
       "      <th>mean</th>\n",
       "      <td>22.789525</td>\n",
       "      <td>21.564110</td>\n",
       "      <td>-0.175028</td>\n",
       "      <td>22.565054</td>\n",
       "      <td>1154.395881</td>\n",
       "      <td>150.023355</td>\n",
       "    </tr>\n",
       "    <tr>\n",
       "      <th>std</th>\n",
       "      <td>26.734270</td>\n",
       "      <td>25.995311</td>\n",
       "      <td>1.213375</td>\n",
       "      <td>26.897255</td>\n",
       "      <td>2313.225443</td>\n",
       "      <td>46.289036</td>\n",
       "    </tr>\n",
       "    <tr>\n",
       "      <th>min</th>\n",
       "      <td>0.050000</td>\n",
       "      <td>0.000000</td>\n",
       "      <td>-7.700000</td>\n",
       "      <td>0.010000</td>\n",
       "      <td>0.000000</td>\n",
       "      <td>50.000000</td>\n",
       "    </tr>\n",
       "    <tr>\n",
       "      <th>25%</th>\n",
       "      <td>2.100000</td>\n",
       "      <td>1.620000</td>\n",
       "      <td>-0.090000</td>\n",
       "      <td>1.950000</td>\n",
       "      <td>24.000000</td>\n",
       "      <td>115.000000</td>\n",
       "    </tr>\n",
       "    <tr>\n",
       "      <th>50%</th>\n",
       "      <td>11.400000</td>\n",
       "      <td>10.000000</td>\n",
       "      <td>0.000000</td>\n",
       "      <td>11.190000</td>\n",
       "      <td>152.000000</td>\n",
       "      <td>150.000000</td>\n",
       "    </tr>\n",
       "    <tr>\n",
       "      <th>75%</th>\n",
       "      <td>35.250000</td>\n",
       "      <td>33.400000</td>\n",
       "      <td>0.000000</td>\n",
       "      <td>35.850000</td>\n",
       "      <td>1220.000000</td>\n",
       "      <td>180.000000</td>\n",
       "    </tr>\n",
       "    <tr>\n",
       "      <th>max</th>\n",
       "      <td>116.100000</td>\n",
       "      <td>112.050000</td>\n",
       "      <td>6.990000</td>\n",
       "      <td>151.150000</td>\n",
       "      <td>23742.000000</td>\n",
       "      <td>250.000000</td>\n",
       "    </tr>\n",
       "  </tbody>\n",
       "</table>\n",
       "</div>"
      ],
      "text/plain": [
       "                Ask           Bid        Change    Last Price  Open Interest  \\\n",
       "count  19910.000000  19910.000000  19910.000000  20060.000000   19910.000000   \n",
       "mean      22.789525     21.564110     -0.175028     22.565054    1154.395881   \n",
       "std       26.734270     25.995311      1.213375     26.897255    2313.225443   \n",
       "min        0.050000      0.000000     -7.700000      0.010000       0.000000   \n",
       "25%        2.100000      1.620000     -0.090000      1.950000      24.000000   \n",
       "50%       11.400000     10.000000      0.000000     11.190000     152.000000   \n",
       "75%       35.250000     33.400000      0.000000     35.850000    1220.000000   \n",
       "max      116.100000    112.050000      6.990000    151.150000   23742.000000   \n",
       "\n",
       "             Strike  \n",
       "count  19910.000000  \n",
       "mean     150.023355  \n",
       "std       46.289036  \n",
       "min       50.000000  \n",
       "25%      115.000000  \n",
       "50%      150.000000  \n",
       "75%      180.000000  \n",
       "max      250.000000  "
      ]
     },
     "execution_count": 43,
     "metadata": {},
     "output_type": "execute_result"
    }
   ],
   "source": [
    "df1.describe()"
   ]
  },
  {
   "cell_type": "code",
   "execution_count": 14,
   "metadata": {},
   "outputs": [
    {
     "ename": "NameError",
     "evalue": "name 'tickers' is not defined",
     "output_type": "error",
     "traceback": [
      "\u001b[1;31m---------------------------------------------------------------------------\u001b[0m",
      "\u001b[1;31mNameError\u001b[0m                                 Traceback (most recent call last)",
      "\u001b[1;32m~\\AppData\\Local\\Temp/ipykernel_23220/3442609846.py\u001b[0m in \u001b[0;36m<module>\u001b[1;34m\u001b[0m\n\u001b[0;32m      1\u001b[0m \u001b[0mstart_time\u001b[0m \u001b[1;33m=\u001b[0m \u001b[0mtime\u001b[0m\u001b[1;33m.\u001b[0m\u001b[0mtime\u001b[0m\u001b[1;33m(\u001b[0m\u001b[1;33m)\u001b[0m\u001b[1;33m\u001b[0m\u001b[1;33m\u001b[0m\u001b[0m\n\u001b[0;32m      2\u001b[0m \u001b[0mticker\u001b[0m \u001b[1;33m=\u001b[0m \u001b[0mc\u001b[0m\u001b[1;33m[\u001b[0m\u001b[1;36m10\u001b[0m\u001b[1;33m]\u001b[0m\u001b[1;33m\u001b[0m\u001b[1;33m\u001b[0m\u001b[0m\n\u001b[1;32m----> 3\u001b[1;33m \u001b[0mapple\u001b[0m \u001b[1;33m=\u001b[0m \u001b[0mm\u001b[0m\u001b[1;33m.\u001b[0m\u001b[0mget_options\u001b[0m\u001b[1;33m(\u001b[0m\u001b[0mtickers\u001b[0m\u001b[1;33m[\u001b[0m\u001b[1;36m2\u001b[0m\u001b[1;33m]\u001b[0m\u001b[1;33m)\u001b[0m\u001b[1;33m\u001b[0m\u001b[1;33m\u001b[0m\u001b[0m\n\u001b[0m\u001b[0;32m      4\u001b[0m \u001b[0mapple\u001b[0m\u001b[1;33m[\u001b[0m\u001b[1;34m'time'\u001b[0m\u001b[1;33m]\u001b[0m \u001b[1;33m=\u001b[0m \u001b[0mapple\u001b[0m\u001b[1;33m[\u001b[0m\u001b[1;34m'strike-date'\u001b[0m\u001b[1;33m]\u001b[0m \u001b[1;33m-\u001b[0m \u001b[0mapple\u001b[0m\u001b[1;33m.\u001b[0m\u001b[0mindex\u001b[0m\u001b[1;33m\u001b[0m\u001b[1;33m\u001b[0m\u001b[0m\n\u001b[0;32m      5\u001b[0m \u001b[0mapple\u001b[0m\u001b[1;33m[\u001b[0m\u001b[1;34m'time'\u001b[0m\u001b[1;33m]\u001b[0m \u001b[1;33m=\u001b[0m \u001b[0mapple\u001b[0m\u001b[1;33m[\u001b[0m\u001b[1;34m'time'\u001b[0m\u001b[1;33m]\u001b[0m\u001b[1;33m.\u001b[0m\u001b[0mdt\u001b[0m\u001b[1;33m.\u001b[0m\u001b[0mtotal_seconds\u001b[0m\u001b[1;33m(\u001b[0m\u001b[1;33m)\u001b[0m \u001b[1;33m/\u001b[0m \u001b[1;33m(\u001b[0m\u001b[1;36m24\u001b[0m \u001b[1;33m*\u001b[0m \u001b[1;36m60\u001b[0m \u001b[1;33m*\u001b[0m \u001b[1;36m60\u001b[0m\u001b[1;33m)\u001b[0m\u001b[1;33m\u001b[0m\u001b[1;33m\u001b[0m\u001b[0m\n",
      "\u001b[1;31mNameError\u001b[0m: name 'tickers' is not defined"
     ]
    }
   ],
   "source": [
    "start_time = time.time()\n",
    "ticker = c[10]\n",
    "apple = m.get_options(tickers[2])\n",
    "apple['time'] = apple['strike-date'] - apple.index\n",
    "apple['time'] = apple['time'].dt.total_seconds() / (24 * 60 * 60)\n",
    "apple['Last Trade Date'] = apple['Last Trade Date'].str.slice(stop=10)\n",
    "apple['Last Trade Date'] = pd.to_datetime(apple['Last Trade Date'], format='%Y-%m-%d')\n",
    "apple = apple.reset_index()\n",
    "strike_dates = apple.pivot_table(columns=\"strike-date\", values=\"date\", aggfunc=np.count_nonzero).columns\n",
    "#strike_dates[6]\n",
    "apple2 = apple[apple['strike-date']==strike_dates[7]]\n",
    "#apple2 = apple2[apple2['date']==apple2['Last Trade Date']]\n",
    "print(\"--- %s seconds ---\" % (time.time() - start_time))"
   ]
  },
  {
   "cell_type": "code",
   "execution_count": 27,
   "metadata": {},
   "outputs": [],
   "source": [
    "symbols = m.get_symbols()\n",
    "tickers = []\n",
    "for sym in symbols:\n",
    "    tickers.append(sym['sym'])"
   ]
  },
  {
   "cell_type": "code",
   "execution_count": 7,
   "metadata": {},
   "outputs": [
    {
     "data": {
      "text/plain": [
       "'LQDI'"
      ]
     },
     "execution_count": 7,
     "metadata": {},
     "output_type": "execute_result"
    }
   ],
   "source": [
    "tickers[1634]"
   ]
  },
  {
   "cell_type": "code",
   "execution_count": 10,
   "metadata": {},
   "outputs": [
    {
     "data": {
      "text/html": [
       "<div>\n",
       "<style scoped>\n",
       "    .dataframe tbody tr th:only-of-type {\n",
       "        vertical-align: middle;\n",
       "    }\n",
       "\n",
       "    .dataframe tbody tr th {\n",
       "        vertical-align: top;\n",
       "    }\n",
       "\n",
       "    .dataframe thead th {\n",
       "        text-align: right;\n",
       "    }\n",
       "</style>\n",
       "<table border=\"1\" class=\"dataframe\">\n",
       "  <thead>\n",
       "    <tr style=\"text-align: right;\">\n",
       "      <th></th>\n",
       "      <th>date</th>\n",
       "      <th>% Change</th>\n",
       "      <th>Ask</th>\n",
       "      <th>Bid</th>\n",
       "      <th>Change</th>\n",
       "      <th>Contract Name</th>\n",
       "      <th>Implied Volatility</th>\n",
       "      <th>Last Price</th>\n",
       "      <th>Last Trade Date</th>\n",
       "      <th>Open Interest</th>\n",
       "      <th>Strike</th>\n",
       "      <th>Volume</th>\n",
       "      <th>strike-date</th>\n",
       "      <th>type</th>\n",
       "      <th>time</th>\n",
       "    </tr>\n",
       "  </thead>\n",
       "  <tbody>\n",
       "    <tr>\n",
       "      <th>26479</th>\n",
       "      <td>2022-03-06</td>\n",
       "      <td>-</td>\n",
       "      <td>14.10</td>\n",
       "      <td>13.45</td>\n",
       "      <td>0.00</td>\n",
       "      <td>ABT220318P00135000</td>\n",
       "      <td>44.09%</td>\n",
       "      <td>18.47</td>\n",
       "      <td>2022-02-18</td>\n",
       "      <td>82.0</td>\n",
       "      <td>135.0</td>\n",
       "      <td>1.0</td>\n",
       "      <td>2022-03-18</td>\n",
       "      <td>put</td>\n",
       "      <td>12.0</td>\n",
       "    </tr>\n",
       "    <tr>\n",
       "      <th>26480</th>\n",
       "      <td>2022-03-06</td>\n",
       "      <td>-</td>\n",
       "      <td>19.45</td>\n",
       "      <td>18.20</td>\n",
       "      <td>0.00</td>\n",
       "      <td>ABT220318P00140000</td>\n",
       "      <td>62.74%</td>\n",
       "      <td>18.30</td>\n",
       "      <td>2022-02-25</td>\n",
       "      <td>1.0</td>\n",
       "      <td>140.0</td>\n",
       "      <td>1.0</td>\n",
       "      <td>2022-03-18</td>\n",
       "      <td>put</td>\n",
       "      <td>12.0</td>\n",
       "    </tr>\n",
       "    <tr>\n",
       "      <th>26481</th>\n",
       "      <td>2022-03-06</td>\n",
       "      <td>-</td>\n",
       "      <td>22.90</td>\n",
       "      <td>22.25</td>\n",
       "      <td>0.00</td>\n",
       "      <td>ABT220318P00145000</td>\n",
       "      <td>0.00%</td>\n",
       "      <td>24.25</td>\n",
       "      <td>2022-01-26</td>\n",
       "      <td>0.0</td>\n",
       "      <td>145.0</td>\n",
       "      <td>2.0</td>\n",
       "      <td>2022-03-18</td>\n",
       "      <td>put</td>\n",
       "      <td>12.0</td>\n",
       "    </tr>\n",
       "    <tr>\n",
       "      <th>26482</th>\n",
       "      <td>2022-03-06</td>\n",
       "      <td>+0.17%</td>\n",
       "      <td>29.30</td>\n",
       "      <td>28.40</td>\n",
       "      <td>0.05</td>\n",
       "      <td>ABT220318P00150000</td>\n",
       "      <td>63.87%</td>\n",
       "      <td>28.70</td>\n",
       "      <td>2022-03-04</td>\n",
       "      <td>80.0</td>\n",
       "      <td>150.0</td>\n",
       "      <td>40.0</td>\n",
       "      <td>2022-03-18</td>\n",
       "      <td>put</td>\n",
       "      <td>12.0</td>\n",
       "    </tr>\n",
       "    <tr>\n",
       "      <th>26483</th>\n",
       "      <td>2022-03-06</td>\n",
       "      <td>-</td>\n",
       "      <td>48.30</td>\n",
       "      <td>46.15</td>\n",
       "      <td>0.00</td>\n",
       "      <td>ABT220318P00170000</td>\n",
       "      <td>0.00%</td>\n",
       "      <td>49.50</td>\n",
       "      <td>2022-01-28</td>\n",
       "      <td>0.0</td>\n",
       "      <td>170.0</td>\n",
       "      <td>1.0</td>\n",
       "      <td>2022-03-18</td>\n",
       "      <td>put</td>\n",
       "      <td>12.0</td>\n",
       "    </tr>\n",
       "  </tbody>\n",
       "</table>\n",
       "</div>"
      ],
      "text/plain": [
       "            date % Change    Ask    Bid  Change       Contract Name  \\\n",
       "26479 2022-03-06        -  14.10  13.45    0.00  ABT220318P00135000   \n",
       "26480 2022-03-06        -  19.45  18.20    0.00  ABT220318P00140000   \n",
       "26481 2022-03-06        -  22.90  22.25    0.00  ABT220318P00145000   \n",
       "26482 2022-03-06   +0.17%  29.30  28.40    0.05  ABT220318P00150000   \n",
       "26483 2022-03-06        -  48.30  46.15    0.00  ABT220318P00170000   \n",
       "\n",
       "      Implied Volatility  Last Price Last Trade Date  Open Interest  Strike  \\\n",
       "26479             44.09%       18.47      2022-02-18           82.0   135.0   \n",
       "26480             62.74%       18.30      2022-02-25            1.0   140.0   \n",
       "26481              0.00%       24.25      2022-01-26            0.0   145.0   \n",
       "26482             63.87%       28.70      2022-03-04           80.0   150.0   \n",
       "26483              0.00%       49.50      2022-01-28            0.0   170.0   \n",
       "\n",
       "       Volume strike-date type  time  \n",
       "26479     1.0  2022-03-18  put  12.0  \n",
       "26480     1.0  2022-03-18  put  12.0  \n",
       "26481     2.0  2022-03-18  put  12.0  \n",
       "26482    40.0  2022-03-18  put  12.0  \n",
       "26483     1.0  2022-03-18  put  12.0  "
      ]
     },
     "execution_count": 10,
     "metadata": {},
     "output_type": "execute_result"
    }
   ],
   "source": [
    "apple2.tail()"
   ]
  },
  {
   "cell_type": "code",
   "execution_count": 15,
   "metadata": {},
   "outputs": [
    {
     "data": {
      "text/html": [
       "<div>\n",
       "<style scoped>\n",
       "    .dataframe tbody tr th:only-of-type {\n",
       "        vertical-align: middle;\n",
       "    }\n",
       "\n",
       "    .dataframe tbody tr th {\n",
       "        vertical-align: top;\n",
       "    }\n",
       "\n",
       "    .dataframe thead th {\n",
       "        text-align: right;\n",
       "    }\n",
       "</style>\n",
       "<table border=\"1\" class=\"dataframe\">\n",
       "  <thead>\n",
       "    <tr style=\"text-align: right;\">\n",
       "      <th></th>\n",
       "      <th>open</th>\n",
       "      <th>high</th>\n",
       "      <th>low</th>\n",
       "      <th>close</th>\n",
       "      <th>adjclose</th>\n",
       "      <th>volume</th>\n",
       "      <th>ticker</th>\n",
       "      <th>returns</th>\n",
       "      <th>volatility</th>\n",
       "      <th>date</th>\n",
       "    </tr>\n",
       "  </thead>\n",
       "  <tbody>\n",
       "    <tr>\n",
       "      <th>2022-03-01</th>\n",
       "      <td>8.51</td>\n",
       "      <td>8.59</td>\n",
       "      <td>7.74</td>\n",
       "      <td>7.96</td>\n",
       "      <td>7.96</td>\n",
       "      <td>1574900</td>\n",
       "      <td>AHT</td>\n",
       "      <td>-0.075494</td>\n",
       "      <td>0.874037</td>\n",
       "      <td>2022-03-01</td>\n",
       "    </tr>\n",
       "    <tr>\n",
       "      <th>2022-03-02</th>\n",
       "      <td>7.97</td>\n",
       "      <td>8.42</td>\n",
       "      <td>7.93</td>\n",
       "      <td>8.32</td>\n",
       "      <td>8.32</td>\n",
       "      <td>1045400</td>\n",
       "      <td>AHT</td>\n",
       "      <td>0.045226</td>\n",
       "      <td>0.880576</td>\n",
       "      <td>2022-03-02</td>\n",
       "    </tr>\n",
       "    <tr>\n",
       "      <th>2022-03-03</th>\n",
       "      <td>8.31</td>\n",
       "      <td>8.41</td>\n",
       "      <td>7.66</td>\n",
       "      <td>7.85</td>\n",
       "      <td>7.85</td>\n",
       "      <td>1495600</td>\n",
       "      <td>AHT</td>\n",
       "      <td>-0.056490</td>\n",
       "      <td>0.886295</td>\n",
       "      <td>2022-03-03</td>\n",
       "    </tr>\n",
       "    <tr>\n",
       "      <th>2022-03-04</th>\n",
       "      <td>7.60</td>\n",
       "      <td>7.68</td>\n",
       "      <td>7.15</td>\n",
       "      <td>7.31</td>\n",
       "      <td>7.31</td>\n",
       "      <td>1432300</td>\n",
       "      <td>AHT</td>\n",
       "      <td>-0.068790</td>\n",
       "      <td>0.909155</td>\n",
       "      <td>2022-03-04</td>\n",
       "    </tr>\n",
       "    <tr>\n",
       "      <th>2022-03-04</th>\n",
       "      <td>7.60</td>\n",
       "      <td>7.68</td>\n",
       "      <td>7.15</td>\n",
       "      <td>7.31</td>\n",
       "      <td>7.31</td>\n",
       "      <td>1433908</td>\n",
       "      <td>AHT</td>\n",
       "      <td>0.000000</td>\n",
       "      <td>0.897911</td>\n",
       "      <td>2022-03-04</td>\n",
       "    </tr>\n",
       "  </tbody>\n",
       "</table>\n",
       "</div>"
      ],
      "text/plain": [
       "            open  high   low  close  adjclose   volume ticker   returns  \\\n",
       "2022-03-01  8.51  8.59  7.74   7.96      7.96  1574900    AHT -0.075494   \n",
       "2022-03-02  7.97  8.42  7.93   8.32      8.32  1045400    AHT  0.045226   \n",
       "2022-03-03  8.31  8.41  7.66   7.85      7.85  1495600    AHT -0.056490   \n",
       "2022-03-04  7.60  7.68  7.15   7.31      7.31  1432300    AHT -0.068790   \n",
       "2022-03-04  7.60  7.68  7.15   7.31      7.31  1433908    AHT  0.000000   \n",
       "\n",
       "            volatility       date  \n",
       "2022-03-01    0.874037 2022-03-01  \n",
       "2022-03-02    0.880576 2022-03-02  \n",
       "2022-03-03    0.886295 2022-03-03  \n",
       "2022-03-04    0.909155 2022-03-04  \n",
       "2022-03-04    0.897911 2022-03-04  "
      ]
     },
     "execution_count": 15,
     "metadata": {},
     "output_type": "execute_result"
    }
   ],
   "source": [
    "# set stock ticker symbol\n",
    "stock_symbol = c[10]\n",
    " \n",
    "# set date range for historical prices\n",
    "end_time = date.today()\n",
    "start_time = end_time - timedelta(days=400)\n",
    " \n",
    "# reformat date range\n",
    "end = end_time.strftime('%Y-%m-%d')\n",
    "start = start_time.strftime('%Y-%m-%d')\n",
    " \n",
    "# get daily stock prices over date range\n",
    "prices = get_data(stock_symbol, start, end, 'daily')\n",
    "#compute daily returns and 20 day moving historical volatility\n",
    "window_size = 20\n",
    "prices['returns']=prices['close'].pct_change()\n",
    "prices['volatility']=prices['returns'].rolling(window_size).std()*(252**0.5)\n",
    "prices['date'] = prices.index\n",
    "prices.tail()"
   ]
  },
  {
   "cell_type": "code",
   "execution_count": 7,
   "metadata": {},
   "outputs": [],
   "source": [
    "c = ['AMWD', 'AMNB', 'AON', 'ANDE', 'ARWR', 'TEN', 'ASB', 'ASPS', 'ALTR', 'AGRX', 'AHT', 'AKBA', 'ARLP', 'AVAV', 'EBF', 'EB', 'AMSWA', 'ATNI', 'ABEV', 'AGM', 'ANSS', 'HXL', 'ADM', 'AKTS', 'AXNX', 'AMLP', 'KNSA', 'AMT', 'ARAY', 'AROC', 'EBS', 'APT', 'WDC', 'AMCX', 'ATLC', 'ATSG', 'ARCC', 'ATRS', 'ADMP', 'CLSD', 'KNX', 'NAVB', 'AUDC', 'HY', 'AEM', 'AUTO', 'AVTR', 'ACM', 'ALDX', 'ATVI', 'ACIW', 'ASC', 'AGIO', 'PINC', 'KRC', 'ALSN', 'KOD', 'TECH', 'AVGO', 'ADSK', 'AG', 'CLW', 'AL', 'WCC', 'ADP', 'ATHM', 'WHD', 'AVRO', 'ALLE', 'SATS', 'ARCO', 'PK', 'ACRE', 'ACWI', 'ALGT', 'AGX', 'AMPH', 'NBIX', 'ALBO', 'CLX', 'AEIS', 'APLS', 'ARAV', 'AKRO', 'APPN', 'APTV', 'AM', 'AGYS', 'AQMS', 'APPF', 'CLNE', 'WDFC', 'KSU', 'WBS', 'KRO', 'ACIU', 'AWRE', 'KPTI', 'AGS', 'ATRA']"
   ]
  },
  {
   "cell_type": "code",
   "execution_count": 44,
   "metadata": {},
   "outputs": [
    {
     "name": "stderr",
     "output_type": "stream",
     "text": [
      "C:\\Users\\ander\\Documents\\yahooScraper\\scrape\\lib\\site-packages\\cryptography\\x509\\base.py:531: CryptographyDeprecationWarning: Parsed a negative serial number, which is disallowed by RFC 5280.\n",
      "  return rust_x509.load_pem_x509_certificate(data)\n"
     ]
    },
    {
     "ename": "AttributeError",
     "evalue": "'Options' object has no attribute 'options'",
     "output_type": "error",
     "traceback": [
      "\u001b[1;31m---------------------------------------------------------------------------\u001b[0m",
      "\u001b[1;31mAttributeError\u001b[0m                            Traceback (most recent call last)",
      "\u001b[1;32m~\\AppData\\Local\\Temp/ipykernel_23220/789370216.py\u001b[0m in \u001b[0;36m<module>\u001b[1;34m\u001b[0m\n\u001b[0;32m      1\u001b[0m \u001b[0mo\u001b[0m \u001b[1;33m=\u001b[0m \u001b[0mi\u001b[0m\u001b[1;33m.\u001b[0m\u001b[0mOptions\u001b[0m\u001b[1;33m(\u001b[0m\u001b[1;34m'T'\u001b[0m\u001b[1;33m)\u001b[0m\u001b[1;33m\u001b[0m\u001b[1;33m\u001b[0m\u001b[0m\n\u001b[1;32m----> 2\u001b[1;33m \u001b[0mo\u001b[0m\u001b[1;33m.\u001b[0m\u001b[0moptions\u001b[0m\u001b[1;33m\u001b[0m\u001b[1;33m\u001b[0m\u001b[0m\n\u001b[0m",
      "\u001b[1;31mAttributeError\u001b[0m: 'Options' object has no attribute 'options'"
     ]
    }
   ],
   "source": [
    "o = i.Options('T')\n",
    "o.options"
   ]
  },
  {
   "cell_type": "code",
   "execution_count": 25,
   "metadata": {},
   "outputs": [
    {
     "ename": "AttributeError",
     "evalue": "'Options' object has no attribute 'returns'",
     "output_type": "error",
     "traceback": [
      "\u001b[1;31m---------------------------------------------------------------------------\u001b[0m",
      "\u001b[1;31mAttributeError\u001b[0m                            Traceback (most recent call last)",
      "\u001b[1;32m~\\AppData\\Local\\Temp/ipykernel_8488/496001768.py\u001b[0m in \u001b[0;36m<module>\u001b[1;34m\u001b[0m\n\u001b[1;32m----> 1\u001b[1;33m \u001b[0ms\u001b[0m \u001b[1;33m=\u001b[0m \u001b[0mo\u001b[0m\u001b[1;33m.\u001b[0m\u001b[0mreturns\u001b[0m\u001b[1;33m\u001b[0m\u001b[1;33m\u001b[0m\u001b[0m\n\u001b[0m\u001b[0;32m      2\u001b[0m \u001b[1;31m#s[s.is_won].plot.scatter(x='probability', y='return')\u001b[0m\u001b[1;33m\u001b[0m\u001b[1;33m\u001b[0m\u001b[1;33m\u001b[0m\u001b[0m\n\u001b[0;32m      3\u001b[0m \u001b[0ms\u001b[0m\u001b[1;33m.\u001b[0m\u001b[0mplot\u001b[0m\u001b[1;33m.\u001b[0m\u001b[0mscatter\u001b[0m\u001b[1;33m(\u001b[0m\u001b[0mx\u001b[0m\u001b[1;33m=\u001b[0m\u001b[1;34m'rel_risk'\u001b[0m\u001b[1;33m,\u001b[0m \u001b[0my\u001b[0m\u001b[1;33m=\u001b[0m\u001b[1;34m'return'\u001b[0m\u001b[1;33m)\u001b[0m\u001b[1;33m\u001b[0m\u001b[1;33m\u001b[0m\u001b[0m\n\u001b[0;32m      4\u001b[0m \u001b[1;31m#s[(s['rel_risk']>0)&(s['return']>0)].plot.scatter(x='rel_risk', y='return')\u001b[0m\u001b[1;33m\u001b[0m\u001b[1;33m\u001b[0m\u001b[1;33m\u001b[0m\u001b[0m\n\u001b[0;32m      5\u001b[0m \u001b[1;31m#o.strikeDates[0].volRange\u001b[0m\u001b[1;33m\u001b[0m\u001b[1;33m\u001b[0m\u001b[1;33m\u001b[0m\u001b[0m\n",
      "\u001b[1;31mAttributeError\u001b[0m: 'Options' object has no attribute 'returns'"
     ]
    }
   ],
   "source": [
    "s = o.returns\n",
    "#s[s.is_won].plot.scatter(x='probability', y='return')\n",
    "s.plot.scatter(x='rel_risk', y='return')\n",
    "#s[(s['rel_risk']>0)&(s['return']>0)].plot.scatter(x='rel_risk', y='return')\n",
    "#o.strikeDates[0].volRange"
   ]
  },
  {
   "cell_type": "code",
   "execution_count": 17,
   "metadata": {},
   "outputs": [
    {
     "data": {
      "text/plain": [
       "<AxesSubplot:>"
      ]
     },
     "execution_count": 17,
     "metadata": {},
     "output_type": "execute_result"
    },
    {
     "data": {
      "image/png": "[encoded data removed]",
      "text/plain": [
       "<Figure size 432x288 with 1 Axes>"
      ]
     },
     "metadata": {
      "needs_background": "light"
     },
     "output_type": "display_data"
    }
   ],
   "source": [
    "prices.volatility.plot()"
   ]
  },
  {
   "cell_type": "code",
   "execution_count": 31,
   "metadata": {},
   "outputs": [
    {
     "name": "stdout",
     "output_type": "stream",
     "text": [
      "'MSFT' added to the database\n"
     ]
    }
   ],
   "source": [
    "m.add(\"MSFT\")"
   ]
  },
  {
   "cell_type": "code",
   "execution_count": 49,
   "metadata": {},
   "outputs": [
    {
     "data": {
      "text/plain": [
       "1636"
      ]
     },
     "execution_count": 49,
     "metadata": {},
     "output_type": "execute_result"
    }
   ],
   "source": [
    "len(tickers)"
   ]
  },
  {
   "cell_type": "code",
   "execution_count": 29,
   "metadata": {},
   "outputs": [
    {
     "data": {
      "text/plain": [
       "True"
      ]
     },
     "execution_count": 29,
     "metadata": {},
     "output_type": "execute_result"
    }
   ],
   "source": [
    "\"msft\" in tickers"
   ]
  },
  {
   "cell_type": "code",
   "execution_count": null,
   "metadata": {},
   "outputs": [],
   "source": []
  }
 ],
 "metadata": {
  "kernelspec": {
   "display_name": "scrape",
   "language": "python",
   "name": "scrape"
  },
  "language_info": {
   "codemirror_mode": {
    "name": "ipython",
    "version": 3
   },
   "file_extension": ".py",
   "mimetype": "text/x-python",
   "name": "python",
   "nbconvert_exporter": "python",
   "pygments_lexer": "ipython3",
   "version": "3.9.6"
  }
 },
 "nbformat": 4,
 "nbformat_minor": 4
}
