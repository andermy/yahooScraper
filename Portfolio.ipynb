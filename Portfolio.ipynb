{
 "cells": [
  {
   "cell_type": "code",
   "execution_count": 1,
   "id": "9390b89f",
   "metadata": {},
   "outputs": [
    {
     "name": "stderr",
     "output_type": "stream",
     "text": [
      "C:\\Users\\ander\\Documents\\yahooScraper\\scrape\\lib\\site-packages\\cryptography\\x509\\base.py:531: CryptographyDeprecationWarning: Parsed a negative serial number, which is disallowed by RFC 5280.\n",
      "  return rust_x509.load_pem_x509_certificate(data)\n"
     ]
    }
   ],
   "source": [
    "import scraper_eod as s\n",
    "import pandas as pd\n",
    "from pandas.io.json import json_normalize\n",
    "import numpy as np\n",
    "import datetime\n",
    "from datetime import date, timedelta\n",
    "import matplotlib.pyplot as plt\n",
    "import time\n",
    "from scipy.stats import norm\n",
    "import seaborn as sns\n",
    "m = s.StockMongo()\n",
    "import indicator_daily as i"
   ]
  },
  {
   "cell_type": "code",
   "execution_count": 2,
   "id": "afe446df",
   "metadata": {},
   "outputs": [],
   "source": [
    "portfolio = m.get_portfolio(None)"
   ]
  },
  {
   "cell_type": "code",
   "execution_count": 3,
   "id": "81584296",
   "metadata": {},
   "outputs": [
    {
     "name": "stderr",
     "output_type": "stream",
     "text": [
      "C:\\Users\\ander\\AppData\\Local\\Temp/ipykernel_7580/1202350323.py:1: DeprecationWarning: count is deprecated. Use Collection.count_documents instead.\n",
      "  portfolio.count()\n"
     ]
    },
    {
     "data": {
      "text/plain": [
       "4"
      ]
     },
     "execution_count": 3,
     "metadata": {},
     "output_type": "execute_result"
    }
   ],
   "source": [
    "portfolio.count()"
   ]
  },
  {
   "cell_type": "code",
   "execution_count": 4,
   "id": "d1f25d80",
   "metadata": {},
   "outputs": [],
   "source": [
    "port = pd.DataFrame.from_records(portfolio)"
   ]
  },
  {
   "cell_type": "code",
   "execution_count": 5,
   "id": "bf3f3ade",
   "metadata": {},
   "outputs": [
    {
     "data": {
      "text/html": [
       "<div>\n",
       "<style scoped>\n",
       "    .dataframe tbody tr th:only-of-type {\n",
       "        vertical-align: middle;\n",
       "    }\n",
       "\n",
       "    .dataframe tbody tr th {\n",
       "        vertical-align: top;\n",
       "    }\n",
       "\n",
       "    .dataframe thead th {\n",
       "        text-align: right;\n",
       "    }\n",
       "</style>\n",
       "<table border=\"1\" class=\"dataframe\">\n",
       "  <thead>\n",
       "    <tr style=\"text-align: right;\">\n",
       "      <th></th>\n",
       "      <th>_id</th>\n",
       "      <th>strike_date</th>\n",
       "      <th>rel_risk</th>\n",
       "      <th>high_put_value</th>\n",
       "      <th>low_call_value</th>\n",
       "      <th>high_call_value</th>\n",
       "      <th>low_put_value</th>\n",
       "      <th>highStrikePut</th>\n",
       "      <th>lowStrikeCall</th>\n",
       "      <th>lowStrikePut</th>\n",
       "      <th>highStrikeCall</th>\n",
       "      <th>p</th>\n",
       "      <th>r</th>\n",
       "      <th>ticker</th>\n",
       "      <th>date</th>\n",
       "      <th>value</th>\n",
       "      <th>direction</th>\n",
       "    </tr>\n",
       "  </thead>\n",
       "  <tbody>\n",
       "    <tr>\n",
       "      <th>0</th>\n",
       "      <td>639f90d0271dab5a67b27d79</td>\n",
       "      <td>2023-01-20</td>\n",
       "      <td>0.68200</td>\n",
       "      <td>4.80</td>\n",
       "      <td>11.31</td>\n",
       "      <td>5.80</td>\n",
       "      <td>8.90</td>\n",
       "      <td>87.65</td>\n",
       "      <td>167.7</td>\n",
       "      <td>92.65</td>\n",
       "      <td>172.7</td>\n",
       "      <td>1.088</td>\n",
       "      <td>0.736305</td>\n",
       "      <td>FANG</td>\n",
       "      <td>2022-12-18</td>\n",
       "      <td>10.61</td>\n",
       "      <td>1</td>\n",
       "    </tr>\n",
       "    <tr>\n",
       "      <th>1</th>\n",
       "      <td>639f90d0271dab5a67b27d7a</td>\n",
       "      <td>2023-01-20</td>\n",
       "      <td>0.45096</td>\n",
       "      <td>7.20</td>\n",
       "      <td>49.20</td>\n",
       "      <td>21.37</td>\n",
       "      <td>7.00</td>\n",
       "      <td>1600.00</td>\n",
       "      <td>2175.0</td>\n",
       "      <td>1710.00</td>\n",
       "      <td>2300.0</td>\n",
       "      <td>0.408</td>\n",
       "      <td>0.879950</td>\n",
       "      <td>BKNG</td>\n",
       "      <td>2022-12-18</td>\n",
       "      <td>41.80</td>\n",
       "      <td>1</td>\n",
       "    </tr>\n",
       "    <tr>\n",
       "      <th>2</th>\n",
       "      <td>639f90d0271dab5a67b27d7b</td>\n",
       "      <td>2023-02-17</td>\n",
       "      <td>0.44000</td>\n",
       "      <td>3.00</td>\n",
       "      <td>4.50</td>\n",
       "      <td>4.30</td>\n",
       "      <td>3.60</td>\n",
       "      <td>105.00</td>\n",
       "      <td>175.0</td>\n",
       "      <td>110.00</td>\n",
       "      <td>180.0</td>\n",
       "      <td>0.408</td>\n",
       "      <td>0.496203</td>\n",
       "      <td>SNOW</td>\n",
       "      <td>2022-12-18</td>\n",
       "      <td>2.10</td>\n",
       "      <td>1</td>\n",
       "    </tr>\n",
       "    <tr>\n",
       "      <th>3</th>\n",
       "      <td>639f90d0271dab5a67b27d7c</td>\n",
       "      <td>2023-02-17</td>\n",
       "      <td>0.39200</td>\n",
       "      <td>2.95</td>\n",
       "      <td>3.70</td>\n",
       "      <td>3.95</td>\n",
       "      <td>2.74</td>\n",
       "      <td>155.00</td>\n",
       "      <td>210.0</td>\n",
       "      <td>160.00</td>\n",
       "      <td>215.0</td>\n",
       "      <td>0.408</td>\n",
       "      <td>1.024109</td>\n",
       "      <td>BA</td>\n",
       "      <td>2022-12-18</td>\n",
       "      <td>0.54</td>\n",
       "      <td>1</td>\n",
       "    </tr>\n",
       "  </tbody>\n",
       "</table>\n",
       "</div>"
      ],
      "text/plain": [
       "                        _id strike_date  rel_risk  high_put_value  \\\n",
       "0  639f90d0271dab5a67b27d79  2023-01-20   0.68200            4.80   \n",
       "1  639f90d0271dab5a67b27d7a  2023-01-20   0.45096            7.20   \n",
       "2  639f90d0271dab5a67b27d7b  2023-02-17   0.44000            3.00   \n",
       "3  639f90d0271dab5a67b27d7c  2023-02-17   0.39200            2.95   \n",
       "\n",
       "   low_call_value  high_call_value  low_put_value  highStrikePut  \\\n",
       "0           11.31             5.80           8.90          87.65   \n",
       "1           49.20            21.37           7.00        1600.00   \n",
       "2            4.50             4.30           3.60         105.00   \n",
       "3            3.70             3.95           2.74         155.00   \n",
       "\n",
       "   lowStrikeCall  lowStrikePut  highStrikeCall      p         r ticker  \\\n",
       "0          167.7         92.65           172.7  1.088  0.736305   FANG   \n",
       "1         2175.0       1710.00          2300.0  0.408  0.879950   BKNG   \n",
       "2          175.0        110.00           180.0  0.408  0.496203   SNOW   \n",
       "3          210.0        160.00           215.0  0.408  1.024109     BA   \n",
       "\n",
       "        date  value  direction  \n",
       "0 2022-12-18  10.61          1  \n",
       "1 2022-12-18  41.80          1  \n",
       "2 2022-12-18   2.10          1  \n",
       "3 2022-12-18   0.54          1  "
      ]
     },
     "execution_count": 5,
     "metadata": {},
     "output_type": "execute_result"
    }
   ],
   "source": [
    "port"
   ]
  },
  {
   "cell_type": "code",
   "execution_count": 11,
   "id": "27e93ecd",
   "metadata": {},
   "outputs": [
    {
     "data": {
      "text/plain": [
       "_id                639f90d0271dab5a67b27d79\n",
       "strike_date             2023-01-20 00:00:00\n",
       "rel_risk                              0.682\n",
       "high_put_value                          4.8\n",
       "low_call_value                        11.31\n",
       "high_call_value                         5.8\n",
       "low_put_value                           8.9\n",
       "highStrikePut                         87.65\n",
       "lowStrikeCall                         167.7\n",
       "lowStrikePut                          92.65\n",
       "highStrikeCall                        172.7\n",
       "p                                     1.088\n",
       "r                                  0.736305\n",
       "ticker                                 FANG\n",
       "date                    2022-12-18 00:00:00\n",
       "value                                 10.61\n",
       "direction                                 1\n",
       "Name: 0, dtype: object"
      ]
     },
     "execution_count": 11,
     "metadata": {},
     "output_type": "execute_result"
    }
   ],
   "source": [
    "port.iloc[0]"
   ]
  },
  {
   "cell_type": "code",
   "execution_count": 7,
   "id": "affa65cf",
   "metadata": {},
   "outputs": [],
   "source": [
    "formula = list(m.stock_data.options_analisys.find({'ticker': port.iloc[0]['ticker']}))"
   ]
  },
  {
   "cell_type": "code",
   "execution_count": 30,
   "id": "d7ab27d3",
   "metadata": {},
   "outputs": [],
   "source": [
    "#apple = m.get_options(port.iloc[0]['ticker'])\n",
    "\n",
    "symbols = m.stock_data.options_data4.find({'sym': port.iloc[0]['ticker']})\n",
    "cleanSymbols = [pd.DataFrame.from_records(s['options']) for s in symbols]\n",
    "op = pd.concat(cleanSymbols)\n",
    "op.expirationDate = pd.to_datetime(op.expirationDate, format='%Y-%m-%d')\n",
    "op = op[op['lastTradeDateTime']!='0000-00-00 00:00:00']\n",
    "op.lastTradeDateTime = pd.to_datetime(op.lastTradeDateTime, format='%Y-%m-%d').dt.date\n",
    "op.updatedAt = pd.to_datetime(op.updatedAt, format='%Y-%m-%d').dt.date\n",
    "op.date = op.date - datetime.timedelta(days=1)\n",
    "#op = op.set_index('date')\n",
    "o = op"
   ]
  },
  {
   "cell_type": "code",
   "execution_count": 22,
   "id": "9c34b3c1",
   "metadata": {},
   "outputs": [],
   "source": [
    "o = apple"
   ]
  },
  {
   "cell_type": "code",
   "execution_count": 31,
   "id": "923ae157",
   "metadata": {},
   "outputs": [],
   "source": [
    "#o = o.reset_index()\n",
    "call1 = o[(o['strike'] == port.iloc[0]['lowStrikeCall'])&(o['expirationDate'] == port.iloc[0]['strike_date'])&(o['type'] == 'CALL')][['date', 'lastPrice', 'expirationDate', 'strike', 'daysBeforeExpiration', 'iv']]\n",
    "call1.columns = ['date', 'callLow', 'expirationDate', 'strikeCallLow', 'daysBeforeExpiration', 'iv']\n",
    "call2 = o[(o['strike'] == port.iloc[0]['highStrikeCall'])&(o['expirationDate'] == port.iloc[0]['strike_date'])&(o['type'] == 'CALL')][['date', 'lastPrice', 'strike']]\n",
    "call2.columns = ['date', 'callHigh', 'strikeCallHigh']\n",
    "put1 = o[(o['strike'] == port.iloc[0]['lowStrikePut'])&(o['expirationDate'] == port.iloc[0]['strike_date'])&(o['type'] == 'CALL')][['date', 'lastPrice', 'strike']]\n",
    "put1.columns = ['date', 'putLow', 'strikePutLow']\n",
    "put2 = o[(o['strike'] == port.iloc[0]['highStrikePut'])&(o['expirationDate'] == port.iloc[0]['strike_date'])&(o['type'] == 'CALL')][['date', 'lastPrice', 'strike']]\n",
    "put2.columns = ['date', 'putHigh', 'strikePutHigh']\n",
    "\n",
    "condor = call1.merge(call2, on='date', how='inner')\n",
    "condor = condor.merge(put1, on='date', how='inner')\n",
    "condor = condor.merge(put2, on='date', how='inner')\n",
    "\n",
    "condor['condor'] = condor.callLow-condor.callHigh-condor.putHigh+condor.putLow"
   ]
  },
  {
   "cell_type": "code",
   "execution_count": 36,
   "id": "f8413519",
   "metadata": {},
   "outputs": [
    {
     "data": {
      "text/plain": [
       "56   -8.49\n",
       "57   -8.49\n",
       "58   -8.49\n",
       "59   -8.49\n",
       "60   -8.49\n",
       "Name: condor, dtype: float64"
      ]
     },
     "execution_count": 36,
     "metadata": {},
     "output_type": "execute_result"
    }
   ],
   "source": [
    "condor['condor'].tail()"
   ]
  },
  {
   "cell_type": "code",
   "execution_count": null,
   "id": "a4f2a8ad",
   "metadata": {},
   "outputs": [],
   "source": []
  }
 ],
 "metadata": {
  "kernelspec": {
   "display_name": "scrape",
   "language": "python",
   "name": "scrape"
  },
  "language_info": {
   "codemirror_mode": {
    "name": "ipython",
    "version": 3
   },
   "file_extension": ".py",
   "mimetype": "text/x-python",
   "name": "python",
   "nbconvert_exporter": "python",
   "pygments_lexer": "ipython3",
   "version": "3.9.6"
  }
 },
 "nbformat": 4,
 "nbformat_minor": 5
}
