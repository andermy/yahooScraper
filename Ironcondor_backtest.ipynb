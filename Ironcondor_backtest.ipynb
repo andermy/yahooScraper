{
 "cells": [
  {
   "cell_type": "code",
   "execution_count": 1,
   "id": "f1aa89ff",
   "metadata": {},
   "outputs": [
    {
     "name": "stderr",
     "output_type": "stream",
     "text": [
      "C:\\Users\\ander\\Documents\\yahooScraper\\scrape\\lib\\site-packages\\cryptography\\x509\\base.py:531: CryptographyDeprecationWarning: Parsed a negative serial number, which is disallowed by RFC 5280.\n",
      "  return rust_x509.load_pem_x509_certificate(data)\n"
     ]
    }
   ],
   "source": [
    "import scraper_eod as s\n",
    "import pandas as pd\n",
    "from pandas.io.json import json_normalize\n",
    "import numpy as np\n",
    "import datetime\n",
    "from datetime import date, timedelta\n",
    "import matplotlib.pyplot as plt\n",
    "import seaborn as sns\n",
    "import mibian\n",
    "import time\n",
    "import indicator_backtest as i\n",
    "m = s.StockMongo()"
   ]
  },
  {
   "cell_type": "code",
   "execution_count": null,
   "id": "fb3af11b",
   "metadata": {},
   "outputs": [],
   "source": [
    "o = i.Options(\"FANG\")"
   ]
  },
  {
   "cell_type": "code",
   "execution_count": 3,
   "id": "3ae700ea",
   "metadata": {},
   "outputs": [
    {
     "data": {
      "text/html": [
       "<div>\n",
       "<style scoped>\n",
       "    .dataframe tbody tr th:only-of-type {\n",
       "        vertical-align: middle;\n",
       "    }\n",
       "\n",
       "    .dataframe tbody tr th {\n",
       "        vertical-align: top;\n",
       "    }\n",
       "\n",
       "    .dataframe thead th {\n",
       "        text-align: right;\n",
       "    }\n",
       "</style>\n",
       "<table border=\"1\" class=\"dataframe\">\n",
       "  <thead>\n",
       "    <tr style=\"text-align: right;\">\n",
       "      <th></th>\n",
       "      <th>strike_date</th>\n",
       "      <th>return</th>\n",
       "      <th>rel_risk</th>\n",
       "      <th>probability</th>\n",
       "      <th>volatility</th>\n",
       "      <th>is_won</th>\n",
       "      <th>days_to_strike</th>\n",
       "      <th>iv</th>\n",
       "      <th>iv2</th>\n",
       "      <th>is_lost</th>\n",
       "      <th>vix</th>\n",
       "      <th>date</th>\n",
       "    </tr>\n",
       "  </thead>\n",
       "  <tbody>\n",
       "    <tr>\n",
       "      <th>0</th>\n",
       "      <td>2022-07-15</td>\n",
       "      <td>NaN</td>\n",
       "      <td>NaN</td>\n",
       "      <td>0.408</td>\n",
       "      <td>0.567676</td>\n",
       "      <td>False</td>\n",
       "      <td>NaN</td>\n",
       "      <td>56.7676</td>\n",
       "      <td>56.7676</td>\n",
       "      <td>False</td>\n",
       "      <td>30.959999</td>\n",
       "      <td>2022-05-18</td>\n",
       "    </tr>\n",
       "    <tr>\n",
       "      <th>1</th>\n",
       "      <td>2022-07-15</td>\n",
       "      <td>NaN</td>\n",
       "      <td>NaN</td>\n",
       "      <td>0.544</td>\n",
       "      <td>0.567676</td>\n",
       "      <td>False</td>\n",
       "      <td>NaN</td>\n",
       "      <td>56.7676</td>\n",
       "      <td>56.7676</td>\n",
       "      <td>False</td>\n",
       "      <td>30.959999</td>\n",
       "      <td>2022-05-18</td>\n",
       "    </tr>\n",
       "    <tr>\n",
       "      <th>2</th>\n",
       "      <td>2022-07-15</td>\n",
       "      <td>-0.385714</td>\n",
       "      <td>0.264151</td>\n",
       "      <td>0.680</td>\n",
       "      <td>0.567676</td>\n",
       "      <td>True</td>\n",
       "      <td>48.0</td>\n",
       "      <td>56.7676</td>\n",
       "      <td>56.7676</td>\n",
       "      <td>True</td>\n",
       "      <td>30.959999</td>\n",
       "      <td>2022-05-18</td>\n",
       "    </tr>\n",
       "    <tr>\n",
       "      <th>3</th>\n",
       "      <td>2022-07-15</td>\n",
       "      <td>NaN</td>\n",
       "      <td>NaN</td>\n",
       "      <td>0.816</td>\n",
       "      <td>0.567676</td>\n",
       "      <td>False</td>\n",
       "      <td>NaN</td>\n",
       "      <td>56.7676</td>\n",
       "      <td>56.7676</td>\n",
       "      <td>False</td>\n",
       "      <td>30.959999</td>\n",
       "      <td>2022-05-18</td>\n",
       "    </tr>\n",
       "    <tr>\n",
       "      <th>4</th>\n",
       "      <td>2022-07-15</td>\n",
       "      <td>NaN</td>\n",
       "      <td>NaN</td>\n",
       "      <td>0.952</td>\n",
       "      <td>0.567676</td>\n",
       "      <td>False</td>\n",
       "      <td>NaN</td>\n",
       "      <td>56.7676</td>\n",
       "      <td>56.7676</td>\n",
       "      <td>False</td>\n",
       "      <td>30.959999</td>\n",
       "      <td>2022-05-18</td>\n",
       "    </tr>\n",
       "  </tbody>\n",
       "</table>\n",
       "</div>"
      ],
      "text/plain": [
       "  strike_date    return  rel_risk  probability  volatility  is_won  \\\n",
       "0  2022-07-15       NaN       NaN        0.408    0.567676   False   \n",
       "1  2022-07-15       NaN       NaN        0.544    0.567676   False   \n",
       "2  2022-07-15 -0.385714  0.264151        0.680    0.567676    True   \n",
       "3  2022-07-15       NaN       NaN        0.816    0.567676   False   \n",
       "4  2022-07-15       NaN       NaN        0.952    0.567676   False   \n",
       "\n",
       "   days_to_strike       iv      iv2  is_lost        vix       date  \n",
       "0             NaN  56.7676  56.7676    False  30.959999 2022-05-18  \n",
       "1             NaN  56.7676  56.7676    False  30.959999 2022-05-18  \n",
       "2            48.0  56.7676  56.7676     True  30.959999 2022-05-18  \n",
       "3             NaN  56.7676  56.7676    False  30.959999 2022-05-18  \n",
       "4             NaN  56.7676  56.7676    False  30.959999 2022-05-18  "
      ]
     },
     "execution_count": 3,
     "metadata": {},
     "output_type": "execute_result"
    }
   ],
   "source": [
    "o.returns.head()"
   ]
  },
  {
   "cell_type": "code",
   "execution_count": 4,
   "id": "0dfa5d4b",
   "metadata": {},
   "outputs": [],
   "source": [
    "r = o.returns.dropna(subset=['rel_risk'])\n",
    "r = r[(r['rel_risk']>0)&(r['rel_risk']<1)&(r['return']>0)&(r['return']<3)]"
   ]
  },
  {
   "cell_type": "code",
   "execution_count": 5,
   "id": "c459b5fe",
   "metadata": {},
   "outputs": [
    {
     "data": {
      "text/plain": [
       "<AxesSubplot:xlabel='rel_risk', ylabel='return'>"
      ]
     },
     "execution_count": 5,
     "metadata": {},
     "output_type": "execute_result"
    },
    {
     "data": {
      "image/png": "[encoded data removed]",
      "text/plain": [
       "<Figure size 432x288 with 1 Axes>"
      ]
     },
     "metadata": {
      "needs_background": "light"
     },
     "output_type": "display_data"
    }
   ],
   "source": [
    "r.plot.scatter(x='rel_risk', y='return')"
   ]
  },
  {
   "cell_type": "code",
   "execution_count": 9,
   "id": "9fa3c0c5",
   "metadata": {},
   "outputs": [
    {
     "data": {
      "text/plain": [
       "['strike_date',\n",
       " 'return',\n",
       " 'rel_risk',\n",
       " 'probability',\n",
       " 'volatility',\n",
       " 'is_won',\n",
       " 'days_to_strike',\n",
       " 'iv',\n",
       " 'iv2',\n",
       " 'is_lost',\n",
       " 'vix',\n",
       " 'date']"
      ]
     },
     "execution_count": 9,
     "metadata": {},
     "output_type": "execute_result"
    }
   ],
   "source": [
    "r.columns.tolist()"
   ]
  },
  {
   "cell_type": "code",
   "execution_count": 33,
   "id": "09822320",
   "metadata": {},
   "outputs": [
    {
     "data": {
      "text/plain": [
       "<AxesSubplot:xlabel='rel_risk', ylabel='iv2'>"
      ]
     },
     "execution_count": 33,
     "metadata": {},
     "output_type": "execute_result"
    },
    {
     "data": {
      "image/png": "[encoded data removed]",
      "text/plain": [
       "<Figure size 432x288 with 1 Axes>"
      ]
     },
     "metadata": {
      "needs_background": "light"
     },
     "output_type": "display_data"
    }
   ],
   "source": [
    "r[(r['rel_risk']>0.4)&(r['probability']>1)&(r['days_to_strike']<50)&(r['days_to_strike']>30)&(r['rel_risk']<0.7)].plot.scatter(x='rel_risk', y='iv2')"
   ]
  },
  {
   "cell_type": "code",
   "execution_count": 37,
   "id": "b1d0cc55",
   "metadata": {},
   "outputs": [
    {
     "data": {
      "text/plain": [
       "<pymongo.results.InsertManyResult at 0x1c5c5ec54c0>"
      ]
     },
     "execution_count": 37,
     "metadata": {},
     "output_type": "execute_result"
    }
   ],
   "source": [
    "m.stock_data.portfolio_time_series.insert_many(r.to_dict('records'))"
   ]
  },
  {
   "cell_type": "code",
   "execution_count": 7,
   "id": "ce3200be",
   "metadata": {},
   "outputs": [
    {
     "name": "stderr",
     "output_type": "stream",
     "text": [
      "C:\\Users\\ander\\Documents\\yahooScraper\\indicator_backtest.py:91: SettingWithCopyWarning: \n",
      "A value is trying to be set on a copy of a slice from a DataFrame.\n",
      "Try using .loc[row_indexer,col_indexer] = value instead\n",
      "\n",
      "See the caveats in the documentation: https://pandas.pydata.org/pandas-docs/stable/user_guide/indexing.html#returning-a-view-versus-a-copy\n",
      "  selection['sqr_rel_risk'] = np.log(selection['rel_risk'])\n"
     ]
    }
   ],
   "source": [
    "stats = o.regression()"
   ]
  },
  {
   "cell_type": "code",
   "execution_count": 8,
   "id": "eb429041",
   "metadata": {},
   "outputs": [
    {
     "data": {
      "text/plain": [
       "{'y0': 0.9656133300571765,\n",
       " 'sqr_rel_risk': 0.04015531209844633,\n",
       " 'probability': 0.11450871764348311,\n",
       " 'iv': -0.00013451527020591839,\n",
       " 'vix': 0.004708308487122814,\n",
       " 'days_to_strike': -0.0023021267011560237,\n",
       " 'ticker': 'FANG',\n",
       " 'date': datetime.datetime(2022, 12, 25, 0, 0)}"
      ]
     },
     "execution_count": 8,
     "metadata": {},
     "output_type": "execute_result"
    }
   ],
   "source": [
    "stats[0]"
   ]
  },
  {
   "cell_type": "code",
   "execution_count": 11,
   "id": "2713f1c7",
   "metadata": {},
   "outputs": [
    {
     "name": "stderr",
     "output_type": "stream",
     "text": [
      "C:\\Users\\ander\\AppData\\Local\\Temp/ipykernel_22704/1867400287.py:5: SettingWithCopyWarning: \n",
      "A value is trying to be set on a copy of a slice from a DataFrame.\n",
      "Try using .loc[row_indexer,col_indexer] = value instead\n",
      "\n",
      "See the caveats in the documentation: https://pandas.pydata.org/pandas-docs/stable/user_guide/indexing.html#returning-a-view-versus-a-copy\n",
      "  selection['sqr_rel_risk'] = np.log(selection['rel_risk'])\n"
     ]
    },
    {
     "data": {
      "text/html": [
       "<style>#sk-container-id-2 {color: black;background-color: white;}#sk-container-id-2 pre{padding: 0;}#sk-container-id-2 div.sk-toggleable {background-color: white;}#sk-container-id-2 label.sk-toggleable__label {cursor: pointer;display: block;width: 100%;margin-bottom: 0;padding: 0.3em;box-sizing: border-box;text-align: center;}#sk-container-id-2 label.sk-toggleable__label-arrow:before {content: \"▸\";float: left;margin-right: 0.25em;color: #696969;}#sk-container-id-2 label.sk-toggleable__label-arrow:hover:before {color: black;}#sk-container-id-2 div.sk-estimator:hover label.sk-toggleable__label-arrow:before {color: black;}#sk-container-id-2 div.sk-toggleable__content {max-height: 0;max-width: 0;overflow: hidden;text-align: left;background-color: #f0f8ff;}#sk-container-id-2 div.sk-toggleable__content pre {margin: 0.2em;color: black;border-radius: 0.25em;background-color: #f0f8ff;}#sk-container-id-2 input.sk-toggleable__control:checked~div.sk-toggleable__content {max-height: 200px;max-width: 100%;overflow: auto;}#sk-container-id-2 input.sk-toggleable__control:checked~label.sk-toggleable__label-arrow:before {content: \"▾\";}#sk-container-id-2 div.sk-estimator input.sk-toggleable__control:checked~label.sk-toggleable__label {background-color: #d4ebff;}#sk-container-id-2 div.sk-label input.sk-toggleable__control:checked~label.sk-toggleable__label {background-color: #d4ebff;}#sk-container-id-2 input.sk-hidden--visually {border: 0;clip: rect(1px 1px 1px 1px);clip: rect(1px, 1px, 1px, 1px);height: 1px;margin: -1px;overflow: hidden;padding: 0;position: absolute;width: 1px;}#sk-container-id-2 div.sk-estimator {font-family: monospace;background-color: #f0f8ff;border: 1px dotted black;border-radius: 0.25em;box-sizing: border-box;margin-bottom: 0.5em;}#sk-container-id-2 div.sk-estimator:hover {background-color: #d4ebff;}#sk-container-id-2 div.sk-parallel-item::after {content: \"\";width: 100%;border-bottom: 1px solid gray;flex-grow: 1;}#sk-container-id-2 div.sk-label:hover label.sk-toggleable__label {background-color: #d4ebff;}#sk-container-id-2 div.sk-serial::before {content: \"\";position: absolute;border-left: 1px solid gray;box-sizing: border-box;top: 0;bottom: 0;left: 50%;z-index: 0;}#sk-container-id-2 div.sk-serial {display: flex;flex-direction: column;align-items: center;background-color: white;padding-right: 0.2em;padding-left: 0.2em;position: relative;}#sk-container-id-2 div.sk-item {position: relative;z-index: 1;}#sk-container-id-2 div.sk-parallel {display: flex;align-items: stretch;justify-content: center;background-color: white;position: relative;}#sk-container-id-2 div.sk-item::before, #sk-container-id-2 div.sk-parallel-item::before {content: \"\";position: absolute;border-left: 1px solid gray;box-sizing: border-box;top: 0;bottom: 0;left: 50%;z-index: -1;}#sk-container-id-2 div.sk-parallel-item {display: flex;flex-direction: column;z-index: 1;position: relative;background-color: white;}#sk-container-id-2 div.sk-parallel-item:first-child::after {align-self: flex-end;width: 50%;}#sk-container-id-2 div.sk-parallel-item:last-child::after {align-self: flex-start;width: 50%;}#sk-container-id-2 div.sk-parallel-item:only-child::after {width: 0;}#sk-container-id-2 div.sk-dashed-wrapped {border: 1px dashed gray;margin: 0 0.4em 0.5em 0.4em;box-sizing: border-box;padding-bottom: 0.4em;background-color: white;}#sk-container-id-2 div.sk-label label {font-family: monospace;font-weight: bold;display: inline-block;line-height: 1.2em;}#sk-container-id-2 div.sk-label-container {text-align: center;}#sk-container-id-2 div.sk-container {/* jupyter's `normalize.less` sets `[hidden] { display: none; }` but bootstrap.min.css set `[hidden] { display: none !important; }` so we also need the `!important` here to be able to override the default hidden behavior on the sphinx rendered scikit-learn.org. See: https://github.com/scikit-learn/scikit-learn/issues/21755 */display: inline-block !important;position: relative;}#sk-container-id-2 div.sk-text-repr-fallback {display: none;}</style><div id=\"sk-container-id-2\" class=\"sk-top-container\"><div class=\"sk-text-repr-fallback\"><pre>LinearRegression()</pre><b>In a Jupyter environment, please rerun this cell to show the HTML representation or trust the notebook. <br />On GitHub, the HTML representation is unable to render, please try loading this page with nbviewer.org.</b></div><div class=\"sk-container\" hidden><div class=\"sk-item\"><div class=\"sk-estimator sk-toggleable\"><input class=\"sk-toggleable__control sk-hidden--visually\" id=\"sk-estimator-id-2\" type=\"checkbox\" checked><label for=\"sk-estimator-id-2\" class=\"sk-toggleable__label sk-toggleable__label-arrow\">LinearRegression</label><div class=\"sk-toggleable__content\"><pre>LinearRegression()</pre></div></div></div></div></div>"
      ],
      "text/plain": [
       "LinearRegression()"
      ]
     },
     "execution_count": 11,
     "metadata": {},
     "output_type": "execute_result"
    }
   ],
   "source": [
    "from sklearn.linear_model import LinearRegression\n",
    "self = o\n",
    "linear_regressor = LinearRegression()\n",
    "selection = self.returns[(self.returns['rel_risk']>0)&(self.returns['rel_risk']<1)&(self.returns['return']>0)&(self.returns['return']<3)]\n",
    "selection['sqr_rel_risk'] = np.log(selection['rel_risk'])\n",
    "y = selection['return']\n",
    "x = selection[['sqr_rel_risk', 'probability', 'iv', 'vix', 'days_to_strike']]\n",
    "linear_regressor.fit(x, y)\n",
    "        "
   ]
  },
  {
   "cell_type": "code",
   "execution_count": 13,
   "id": "f10d9cb1",
   "metadata": {},
   "outputs": [],
   "source": [
    "return_dict = {\n",
    "            'y0': linear_regressor.intercept_,\n",
    "            'sqr_rel_risk': linear_regressor.coef_[0],\n",
    "            'probability': linear_regressor.coef_[1], \n",
    "            'iv': linear_regressor.coef_[2], \n",
    "            'vix': linear_regressor.coef_[3], \n",
    "            'days_to_strike': linear_regressor.coef_[4],\n",
    "            'ticker': self.ticker,\n",
    "        }"
   ]
  },
  {
   "cell_type": "code",
   "execution_count": 15,
   "id": "e5a90d49",
   "metadata": {},
   "outputs": [
    {
     "data": {
      "text/plain": [
       "{'y0': 1.1926509280469593,\n",
       " 'sqr_rel_risk': -0.009333962547497781,\n",
       " 'probability': -0.07517814696893531,\n",
       " 'iv': -0.0023567188003906676,\n",
       " 'vix': -0.0033527506226230753,\n",
       " 'days_to_strike': 0.0005940722634266565,\n",
       " 'ticker': 'FANG'}"
      ]
     },
     "execution_count": 15,
     "metadata": {},
     "output_type": "execute_result"
    }
   ],
   "source": [
    "return_dict"
   ]
  },
  {
   "cell_type": "code",
   "execution_count": 16,
   "id": "8ba2401a",
   "metadata": {},
   "outputs": [
    {
     "data": {
      "text/plain": [
       "0.0064240679304368165"
      ]
     },
     "execution_count": 16,
     "metadata": {},
     "output_type": "execute_result"
    }
   ],
   "source": [
    "linear_regressor.score(x, y)"
   ]
  },
  {
   "cell_type": "code",
   "execution_count": 17,
   "id": "4dcfc897",
   "metadata": {},
   "outputs": [
    {
     "data": {
      "text/plain": [
       "-0.030875227813921713"
      ]
     },
     "execution_count": 17,
     "metadata": {},
     "output_type": "execute_result"
    }
   ],
   "source": [
    "stats[1].score(x, y)"
   ]
  },
  {
   "cell_type": "code",
   "execution_count": null,
   "id": "1082e08c",
   "metadata": {},
   "outputs": [],
   "source": []
  }
 ],
 "metadata": {
  "kernelspec": {
   "display_name": "scrape",
   "language": "python",
   "name": "scrape"
  },
  "language_info": {
   "codemirror_mode": {
    "name": "ipython",
    "version": 3
   },
   "file_extension": ".py",
   "mimetype": "text/x-python",
   "name": "python",
   "nbconvert_exporter": "python",
   "pygments_lexer": "ipython3",
   "version": "3.9.6"
  }
 },
 "nbformat": 4,
 "nbformat_minor": 5
}
