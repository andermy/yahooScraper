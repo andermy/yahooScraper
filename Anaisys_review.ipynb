{
 "cells": [
  {
   "cell_type": "code",
   "execution_count": 46,
   "id": "eda869db",
   "metadata": {},
   "outputs": [
    {
     "name": "stderr",
     "output_type": "stream",
     "text": [
      "C:\\Users\\ander\\Documents\\yahooScraper\\scrape\\lib\\site-packages\\cryptography\\x509\\base.py:531: CryptographyDeprecationWarning: Parsed a negative serial number, which is disallowed by RFC 5280.\n",
      "  return rust_x509.load_pem_x509_certificate(data)\n"
     ]
    }
   ],
   "source": [
    "import scraper_eod as s\n",
    "import pandas as pd\n",
    "from pandas.io.json import json_normalize\n",
    "import numpy as np\n",
    "import datetime\n",
    "from datetime import date, timedelta\n",
    "import matplotlib.pyplot as plt\n",
    "import seaborn as sns\n",
    "import mibian\n",
    "import time\n",
    "m = s.StockMongo()"
   ]
  },
  {
   "cell_type": "code",
   "execution_count": 47,
   "id": "654f0771",
   "metadata": {},
   "outputs": [],
   "source": [
    "formulas = pd.DataFrame.from_records(m.stock_data.options_analisys.find())"
   ]
  },
  {
   "cell_type": "code",
   "execution_count": 52,
   "id": "17d4508f",
   "metadata": {},
   "outputs": [
    {
     "data": {
      "text/plain": [
       "587       A\n",
       "588     IBM\n",
       "589    AAPL\n",
       "590     ABC\n",
       "591    NKLA\n",
       "       ... \n",
       "966    ASML\n",
       "967     AZO\n",
       "968     BBY\n",
       "969    BABA\n",
       "970      BB\n",
       "Name: ticker, Length: 384, dtype: object"
      ]
     },
     "execution_count": 52,
     "metadata": {},
     "output_type": "execute_result"
    }
   ],
   "source": [
    "formulas[formulas.date>'2022-10-01'].ticker"
   ]
  },
  {
   "cell_type": "code",
   "execution_count": 53,
   "id": "ef35e61e",
   "metadata": {},
   "outputs": [],
   "source": [
    "tickers = list(set(formulas[formulas.date>'2022-10-01'].ticker.tolist()))"
   ]
  },
  {
   "cell_type": "code",
   "execution_count": 55,
   "id": "702641f6",
   "metadata": {},
   "outputs": [
    {
     "data": {
      "text/plain": [
       "187"
      ]
     },
     "execution_count": 55,
     "metadata": {},
     "output_type": "execute_result"
    }
   ],
   "source": [
    "len(tickers)"
   ]
  },
  {
   "cell_type": "code",
   "execution_count": 64,
   "id": "17a93976",
   "metadata": {},
   "outputs": [],
   "source": [
    "def count_freq(tick):\n",
    "    return {'freq': formulas[(formulas.date>'2022-10-01')&(formulas.ticker==tick)].ticker.count(), 'ticker': tick}"
   ]
  },
  {
   "cell_type": "code",
   "execution_count": 65,
   "id": "6a8bde60",
   "metadata": {},
   "outputs": [],
   "source": [
    "freq = [count_freq(t) for t in tickers]"
   ]
  },
  {
   "cell_type": "code",
   "execution_count": 67,
   "id": "760cf17b",
   "metadata": {},
   "outputs": [],
   "source": [
    "freq = pd.DataFrame(freq)"
   ]
  },
  {
   "cell_type": "code",
   "execution_count": 72,
   "id": "6861a588",
   "metadata": {},
   "outputs": [
    {
     "data": {
      "text/html": [
       "<div>\n",
       "<style scoped>\n",
       "    .dataframe tbody tr th:only-of-type {\n",
       "        vertical-align: middle;\n",
       "    }\n",
       "\n",
       "    .dataframe tbody tr th {\n",
       "        vertical-align: top;\n",
       "    }\n",
       "\n",
       "    .dataframe thead th {\n",
       "        text-align: right;\n",
       "    }\n",
       "</style>\n",
       "<table border=\"1\" class=\"dataframe\">\n",
       "  <thead>\n",
       "    <tr style=\"text-align: right;\">\n",
       "      <th></th>\n",
       "      <th>freq</th>\n",
       "      <th>ticker</th>\n",
       "    </tr>\n",
       "  </thead>\n",
       "  <tbody>\n",
       "    <tr>\n",
       "      <th>11</th>\n",
       "      <td>5</td>\n",
       "      <td>LLY</td>\n",
       "    </tr>\n",
       "    <tr>\n",
       "      <th>17</th>\n",
       "      <td>4</td>\n",
       "      <td>QCOM</td>\n",
       "    </tr>\n",
       "    <tr>\n",
       "      <th>22</th>\n",
       "      <td>4</td>\n",
       "      <td>INTC</td>\n",
       "    </tr>\n",
       "    <tr>\n",
       "      <th>37</th>\n",
       "      <td>5</td>\n",
       "      <td>DIS</td>\n",
       "    </tr>\n",
       "    <tr>\n",
       "      <th>42</th>\n",
       "      <td>5</td>\n",
       "      <td>AAL</td>\n",
       "    </tr>\n",
       "    <tr>\n",
       "      <th>66</th>\n",
       "      <td>4</td>\n",
       "      <td>WMT</td>\n",
       "    </tr>\n",
       "    <tr>\n",
       "      <th>82</th>\n",
       "      <td>4</td>\n",
       "      <td>MCD</td>\n",
       "    </tr>\n",
       "    <tr>\n",
       "      <th>111</th>\n",
       "      <td>5</td>\n",
       "      <td>VZ</td>\n",
       "    </tr>\n",
       "    <tr>\n",
       "      <th>126</th>\n",
       "      <td>5</td>\n",
       "      <td>ABC</td>\n",
       "    </tr>\n",
       "    <tr>\n",
       "      <th>127</th>\n",
       "      <td>5</td>\n",
       "      <td>BAC</td>\n",
       "    </tr>\n",
       "    <tr>\n",
       "      <th>157</th>\n",
       "      <td>5</td>\n",
       "      <td>XOM</td>\n",
       "    </tr>\n",
       "  </tbody>\n",
       "</table>\n",
       "</div>"
      ],
      "text/plain": [
       "     freq ticker\n",
       "11      5    LLY\n",
       "17      4   QCOM\n",
       "22      4   INTC\n",
       "37      5    DIS\n",
       "42      5    AAL\n",
       "66      4    WMT\n",
       "82      4    MCD\n",
       "111     5     VZ\n",
       "126     5    ABC\n",
       "127     5    BAC\n",
       "157     5    XOM"
      ]
     },
     "execution_count": 72,
     "metadata": {},
     "output_type": "execute_result"
    }
   ],
   "source": [
    "freq[freq.freq>3]"
   ]
  },
  {
   "cell_type": "code",
   "execution_count": null,
   "id": "a754deca",
   "metadata": {},
   "outputs": [],
   "source": []
  }
 ],
 "metadata": {
  "kernelspec": {
   "display_name": "scrape",
   "language": "python",
   "name": "scrape"
  },
  "language_info": {
   "codemirror_mode": {
    "name": "ipython",
    "version": 3
   },
   "file_extension": ".py",
   "mimetype": "text/x-python",
   "name": "python",
   "nbconvert_exporter": "python",
   "pygments_lexer": "ipython3",
   "version": "3.9.6"
  }
 },
 "nbformat": 4,
 "nbformat_minor": 5
}
