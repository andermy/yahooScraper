{
 "cells": [
  {
   "cell_type": "code",
   "execution_count": 46,
   "id": "eda869db",
   "metadata": {},
   "outputs": [
    {
     "name": "stderr",
     "output_type": "stream",
     "text": [
      "C:\\Users\\ander\\Documents\\yahooScraper\\scrape\\lib\\site-packages\\cryptography\\x509\\base.py:531: CryptographyDeprecationWarning: Parsed a negative serial number, which is disallowed by RFC 5280.\n",
      "  return rust_x509.load_pem_x509_certificate(data)\n"
     ]
    }
   ],
   "source": [
    "import scraper_eod as s\n",
    "import pandas as pd\n",
    "from pandas.io.json import json_normalize\n",
    "import numpy as np\n",
    "import datetime\n",
    "from datetime import date, timedelta\n",
    "import matplotlib.pyplot as plt\n",
    "import seaborn as sns\n",
    "import mibian\n",
    "import time\n",
    "m = s.StockMongo()"
   ]
  },
  {
   "cell_type": "code",
   "execution_count": 47,
   "id": "654f0771",
   "metadata": {},
   "outputs": [],
   "source": [
    "formulas = pd.DataFrame.from_records(m.stock_data.options_analisys.find())"
   ]
  },
  {
   "cell_type": "code",
   "execution_count": 52,
   "id": "17d4508f",
   "metadata": {},
   "outputs": [
    {
     "data": {
      "text/plain": [
       "587       A\n",
       "588     IBM\n",
       "589    AAPL\n",
       "590     ABC\n",
       "591    NKLA\n",
       "       ... \n",
       "966    ASML\n",
       "967     AZO\n",
       "968     BBY\n",
       "969    BABA\n",
       "970      BB\n",
       "Name: ticker, Length: 384, dtype: object"
      ]
     },
     "execution_count": 52,
     "metadata": {},
     "output_type": "execute_result"
    }
   ],
   "source": [
    "formulas[formulas.date>'2022-10-01'].ticker"
   ]
  },
  {
   "cell_type": "code",
   "execution_count": 53,
   "id": "ef35e61e",
   "metadata": {},
   "outputs": [],
   "source": [
    "tickers = list(set(formulas[formulas.date>'2022-10-01'].ticker.tolist()))"
   ]
  },
  {
   "cell_type": "code",
   "execution_count": 55,
   "id": "813c1efe",
   "metadata": {},
   "outputs": [
    {
     "data": {
      "text/plain": [
       "187"
      ]
     },
     "execution_count": 55,
     "metadata": {},
     "output_type": "execute_result"
    }
   ],
   "source": [
    "len(tickers)"
   ]
  },
  {
   "cell_type": "code",
   "execution_count": 64,
   "id": "71d84ad8",
   "metadata": {},
   "outputs": [],
   "source": [
    "def count_freq(tick):\n",
    "    return {'freq': formulas[(formulas.date>'2022-10-01')&(formulas.ticker==tick)].ticker.count(), 'ticker': tick}"
   ]
  },
  {
   "cell_type": "code",
   "execution_count": 65,
   "id": "604fcab3",
   "metadata": {},
   "outputs": [],
   "source": [
    "freq = [count_freq(t) for t in tickers]"
   ]
  },
  {
   "cell_type": "code",
   "execution_count": 67,
   "id": "2e644ba4",
   "metadata": {},
   "outputs": [],
   "source": [
    "freq = pd.DataFrame(freq)"
   ]
  },
  {
   "cell_type": "code",
   "execution_count": 70,
   "id": "e3732ac1",
   "metadata": {},
   "outputs": [
    {
     "data": {
      "text/plain": [
       "freq      49\n",
       "ticker    49\n",
       "dtype: int64"
      ]
     },
     "execution_count": 70,
     "metadata": {},
     "output_type": "execute_result"
    }
   ],
   "source": [
    "freq[freq.freq>2].count()"
   ]
  },
  {
   "cell_type": "code",
   "execution_count": null,
   "id": "39dfe7d9",
   "metadata": {},
   "outputs": [],
   "source": []
  }
 ],
 "metadata": {
  "kernelspec": {
   "display_name": "scrape",
   "language": "python",
   "name": "scrape"
  },
  "language_info": {
   "codemirror_mode": {
    "name": "ipython",
    "version": 3
   },
   "file_extension": ".py",
   "mimetype": "text/x-python",
   "name": "python",
   "nbconvert_exporter": "python",
   "pygments_lexer": "ipython3",
   "version": "3.9.6"
  }
 },
 "nbformat": 4,
 "nbformat_minor": 5
}
