{
 "cells": [
  {
   "cell_type": "code",
   "execution_count": 1,
   "metadata": {},
   "outputs": [
    {
     "name": "stderr",
     "output_type": "stream",
     "text": [
      "C:\\Users\\ander\\Documents\\yahooScraper\\scrape\\lib\\site-packages\\cryptography\\x509\\base.py:531: CryptographyDeprecationWarning: Parsed a negative serial number, which is disallowed by RFC 5280.\n",
      "  return rust_x509.load_pem_x509_certificate(data)\n"
     ]
    }
   ],
   "source": [
    "import scraper_eod as s\n",
    "import pandas as pd\n",
    "from pandas.io.json import json_normalize\n",
    "import numpy as np\n",
    "import datetime\n",
    "from datetime import date, timedelta\n",
    "import matplotlib.pyplot as plt\n",
    "import time\n",
    "from scipy.stats import norm\n",
    "import seaborn as sns\n",
    "from yahoo_fin import options\n",
    "from yahoo_fin.stock_info import *\n",
    "from yahoo_fin.stock_info import get_data, get_splits\n",
    "import mibian\n",
    "import time\n",
    "m = s.StockMongo()\n",
    "import indicator as i"
   ]
  },
  {
   "cell_type": "code",
   "execution_count": 2,
   "metadata": {},
   "outputs": [],
   "source": [
    "a = m.stock_data.options_analisys.find()"
   ]
  },
  {
   "cell_type": "code",
   "execution_count": 3,
   "metadata": {},
   "outputs": [
    {
     "name": "stderr",
     "output_type": "stream",
     "text": [
      "C:\\Users\\ander\\AppData\\Local\\Temp/ipykernel_36268/4086721465.py:1: DeprecationWarning: count is deprecated. Use Collection.count_documents instead.\n",
      "  a.count()\n"
     ]
    },
    {
     "data": {
      "text/plain": [
       "745"
      ]
     },
     "execution_count": 3,
     "metadata": {},
     "output_type": "execute_result"
    }
   ],
   "source": [
    "a.count()"
   ]
  },
  {
   "cell_type": "code",
   "execution_count": 4,
   "metadata": {},
   "outputs": [],
   "source": [
    "b = list(a)"
   ]
  },
  {
   "cell_type": "code",
   "execution_count": 5,
   "metadata": {},
   "outputs": [],
   "source": [
    "c = pd.DataFrame.from_dict(b)"
   ]
  },
  {
   "cell_type": "code",
   "execution_count": 8,
   "metadata": {},
   "outputs": [
    {
     "name": "stderr",
     "output_type": "stream",
     "text": [
      "C:\\Users\\ander\\AppData\\Local\\Temp/ipykernel_36268/2713021473.py:2: DeprecationWarning: count is deprecated. Use Collection.count_documents instead.\n",
      "  symbols.count()/30\n"
     ]
    },
    {
     "data": {
      "text/plain": [
       "8.633333333333333"
      ]
     },
     "execution_count": 8,
     "metadata": {},
     "output_type": "execute_result"
    }
   ],
   "source": [
    "symbols = m.get_symbols()\n",
    "symbols.count()/30"
   ]
  },
  {
   "cell_type": "code",
   "execution_count": 9,
   "metadata": {},
   "outputs": [
    {
     "data": {
      "text/plain": [
       "<AxesSubplot:>"
      ]
     },
     "execution_count": 9,
     "metadata": {},
     "output_type": "execute_result"
    },
    {
     "data": {
      "image/png": "[encoded data removed]",
      "text/plain": [
       "<Figure size 432x288 with 1 Axes>"
      ]
     },
     "metadata": {
      "needs_background": "light"
     },
     "output_type": "display_data"
    }
   ],
   "source": [
    "c['date'].hist()"
   ]
  },
  {
   "cell_type": "code",
   "execution_count": 10,
   "metadata": {},
   "outputs": [
    {
     "data": {
      "text/plain": [
       "583"
      ]
     },
     "execution_count": 10,
     "metadata": {},
     "output_type": "execute_result"
    }
   ],
   "source": [
    "len(c[c['date']<'2022-10-01'])"
   ]
  },
  {
   "cell_type": "code",
   "execution_count": 11,
   "metadata": {},
   "outputs": [
    {
     "data": {
      "text/html": [
       "<div>\n",
       "<style scoped>\n",
       "    .dataframe tbody tr th:only-of-type {\n",
       "        vertical-align: middle;\n",
       "    }\n",
       "\n",
       "    .dataframe tbody tr th {\n",
       "        vertical-align: top;\n",
       "    }\n",
       "\n",
       "    .dataframe thead th {\n",
       "        text-align: right;\n",
       "    }\n",
       "</style>\n",
       "<table border=\"1\" class=\"dataframe\">\n",
       "  <thead>\n",
       "    <tr style=\"text-align: right;\">\n",
       "      <th></th>\n",
       "      <th>_id</th>\n",
       "      <th>y0</th>\n",
       "      <th>sqr_rel_risk</th>\n",
       "      <th>probability</th>\n",
       "      <th>iv</th>\n",
       "      <th>vix</th>\n",
       "      <th>days_to_strike</th>\n",
       "      <th>ticker</th>\n",
       "      <th>date</th>\n",
       "    </tr>\n",
       "  </thead>\n",
       "  <tbody>\n",
       "    <tr>\n",
       "      <th>652</th>\n",
       "      <td>6343b6ab82f86b59612d562e</td>\n",
       "      <td>0.373046</td>\n",
       "      <td>-0.537321</td>\n",
       "      <td>-1.076657</td>\n",
       "      <td>-0.014196</td>\n",
       "      <td>0.017134</td>\n",
       "      <td>0.009537</td>\n",
       "      <td>LAC</td>\n",
       "      <td>2022-10-10</td>\n",
       "    </tr>\n",
       "    <tr>\n",
       "      <th>679</th>\n",
       "      <td>6347aaf671d5db6b58d8a3fe</td>\n",
       "      <td>-0.753037</td>\n",
       "      <td>-1.049087</td>\n",
       "      <td>0.003648</td>\n",
       "      <td>-0.002178</td>\n",
       "      <td>0.002795</td>\n",
       "      <td>0.000326</td>\n",
       "      <td>MGI</td>\n",
       "      <td>2022-10-13</td>\n",
       "    </tr>\n",
       "    <tr>\n",
       "      <th>680</th>\n",
       "      <td>6347ab5d71d5db6b58d8a400</td>\n",
       "      <td>-0.223103</td>\n",
       "      <td>-0.411060</td>\n",
       "      <td>-0.456352</td>\n",
       "      <td>0.004115</td>\n",
       "      <td>-0.029277</td>\n",
       "      <td>0.001269</td>\n",
       "      <td>BAND</td>\n",
       "      <td>2022-10-13</td>\n",
       "    </tr>\n",
       "    <tr>\n",
       "      <th>722</th>\n",
       "      <td>634e471b2a3203c5893f1c73</td>\n",
       "      <td>1.508337</td>\n",
       "      <td>-0.692061</td>\n",
       "      <td>-1.663628</td>\n",
       "      <td>-0.015864</td>\n",
       "      <td>0.048607</td>\n",
       "      <td>-0.020202</td>\n",
       "      <td>AUPH</td>\n",
       "      <td>2022-10-18</td>\n",
       "    </tr>\n",
       "    <tr>\n",
       "      <th>723</th>\n",
       "      <td>634e47812a3203c5893f1c75</td>\n",
       "      <td>2.180349</td>\n",
       "      <td>-0.485568</td>\n",
       "      <td>0.002716</td>\n",
       "      <td>-2.478058</td>\n",
       "      <td>0.005576</td>\n",
       "      <td>-0.000728</td>\n",
       "      <td>AXON</td>\n",
       "      <td>2022-10-18</td>\n",
       "    </tr>\n",
       "  </tbody>\n",
       "</table>\n",
       "</div>"
      ],
      "text/plain": [
       "                          _id        y0  sqr_rel_risk  probability        iv  \\\n",
       "652  6343b6ab82f86b59612d562e  0.373046     -0.537321    -1.076657 -0.014196   \n",
       "679  6347aaf671d5db6b58d8a3fe -0.753037     -1.049087     0.003648 -0.002178   \n",
       "680  6347ab5d71d5db6b58d8a400 -0.223103     -0.411060    -0.456352  0.004115   \n",
       "722  634e471b2a3203c5893f1c73  1.508337     -0.692061    -1.663628 -0.015864   \n",
       "723  634e47812a3203c5893f1c75  2.180349     -0.485568     0.002716 -2.478058   \n",
       "\n",
       "          vix  days_to_strike ticker       date  \n",
       "652  0.017134        0.009537    LAC 2022-10-10  \n",
       "679  0.002795        0.000326    MGI 2022-10-13  \n",
       "680 -0.029277        0.001269   BAND 2022-10-13  \n",
       "722  0.048607       -0.020202   AUPH 2022-10-18  \n",
       "723  0.005576       -0.000728   AXON 2022-10-18  "
      ]
     },
     "execution_count": 11,
     "metadata": {},
     "output_type": "execute_result"
    }
   ],
   "source": [
    "c[(c['sqr_rel_risk']<-0.4)&(c['date']>'2022-10-01')]"
   ]
  },
  {
   "cell_type": "code",
   "execution_count": null,
   "metadata": {},
   "outputs": [],
   "source": []
  }
 ],
 "metadata": {
  "kernelspec": {
   "display_name": "scrape",
   "language": "python",
   "name": "scrape"
  },
  "language_info": {
   "codemirror_mode": {
    "name": "ipython",
    "version": 3
   },
   "file_extension": ".py",
   "mimetype": "text/x-python",
   "name": "python",
   "nbconvert_exporter": "python",
   "pygments_lexer": "ipython3",
   "version": "3.9.6"
  }
 },
 "nbformat": 4,
 "nbformat_minor": 4
}
