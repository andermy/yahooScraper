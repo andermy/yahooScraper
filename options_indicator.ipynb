{
 "cells": [
  {
   "cell_type": "code",
   "execution_count": 1,
   "metadata": {},
   "outputs": [
    {
     "name": "stderr",
     "output_type": "stream",
     "text": [
      "C:\\Users\\ander\\Documents\\yahooScraper\\scrape\\lib\\site-packages\\cryptography\\x509\\base.py:531: CryptographyDeprecationWarning: Parsed a negative serial number, which is disallowed by RFC 5280.\n",
      "  return rust_x509.load_pem_x509_certificate(data)\n"
     ]
    }
   ],
   "source": [
    "import scraper_eod as s\n",
    "import pandas as pd\n",
    "from pandas.io.json import json_normalize\n",
    "import numpy as np\n",
    "import datetime\n",
    "from datetime import date, timedelta\n",
    "import matplotlib.pyplot as plt\n",
    "import time\n",
    "from scipy.stats import norm\n",
    "import seaborn as sns\n",
    "from yahoo_fin import options\n",
    "from yahoo_fin.stock_info import *\n",
    "from yahoo_fin.stock_info import get_data, get_splits\n",
    "import mibian\n",
    "import time\n",
    "m = s.StockMongo()\n",
    "import indicator as i"
   ]
  },
  {
   "cell_type": "code",
   "execution_count": 2,
   "metadata": {},
   "outputs": [],
   "source": [
    "a = m.stock_data.options_analisys.find()"
   ]
  },
  {
   "cell_type": "code",
   "execution_count": 3,
   "metadata": {},
   "outputs": [
    {
     "name": "stderr",
     "output_type": "stream",
     "text": [
      "C:\\Users\\ander\\AppData\\Local\\Temp/ipykernel_10236/4086721465.py:1: DeprecationWarning: count is deprecated. Use Collection.count_documents instead.\n",
      "  a.count()\n"
     ]
    },
    {
     "data": {
      "text/plain": [
       "948"
      ]
     },
     "execution_count": 3,
     "metadata": {},
     "output_type": "execute_result"
    }
   ],
   "source": [
    "a.count()"
   ]
  },
  {
   "cell_type": "code",
   "execution_count": 4,
   "metadata": {},
   "outputs": [],
   "source": [
    "b = list(a)"
   ]
  },
  {
   "cell_type": "code",
   "execution_count": 5,
   "metadata": {},
   "outputs": [],
   "source": [
    "c = pd.DataFrame.from_dict(b)"
   ]
  },
  {
   "cell_type": "code",
   "execution_count": 6,
   "metadata": {},
   "outputs": [
    {
     "name": "stderr",
     "output_type": "stream",
     "text": [
      "C:\\Users\\ander\\AppData\\Local\\Temp/ipykernel_10236/2713021473.py:2: DeprecationWarning: count is deprecated. Use Collection.count_documents instead.\n",
      "  symbols.count()/30\n"
     ]
    },
    {
     "data": {
      "text/plain": [
       "8.633333333333333"
      ]
     },
     "execution_count": 6,
     "metadata": {},
     "output_type": "execute_result"
    }
   ],
   "source": [
    "symbols = m.get_symbols()\n",
    "symbols.count()/30"
   ]
  },
  {
   "cell_type": "code",
   "execution_count": 7,
   "metadata": {},
   "outputs": [
    {
     "data": {
      "text/plain": [
       "<AxesSubplot:>"
      ]
     },
     "execution_count": 7,
     "metadata": {},
     "output_type": "execute_result"
    },
    {
     "data": {
      "image/png": "[encoded data removed]",
      "text/plain": [
       "<Figure size 432x288 with 1 Axes>"
      ]
     },
     "metadata": {
      "needs_background": "light"
     },
     "output_type": "display_data"
    }
   ],
   "source": [
    "c['date'].hist()"
   ]
  },
  {
   "cell_type": "code",
   "execution_count": 8,
   "metadata": {},
   "outputs": [
    {
     "data": {
      "text/plain": [
       "583"
      ]
     },
     "execution_count": 8,
     "metadata": {},
     "output_type": "execute_result"
    }
   ],
   "source": [
    "len(c[c['date']<'2022-10-01'])"
   ]
  },
  {
   "cell_type": "code",
   "execution_count": 9,
   "metadata": {},
   "outputs": [
    {
     "data": {
      "text/html": [
       "<div>\n",
       "<style scoped>\n",
       "    .dataframe tbody tr th:only-of-type {\n",
       "        vertical-align: middle;\n",
       "    }\n",
       "\n",
       "    .dataframe tbody tr th {\n",
       "        vertical-align: top;\n",
       "    }\n",
       "\n",
       "    .dataframe thead th {\n",
       "        text-align: right;\n",
       "    }\n",
       "</style>\n",
       "<table border=\"1\" class=\"dataframe\">\n",
       "  <thead>\n",
       "    <tr style=\"text-align: right;\">\n",
       "      <th></th>\n",
       "      <th>_id</th>\n",
       "      <th>y0</th>\n",
       "      <th>sqr_rel_risk</th>\n",
       "      <th>probability</th>\n",
       "      <th>iv</th>\n",
       "      <th>vix</th>\n",
       "      <th>days_to_strike</th>\n",
       "      <th>ticker</th>\n",
       "      <th>date</th>\n",
       "    </tr>\n",
       "  </thead>\n",
       "  <tbody>\n",
       "    <tr>\n",
       "      <th>652</th>\n",
       "      <td>6343b6ab82f86b59612d562e</td>\n",
       "      <td>0.373046</td>\n",
       "      <td>-0.537321</td>\n",
       "      <td>-1.076657</td>\n",
       "      <td>-1.419616e-02</td>\n",
       "      <td>1.713389e-02</td>\n",
       "      <td>0.009537</td>\n",
       "      <td>LAC</td>\n",
       "      <td>2022-10-10</td>\n",
       "    </tr>\n",
       "    <tr>\n",
       "      <th>679</th>\n",
       "      <td>6347aaf671d5db6b58d8a3fe</td>\n",
       "      <td>-0.753037</td>\n",
       "      <td>-1.049087</td>\n",
       "      <td>0.003648</td>\n",
       "      <td>-2.178356e-03</td>\n",
       "      <td>2.795000e-03</td>\n",
       "      <td>0.000326</td>\n",
       "      <td>MGI</td>\n",
       "      <td>2022-10-13</td>\n",
       "    </tr>\n",
       "    <tr>\n",
       "      <th>680</th>\n",
       "      <td>6347ab5d71d5db6b58d8a400</td>\n",
       "      <td>-0.223103</td>\n",
       "      <td>-0.411060</td>\n",
       "      <td>-0.456352</td>\n",
       "      <td>4.115275e-03</td>\n",
       "      <td>-2.927704e-02</td>\n",
       "      <td>0.001269</td>\n",
       "      <td>BAND</td>\n",
       "      <td>2022-10-13</td>\n",
       "    </tr>\n",
       "    <tr>\n",
       "      <th>722</th>\n",
       "      <td>634e471b2a3203c5893f1c73</td>\n",
       "      <td>1.508337</td>\n",
       "      <td>-0.692061</td>\n",
       "      <td>-1.663628</td>\n",
       "      <td>-1.586392e-02</td>\n",
       "      <td>4.860685e-02</td>\n",
       "      <td>-0.020202</td>\n",
       "      <td>AUPH</td>\n",
       "      <td>2022-10-18</td>\n",
       "    </tr>\n",
       "    <tr>\n",
       "      <th>723</th>\n",
       "      <td>634e47812a3203c5893f1c75</td>\n",
       "      <td>2.180349</td>\n",
       "      <td>-0.485568</td>\n",
       "      <td>0.002716</td>\n",
       "      <td>-2.478058e+00</td>\n",
       "      <td>5.575863e-03</td>\n",
       "      <td>-0.000728</td>\n",
       "      <td>AXON</td>\n",
       "      <td>2022-10-18</td>\n",
       "    </tr>\n",
       "    <tr>\n",
       "      <th>789</th>\n",
       "      <td>6364ac7626a091aba3cf82b2</td>\n",
       "      <td>-0.459799</td>\n",
       "      <td>-0.537517</td>\n",
       "      <td>-0.082023</td>\n",
       "      <td>-1.008501e-02</td>\n",
       "      <td>2.235339e-03</td>\n",
       "      <td>0.002327</td>\n",
       "      <td>T</td>\n",
       "      <td>2022-11-04</td>\n",
       "    </tr>\n",
       "    <tr>\n",
       "      <th>790</th>\n",
       "      <td>6364ae7126a091aba3cf82b4</td>\n",
       "      <td>2.700829</td>\n",
       "      <td>-0.454654</td>\n",
       "      <td>-2.326023</td>\n",
       "      <td>9.452445e-02</td>\n",
       "      <td>-1.444702e-01</td>\n",
       "      <td>-0.002133</td>\n",
       "      <td>UNP</td>\n",
       "      <td>2022-11-04</td>\n",
       "    </tr>\n",
       "    <tr>\n",
       "      <th>813</th>\n",
       "      <td>636c974a7f0d9134afe4574c</td>\n",
       "      <td>-0.591780</td>\n",
       "      <td>-0.411916</td>\n",
       "      <td>-0.596459</td>\n",
       "      <td>3.110671e-03</td>\n",
       "      <td>-8.934461e-04</td>\n",
       "      <td>0.000722</td>\n",
       "      <td>ASAN</td>\n",
       "      <td>2022-11-10</td>\n",
       "    </tr>\n",
       "    <tr>\n",
       "      <th>822</th>\n",
       "      <td>63708ce40870ae6e1066ce96</td>\n",
       "      <td>-2.770225</td>\n",
       "      <td>-1.658322</td>\n",
       "      <td>4.138072</td>\n",
       "      <td>-2.533135e-02</td>\n",
       "      <td>1.294807e-02</td>\n",
       "      <td>0.021162</td>\n",
       "      <td>CLOV</td>\n",
       "      <td>2022-11-13</td>\n",
       "    </tr>\n",
       "    <tr>\n",
       "      <th>878</th>\n",
       "      <td>6385a2f8f134dde6e60407a2</td>\n",
       "      <td>7.796949</td>\n",
       "      <td>-12.335102</td>\n",
       "      <td>-88.370247</td>\n",
       "      <td>-1.096106e-13</td>\n",
       "      <td>1.429121e-14</td>\n",
       "      <td>0.238990</td>\n",
       "      <td>CPRI</td>\n",
       "      <td>2022-11-29</td>\n",
       "    </tr>\n",
       "    <tr>\n",
       "      <th>921</th>\n",
       "      <td>639579b157e5730ed9e242bd</td>\n",
       "      <td>-0.459799</td>\n",
       "      <td>-0.537517</td>\n",
       "      <td>-0.082023</td>\n",
       "      <td>-1.008501e-02</td>\n",
       "      <td>2.235339e-03</td>\n",
       "      <td>0.002327</td>\n",
       "      <td>T</td>\n",
       "      <td>2022-12-11</td>\n",
       "    </tr>\n",
       "  </tbody>\n",
       "</table>\n",
       "</div>"
      ],
      "text/plain": [
       "                          _id        y0  sqr_rel_risk  probability  \\\n",
       "652  6343b6ab82f86b59612d562e  0.373046     -0.537321    -1.076657   \n",
       "679  6347aaf671d5db6b58d8a3fe -0.753037     -1.049087     0.003648   \n",
       "680  6347ab5d71d5db6b58d8a400 -0.223103     -0.411060    -0.456352   \n",
       "722  634e471b2a3203c5893f1c73  1.508337     -0.692061    -1.663628   \n",
       "723  634e47812a3203c5893f1c75  2.180349     -0.485568     0.002716   \n",
       "789  6364ac7626a091aba3cf82b2 -0.459799     -0.537517    -0.082023   \n",
       "790  6364ae7126a091aba3cf82b4  2.700829     -0.454654    -2.326023   \n",
       "813  636c974a7f0d9134afe4574c -0.591780     -0.411916    -0.596459   \n",
       "822  63708ce40870ae6e1066ce96 -2.770225     -1.658322     4.138072   \n",
       "878  6385a2f8f134dde6e60407a2  7.796949    -12.335102   -88.370247   \n",
       "921  639579b157e5730ed9e242bd -0.459799     -0.537517    -0.082023   \n",
       "\n",
       "               iv           vix  days_to_strike ticker       date  \n",
       "652 -1.419616e-02  1.713389e-02        0.009537    LAC 2022-10-10  \n",
       "679 -2.178356e-03  2.795000e-03        0.000326    MGI 2022-10-13  \n",
       "680  4.115275e-03 -2.927704e-02        0.001269   BAND 2022-10-13  \n",
       "722 -1.586392e-02  4.860685e-02       -0.020202   AUPH 2022-10-18  \n",
       "723 -2.478058e+00  5.575863e-03       -0.000728   AXON 2022-10-18  \n",
       "789 -1.008501e-02  2.235339e-03        0.002327      T 2022-11-04  \n",
       "790  9.452445e-02 -1.444702e-01       -0.002133    UNP 2022-11-04  \n",
       "813  3.110671e-03 -8.934461e-04        0.000722   ASAN 2022-11-10  \n",
       "822 -2.533135e-02  1.294807e-02        0.021162   CLOV 2022-11-13  \n",
       "878 -1.096106e-13  1.429121e-14        0.238990   CPRI 2022-11-29  \n",
       "921 -1.008501e-02  2.235339e-03        0.002327      T 2022-12-11  "
      ]
     },
     "execution_count": 9,
     "metadata": {},
     "output_type": "execute_result"
    }
   ],
   "source": [
    "c[(c['sqr_rel_risk']<-0.4)&(c['date']>'2022-10-01')]"
   ]
  },
  {
   "cell_type": "code",
   "execution_count": null,
   "metadata": {},
   "outputs": [],
   "source": [
    "c[(c['sqr_rel_risk']<-0.4)&(c['date']>'2022-10-01')]"
   ]
  }
 ],
 "metadata": {
  "kernelspec": {
   "display_name": "scrape",
   "language": "python",
   "name": "scrape"
  },
  "language_info": {
   "codemirror_mode": {
    "name": "ipython",
    "version": 3
   },
   "file_extension": ".py",
   "mimetype": "text/x-python",
   "name": "python",
   "nbconvert_exporter": "python",
   "pygments_lexer": "ipython3",
   "version": "3.9.6"
  }
 },
 "nbformat": 4,
 "nbformat_minor": 4
}
