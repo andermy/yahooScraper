{
 "cells": [
  {
   "cell_type": "code",
   "execution_count": 2,
   "id": "eda869db",
   "metadata": {},
   "outputs": [
    {
     "name": "stderr",
     "output_type": "stream",
     "text": [
      "C:\\Users\\ander\\Documents\\yahooScraper\\scrape\\lib\\site-packages\\cryptography\\x509\\base.py:531: CryptographyDeprecationWarning: Parsed a negative serial number, which is disallowed by RFC 5280.\n",
      "  return rust_x509.load_pem_x509_certificate(data)\n"
     ]
    }
   ],
   "source": [
    "import scraper_eod as s\n",
    "import pandas as pd\n",
    "from pandas.io.json import json_normalize\n",
    "import numpy as np\n",
    "import datetime\n",
    "from datetime import date, timedelta\n",
    "import matplotlib.pyplot as plt\n",
    "import seaborn as sns\n",
    "import mibian\n",
    "import time\n",
    "m = s.StockMongo()"
   ]
  },
  {
   "cell_type": "code",
   "execution_count": 10,
   "id": "654f0771",
   "metadata": {},
   "outputs": [],
   "source": [
    "formulas = pd.DataFrame.from_records(m.stock_data.options_analisys.find())"
   ]
  },
  {
   "cell_type": "code",
   "execution_count": 15,
   "id": "17d4508f",
   "metadata": {},
   "outputs": [
    {
     "data": {
      "text/html": [
       "<div>\n",
       "<style scoped>\n",
       "    .dataframe tbody tr th:only-of-type {\n",
       "        vertical-align: middle;\n",
       "    }\n",
       "\n",
       "    .dataframe tbody tr th {\n",
       "        vertical-align: top;\n",
       "    }\n",
       "\n",
       "    .dataframe thead th {\n",
       "        text-align: right;\n",
       "    }\n",
       "</style>\n",
       "<table border=\"1\" class=\"dataframe\">\n",
       "  <thead>\n",
       "    <tr style=\"text-align: right;\">\n",
       "      <th></th>\n",
       "      <th>_id</th>\n",
       "      <th>y0</th>\n",
       "      <th>sqr_rel_risk</th>\n",
       "      <th>probability</th>\n",
       "      <th>iv</th>\n",
       "      <th>vix</th>\n",
       "      <th>days_to_strike</th>\n",
       "      <th>ticker</th>\n",
       "      <th>date</th>\n",
       "    </tr>\n",
       "  </thead>\n",
       "  <tbody>\n",
       "    <tr>\n",
       "      <th>587</th>\n",
       "      <td>63392b0e978ddbfb8a446461</td>\n",
       "      <td>-0.333803</td>\n",
       "      <td>-0.223951</td>\n",
       "      <td>-0.051843</td>\n",
       "      <td>0.007109</td>\n",
       "      <td>0.015263</td>\n",
       "      <td>0.000023</td>\n",
       "      <td>A</td>\n",
       "      <td>2022-10-02</td>\n",
       "    </tr>\n",
       "    <tr>\n",
       "      <th>588</th>\n",
       "      <td>63392d7d978ddbfb8a446463</td>\n",
       "      <td>1.400184</td>\n",
       "      <td>-0.039097</td>\n",
       "      <td>-0.233101</td>\n",
       "      <td>0.012097</td>\n",
       "      <td>-0.035064</td>\n",
       "      <td>-0.004323</td>\n",
       "      <td>IBM</td>\n",
       "      <td>2022-10-02</td>\n",
       "    </tr>\n",
       "    <tr>\n",
       "      <th>589</th>\n",
       "      <td>63392df1ad7160f05b6dcaea</td>\n",
       "      <td>0.957367</td>\n",
       "      <td>0.028175</td>\n",
       "      <td>-0.383030</td>\n",
       "      <td>0.008134</td>\n",
       "      <td>-0.003487</td>\n",
       "      <td>-0.006139</td>\n",
       "      <td>AAPL</td>\n",
       "      <td>2022-10-02</td>\n",
       "    </tr>\n",
       "    <tr>\n",
       "      <th>590</th>\n",
       "      <td>63392f27978ddbfb8a446465</td>\n",
       "      <td>1.073193</td>\n",
       "      <td>-0.022730</td>\n",
       "      <td>0.482373</td>\n",
       "      <td>-0.004450</td>\n",
       "      <td>-0.021183</td>\n",
       "      <td>0.000383</td>\n",
       "      <td>ABC</td>\n",
       "      <td>2022-10-02</td>\n",
       "    </tr>\n",
       "    <tr>\n",
       "      <th>591</th>\n",
       "      <td>63393074978ddbfb8a446467</td>\n",
       "      <td>0.938406</td>\n",
       "      <td>-0.007301</td>\n",
       "      <td>0.252584</td>\n",
       "      <td>0.004254</td>\n",
       "      <td>-0.024175</td>\n",
       "      <td>-0.005539</td>\n",
       "      <td>NKLA</td>\n",
       "      <td>2022-10-02</td>\n",
       "    </tr>\n",
       "    <tr>\n",
       "      <th>...</th>\n",
       "      <td>...</td>\n",
       "      <td>...</td>\n",
       "      <td>...</td>\n",
       "      <td>...</td>\n",
       "      <td>...</td>\n",
       "      <td>...</td>\n",
       "      <td>...</td>\n",
       "      <td>...</td>\n",
       "      <td>...</td>\n",
       "    </tr>\n",
       "    <tr>\n",
       "      <th>966</th>\n",
       "      <td>63a5475159971209091842be</td>\n",
       "      <td>-0.212814</td>\n",
       "      <td>-0.034134</td>\n",
       "      <td>0.437161</td>\n",
       "      <td>0.003503</td>\n",
       "      <td>0.022746</td>\n",
       "      <td>-0.001390</td>\n",
       "      <td>ASML</td>\n",
       "      <td>2022-12-23</td>\n",
       "    </tr>\n",
       "    <tr>\n",
       "      <th>967</th>\n",
       "      <td>63a6981ea332efd676826d27</td>\n",
       "      <td>0.862140</td>\n",
       "      <td>0.035398</td>\n",
       "      <td>-0.192875</td>\n",
       "      <td>-0.000329</td>\n",
       "      <td>0.013030</td>\n",
       "      <td>0.005397</td>\n",
       "      <td>AZO</td>\n",
       "      <td>2022-12-24</td>\n",
       "    </tr>\n",
       "    <tr>\n",
       "      <th>968</th>\n",
       "      <td>63a6996ccd68501b74b0a1f6</td>\n",
       "      <td>1.502925</td>\n",
       "      <td>-0.102367</td>\n",
       "      <td>-0.463083</td>\n",
       "      <td>-0.026350</td>\n",
       "      <td>0.020220</td>\n",
       "      <td>-0.004831</td>\n",
       "      <td>BBY</td>\n",
       "      <td>2022-12-24</td>\n",
       "    </tr>\n",
       "    <tr>\n",
       "      <th>969</th>\n",
       "      <td>63a69bbca332efd676826d29</td>\n",
       "      <td>-0.538729</td>\n",
       "      <td>-0.134970</td>\n",
       "      <td>-0.395672</td>\n",
       "      <td>-0.003319</td>\n",
       "      <td>0.033715</td>\n",
       "      <td>0.007280</td>\n",
       "      <td>BABA</td>\n",
       "      <td>2022-12-24</td>\n",
       "    </tr>\n",
       "    <tr>\n",
       "      <th>970</th>\n",
       "      <td>63a69c67a332efd676826d2b</td>\n",
       "      <td>1.384514</td>\n",
       "      <td>-0.017527</td>\n",
       "      <td>-0.606223</td>\n",
       "      <td>-0.002417</td>\n",
       "      <td>0.008498</td>\n",
       "      <td>-0.021080</td>\n",
       "      <td>BB</td>\n",
       "      <td>2022-12-24</td>\n",
       "    </tr>\n",
       "  </tbody>\n",
       "</table>\n",
       "<p>384 rows × 9 columns</p>\n",
       "</div>"
      ],
      "text/plain": [
       "                          _id        y0  sqr_rel_risk  probability        iv  \\\n",
       "587  63392b0e978ddbfb8a446461 -0.333803     -0.223951    -0.051843  0.007109   \n",
       "588  63392d7d978ddbfb8a446463  1.400184     -0.039097    -0.233101  0.012097   \n",
       "589  63392df1ad7160f05b6dcaea  0.957367      0.028175    -0.383030  0.008134   \n",
       "590  63392f27978ddbfb8a446465  1.073193     -0.022730     0.482373 -0.004450   \n",
       "591  63393074978ddbfb8a446467  0.938406     -0.007301     0.252584  0.004254   \n",
       "..                        ...       ...           ...          ...       ...   \n",
       "966  63a5475159971209091842be -0.212814     -0.034134     0.437161  0.003503   \n",
       "967  63a6981ea332efd676826d27  0.862140      0.035398    -0.192875 -0.000329   \n",
       "968  63a6996ccd68501b74b0a1f6  1.502925     -0.102367    -0.463083 -0.026350   \n",
       "969  63a69bbca332efd676826d29 -0.538729     -0.134970    -0.395672 -0.003319   \n",
       "970  63a69c67a332efd676826d2b  1.384514     -0.017527    -0.606223 -0.002417   \n",
       "\n",
       "          vix  days_to_strike ticker       date  \n",
       "587  0.015263        0.000023      A 2022-10-02  \n",
       "588 -0.035064       -0.004323    IBM 2022-10-02  \n",
       "589 -0.003487       -0.006139   AAPL 2022-10-02  \n",
       "590 -0.021183        0.000383    ABC 2022-10-02  \n",
       "591 -0.024175       -0.005539   NKLA 2022-10-02  \n",
       "..        ...             ...    ...        ...  \n",
       "966  0.022746       -0.001390   ASML 2022-12-23  \n",
       "967  0.013030        0.005397    AZO 2022-12-24  \n",
       "968  0.020220       -0.004831    BBY 2022-12-24  \n",
       "969  0.033715        0.007280   BABA 2022-12-24  \n",
       "970  0.008498       -0.021080     BB 2022-12-24  \n",
       "\n",
       "[384 rows x 9 columns]"
      ]
     },
     "execution_count": 15,
     "metadata": {},
     "output_type": "execute_result"
    }
   ],
   "source": [
    "formulas[formulas.date>'2022-10-01']"
   ]
  },
  {
   "cell_type": "code",
   "execution_count": 5,
   "id": "ef35e61e",
   "metadata": {},
   "outputs": [],
   "source": [
    "tickers = list(set(formulas[formulas.date>'2022-10-01'].ticker.tolist()))"
   ]
  },
  {
   "cell_type": "code",
   "execution_count": 6,
   "id": "702641f6",
   "metadata": {},
   "outputs": [
    {
     "data": {
      "text/plain": [
       "187"
      ]
     },
     "execution_count": 6,
     "metadata": {},
     "output_type": "execute_result"
    }
   ],
   "source": [
    "len(tickers)"
   ]
  },
  {
   "cell_type": "code",
   "execution_count": 11,
   "id": "17a93976",
   "metadata": {},
   "outputs": [],
   "source": [
    "def count_freq(tick):\n",
    "    return {'freq': formulas[(formulas.date>'2022-10-01')&(formulas.ticker==tick)].ticker.count(), 'ticker': tick}"
   ]
  },
  {
   "cell_type": "code",
   "execution_count": 12,
   "id": "6a8bde60",
   "metadata": {},
   "outputs": [],
   "source": [
    "freq = [count_freq(t) for t in tickers]"
   ]
  },
  {
   "cell_type": "code",
   "execution_count": 13,
   "id": "760cf17b",
   "metadata": {},
   "outputs": [],
   "source": [
    "freq = pd.DataFrame(freq)"
   ]
  },
  {
   "cell_type": "code",
   "execution_count": 14,
   "id": "6861a588",
   "metadata": {},
   "outputs": [
    {
     "data": {
      "text/html": [
       "<div>\n",
       "<style scoped>\n",
       "    .dataframe tbody tr th:only-of-type {\n",
       "        vertical-align: middle;\n",
       "    }\n",
       "\n",
       "    .dataframe tbody tr th {\n",
       "        vertical-align: top;\n",
       "    }\n",
       "\n",
       "    .dataframe thead th {\n",
       "        text-align: right;\n",
       "    }\n",
       "</style>\n",
       "<table border=\"1\" class=\"dataframe\">\n",
       "  <thead>\n",
       "    <tr style=\"text-align: right;\">\n",
       "      <th></th>\n",
       "      <th>freq</th>\n",
       "      <th>ticker</th>\n",
       "    </tr>\n",
       "  </thead>\n",
       "  <tbody>\n",
       "  </tbody>\n",
       "</table>\n",
       "</div>"
      ],
      "text/plain": [
       "Empty DataFrame\n",
       "Columns: [freq, ticker]\n",
       "Index: []"
      ]
     },
     "execution_count": 14,
     "metadata": {},
     "output_type": "execute_result"
    }
   ],
   "source": [
    "freq[freq.freq>3]"
   ]
  },
  {
   "cell_type": "code",
   "execution_count": 8,
   "id": "a754deca",
   "metadata": {},
   "outputs": [],
   "source": [
    "portfolio = m.get_portfolio(None)\n",
    "port = pd.DataFrame.from_records(portfolio)\n",
    "tickers = port.ticker.tolist()"
   ]
  },
  {
   "cell_type": "code",
   "execution_count": 9,
   "id": "fe697eb1",
   "metadata": {},
   "outputs": [
    {
     "data": {
      "text/plain": [
       "['FANG',\n",
       " 'BKNG',\n",
       " 'SNOW',\n",
       " 'BA',\n",
       " 'NFLX',\n",
       " 'SQ',\n",
       " 'NVDA',\n",
       " 'DOCU',\n",
       " 'ENPH',\n",
       " 'MRNA',\n",
       " 'HD',\n",
       " 'ADBE']"
      ]
     },
     "execution_count": 9,
     "metadata": {},
     "output_type": "execute_result"
    }
   ],
   "source": [
    "tickers"
   ]
  },
  {
   "cell_type": "code",
   "execution_count": 16,
   "id": "b21da803",
   "metadata": {},
   "outputs": [],
   "source": [
    "formulas = pd.DataFrame.from_records(m.stock_data.options_analisys.find({'ticker': {'$in': tickers}}))"
   ]
  },
  {
   "cell_type": "code",
   "execution_count": 25,
   "id": "734e5dbf",
   "metadata": {},
   "outputs": [
    {
     "data": {
      "text/html": [
       "<div>\n",
       "<style scoped>\n",
       "    .dataframe tbody tr th:only-of-type {\n",
       "        vertical-align: middle;\n",
       "    }\n",
       "\n",
       "    .dataframe tbody tr th {\n",
       "        vertical-align: top;\n",
       "    }\n",
       "\n",
       "    .dataframe thead th {\n",
       "        text-align: right;\n",
       "    }\n",
       "</style>\n",
       "<table border=\"1\" class=\"dataframe\">\n",
       "  <thead>\n",
       "    <tr style=\"text-align: right;\">\n",
       "      <th></th>\n",
       "      <th>_id</th>\n",
       "      <th>y0</th>\n",
       "      <th>sqr_rel_risk</th>\n",
       "      <th>probability</th>\n",
       "      <th>iv</th>\n",
       "      <th>vix</th>\n",
       "      <th>days_to_strike</th>\n",
       "      <th>ticker</th>\n",
       "      <th>date</th>\n",
       "    </tr>\n",
       "  </thead>\n",
       "  <tbody>\n",
       "    <tr>\n",
       "      <th>1</th>\n",
       "      <td>62d3ab9d3b35caa49578ab0a</td>\n",
       "      <td>0.852487</td>\n",
       "      <td>-0.134022</td>\n",
       "      <td>-0.808148</td>\n",
       "      <td>-0.004170</td>\n",
       "      <td>0.008832</td>\n",
       "      <td>-0.001495</td>\n",
       "      <td>DOCU</td>\n",
       "      <td>2022-07-17</td>\n",
       "    </tr>\n",
       "    <tr>\n",
       "      <th>11</th>\n",
       "      <td>62fc8b9def3c2c498cd007fa</td>\n",
       "      <td>1.020163</td>\n",
       "      <td>-0.198712</td>\n",
       "      <td>-0.688682</td>\n",
       "      <td>-0.009232</td>\n",
       "      <td>0.014213</td>\n",
       "      <td>-0.005557</td>\n",
       "      <td>DOCU</td>\n",
       "      <td>2022-08-17</td>\n",
       "    </tr>\n",
       "    <tr>\n",
       "      <th>14</th>\n",
       "      <td>6301d27ee2fee46a7bf6acd9</td>\n",
       "      <td>1.020163</td>\n",
       "      <td>-0.198712</td>\n",
       "      <td>-0.688682</td>\n",
       "      <td>-0.009232</td>\n",
       "      <td>0.014213</td>\n",
       "      <td>-0.005557</td>\n",
       "      <td>DOCU</td>\n",
       "      <td>2022-08-21</td>\n",
       "    </tr>\n",
       "    <tr>\n",
       "      <th>25</th>\n",
       "      <td>63256a0e38885c40d081067c</td>\n",
       "      <td>1.020163</td>\n",
       "      <td>-0.198712</td>\n",
       "      <td>-0.688682</td>\n",
       "      <td>-0.009232</td>\n",
       "      <td>0.014213</td>\n",
       "      <td>-0.005557</td>\n",
       "      <td>DOCU</td>\n",
       "      <td>2022-09-17</td>\n",
       "    </tr>\n",
       "    <tr>\n",
       "      <th>36</th>\n",
       "      <td>63523fc1c80299921c8723db</td>\n",
       "      <td>0.744457</td>\n",
       "      <td>0.030670</td>\n",
       "      <td>0.175664</td>\n",
       "      <td>-0.000243</td>\n",
       "      <td>0.005698</td>\n",
       "      <td>-0.009877</td>\n",
       "      <td>DOCU</td>\n",
       "      <td>2022-10-21</td>\n",
       "    </tr>\n",
       "  </tbody>\n",
       "</table>\n",
       "</div>"
      ],
      "text/plain": [
       "                         _id        y0  sqr_rel_risk  probability        iv  \\\n",
       "1   62d3ab9d3b35caa49578ab0a  0.852487     -0.134022    -0.808148 -0.004170   \n",
       "11  62fc8b9def3c2c498cd007fa  1.020163     -0.198712    -0.688682 -0.009232   \n",
       "14  6301d27ee2fee46a7bf6acd9  1.020163     -0.198712    -0.688682 -0.009232   \n",
       "25  63256a0e38885c40d081067c  1.020163     -0.198712    -0.688682 -0.009232   \n",
       "36  63523fc1c80299921c8723db  0.744457      0.030670     0.175664 -0.000243   \n",
       "\n",
       "         vix  days_to_strike ticker       date  \n",
       "1   0.008832       -0.001495   DOCU 2022-07-17  \n",
       "11  0.014213       -0.005557   DOCU 2022-08-17  \n",
       "14  0.014213       -0.005557   DOCU 2022-08-21  \n",
       "25  0.014213       -0.005557   DOCU 2022-09-17  \n",
       "36  0.005698       -0.009877   DOCU 2022-10-21  "
      ]
     },
     "execution_count": 25,
     "metadata": {},
     "output_type": "execute_result"
    }
   ],
   "source": [
    "formulas[formulas['ticker']==tickers[7]]"
   ]
  },
  {
   "cell_type": "code",
   "execution_count": null,
   "id": "00eb6d64",
   "metadata": {},
   "outputs": [],
   "source": []
  }
 ],
 "metadata": {
  "kernelspec": {
   "display_name": "scrape",
   "language": "python",
   "name": "scrape"
  },
  "language_info": {
   "codemirror_mode": {
    "name": "ipython",
    "version": 3
   },
   "file_extension": ".py",
   "mimetype": "text/x-python",
   "name": "python",
   "nbconvert_exporter": "python",
   "pygments_lexer": "ipython3",
   "version": "3.9.6"
  }
 },
 "nbformat": 4,
 "nbformat_minor": 5
}
